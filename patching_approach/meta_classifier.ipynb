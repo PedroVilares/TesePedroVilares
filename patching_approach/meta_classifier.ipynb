{
 "cells": [
  {
   "cell_type": "code",
   "execution_count": 1,
   "metadata": {},
   "outputs": [],
   "source": [
    "import pandas as pd\n",
    "import numpy as np\n",
    "import matplotlib.pyplot as plt\n",
    "import meta_classifier_utils as utils\n",
    "\n",
    "from sklearn.preprocessing import LabelEncoder,OneHotEncoder\n",
    "from sklearn.pipeline import Pipeline\n",
    "from sklearn.impute import SimpleImputer\n",
    "from sklearn.model_selection import cross_val_score,train_test_split\n",
    "from sklearn.ensemble import RandomForestClassifier\n",
    "from sklearn import svm\n",
    "from sklearn.metrics import classification_report"
   ]
  },
  {
   "cell_type": "code",
   "execution_count": null,
   "metadata": {},
   "outputs": [],
   "source": [
    "#case_report = pd.read_csv('results tf/classification_report_by_case.csv')\n",
    "image_report = pd.read_csv('results tf/classification_report_by_image.csv')\n",
    "#gt = pd.read_csv('patients/patient_gt.csv')"
   ]
  },
  {
   "cell_type": "markdown",
   "metadata": {},
   "source": [
    "# Case Classification"
   ]
  },
  {
   "cell_type": "code",
   "execution_count": null,
   "metadata": {},
   "outputs": [],
   "source": [
    "utils.dataframe_builder_case(image_report,case_report)"
   ]
  },
  {
   "cell_type": "code",
   "execution_count": null,
   "metadata": {},
   "outputs": [],
   "source": [
    "data = pd.read_csv('results tf/metaclassifier_case_report.csv')\n",
    "data.describe()"
   ]
  },
  {
   "cell_type": "code",
   "execution_count": null,
   "metadata": {},
   "outputs": [],
   "source": [
    "X = data.loc[:, data.columns != 'Ground Truth']\n",
    "X = X.loc[:, X.columns != 'Patient']\n",
    "X = X.loc[:, X.columns != 'Classification']\n",
    "y = data['Ground Truth']"
   ]
  },
  {
   "cell_type": "code",
   "execution_count": null,
   "metadata": {},
   "outputs": [],
   "source": [
    "X_train, X_valid, y_train, y_valid = train_test_split(X, y,test_size=0.3)"
   ]
  },
  {
   "cell_type": "code",
   "execution_count": null,
   "metadata": {},
   "outputs": [],
   "source": [
    "my_imputer = SimpleImputer(strategy='constant',fill_value=56)\n",
    "imputed_X_train_age = my_imputer.fit_transform(np.array(X_train['Age']).reshape(-1,1))\n",
    "imputed_X_valid_age = my_imputer.transform(np.array(X_valid['Age']).reshape(-1,1))\n",
    "X_train['Age'] = imputed_X_train_age\n",
    "X_valid['Age'] = imputed_X_valid_age"
   ]
  },
  {
   "cell_type": "code",
   "execution_count": null,
   "metadata": {},
   "outputs": [],
   "source": [
    "forest_model = RandomForestClassifier(n_estimators=100)\n",
    "pipeline = Pipeline(steps=[('model',forest_model)])\n",
    "pipeline.fit(X_train,y_train)\n",
    "preds = pipeline.predict(X_valid)\n",
    "print(classification_report(y_valid, preds))"
   ]
  },
  {
   "cell_type": "code",
   "execution_count": null,
   "metadata": {},
   "outputs": [],
   "source": [
    "importance = forest_model.feature_importances_\n",
    "# summarize feature importance\n",
    "for i,v in enumerate(importance):\n",
    "\tprint('Feature: %0d, Score: %.5f' % (i,v))"
   ]
  },
  {
   "cell_type": "code",
   "execution_count": null,
   "metadata": {},
   "outputs": [],
   "source": [
    "s = svm.SVC()\n",
    "s.fit(X_train,y_train)\n",
    "preds = s.predict(X_valid)\n",
    "print(classification_report(y_valid, preds))"
   ]
  },
  {
   "cell_type": "markdown",
   "metadata": {},
   "source": [
    "## Cross-Validation"
   ]
  },
  {
   "cell_type": "code",
   "execution_count": null,
   "metadata": {},
   "outputs": [],
   "source": [
    "imputed_X_age = my_imputer.fit_transform(np.array(X['Age']).reshape(-1,1))\n",
    "X['Age'] = imputed_X_age"
   ]
  },
  {
   "cell_type": "code",
   "execution_count": null,
   "metadata": {},
   "outputs": [],
   "source": [
    "scores = cross_val_score(pipeline, X, y,cv=5,scoring='accuracy')\n",
    "print('Accuracies: \\n',scores)"
   ]
  },
  {
   "cell_type": "markdown",
   "metadata": {},
   "source": [
    "# Image Classification"
   ]
  },
  {
   "cell_type": "code",
   "execution_count": 2,
   "metadata": {},
   "outputs": [],
   "source": [
    "transfer = True"
   ]
  },
  {
   "cell_type": "code",
   "execution_count": null,
   "metadata": {},
   "outputs": [],
   "source": [
    "i_v = []\n",
    "for i in list(image_report['Image View']):\n",
    "    if 'LCC' in i:\n",
    "        i_v.append('LCC')\n",
    "    elif 'LO' in i:\n",
    "        i_v.append('LO')\n",
    "    elif 'RCC' in i:\n",
    "        i_v.append('RCC')\n",
    "    else:\n",
    "        i_v.append('RO')\n",
    "image_report['Image View'] = i_v"
   ]
  },
  {
   "cell_type": "code",
   "execution_count": null,
   "metadata": {},
   "outputs": [],
   "source": [
    "utils.mammary_features(image_report,transfer)"
   ]
  },
  {
   "cell_type": "code",
   "execution_count": 3,
   "metadata": {},
   "outputs": [],
   "source": [
    "if transfer:\n",
    "    report = pd.read_csv('results tf/metaclassifier_report.csv')\n",
    "else:\n",
    "    report = pd.read_csv('results f-s/metaclassifier_report.csv')"
   ]
  },
  {
   "cell_type": "code",
   "execution_count": 4,
   "metadata": {},
   "outputs": [],
   "source": [
    "image_report = report.sample(n=len(report.index),axis=0,)"
   ]
  },
  {
   "cell_type": "code",
   "execution_count": 5,
   "metadata": {},
   "outputs": [],
   "source": [
    "p = list(image_report['Patches'])\n",
    "s = list(image_report['Suspicious'])\n",
    "c = []\n",
    "for i in range(len(p)):\n",
    "    f = float(\"{:.2f}\".format(s[i]/p[i]))\n",
    "    c.append(f)"
   ]
  },
  {
   "cell_type": "code",
   "execution_count": 6,
   "metadata": {},
   "outputs": [],
   "source": [
    "X = image_report.loc[:, image_report.columns != 'Ground Truth']\n",
    "X = X.loc[:, X.columns != 'Patient']\n",
    "X = X.loc[:, X.columns != 'Density']\n",
    "X = X.loc[:, X.columns != 'Overlay']\n",
    "X = X.loc[:, X.columns != 'Lesion']\n",
    "X = X.loc[:, X.columns != 'Classification']\n",
    "#X = X.loc[:, X.columns != 'Age']\n",
    "X = X.loc[:, X.columns != 'Patches']\n",
    "#X = X.loc[:, X.columns != 'Suspicious']\n",
    "X = X.loc[:, X.columns != 'Image View']\n",
    "#X = X.loc[:, X.columns != 'I_Skewness']\n",
    "#X = X.loc[:, X.columns != 'Area Factor']\n",
    "X['Ratio'] = c\n",
    "y = image_report['Ground Truth']"
   ]
  },
  {
   "cell_type": "code",
   "execution_count": 7,
   "metadata": {},
   "outputs": [],
   "source": [
    "my_imputer = SimpleImputer(strategy='constant',fill_value=56)\n",
    "imputed_X = my_imputer.fit_transform(np.array(X['Age']).reshape(-1,1))\n",
    "X['Age'] = imputed_X"
   ]
  },
  {
   "cell_type": "code",
   "execution_count": 8,
   "metadata": {},
   "outputs": [],
   "source": [
    "#my_imputer = SimpleImputer(strategy='constant',fill_value=2)\n",
    "#imputed_X = my_imputer.fit_transform(np.array(X['Density']).reshape(-1,1))\n",
    "#X['Density'] = imputed_X\n",
    "\n",
    "#my_imputer = SimpleImputer(missing_values=' NaN',strategy='constant',fill_value=2)\n",
    "#imputed_X = my_imputer.fit_transform(np.array(X['Density']).reshape(-1,1))\n",
    "#X['Density'] = imputed_X\n",
    "\n",
    "#X = X.astype({'Density': 'float32'})"
   ]
  },
  {
   "cell_type": "code",
   "execution_count": 9,
   "metadata": {},
   "outputs": [],
   "source": [
    "label_y = y.copy()\n",
    "label_encoder = LabelEncoder()\n",
    "label_y= label_encoder.fit_transform(y)"
   ]
  },
  {
   "cell_type": "code",
   "execution_count": 10,
   "metadata": {},
   "outputs": [],
   "source": [
    "#oh_encoder = OneHotEncoder(handle_unknown='ignore', sparse=False)\n",
    "#oh_cols = pd.DataFrame(oh_encoder.fit_transform(np.array(X['Image View']).reshape(-1,1)))\n",
    "#oh_cols.index = X.index\n",
    "#num_X = X.drop('Image View', axis=1)\n",
    "#oh_X= pd.concat([num_X, oh_cols], axis=1)\n",
    "#X = oh_X.rename(columns={0: oh_encoder.categories_[0][0], 1: oh_encoder.categories_[0][1],2:oh_encoder.categories_[0][2],3:oh_encoder.categories_[0][3]})"
   ]
  },
  {
   "cell_type": "code",
   "execution_count": 11,
   "metadata": {},
   "outputs": [],
   "source": [
    "X = X.astype({'Age': 'int32','I_Median': 'int32','I_Mode': 'int32'})"
   ]
  },
  {
   "cell_type": "code",
   "execution_count": 12,
   "metadata": {},
   "outputs": [],
   "source": [
    "X1 = X.rename(columns={'Ratio':'Patches_Norm','Suspicious':'Patches_Sus'},inplace=False)"
   ]
  },
  {
   "cell_type": "code",
   "execution_count": 13,
   "metadata": {},
   "outputs": [
    {
     "data": {
      "text/html": [
       "<div>\n",
       "<style scoped>\n",
       "    .dataframe tbody tr th:only-of-type {\n",
       "        vertical-align: middle;\n",
       "    }\n",
       "\n",
       "    .dataframe tbody tr th {\n",
       "        vertical-align: top;\n",
       "    }\n",
       "\n",
       "    .dataframe thead th {\n",
       "        text-align: right;\n",
       "    }\n",
       "</style>\n",
       "<table border=\"1\" class=\"dataframe\">\n",
       "  <thead>\n",
       "    <tr style=\"text-align: right;\">\n",
       "      <th></th>\n",
       "      <th>Age</th>\n",
       "      <th>Area Factor</th>\n",
       "      <th>Patches_Sus</th>\n",
       "      <th>I_Mean</th>\n",
       "      <th>I_Std</th>\n",
       "      <th>I_Median</th>\n",
       "      <th>I_Mode</th>\n",
       "      <th>T_Entropy</th>\n",
       "      <th>I_Skewness</th>\n",
       "      <th>I_Kurtosis</th>\n",
       "      <th>Patches_Norm</th>\n",
       "    </tr>\n",
       "  </thead>\n",
       "  <tbody>\n",
       "    <tr>\n",
       "      <th>321</th>\n",
       "      <td>56</td>\n",
       "      <td>39.8</td>\n",
       "      <td>8</td>\n",
       "      <td>174.96882</td>\n",
       "      <td>20.00056</td>\n",
       "      <td>181</td>\n",
       "      <td>185</td>\n",
       "      <td>4.12081</td>\n",
       "      <td>-1.55213</td>\n",
       "      <td>4.68908</td>\n",
       "      <td>0.04</td>\n",
       "    </tr>\n",
       "    <tr>\n",
       "      <th>319</th>\n",
       "      <td>56</td>\n",
       "      <td>31.9</td>\n",
       "      <td>6</td>\n",
       "      <td>182.15196</td>\n",
       "      <td>19.23552</td>\n",
       "      <td>180</td>\n",
       "      <td>177</td>\n",
       "      <td>4.26662</td>\n",
       "      <td>-0.41918</td>\n",
       "      <td>1.76569</td>\n",
       "      <td>0.05</td>\n",
       "    </tr>\n",
       "    <tr>\n",
       "      <th>58</th>\n",
       "      <td>54</td>\n",
       "      <td>15.5</td>\n",
       "      <td>27</td>\n",
       "      <td>100.54356</td>\n",
       "      <td>44.28632</td>\n",
       "      <td>98</td>\n",
       "      <td>103</td>\n",
       "      <td>4.81530</td>\n",
       "      <td>1.23731</td>\n",
       "      <td>1.81340</td>\n",
       "      <td>0.44</td>\n",
       "    </tr>\n",
       "    <tr>\n",
       "      <th>379</th>\n",
       "      <td>51</td>\n",
       "      <td>35.8</td>\n",
       "      <td>19</td>\n",
       "      <td>97.85167</td>\n",
       "      <td>31.92471</td>\n",
       "      <td>106</td>\n",
       "      <td>122</td>\n",
       "      <td>4.63435</td>\n",
       "      <td>-0.53162</td>\n",
       "      <td>0.22212</td>\n",
       "      <td>0.10</td>\n",
       "    </tr>\n",
       "    <tr>\n",
       "      <th>239</th>\n",
       "      <td>56</td>\n",
       "      <td>36.5</td>\n",
       "      <td>10</td>\n",
       "      <td>141.23031</td>\n",
       "      <td>46.36486</td>\n",
       "      <td>144</td>\n",
       "      <td>153</td>\n",
       "      <td>5.15643</td>\n",
       "      <td>-0.24501</td>\n",
       "      <td>-0.69597</td>\n",
       "      <td>0.08</td>\n",
       "    </tr>\n",
       "    <tr>\n",
       "      <th>391</th>\n",
       "      <td>43</td>\n",
       "      <td>24.5</td>\n",
       "      <td>11</td>\n",
       "      <td>82.53279</td>\n",
       "      <td>33.97336</td>\n",
       "      <td>86</td>\n",
       "      <td>90</td>\n",
       "      <td>4.80642</td>\n",
       "      <td>-0.06965</td>\n",
       "      <td>-0.17455</td>\n",
       "      <td>0.25</td>\n",
       "    </tr>\n",
       "    <tr>\n",
       "      <th>295</th>\n",
       "      <td>56</td>\n",
       "      <td>40.6</td>\n",
       "      <td>0</td>\n",
       "      <td>165.52045</td>\n",
       "      <td>16.04868</td>\n",
       "      <td>167</td>\n",
       "      <td>167</td>\n",
       "      <td>4.10435</td>\n",
       "      <td>-0.42134</td>\n",
       "      <td>1.50375</td>\n",
       "      <td>0.00</td>\n",
       "    </tr>\n",
       "    <tr>\n",
       "      <th>257</th>\n",
       "      <td>56</td>\n",
       "      <td>30.3</td>\n",
       "      <td>1</td>\n",
       "      <td>176.02006</td>\n",
       "      <td>19.51505</td>\n",
       "      <td>177</td>\n",
       "      <td>185</td>\n",
       "      <td>4.31681</td>\n",
       "      <td>-0.37650</td>\n",
       "      <td>0.32414</td>\n",
       "      <td>0.01</td>\n",
       "    </tr>\n",
       "    <tr>\n",
       "      <th>336</th>\n",
       "      <td>50</td>\n",
       "      <td>30.1</td>\n",
       "      <td>11</td>\n",
       "      <td>106.62288</td>\n",
       "      <td>47.32029</td>\n",
       "      <td>115</td>\n",
       "      <td>122</td>\n",
       "      <td>5.10358</td>\n",
       "      <td>-0.37757</td>\n",
       "      <td>-0.61241</td>\n",
       "      <td>0.12</td>\n",
       "    </tr>\n",
       "    <tr>\n",
       "      <th>249</th>\n",
       "      <td>60</td>\n",
       "      <td>26.7</td>\n",
       "      <td>17</td>\n",
       "      <td>107.23905</td>\n",
       "      <td>27.56331</td>\n",
       "      <td>114</td>\n",
       "      <td>122</td>\n",
       "      <td>4.52937</td>\n",
       "      <td>-0.76924</td>\n",
       "      <td>0.70554</td>\n",
       "      <td>0.13</td>\n",
       "    </tr>\n",
       "    <tr>\n",
       "      <th>98</th>\n",
       "      <td>59</td>\n",
       "      <td>57.6</td>\n",
       "      <td>19</td>\n",
       "      <td>140.06608</td>\n",
       "      <td>43.65635</td>\n",
       "      <td>137</td>\n",
       "      <td>122</td>\n",
       "      <td>5.08663</td>\n",
       "      <td>-0.16398</td>\n",
       "      <td>-0.57457</td>\n",
       "      <td>0.09</td>\n",
       "    </tr>\n",
       "    <tr>\n",
       "      <th>278</th>\n",
       "      <td>73</td>\n",
       "      <td>30.4</td>\n",
       "      <td>18</td>\n",
       "      <td>108.98960</td>\n",
       "      <td>25.00664</td>\n",
       "      <td>110</td>\n",
       "      <td>122</td>\n",
       "      <td>4.56597</td>\n",
       "      <td>-0.50905</td>\n",
       "      <td>1.57527</td>\n",
       "      <td>0.15</td>\n",
       "    </tr>\n",
       "    <tr>\n",
       "      <th>288</th>\n",
       "      <td>41</td>\n",
       "      <td>35.3</td>\n",
       "      <td>20</td>\n",
       "      <td>129.60913</td>\n",
       "      <td>35.34020</td>\n",
       "      <td>126</td>\n",
       "      <td>137</td>\n",
       "      <td>4.88752</td>\n",
       "      <td>0.44198</td>\n",
       "      <td>0.18025</td>\n",
       "      <td>0.15</td>\n",
       "    </tr>\n",
       "    <tr>\n",
       "      <th>427</th>\n",
       "      <td>66</td>\n",
       "      <td>52.1</td>\n",
       "      <td>2</td>\n",
       "      <td>153.85561</td>\n",
       "      <td>33.74872</td>\n",
       "      <td>153</td>\n",
       "      <td>153</td>\n",
       "      <td>4.79715</td>\n",
       "      <td>-0.04120</td>\n",
       "      <td>0.43092</td>\n",
       "      <td>0.01</td>\n",
       "    </tr>\n",
       "    <tr>\n",
       "      <th>407</th>\n",
       "      <td>44</td>\n",
       "      <td>59.0</td>\n",
       "      <td>65</td>\n",
       "      <td>128.36140</td>\n",
       "      <td>29.30608</td>\n",
       "      <td>129</td>\n",
       "      <td>122</td>\n",
       "      <td>4.74431</td>\n",
       "      <td>-0.21459</td>\n",
       "      <td>0.16483</td>\n",
       "      <td>0.26</td>\n",
       "    </tr>\n",
       "    <tr>\n",
       "      <th>45</th>\n",
       "      <td>71</td>\n",
       "      <td>23.4</td>\n",
       "      <td>42</td>\n",
       "      <td>78.91902</td>\n",
       "      <td>35.07778</td>\n",
       "      <td>75</td>\n",
       "      <td>68</td>\n",
       "      <td>4.82967</td>\n",
       "      <td>0.38164</td>\n",
       "      <td>-0.03239</td>\n",
       "      <td>0.42</td>\n",
       "    </tr>\n",
       "    <tr>\n",
       "      <th>135</th>\n",
       "      <td>60</td>\n",
       "      <td>48.1</td>\n",
       "      <td>39</td>\n",
       "      <td>141.99697</td>\n",
       "      <td>27.01366</td>\n",
       "      <td>146</td>\n",
       "      <td>153</td>\n",
       "      <td>4.61682</td>\n",
       "      <td>-0.67860</td>\n",
       "      <td>0.97963</td>\n",
       "      <td>0.17</td>\n",
       "    </tr>\n",
       "    <tr>\n",
       "      <th>218</th>\n",
       "      <td>59</td>\n",
       "      <td>36.5</td>\n",
       "      <td>8</td>\n",
       "      <td>139.13637</td>\n",
       "      <td>29.71976</td>\n",
       "      <td>142</td>\n",
       "      <td>137</td>\n",
       "      <td>4.68030</td>\n",
       "      <td>-0.47087</td>\n",
       "      <td>0.55631</td>\n",
       "      <td>0.04</td>\n",
       "    </tr>\n",
       "    <tr>\n",
       "      <th>287</th>\n",
       "      <td>41</td>\n",
       "      <td>29.4</td>\n",
       "      <td>18</td>\n",
       "      <td>128.13570</td>\n",
       "      <td>38.45791</td>\n",
       "      <td>121</td>\n",
       "      <td>122</td>\n",
       "      <td>4.97734</td>\n",
       "      <td>0.26759</td>\n",
       "      <td>-0.18692</td>\n",
       "      <td>0.12</td>\n",
       "    </tr>\n",
       "    <tr>\n",
       "      <th>301</th>\n",
       "      <td>63</td>\n",
       "      <td>26.4</td>\n",
       "      <td>2</td>\n",
       "      <td>134.12455</td>\n",
       "      <td>24.81756</td>\n",
       "      <td>137</td>\n",
       "      <td>137</td>\n",
       "      <td>4.49650</td>\n",
       "      <td>-0.72795</td>\n",
       "      <td>2.24182</td>\n",
       "      <td>0.02</td>\n",
       "    </tr>\n",
       "  </tbody>\n",
       "</table>\n",
       "</div>"
      ],
      "text/plain": [
       "     Age  Area Factor  Patches_Sus     I_Mean     I_Std  I_Median  I_Mode  \\\n",
       "321   56         39.8            8  174.96882  20.00056       181     185   \n",
       "319   56         31.9            6  182.15196  19.23552       180     177   \n",
       "58    54         15.5           27  100.54356  44.28632        98     103   \n",
       "379   51         35.8           19   97.85167  31.92471       106     122   \n",
       "239   56         36.5           10  141.23031  46.36486       144     153   \n",
       "391   43         24.5           11   82.53279  33.97336        86      90   \n",
       "295   56         40.6            0  165.52045  16.04868       167     167   \n",
       "257   56         30.3            1  176.02006  19.51505       177     185   \n",
       "336   50         30.1           11  106.62288  47.32029       115     122   \n",
       "249   60         26.7           17  107.23905  27.56331       114     122   \n",
       "98    59         57.6           19  140.06608  43.65635       137     122   \n",
       "278   73         30.4           18  108.98960  25.00664       110     122   \n",
       "288   41         35.3           20  129.60913  35.34020       126     137   \n",
       "427   66         52.1            2  153.85561  33.74872       153     153   \n",
       "407   44         59.0           65  128.36140  29.30608       129     122   \n",
       "45    71         23.4           42   78.91902  35.07778        75      68   \n",
       "135   60         48.1           39  141.99697  27.01366       146     153   \n",
       "218   59         36.5            8  139.13637  29.71976       142     137   \n",
       "287   41         29.4           18  128.13570  38.45791       121     122   \n",
       "301   63         26.4            2  134.12455  24.81756       137     137   \n",
       "\n",
       "     T_Entropy  I_Skewness  I_Kurtosis  Patches_Norm  \n",
       "321    4.12081    -1.55213     4.68908          0.04  \n",
       "319    4.26662    -0.41918     1.76569          0.05  \n",
       "58     4.81530     1.23731     1.81340          0.44  \n",
       "379    4.63435    -0.53162     0.22212          0.10  \n",
       "239    5.15643    -0.24501    -0.69597          0.08  \n",
       "391    4.80642    -0.06965    -0.17455          0.25  \n",
       "295    4.10435    -0.42134     1.50375          0.00  \n",
       "257    4.31681    -0.37650     0.32414          0.01  \n",
       "336    5.10358    -0.37757    -0.61241          0.12  \n",
       "249    4.52937    -0.76924     0.70554          0.13  \n",
       "98     5.08663    -0.16398    -0.57457          0.09  \n",
       "278    4.56597    -0.50905     1.57527          0.15  \n",
       "288    4.88752     0.44198     0.18025          0.15  \n",
       "427    4.79715    -0.04120     0.43092          0.01  \n",
       "407    4.74431    -0.21459     0.16483          0.26  \n",
       "45     4.82967     0.38164    -0.03239          0.42  \n",
       "135    4.61682    -0.67860     0.97963          0.17  \n",
       "218    4.68030    -0.47087     0.55631          0.04  \n",
       "287    4.97734     0.26759    -0.18692          0.12  \n",
       "301    4.49650    -0.72795     2.24182          0.02  "
      ]
     },
     "execution_count": 13,
     "metadata": {},
     "output_type": "execute_result"
    }
   ],
   "source": [
    "X1.head(20)"
   ]
  },
  {
   "cell_type": "markdown",
   "metadata": {},
   "source": [
    "## Hold Out"
   ]
  },
  {
   "cell_type": "code",
   "execution_count": 14,
   "metadata": {},
   "outputs": [],
   "source": [
    "from sklearn.model_selection import cross_val_score,train_test_split,GridSearchCV"
   ]
  },
  {
   "cell_type": "code",
   "execution_count": 18,
   "metadata": {},
   "outputs": [],
   "source": [
    "X_train, X_valid, y_train, y_valid = train_test_split(X1, label_y,test_size=0.3)"
   ]
  },
  {
   "cell_type": "code",
   "execution_count": 19,
   "metadata": {},
   "outputs": [
    {
     "name": "stdout",
     "output_type": "stream",
     "text": [
      "              precision    recall  f1-score   support\n",
      "\n",
      "           0       0.85      0.86      0.85        77\n",
      "           1       0.80      0.79      0.79        56\n",
      "\n",
      "    accuracy                           0.83       133\n",
      "   macro avg       0.82      0.82      0.82       133\n",
      "weighted avg       0.83      0.83      0.83       133\n",
      "\n"
     ]
    }
   ],
   "source": [
    "forest_model = RandomForestClassifier(n_estimators=100)\n",
    "pipeline = Pipeline(steps=[('model',forest_model)])\n",
    "pipeline.fit(X_train,y_train)\n",
    "preds = pipeline.predict(X_valid)\n",
    "print(classification_report(y_valid, preds))\n"
   ]
  },
  {
   "cell_type": "code",
   "execution_count": null,
   "metadata": {},
   "outputs": [],
   "source": [
    "model = svm.SVC()\n",
    "p = {'C':[0.5,0.75,1,1.25,1.5,1.75,2],'kernel':['linear','poly','sigmoid','rbf']}\n",
    "c = GridSearchCV(model,p,scoring='roc_auc')\n",
    "c.fit(X,y)"
   ]
  },
  {
   "cell_type": "code",
   "execution_count": null,
   "metadata": {},
   "outputs": [],
   "source": [
    "c.best_estimator_"
   ]
  },
  {
   "cell_type": "code",
   "execution_count": null,
   "metadata": {},
   "outputs": [],
   "source": [
    "c.best_score_"
   ]
  },
  {
   "cell_type": "code",
   "execution_count": null,
   "metadata": {},
   "outputs": [],
   "source": [
    "p = {'n_estimators':[50,100,500,1000,1500,2000],'max_depth':[3,4,5,6,7]}\n",
    "c = GridSearchCV(forest_model,p,scoring='roc_auc')\n",
    "c.fit(X,y)"
   ]
  },
  {
   "cell_type": "code",
   "execution_count": null,
   "metadata": {},
   "outputs": [],
   "source": [
    "c.best_estimator_"
   ]
  },
  {
   "cell_type": "code",
   "execution_count": null,
   "metadata": {},
   "outputs": [],
   "source": []
  },
  {
   "cell_type": "code",
   "execution_count": null,
   "metadata": {},
   "outputs": [],
   "source": [
    "sorted_idx = importance.argsort()\n",
    "\n",
    "plt.barh(X_train.columns[sorted_idx], importance[sorted_idx])\n",
    "plt.savefig('patch_RF_fi.pdf')"
   ]
  },
  {
   "cell_type": "code",
   "execution_count": 22,
   "metadata": {},
   "outputs": [
    {
     "data": {
      "image/png": "[encoded data removed]",
      "text/plain": [
       "<Figure size 648x648 with 1 Axes>"
      ]
     },
     "metadata": {
      "needs_background": "light"
     },
     "output_type": "display_data"
    }
   ],
   "source": [
    "from sklearn.inspection import permutation_importance\n",
    "\n",
    "result = permutation_importance(forest_model, X_valid, y_valid, n_repeats=10)\n",
    "sorted_idx = result.importances_mean.argsort()\n",
    "plt.figure(figsize=(9,9))\n",
    "plt.barh(X_train.columns[sorted_idx], result.importances_mean[sorted_idx])\n",
    "plt.xlabel('Percent Increase')\n",
    "plt.ylabel('Feature')\n",
    "plt.savefig('patch_RF_fi.pdf')\n"
   ]
  },
  {
   "cell_type": "markdown",
   "metadata": {},
   "source": [
    "## Cross Validation"
   ]
  },
  {
   "cell_type": "code",
   "execution_count": 23,
   "metadata": {},
   "outputs": [],
   "source": [
    "import sklearn\n",
    "from sklearn.pipeline import Pipeline\n",
    "from sklearn.impute import SimpleImputer\n",
    "from sklearn.feature_selection import SelectKBest, f_classif\n",
    "from sklearn.model_selection import cross_val_score,train_test_split,GridSearchCV\n",
    "from sklearn.ensemble import RandomForestClassifier\n",
    "from sklearn import svm\n",
    "from sklearn.metrics import classification_report\n",
    "from sklearn.inspection import permutation_importance"
   ]
  },
  {
   "cell_type": "code",
   "execution_count": null,
   "metadata": {},
   "outputs": [],
   "source": [
    "forest_model = RandomForestClassifier(max_depth=7, n_estimators=500)\n",
    "#model = svm.SVC()\n",
    "pipeline = Pipeline(steps=[('model',forest_model)])\n",
    "#pipeline = Pipeline(steps=[('model',model)])\n",
    "scores = cross_val_score(pipeline, X, y,cv=5,scoring='roc_auc')\n",
    "print('AUC: \\n',scores)"
   ]
  },
  {
   "cell_type": "code",
   "execution_count": null,
   "metadata": {},
   "outputs": [],
   "source": [
    "pipeline.fit(X_train,y_train)"
   ]
  },
  {
   "cell_type": "code",
   "execution_count": null,
   "metadata": {},
   "outputs": [],
   "source": [
    "y_pred = pipeline.predict_proba(X_valid)"
   ]
  },
  {
   "cell_type": "code",
   "execution_count": null,
   "metadata": {},
   "outputs": [],
   "source": [
    "ypred = []\n",
    "for i in y_pred:\n",
    "    if i[0] > 0.5:\n",
    "        ypred.append(0)\n",
    "    else:\n",
    "        ypred.append(1)"
   ]
  },
  {
   "cell_type": "code",
   "execution_count": null,
   "metadata": {},
   "outputs": [],
   "source": [
    "classes = ['Normal','Suspicious']\n",
    "c = sklearn.metrics.confusion_matrix(y_valid,np.argmax(y_pred,axis=1),normalize='true')\n",
    "c = np.around(c,decimals =2)\n",
    "\n",
    "plt.figure(figsize=(6, 6))\n",
    "plt.imshow(c,cmap='Blues')\n",
    "\n",
    "plt.xticks(np.arange(len(classes)),classes,rotation=45,rotation_mode=\"anchor\",ha=\"right\")\n",
    "plt.yticks(np.arange(len(classes)),classes)\n",
    "plt.xlabel(\"Predicted labels\")\n",
    "plt.ylabel(\"True labels\")\n",
    "for i in range(c.shape[1]):\n",
    "    for j in range(c.shape[1]):\n",
    "        if c[i,j]<0.5:\n",
    "            text = plt.text(j, i, c[i, j],\n",
    "                           ha=\"center\", va=\"center\", color=\"black\",fontsize='large')\n",
    "        else:\n",
    "            text = plt.text(j, i, c[i, j],\n",
    "                           ha=\"center\", va=\"center\", color=\"w\",fontsize='large')\n",
    "#plt.title(\"Confusion Matrix\")\n",
    "plt.colorbar()\n",
    "sens = c[1][1]/(c[1][1]+c[1][0])\n",
    "spec = c[0][0]/(c[0][0]+c[0][1])\n",
    "print('Sensitivity:',sens)\n",
    "print('Specificity:',spec)\n",
    "plt.savefig('patch_RF_cm.pdf')\n",
    "plt.show()"
   ]
  },
  {
   "cell_type": "code",
   "execution_count": null,
   "metadata": {},
   "outputs": [],
   "source": [
    "ypred=[]\n",
    "for i in y_pred:\n",
    "    ypred.append(i[1])\n",
    "auc = sklearn.metrics.roc_auc_score(y_valid,ypred)\n",
    "fpr,tpr,t= sklearn.metrics.roc_curve(y_valid,ypred)\n",
    "fig, ax = plt.subplots()\n",
    "ax.plot([0, 1], [0, 1], linestyle='--', lw=2, color='r',\n",
    "        label='Chance', alpha=.8)\n",
    "ax.plot(fpr,tpr, color='b',\n",
    "        label=r'ROC (AUC = %0.2f )' % (auc),\n",
    "        lw=2, alpha=.8)\n",
    "plt.xlabel(\"False Positive Rate\")\n",
    "plt.ylabel(\"True Positive Rate\")\n",
    "ax.legend(loc=\"lower right\")\n",
    "plt.savefig('patch_RF_ROC.pdf')\n",
    "#print('AUC:',auc)"
   ]
  },
  {
   "cell_type": "code",
   "execution_count": null,
   "metadata": {},
   "outputs": [],
   "source": []
  },
  {
   "cell_type": "code",
   "execution_count": null,
   "metadata": {},
   "outputs": [],
   "source": [
    "model = svm.SVC(C=1.75, kernel='linear',probability=True)\n",
    "pipeline = Pipeline(steps=[('model',model)])\n",
    "pipeline.fit(X_train,y_train)"
   ]
  },
  {
   "cell_type": "code",
   "execution_count": null,
   "metadata": {},
   "outputs": [],
   "source": [
    "y_pred = pipeline.predict_proba(X_valid)\n",
    "ypred = []\n",
    "for i in y_pred:\n",
    "    if i[0] > 0.5:\n",
    "        ypred.append(0)\n",
    "    else:\n",
    "        ypred.append(1)"
   ]
  },
  {
   "cell_type": "code",
   "execution_count": null,
   "metadata": {},
   "outputs": [],
   "source": [
    "classes = ['Normal','Suspicious']\n",
    "c = sklearn.metrics.confusion_matrix(y_valid,np.argmax(y_pred,axis=1),normalize='true')\n",
    "c = np.around(c,decimals =2)\n",
    "\n",
    "plt.figure(figsize=(5, 5))\n",
    "plt.imshow(c,cmap='Blues')\n",
    "\n",
    "plt.xticks(np.arange(len(classes)),classes,rotation=45,rotation_mode=\"anchor\",ha=\"right\")\n",
    "plt.yticks(np.arange(len(classes)),classes)\n",
    "plt.xlabel(\"Predicted labels\")\n",
    "plt.ylabel(\"True labels\")\n",
    "for i in range(c.shape[1]):\n",
    "    for j in range(c.shape[1]):\n",
    "        if c[i,j]<0.5:\n",
    "            text = plt.text(j, i, c[i, j],\n",
    "                           ha=\"center\", va=\"center\", color=\"black\",fontsize='large')\n",
    "        else:\n",
    "            text = plt.text(j, i, c[i, j],\n",
    "                           ha=\"center\", va=\"center\", color=\"w\",fontsize='large')\n",
    "#plt.title(\"Confusion Matrix\")\n",
    "plt.colorbar()\n",
    "sens = c[1][1]/(c[1][1]+c[1][0])\n",
    "spec = c[0][0]/(c[0][0]+c[0][1])\n",
    "print('Sensitivity:',sens)\n",
    "print('Specificity:',spec)\n",
    "plt.savefig('patch_svm_cm.png')\n",
    "plt.show()\n"
   ]
  },
  {
   "cell_type": "code",
   "execution_count": null,
   "metadata": {},
   "outputs": [],
   "source": [
    "ypred=[]\n",
    "for i in y_pred:\n",
    "    ypred.append(i[1])\n",
    "auc = sklearn.metrics.roc_auc_score(y_valid,ypred)\n",
    "fpr,tpr,t= sklearn.metrics.roc_curve(y_valid,ypred)\n",
    "fig, ax = plt.subplots()\n",
    "ax.plot([0, 1], [0, 1], linestyle='--', lw=2, color='r',\n",
    "        label='Chance', alpha=.8)\n",
    "ax.plot(fpr,tpr, color='b',\n",
    "        label=r'ROC (AUC = %0.2f )' % (auc),\n",
    "        lw=2, alpha=.8)\n",
    "plt.xlabel(\"False Positive Rate\")\n",
    "plt.ylabel(\"True Positive Rate\")\n",
    "ax.legend(loc=\"lower right\")\n",
    "#plt.show()\n",
    "plt.savefig('patch_svm_ROC.pdf')\n",
    "#print('AUC:',auc)"
   ]
  },
  {
   "cell_type": "code",
   "execution_count": null,
   "metadata": {},
   "outputs": [],
   "source": []
  },
  {
   "cell_type": "code",
   "execution_count": null,
   "metadata": {},
   "outputs": [],
   "source": []
  },
  {
   "cell_type": "code",
   "execution_count": 24,
   "metadata": {},
   "outputs": [],
   "source": [
    "forest_model = RandomForestClassifier(max_depth=7, n_estimators=500)\n",
    "pipeline = Pipeline(steps=[('model',forest_model)])\n",
    "pipeline.fit(X_train,y_train)\n",
    "y_pred = pipeline.predict_proba(X_valid)\n",
    "ypred1=[]\n",
    "for i in y_pred:\n",
    "    ypred1.append(i[1])"
   ]
  },
  {
   "cell_type": "code",
   "execution_count": 25,
   "metadata": {},
   "outputs": [],
   "source": [
    "model = svm.SVC(C=1.75, kernel='linear',probability=True)\n",
    "pipeline = Pipeline(steps=[('model',model)])\n",
    "pipeline.fit(X_train,y_train)\n",
    "y_pred = pipeline.predict_proba(X_valid)\n",
    "ypred2=[]\n",
    "for i in y_pred:\n",
    "    ypred2.append(i[1])"
   ]
  },
  {
   "cell_type": "code",
   "execution_count": 32,
   "metadata": {},
   "outputs": [
    {
     "data": {
      "image/png": "[encoded data removed]",
      "text/plain": [
       "<Figure size 432x288 with 1 Axes>"
      ]
     },
     "metadata": {
      "needs_background": "light"
     },
     "output_type": "display_data"
    }
   ],
   "source": [
    "auc1 = sklearn.metrics.roc_auc_score(y_valid,ypred1)\n",
    "auc2 = sklearn.metrics.roc_auc_score(y_valid,ypred2)\n",
    "fpr1,tpr1,t= sklearn.metrics.roc_curve(y_valid,ypred1)\n",
    "fpr2,tpr2,t= sklearn.metrics.roc_curve(y_valid,ypred2)\n",
    "fig, ax = plt.subplots()\n",
    "ax.plot([0, 1], [0, 1], linestyle='--', lw=2, color='k',\n",
    "        label='Chance', alpha=.8)\n",
    "ax.plot(fpr1,tpr1, color='r',\n",
    "        label=r'RF (AUC = %0.2f )' % (auc1),\n",
    "        lw=2, alpha=.8)\n",
    "ax.plot(fpr2,tpr2, color='b',\n",
    "        label=r'SVM (AUC = %0.2f )' % (auc2),\n",
    "        lw=2, alpha=.8)\n",
    "plt.xlabel(\"False Positive Rate\")\n",
    "plt.ylabel(\"True Positive Rate\")\n",
    "ax.legend(loc=\"lower right\")\n",
    "#plt.show()\n",
    "plt.savefig('patch_ROC.pdf')\n",
    "#print('AUC:',auc)"
   ]
  },
  {
   "cell_type": "code",
   "execution_count": null,
   "metadata": {},
   "outputs": [],
   "source": []
  }
 ],
 "metadata": {
  "kernelspec": {
   "display_name": "Python 3.7.9 64-bit ('tensorflow': conda)",
   "language": "python",
   "name": "python37964bittensorflowconda44bf35c3046e4bc58c11f71047e9bd8d"
  },
  "language_info": {
   "codemirror_mode": {
    "name": "ipython",
    "version": 3
   },
   "file_extension": ".py",
   "mimetype": "text/x-python",
   "name": "python",
   "nbconvert_exporter": "python",
   "pygments_lexer": "ipython3",
   "version": "3.7.9"
  },
  "metadata": {
   "interpreter": {
    "hash": "429db445d30bdc71cb8ecc91188709a24b250e6582e4f5179e4164d5371f1d5c"
   }
  }
 },
 "nbformat": 4,
 "nbformat_minor": 2
}
