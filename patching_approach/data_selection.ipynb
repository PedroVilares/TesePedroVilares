{
 "cells": [
  {
   "cell_type": "markdown",
   "metadata": {},
   "source": [
    "# Data Selection"
   ]
  },
  {
   "cell_type": "code",
   "execution_count": null,
   "metadata": {},
   "outputs": [],
   "source": [
    "import pandas as pd\n",
    "import numpy as np\n",
    "import random\n",
    "import os\n",
    "import data_selection_utils as utils"
   ]
  },
  {
   "cell_type": "markdown",
   "metadata": {},
   "source": [
    "## BCDR-DN01 + INBreast (Normal Mamographies)"
   ]
  },
  {
   "cell_type": "code",
   "execution_count": null,
   "metadata": {},
   "outputs": [],
   "source": [
    "bcdrN = pd.read_csv('d:/BCDR/BCDR-DN01_dataset/bcdr_dn01_img.csv')\n",
    "print('Normal Dataset: ',bcdrN.shape)\n",
    "bcdrN.head(20)"
   ]
  },
  {
   "cell_type": "code",
   "execution_count": null,
   "metadata": {},
   "outputs": [],
   "source": [
    "normal_mammographies1 = pd.DataFrame({})\r\n",
    "normal_mammographies1[['patient_id','image_view','image_path','density','age']] = bcdrN[['patient_id','image_type_name','image_filename','density','age']]\r\n",
    "normal_mammographies1 = utils.fix_bcdrN_path(normal_mammographies1,'image_path')"
   ]
  },
  {
   "cell_type": "code",
   "execution_count": null,
   "metadata": {},
   "outputs": [],
   "source": [
    "xls_raw = pd.read_excel('D:/INBreast/INbreast.xls')\n",
    "print('INbreast: ',xls_raw.shape)\n",
    "xls = pd.DataFrame()\n",
    "xls['image_view'] = [xls_raw['Laterality'][i] + xls_raw['View'][i] for i in xls_raw.index] \n",
    "xls[['filename','finding notes']] = xls_raw[['File Name','Findings Notes (in Portuguese)']]"
   ]
  },
  {
   "cell_type": "code",
   "execution_count": null,
   "metadata": {},
   "outputs": [],
   "source": [
    "path_list = os.listdir('D:/INBreast/AllDICOMs/')\n",
    "r = []\n",
    "for path in path_list:\n",
    "    if path[-3:] != 'dcm':\n",
    "        r.append(path)\n",
    "for i in r:\n",
    "    path_list.remove(i)"
   ]
  },
  {
   "cell_type": "code",
   "execution_count": null,
   "metadata": {},
   "outputs": [],
   "source": [
    "patients = []\n",
    "file_paths = []\n",
    "image_views = []\n",
    "for path in path_list:\n",
    "    l = path.split('_')\n",
    "    if len(l) > 1:\n",
    "        patients.append(l[1])\n",
    "        file_paths.append(path)\n",
    "        image_views.append(l[3]+l[4])\n",
    "images_df = pd.DataFrame({'patient_id':patients,'image_view':image_views,'image_path':file_paths})\n",
    "images_df = utils.fix_inbreast_path(images_df,'image_path')"
   ]
  },
  {
   "cell_type": "code",
   "execution_count": null,
   "metadata": {},
   "outputs": [],
   "source": [
    "images_df[['finding notes']] = xls[['finding notes']]\n",
    "normal_df = images_df[images_df['finding notes'] == 'normal']\n",
    "normal_mammographies2 = pd.DataFrame()\n",
    "normal_mammographies2[['patient_id','image_view','image_path']] = normal_df[['patient_id','image_view','image_path']]"
   ]
  },
  {
   "cell_type": "code",
   "execution_count": null,
   "metadata": {},
   "outputs": [],
   "source": [
    "normal_mammographies = pd.concat([normal_mammographies1,normal_mammographies2],ignore_index=True)\n",
    "print('Normal Dataset: ',normal_mammographies.shape)"
   ]
  },
  {
   "cell_type": "code",
   "execution_count": null,
   "metadata": {},
   "outputs": [],
   "source": [
    "normal_mammographies.head(25)"
   ]
  },
  {
   "cell_type": "markdown",
   "metadata": {},
   "source": [
    "## BCDR-D01 + BCDR-D02 (Lesion Mamographies)"
   ]
  },
  {
   "cell_type": "code",
   "execution_count": null,
   "metadata": {},
   "outputs": [],
   "source": [
    "bcdr1_raw = pd.read_csv('d:/BCDR/BCDR-D01_dataset/bcdr_d01_img.csv')\r\n",
    "bcdr1_raw = bcdr1_raw.drop_duplicates(subset=['image_filename'],keep='first',ignore_index=True)\r\n",
    "bcdr1_raw= utils.fix_view(bcdr1_raw,'image_type_name')\r\n",
    "bcdr1_features_raw = pd.read_csv('D:\\BCDR\\BCDR-D01_dataset/bcdr_d01_features.csv')\r\n",
    "bcdr2_raw = pd.read_csv('d:/BCDR/BCDR-D02_dataset/bcdr_d02_img.csv')\r\n",
    "bcdr2_raw = bcdr2_raw.drop_duplicates(subset=['image_filename'],keep='first',ignore_index=True)\r\n",
    "bcdr2_raw= utils.fix_view(bcdr2_raw,'image_type_name')\r\n",
    "bcdr2_features_raw = pd.read_csv('D:\\BCDR\\BCDR-D02_dataset/bcdr_d02_features.csv')\r\n",
    "l1 = utils.lesion_findings(bcdr1_features_raw)\r\n",
    "l2 = utils.lesion_findings(bcdr2_features_raw)"
   ]
  },
  {
   "cell_type": "code",
   "execution_count": null,
   "metadata": {},
   "outputs": [],
   "source": [
    "bcdr1 = bcdr1_raw[['patient_id','study_id','image_filename','image_type_name','density','age']]\r\n",
    "bcdr1_features= bcdr1_features_raw[['patient_id','study_id','image_view','s_x_center_mass','s_y_center_mass','density','age']]\r\n",
    "\r\n",
    "bcdr1 = utils.merge_csv(bcdr1_features,bcdr1)\r\n",
    "bcdr1['lesion_type'] = l1"
   ]
  },
  {
   "cell_type": "code",
   "execution_count": null,
   "metadata": {},
   "outputs": [],
   "source": [
    "bcdr2 = bcdr2_raw[['patient_id','study_id','image_filename','image_type_name','density','age']]\r\n",
    "bcdr2_features= bcdr2_features_raw[['patient_id','study_id','image_view','s_x_center_mass','s_y_center_mass','density','age']]\r\n",
    "\r\n",
    "bcdr2 = utils.merge_csv(bcdr2_features,bcdr2)\r\n",
    "bcdr2['lesion_type'] = l2"
   ]
  },
  {
   "cell_type": "code",
   "execution_count": null,
   "metadata": {},
   "outputs": [],
   "source": [
    "lesion_mammographies1 = pd.DataFrame({})\r\n",
    "lesion_mammographies1[['patient_id','image_view','image_path','x_center','y_center','density','age','lesion_type']] = bcdr1[['patient_id','image_view','image_filename','s_x_center_mass','s_y_center_mass','density','age','lesion_type']]\r\n",
    "new_patients = []\r\n",
    "for patient in list(lesion_mammographies1['patient_id']):\r\n",
    "    patient_n= '1d'+str(patient)\r\n",
    "    new_patients.append(patient_n)\r\n",
    "lesion_mammographies1['patient_id'] = new_patients\r\n",
    "lesion_mammographies1 = utils.fix_bcdr1_path(lesion_mammographies1,'image_path')"
   ]
  },
  {
   "cell_type": "code",
   "execution_count": null,
   "metadata": {},
   "outputs": [],
   "source": [
    "lesion_mammographies2 = pd.DataFrame({})\r\n",
    "lesion_mammographies2[['patient_id','image_view','image_path','x_center','y_center','density','age','lesion_type']] = bcdr2[['patient_id','image_view','image_filename','s_x_center_mass','s_y_center_mass','density','age','lesion_type']]\r\n",
    "new_patients = []\r\n",
    "for patient in list(lesion_mammographies2['patient_id']):\r\n",
    "    patient_n= '2d'+str(patient)\r\n",
    "    new_patients.append(patient_n)\r\n",
    "lesion_mammographies2['patient_id'] = new_patients\r\n",
    "lesion_mammographies2 = utils.fix_bcdr2_path(lesion_mammographies2,'image_path')\r\n",
    "lesion_mammographies2 = lesion_mammographies2[:52]"
   ]
  },
  {
   "cell_type": "code",
   "execution_count": null,
   "metadata": {},
   "outputs": [],
   "source": [
    "lesion_mammographies = pd.concat([lesion_mammographies1,lesion_mammographies2],ignore_index=True)\r\n",
    "print('Suspicious Dataset: ',lesion_mammographies.shape)"
   ]
  },
  {
   "cell_type": "code",
   "execution_count": null,
   "metadata": {},
   "outputs": [],
   "source": [
    "lesion_mammographies = utils.fix_view_back(lesion_mammographies,'image_view')\n",
    "lesion_mammographies.head(10)"
   ]
  },
  {
   "cell_type": "markdown",
   "metadata": {},
   "source": [
    "## Patient w/ at least 4 views"
   ]
  },
  {
   "cell_type": "markdown",
   "metadata": {},
   "source": [
    "### Normal Mammografies"
   ]
  },
  {
   "cell_type": "code",
   "execution_count": null,
   "metadata": {},
   "outputs": [],
   "source": [
    "normal_patient_list = list(normal_mammographies['patient_id'])"
   ]
  },
  {
   "cell_type": "code",
   "execution_count": null,
   "metadata": {},
   "outputs": [],
   "source": [
    "normal_dict = {i:normal_patient_list.count(i) for i in normal_patient_list}\n",
    "patients_to_erase = []\n",
    "for patient,images in normal_dict.items():\n",
    "    if images < 2:\n",
    "        patients_to_erase.append(patient)\n",
    "for patient in patients_to_erase:\n",
    "    normal_dict.pop(patient)\n",
    "\n",
    "print('Eligible Normal Patients: ',len(normal_dict.keys()))"
   ]
  },
  {
   "cell_type": "code",
   "execution_count": null,
   "metadata": {},
   "outputs": [],
   "source": [
    "normal_dataframe = normal_mammographies[normal_mammographies['patient_id'].isin(normal_dict.keys())]\n",
    "normal_dataframe['label'] = 'Normal'"
   ]
  },
  {
   "cell_type": "code",
   "execution_count": null,
   "metadata": {},
   "outputs": [],
   "source": [
    "normal_dataframe.head(15)"
   ]
  },
  {
   "cell_type": "markdown",
   "metadata": {},
   "source": [
    "### Lesion Mamografies"
   ]
  },
  {
   "cell_type": "code",
   "execution_count": null,
   "metadata": {},
   "outputs": [],
   "source": [
    "lesion_patient_list = list(lesion_mammographies['patient_id'])"
   ]
  },
  {
   "cell_type": "code",
   "execution_count": null,
   "metadata": {},
   "outputs": [],
   "source": [
    "lesion_dict = {i:lesion_patient_list.count(i) for i in lesion_patient_list}\n",
    "patients_to_erase = []\n",
    "for patient,images in lesion_dict.items():\n",
    "    if images < 2:\n",
    "        patients_to_erase.append(patient)\n",
    "for patient in patients_to_erase:\n",
    "    lesion_dict.pop(patient)\n",
    "print('Eligible Lesion Patients: ',len(lesion_dict.keys()))"
   ]
  },
  {
   "cell_type": "code",
   "execution_count": null,
   "metadata": {},
   "outputs": [],
   "source": [
    "lesion_dataframe = lesion_mammographies[lesion_mammographies['patient_id'].isin(lesion_dict.keys())]\n",
    "lesion_dataframe['label'] = 'Suspicious'"
   ]
  },
  {
   "cell_type": "markdown",
   "metadata": {},
   "source": [
    "## Copying Mammographies"
   ]
  },
  {
   "cell_type": "code",
   "execution_count": null,
   "metadata": {},
   "outputs": [],
   "source": [
    "dfs = [normal_dataframe,lesion_dataframe]\n",
    "f_df = pd.concat(dfs, axis=0,ignore_index=True)"
   ]
  },
  {
   "cell_type": "code",
   "execution_count": null,
   "metadata": {},
   "outputs": [],
   "source": [
    "fdict = {}\n",
    "fdict.update(normal_dict)\n",
    "fdict.update(lesion_dict)"
   ]
  },
  {
   "cell_type": "code",
   "execution_count": null,
   "metadata": {},
   "outputs": [],
   "source": [
    "keys = list(fdict.keys())\r\n",
    "random.Random(1).shuffle(keys)\r\n",
    "f_dict = dict()\r\n",
    "for key in keys:\r\n",
    "    f_dict[key] = fdict[key]"
   ]
  },
  {
   "cell_type": "code",
   "execution_count": null,
   "metadata": {},
   "outputs": [],
   "source": [
    "patient_list,image_view_list,label_list,lesion_center_x,lesion_center_y,density_list,image_paths,age_list,lesions_list = utils.image_mover(f_df,f_dict)"
   ]
  },
  {
   "cell_type": "markdown",
   "metadata": {},
   "source": [
    "### Save Ground Truth .csv"
   ]
  },
  {
   "cell_type": "code",
   "execution_count": null,
   "metadata": {},
   "outputs": [],
   "source": [
    "patient_name_df = pd.DataFrame({'patient':patient_list,'age':age_list,'label':label_list,'image view':image_view_list,'x_center':lesion_center_x,'y_center':lesion_center_y,'density':density_list,'lesion type':lesions_list,'image path':image_paths})\r\n",
    "patient_name_df.to_csv('D:/Architecture/patients/patient_gt.csv',index=False)"
   ]
  },
  {
   "cell_type": "code",
   "execution_count": null,
   "metadata": {},
   "outputs": [],
   "source": []
  },
  {
   "cell_type": "code",
   "execution_count": null,
   "metadata": {},
   "outputs": [],
   "source": [
    "0/0"
   ]
  },
  {
   "cell_type": "markdown",
   "metadata": {},
   "source": [
    "## CBIS-DDSM"
   ]
  },
  {
   "cell_type": "code",
   "execution_count": null,
   "metadata": {},
   "outputs": [],
   "source": [
    "masses_training_raw = pd.read_csv('d:/CBIS-DDSM/mass_case_description_train_set.csv')\n",
    "masses_training_raw_1 = masses_training_raw.drop_duplicates(subset=['image file path'],keep='first',ignore_index=True)\n",
    "masses_training = utils.fix_cbis_path(masses_training_raw_1,'image file path')\n",
    "#print('Masses Training Data Size: ',masses_training_raw.shape)\n",
    "masses_training.head(10)"
   ]
  },
  {
   "cell_type": "code",
   "execution_count": null,
   "metadata": {},
   "outputs": [],
   "source": [
    "image_view = [masses_training['left or right breast'][i][0]+masses_training['image view'][i] for i in range(len(masses_training))]\n",
    "masses_training['image_view'] = image_view"
   ]
  },
  {
   "cell_type": "code",
   "execution_count": null,
   "metadata": {},
   "outputs": [],
   "source": [
    "lesion_mammographies = pd.DataFrame({})\n",
    "lesion_mammographies[['patient_id','image_view','image_path']] = masses_training[['patient_id','image_view','image file path']]"
   ]
  },
  {
   "cell_type": "code",
   "execution_count": null,
   "metadata": {},
   "outputs": [],
   "source": [
    "lesion_patient_list = list(lesion_mammographies['patient_id'])"
   ]
  },
  {
   "cell_type": "code",
   "execution_count": null,
   "metadata": {},
   "outputs": [],
   "source": [
    "lesion_dict = {i:lesion_patient_list.count(i) for i in lesion_patient_list}\n",
    "patients_to_erase = []\n",
    "for patient,images in lesion_dict.items():\n",
    "    if images < 4:\n",
    "        patients_to_erase.append(patient)\n",
    "for patient in patients_to_erase:\n",
    "    lesion_dict.pop(patient)\n",
    "print('Eligible Lesion Patients: ',len(lesion_dict.keys()))"
   ]
  },
  {
   "cell_type": "code",
   "execution_count": null,
   "metadata": {},
   "outputs": [],
   "source": [
    "lesion_dataframe = lesion_mammographies[lesion_mammographies['patient_id'].isin(lesion_dict.keys())]\n",
    "lesion_dataframe['label'] = 'Suspicious'"
   ]
  },
  {
   "cell_type": "code",
   "execution_count": null,
   "metadata": {},
   "outputs": [],
   "source": []
  }
 ],
 "metadata": {
  "kernelspec": {
   "display_name": "Python 3.7.9 64-bit ('tensorflow': conda)",
   "name": "python37964bittensorflowconda44bf35c3046e4bc58c11f71047e9bd8d"
  },
  "language_info": {
   "name": "python",
   "version": ""
  },
  "metadata": {
   "interpreter": {
    "hash": "429db445d30bdc71cb8ecc91188709a24b250e6582e4f5179e4164d5371f1d5c"
   }
  }
 },
 "nbformat": 4,
 "nbformat_minor": 2
}