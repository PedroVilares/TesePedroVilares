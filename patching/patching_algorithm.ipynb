{
 "metadata": {
  "language_info": {
   "codemirror_mode": {
    "name": "ipython",
    "version": 3
   },
   "file_extension": ".py",
   "mimetype": "text/x-python",
   "name": "python",
   "nbconvert_exporter": "python",
   "pygments_lexer": "ipython3",
   "version": "3.7.6-final"
  },
  "orig_nbformat": 2,
  "kernelspec": {
   "name": "python3",
   "display_name": "Python 3",
   "language": "python"
  }
 },
 "nbformat": 4,
 "nbformat_minor": 2,
 "cells": [
  {
   "source": [
    "import numpy as np\n",
    "import pandas as pd\n",
    "import matplotlib.pyplot as plt\n",
    "\n",
    "#.py files\n",
    "import BCDR_utils as utils\n",
    "import generate_data as generator\n",
    "import automatic_patching as patching"
   ],
   "cell_type": "code",
   "metadata": {},
   "execution_count": null,
   "outputs": []
  },
  {
   "cell_type": "code",
   "execution_count": null,
   "metadata": {},
   "outputs": [],
   "source": [
    "bcdrN = pd.read_csv('BCDR-DN01_dataset/bcdr_dn01_img.csv')\n",
    "print('Normal Dataset: ',bcdrN.shape)\n",
    "#bcdrN.head(10)"
   ]
  },
  {
   "cell_type": "code",
   "execution_count": null,
   "metadata": {},
   "outputs": [],
   "source": [
    "bcdr1 = pd.read_csv('BCDR-D01_dataset/bcdr_d01_img.csv')\n",
    "bcdr1_labels = pd.read_csv('BCDR-D01_dataset/bcdr_d01_features.csv')\n",
    "print('Suspicious Dataset Nº 1: ',bcdr1.shape)\n",
    "#bcdr1.head(10)"
   ]
  },
  {
   "cell_type": "code",
   "execution_count": null,
   "metadata": {},
   "outputs": [],
   "source": [
    "normal_broken_paths= []\n",
    "for path in bcdrN['image_filename']:\n",
    "    normal_broken_paths.append('BCDR-DN01_dataset/'+path)\n",
    "normal_paths_tif = utils.fix_path(normal_broken_paths)\n",
    "normal_paths= generator.convert(normal_paths_tif)"
   ]
  },
  {
   "cell_type": "code",
   "execution_count": null,
   "metadata": {},
   "outputs": [],
   "source": [
    "suspicious_broken_paths_1= []\n",
    "for path in bcdr1['image_filename']:\n",
    "    suspicious_broken_paths_1.append('BCDR-D01_dataset/'+path)\n",
    "suspicious_paths_1_tif = utils.fix_path(suspicious_broken_paths_1)\n",
    "\n",
    "suspicious_paths_1 = generator.convert(suspicious_paths_1_tif)"
   ]
  },
  {
   "source": [
    "# Amostra do Algortimo de Patching"
   ],
   "cell_type": "markdown",
   "metadata": {}
  },
  {
   "cell_type": "code",
   "execution_count": null,
   "metadata": {},
   "outputs": [],
   "source": [
    "patch_size = 200\n",
    "background_percentage = 0.95"
   ]
  },
  {
   "cell_type": "code",
   "execution_count": null,
   "metadata": {},
   "outputs": [],
   "source": [
    "mammogram_array = patching.raw_mammogram(suspicious_paths_1[4])\n",
    "#plt.imshow(mammogram_array,cmap='gray')"
   ]
  },
  {
   "cell_type": "code",
   "execution_count": null,
   "metadata": {},
   "outputs": [],
   "source": [
    "binarized_array = patching.binarize_breast_region(mammogram_array)\n",
    "#plt.imshow(binarized_array,cmap='gray')"
   ]
  },
  {
   "cell_type": "code",
   "execution_count": null,
   "metadata": {},
   "outputs": [],
   "source": [
    "random_patches_vertexes = patching.random_patch_corners(binarized_array,patch_size,background_percentage)\n",
    "print('Random Patches:',len(random_patches_vertexes))"
   ]
  },
  {
   "cell_type": "code",
   "execution_count": null,
   "metadata": {},
   "outputs": [],
   "source": [
    "sistematic_patches_vertexes = patching.sistematic_patch_corners(binarized_array,patch_size,background_percentage)\n",
    "print('Sistematic Patches:',len(sistematic_patches_vertexes))"
   ]
  },
  {
   "cell_type": "code",
   "execution_count": null,
   "metadata": {},
   "outputs": [],
   "source": [
    "cols = 5\n",
    "rows = np.ceil(len(sistematic_patches_vertexes[30:60])/cols).astype(np.int_)\n",
    "f,s = plt.subplots(rows,cols,figsize=(25,25))\n",
    "i=0\n",
    "for v in sistematic_patches_vertexes[60:90]:\n",
    "    patch = mammogram_array[v[0]:v[1],v[2]:v[3]]\n",
    "    s[i//cols,i%cols].imshow(patch,cmap='gray')\n",
    "    i+=1"
   ]
  },
  {
   "cell_type": "code",
   "execution_count": null,
   "metadata": {},
   "outputs": [],
   "source": [
    "mammogram_array = patching.raw_mammogram(suspicious_paths_1[4])\n",
    "mammogram_with_random_centers = patching.show_centers(random_patches_vertexes,mammogram_array)\n",
    "plt.imshow(mammogram_with_random_centers,cmap='gray')\n",
    "#plt.imsave('random_centers.jpeg',mammogram_with_random_centers,cmap='gray')"
   ]
  },
  {
   "cell_type": "code",
   "execution_count": null,
   "metadata": {},
   "outputs": [],
   "source": [
    "mammogram_array = patching.raw_mammogram(suspicious_paths_1[4])\n",
    "mammogram_with_sistematic_centers = patching.show_centers(sistematic_patches_vertexes,mammogram_array)\n",
    "plt.imshow(mammogram_with_sistematic_centers,cmap='gray')\n",
    "#plt.imsave('sistematic_centers.jpeg',mammogram_with_sistematic_centers,cmap='gray')"
   ]
  },
  {
   "source": [
    "## Saving Patches"
   ],
   "cell_type": "markdown",
   "metadata": {}
  },
  {
   "cell_type": "code",
   "execution_count": null,
   "metadata": {},
   "outputs": [],
   "source": [
    "patch_size = 350\n",
    "background_percentage = 0.95"
   ]
  },
  {
   "cell_type": "code",
   "execution_count": null,
   "metadata": {},
   "outputs": [],
   "source": [
    "training_split = 0.7\n",
    "n_suspicious_training = int(training_split*len(suspicious_paths_1))+1\n",
    "n_normal_training = int(training_split*len(normal_paths))+1"
   ]
  },
  {
   "cell_type": "code",
   "execution_count": null,
   "metadata": {},
   "outputs": [],
   "source": [
    "suspicious_training_path_list = suspicious_paths_1[:n_suspicious_training]\n",
    "suspicious_validation_path_list = suspicious_paths_1[n_suspicious_training:]\n",
    "normal_training_path_list = normal_paths[:n_normal_training]\n",
    "normal_validation_path_list = normal_paths[n_normal_training:]"
   ]
  },
  {
   "source": [
    "patching_type = 'random'"
   ],
   "cell_type": "code",
   "metadata": {},
   "execution_count": null,
   "outputs": []
  },
  {
   "cell_type": "code",
   "execution_count": null,
   "metadata": {
    "tags": [
     "outputPrepend"
    ]
   },
   "outputs": [],
   "source": [
    "save_filename_folder = 'patches/R_350_patches/training_data/suspicious/'\n",
    "patching.save_patches(suspicious_training_path_list,patch_size,background_percentage,save_filename_folder,patching_type)"
   ]
  },
  {
   "cell_type": "code",
   "execution_count": null,
   "metadata": {
    "tags": [
     "outputPrepend"
    ]
   },
   "outputs": [],
   "source": [
    "save_filename_folder = 'patches/R_350_patches/validation_data/suspicious/'\n",
    "patching.save_patches(suspicious_validation_path_list,patch_size,background_percentage,save_filename_folder,patching_type)"
   ]
  },
  {
   "cell_type": "code",
   "execution_count": null,
   "metadata": {
    "tags": [
     "outputPrepend"
    ]
   },
   "outputs": [],
   "source": [
    "save_filename_folder = 'patches/R_350_patches/training_data/normal/'\n",
    "patching.save_patches(normal_training_path_list,patch_size,background_percentage,save_filename_folder,patching_type)"
   ]
  },
  {
   "cell_type": "code",
   "execution_count": null,
   "metadata": {
    "tags": [
     "outputPrepend"
    ]
   },
   "outputs": [],
   "source": [
    "save_filename_folder = 'patches/R_350_patches/validation_data/normal/'\n",
    "patching.save_patches(normal_validation_path_list,patch_size,background_percentage,save_filename_folder,patching_type)"
   ]
  },
  {
   "cell_type": "code",
   "execution_count": null,
   "metadata": {},
   "outputs": [],
   "source": []
  }
 ]
}