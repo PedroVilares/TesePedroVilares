{
 "cells": [
  {
   "cell_type": "markdown",
   "metadata": {},
   "source": [
    "# 1. Packages <a class=\"anchor\" id=\"id1\"></a>"
   ]
  },
  {
   "cell_type": "code",
   "execution_count": 1,
   "metadata": {},
   "outputs": [
    {
     "output_type": "error",
     "ename": "ModuleNotFoundError",
     "evalue": "No module named 'BCDR_utils'",
     "traceback": [
      "\u001b[1;31m---------------------------------------------------------------------------\u001b[0m",
      "\u001b[1;31mModuleNotFoundError\u001b[0m                       Traceback (most recent call last)",
      "\u001b[1;32m<ipython-input-1-24c67a0da4d2>\u001b[0m in \u001b[0;36m<module>\u001b[1;34m\u001b[0m\n\u001b[0;32m      6\u001b[0m \u001b[1;33m\u001b[0m\u001b[0m\n\u001b[0;32m      7\u001b[0m \u001b[1;31m#.py files\u001b[0m\u001b[1;33m\u001b[0m\u001b[1;33m\u001b[0m\u001b[1;33m\u001b[0m\u001b[0m\n\u001b[1;32m----> 8\u001b[1;33m \u001b[1;32mimport\u001b[0m \u001b[0mBCDR_utils\u001b[0m \u001b[1;32mas\u001b[0m \u001b[0mutils\u001b[0m\u001b[1;33m\u001b[0m\u001b[1;33m\u001b[0m\u001b[0m\n\u001b[0m\u001b[0;32m      9\u001b[0m \u001b[1;32mimport\u001b[0m \u001b[0mlesion_patching\u001b[0m \u001b[1;32mas\u001b[0m \u001b[0mpatches\u001b[0m\u001b[1;33m\u001b[0m\u001b[1;33m\u001b[0m\u001b[0m\n\u001b[0;32m     10\u001b[0m \u001b[1;32mimport\u001b[0m \u001b[0mgenerate_data\u001b[0m \u001b[1;32mas\u001b[0m \u001b[0mgenerator\u001b[0m\u001b[1;33m\u001b[0m\u001b[1;33m\u001b[0m\u001b[0m\n",
      "\u001b[1;31mModuleNotFoundError\u001b[0m: No module named 'BCDR_utils'"
     ]
    }
   ],
   "source": [
    "import numpy as np\n",
    "import imageio as io\n",
    "import pandas as pd\n",
    "import matplotlib.pyplot as plt\n",
    "\n",
    "\n",
    "#.py files\n",
    "import BCDR_utils as utils\n",
    "import lesion_patching as patches\n",
    "import generate_data as generator"
   ]
  },
  {
   "cell_type": "markdown",
   "metadata": {},
   "source": [
    "# 2. CSV Data <a class=\"anchor\" id=\"id2\"></a>"
   ]
  },
  {
   "source": [
    "### 3.1. BCDR Dataset 1<a class=\"anchor\" id=\"id3.1\"></a>"
   ],
   "cell_type": "markdown",
   "metadata": {}
  },
  {
   "cell_type": "code",
   "execution_count": null,
   "metadata": {},
   "outputs": [],
   "source": [
    "bcdr1_raw = pd.read_csv('BCDR-D01_dataset/bcdr_d01_img.csv')\n",
    "bcdr1_raw= patches.fix_view(bcdr1_raw,'image_type_name')\n",
    "bcdr1_features_raw = pd.read_csv('BCDR-D01_dataset/bcdr_d01_features.csv')\n",
    "print('Suspicious Dataset Nº 1: ',bcdr1_raw.shape)\n",
    "bcdr1_features_raw.head(5)"
   ]
  },
  {
   "cell_type": "markdown",
   "metadata": {},
   "source": [
    "### 3.3. BCDR Dataset 2  <a class=\"anchor\" id=\"id3.2\"></a>"
   ]
  },
  {
   "cell_type": "code",
   "execution_count": null,
   "metadata": {},
   "outputs": [],
   "source": [
    "bcdr2_raw = pd.read_csv('BCDR-D02_dataset/bcdr_d02_img.csv')\n",
    "bcdr2_raw= patches.fix_view(bcdr2_raw,'image_type_name')\n",
    "bcdr2_features_raw = pd.read_csv('BCDR-D02_dataset/bcdr_d02_features.csv')\n",
    "print('Suspicious Dataset Nº 2: ',bcdr2_raw.shape)\n",
    "bcdr2_raw.head(5)"
   ]
  },
  {
   "source": [
    "## Lesion Center and Area"
   ],
   "cell_type": "markdown",
   "metadata": {}
  },
  {
   "cell_type": "code",
   "execution_count": null,
   "metadata": {},
   "outputs": [],
   "source": [
    "bcdr1 = bcdr1_raw[['patient_id','study_id','image_filename','image_type_name']]\n",
    "bcdr1_features= bcdr1_features_raw[['patient_id','study_id','image_view','s_x_center_mass','s_y_center_mass','s_area']]\n",
    "\n",
    "bcdr1_final = patches.merge_csv(bcdr1_features,bcdr1)"
   ]
  },
  {
   "cell_type": "code",
   "execution_count": null,
   "metadata": {},
   "outputs": [],
   "source": [
    "bcdr2 = bcdr2_raw[['patient_id','study_id','image_filename','image_type_name']]\n",
    "bcdr2_features= bcdr2_features_raw[['patient_id','study_id','image_view','s_x_center_mass','s_y_center_mass','s_area']]\n",
    "\n",
    "bcdr2_final = patches.merge_csv(bcdr2_features,bcdr2)"
   ]
  },
  {
   "source": [
    "## Tiff Paths"
   ],
   "cell_type": "markdown",
   "metadata": {}
  },
  {
   "cell_type": "code",
   "execution_count": null,
   "metadata": {},
   "outputs": [],
   "source": [
    "broken_paths_1= []\n",
    "for path in bcdr1_final['image_filename']:\n",
    "    broken_paths_1.append('BCDR-D01_dataset/'+path)\n",
    "suspicious_paths_1_tif = utils.fix_path(broken_paths_1)\n",
    "\n",
    "suspicious_paths_1= generator.convert(suspicious_paths_1_tif)"
   ]
  },
  {
   "cell_type": "code",
   "execution_count": null,
   "metadata": {},
   "outputs": [],
   "source": [
    "suspicious_broken_paths_2= []\n",
    "for path in bcdr2_final['image_filename']:\n",
    "    suspicious_broken_paths_2.append('BCDR-D02_dataset/'+path)\n",
    "suspicious_paths_2_tif = utils.fix_path(suspicious_broken_paths_2)\n",
    "\n",
    "suspicious_paths_2 = generator.convert(suspicious_paths_2_tif)"
   ]
  },
  {
   "cell_type": "code",
   "execution_count": null,
   "metadata": {},
   "outputs": [],
   "source": [
    "#bcdr1_final.head(50)"
   ]
  },
  {
   "source": [
    "## Lesion Patching"
   ],
   "cell_type": "markdown",
   "metadata": {}
  },
  {
   "cell_type": "code",
   "execution_count": null,
   "metadata": {},
   "outputs": [],
   "source": [
    "path_to_patches_1,unsaved_patches_1 = patches.patching_lesions(bcdr1_final,suspicious_paths_1)"
   ]
  },
  {
   "cell_type": "code",
   "execution_count": null,
   "metadata": {},
   "outputs": [],
   "source": [
    "path_to_patches_2,unsaved_patches_2 = patches.patching_lesions(bcdr2_final,suspicious_paths_2)"
   ]
  },
  {
   "source": [
    "## Unsaved Patches?"
   ],
   "cell_type": "markdown",
   "metadata": {}
  },
  {
   "cell_type": "code",
   "execution_count": null,
   "metadata": {},
   "outputs": [],
   "source": []
  },
  {
   "source": [
    "## Amostra de Lesion Patching"
   ],
   "cell_type": "markdown",
   "metadata": {}
  },
  {
   "cell_type": "code",
   "execution_count": null,
   "metadata": {},
   "outputs": [],
   "source": [
    "patient = 20"
   ]
  },
  {
   "cell_type": "code",
   "execution_count": null,
   "metadata": {},
   "outputs": [],
   "source": [
    "a= np.asarray(io.imread(suspicious_paths_1[patient]))\n",
    "x= a.shape[1]*bcdr1_features.loc[patient,'s_x_center_mass']\n",
    "y= a.shape[0]*bcdr1_features.loc[patient,'s_y_center_mass']"
   ]
  },
  {
   "cell_type": "code",
   "execution_count": null,
   "metadata": {},
   "outputs": [],
   "source": [
    "i=plt.imshow(a,cmap=\"gray\")\n",
    "plt.scatter(x,y,c='r')\n",
    "plt.show()"
   ]
  },
  {
   "cell_type": "code",
   "execution_count": null,
   "metadata": {},
   "outputs": [],
   "source": [
    "center_lesion = (int(round(x)),int(round(y)))\n",
    "area_lesion = bcdr1_features.loc[patient,'s_area']\n",
    "side_lesion = int(round(np.sqrt(area_lesion)/2)+25)"
   ]
  },
  {
   "cell_type": "code",
   "execution_count": null,
   "metadata": {},
   "outputs": [],
   "source": [
    "patch = a[center_lesion[1]-side_lesion:center_lesion[1]+side_lesion,center_lesion[0]-side_lesion:center_lesion[0]+side_lesion]"
   ]
  },
  {
   "cell_type": "code",
   "execution_count": null,
   "metadata": {},
   "outputs": [],
   "source": [
    "plt.imshow(patch)"
   ]
  },
  {
   "source": [
    "## Generating Patches"
   ],
   "cell_type": "markdown",
   "metadata": {}
  },
  {
   "cell_type": "code",
   "execution_count": null,
   "metadata": {},
   "outputs": [],
   "source": []
  },
  {
   "cell_type": "code",
   "execution_count": null,
   "metadata": {},
   "outputs": [],
   "source": []
  },
  {
   "cell_type": "markdown",
   "metadata": {},
   "source": [
    "## Building Normal vs Suspicious Dataframes"
   ]
  },
  {
   "cell_type": "code",
   "execution_count": null,
   "metadata": {},
   "outputs": [],
   "source": [
    "bcdr_normal = pd.DataFrame({'paths':normal_paths,'labels':'Normal'})"
   ]
  },
  {
   "cell_type": "code",
   "execution_count": null,
   "metadata": {
    "tags": []
   },
   "outputs": [],
   "source": [
    "#suspicious_dfs = [pd.DataFrame({'paths':suspicious_paths_1,'labels':'Suspicious'}),pd.DataFrame({'paths':suspicious_paths_2,'labels':'Suspicious'})]\n",
    "\n",
    "#bcdr_suspicious = pd.concat(suspicious_dfs,ignore_index=True)"
   ]
  },
  {
   "cell_type": "code",
   "execution_count": null,
   "metadata": {},
   "outputs": [],
   "source": [
    "bcdr_suspicious = pd.DataFrame({'paths':suspicious_paths_1,'labels':'Suspicious'})"
   ]
  },
  {
   "cell_type": "markdown",
   "metadata": {},
   "source": [
    "## Building Training vs Validation Dataframes"
   ]
  },
  {
   "cell_type": "code",
   "execution_count": null,
   "metadata": {},
   "outputs": [],
   "source": [
    "validation_split=0.2\n",
    "validation_images = round(0.2*(bcdr_normal.shape[0]+bcdr_suspicious.shape[0]))\n",
    "print('Validation Images: ',round(validation_images))"
   ]
  },
  {
   "source": [
    "### Starts IEETA"
   ],
   "cell_type": "markdown",
   "metadata": {}
  },
  {
   "cell_type": "code",
   "execution_count": null,
   "metadata": {},
   "outputs": [],
   "source": [
    "validation_suspicious = bcdr_suspicious[:round((validation_images/2))]\n",
    "validation_normal = bcdr_normal[:round((validation_images/2))]\n",
    "training_suspicious = bcdr_suspicious[round(validation_images/2):]\n",
    "training_normal = bcdr_normal[round(validation_images/2):]"
   ]
  },
  {
   "source": [
    "### Ends IEETA"
   ],
   "cell_type": "markdown",
   "metadata": {}
  },
  {
   "cell_type": "code",
   "execution_count": null,
   "metadata": {},
   "outputs": [],
   "source": [
    "validation_df = pd.concat([\n",
    "    bcdr_suspicious[:round((validation_images/2))],\n",
    "    bcdr_normal[:round((validation_images/2))]],\n",
    "    ignore_index=True)"
   ]
  },
  {
   "cell_type": "code",
   "execution_count": null,
   "metadata": {},
   "outputs": [],
   "source": [
    "training_df = pd.concat([\n",
    "    bcdr_suspicious[round(validation_images/2):],\n",
    "    bcdr_normal[round(validation_images/2):]],\n",
    "    ignore_index=True)"
   ]
  },
  {
   "cell_type": "markdown",
   "metadata": {},
   "source": [
    "## Batching Data"
   ]
  },
  {
   "cell_type": "code",
   "execution_count": null,
   "metadata": {},
   "outputs": [],
   "source": [
    "target_size_1 = 2500\n",
    "target_size_2 = 2000\n",
    "batch_size = 16"
   ]
  },
  {
   "cell_type": "code",
   "execution_count": null,
   "metadata": {},
   "outputs": [],
   "source": [
    "training_generator = generator.generate(training_df,target_size_1,target_size_2,batch_size,c_mode='grayscale')\n",
    "validation_generator = generator.generate(validation_df,target_size_1,target_size_2,batch_size,c_mode='grayscale')"
   ]
  },
  {
   "source": [
    "### Starts IEETA"
   ],
   "cell_type": "markdown",
   "metadata": {}
  },
  {
   "cell_type": "code",
   "execution_count": null,
   "metadata": {},
   "outputs": [],
   "source": [
    "validation_suspicious_generator = generator.generate_and_save(validation_suspicious,target_size_1,target_size_2,batch_size,'grayscale',\"D:/BCDR/Full Mamografies/validation_data/suspicious\")\n",
    "validation_normal_generator = generator.generate_and_save(validation_normal,target_size_1,target_size_2,batch_size,'grayscale',\"D:/BCDR/Full Mamografies/validation_data/normal\")\n",
    "training_suspicious_generator = generator.generate_and_save(training_suspicious,target_size_1,target_size_2,batch_size,'grayscale',\"D:/BCDR/Full Mamografies/training_data/suspicious\")\n",
    "training_normal_generator = generator.generate_and_save(training_normal,target_size_1,target_size_2,batch_size,'grayscale',\"D:/BCDR/Full Mamografies/training_data/normal\")"
   ]
  },
  {
   "cell_type": "code",
   "execution_count": null,
   "metadata": {},
   "outputs": [],
   "source": [
    "for i in range(len(validation_suspicious_generator)):\n",
    "    validation_suspicious_generator[i]"
   ]
  },
  {
   "cell_type": "code",
   "execution_count": null,
   "metadata": {},
   "outputs": [],
   "source": [
    "for i in range(len(validation_normal_generator)):\n",
    "    validation_normal_generator[i]"
   ]
  },
  {
   "cell_type": "code",
   "execution_count": null,
   "metadata": {},
   "outputs": [],
   "source": [
    "for i in range(len(training_normal_generator)):\n",
    "    print(i)\n",
    "    training_normal_generator[i]"
   ]
  },
  {
   "cell_type": "code",
   "execution_count": null,
   "metadata": {
    "tags": []
   },
   "outputs": [],
   "source": [
    "for i in range(len(training_suspicious_generator)):\n",
    "    print(i)\n",
    "    training_suspicious_generator[i]"
   ]
  },
  {
   "source": [
    "### Ends IEETA"
   ],
   "cell_type": "markdown",
   "metadata": {}
  }
 ],
 "metadata": {
  "kernelspec": {
   "name": "python3",
   "display_name": "Python 3.7.6 64-bit (conda)",
   "metadata": {
    "interpreter": {
     "hash": "66c06bc2ee02d0626a5e4113814e582df1fd7a3f49750ed90ecf0f9636802fa3"
    }
   }
  },
  "language_info": {
   "codemirror_mode": {
    "name": "ipython",
    "version": 3
   },
   "file_extension": ".py",
   "mimetype": "text/x-python",
   "name": "python",
   "nbconvert_exporter": "python",
   "pygments_lexer": "ipython3",
   "version": "3.7.6-final"
  }
 },
 "nbformat": 4,
 "nbformat_minor": 2
}