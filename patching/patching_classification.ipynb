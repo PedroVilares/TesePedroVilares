{
 "metadata": {
  "language_info": {
   "codemirror_mode": {
    "name": "ipython",
    "version": 3
   },
   "file_extension": ".py",
   "mimetype": "text/x-python",
   "name": "python",
   "nbconvert_exporter": "python",
   "pygments_lexer": "ipython3",
   "version": "3.7.6-final"
  },
  "orig_nbformat": 2,
  "kernelspec": {
   "name": "python3",
   "display_name": "Python 3",
   "language": "python"
  }
 },
 "nbformat": 4,
 "nbformat_minor": 2,
 "cells": [
  {
   "cell_type": "code",
   "execution_count": null,
   "metadata": {},
   "outputs": [],
   "source": [
    "import keras\n",
    "import numpy as np\n",
    "from keras import callbacks,optimizers,losses\n",
    "from sklearn.metrics import roc_curve,roc_auc_score\n",
    "import matplotlib.pyplot as plt\n",
    "import pandas as pd\n",
    "\n",
    "#.py files\n",
    "import generate_data as generator\n",
    "import models as model_builder"
   ]
  },
  {
   "source": [
    "# Classification"
   ],
   "cell_type": "markdown",
   "metadata": {}
  },
  {
   "cell_type": "code",
   "execution_count": null,
   "metadata": {},
   "outputs": [],
   "source": [
    "optimizer= optimizers.Adam(learning_rate=5e-5)\n",
    "loss_function= losses.BinaryCrossentropy()\n",
    "metrics=['binary_accuracy']\n",
    "epochs= 50\n",
    "steps_per_epoch = 10\n",
    "fit_callbacks = [\n",
    "    #callbacks.EarlyStopping(\n",
    "     #   monitor= 'val_accuracy',\n",
    "      #  min_delta= 0.1,\n",
    "       # patience= 15, \n",
    "        #restore_best_weights= True),\n",
    "    callbacks.CSVLogger(\n",
    "        filename= 'BCDR Patching Training Results',\n",
    "        separator=\",\", \n",
    "        append=True)\n",
    "]"
   ]
  },
  {
   "source": [
    "## Sistematic 350"
   ],
   "cell_type": "markdown",
   "metadata": {}
  },
  {
   "cell_type": "code",
   "execution_count": null,
   "metadata": {},
   "outputs": [],
   "source": [
    "patch_size = 250\n",
    "batch_size = 128"
   ]
  },
  {
   "cell_type": "code",
   "execution_count": null,
   "metadata": {},
   "outputs": [],
   "source": [
    "training_data = generator.generate_patch_data('S_350_patches/train',patch_size,patch_size,batch_size,'grayscale')\n",
    "validation_data = generator.generate_patch_data('S_350_patches/validation',patch_size,patch_size,batch_size,'grayscale')"
   ]
  },
  {
   "cell_type": "code",
   "execution_count": null,
   "metadata": {},
   "outputs": [],
   "source": [
    "model = model_builder.create_patch_model(patch_size,patch_size)\n",
    "model.summary()"
   ]
  },
  {
   "cell_type": "code",
   "execution_count": null,
   "metadata": {},
   "outputs": [],
   "source": [
    "trained_model = model_builder.train_model(model,optimizer,loss_function,metrics,epochs,steps_per_epoch,training_data,validation_data,fit_callbacks)"
   ]
  },
  {
   "source": [
    "## Random 350"
   ],
   "cell_type": "markdown",
   "metadata": {}
  },
  {
   "cell_type": "code",
   "execution_count": null,
   "metadata": {},
   "outputs": [],
   "source": [
    "patch_size = 350\n",
    "batch_size = 128"
   ]
  },
  {
   "cell_type": "code",
   "execution_count": null,
   "metadata": {},
   "outputs": [],
   "source": [
    "training_data = generator.generate_patch_data('R_350_patches/train',patch_size,patch_size,batch_size,'grayscale')\n",
    "validation_data = generator.generate_patch_data('R_350_patches/validation',patch_size,patch_size,batch_size,'grayscale')"
   ]
  },
  {
   "cell_type": "code",
   "execution_count": null,
   "metadata": {},
   "outputs": [],
   "source": [
    "model = model_builder.create_patch_model(patch_size,patch_size)\n",
    "model.summary()"
   ]
  },
  {
   "cell_type": "code",
   "execution_count": null,
   "metadata": {},
   "outputs": [],
   "source": [
    "trained_model = model_builder.train_model(model,optimizer,loss_function,metrics,epochs,steps_per_epoch,training_data,validation_data,fit_callbacks)"
   ]
  },
  {
   "source": [
    "## Sistematic 300"
   ],
   "cell_type": "markdown",
   "metadata": {}
  },
  {
   "cell_type": "code",
   "execution_count": null,
   "metadata": {},
   "outputs": [],
   "source": [
    "patch_size = 300\n",
    "batch_size = 256"
   ]
  },
  {
   "cell_type": "code",
   "execution_count": null,
   "metadata": {},
   "outputs": [],
   "source": [
    "training_data = generator.generate_patch_data('S_300_patches/train',patch_size,patch_size,batch_size,'grayscale')\n",
    "validation_data = generator.generate_patch_data('S_300_patches/validation',patch_size,patch_size,batch_size,'grayscale')"
   ]
  },
  {
   "cell_type": "code",
   "execution_count": null,
   "metadata": {},
   "outputs": [],
   "source": [
    "model = model_builder.create_patch_model(patch_size,patch_size)\n",
    "model.summary()"
   ]
  },
  {
   "cell_type": "code",
   "execution_count": null,
   "metadata": {},
   "outputs": [],
   "source": [
    "trained_model = model_builder.train_model(model,optimizer,loss_function,metrics,epochs,steps_per_epoch,training_data,validation_data,fit_callbacks)"
   ]
  },
  {
   "source": [
    "## Random 300"
   ],
   "cell_type": "markdown",
   "metadata": {}
  },
  {
   "cell_type": "code",
   "execution_count": null,
   "metadata": {},
   "outputs": [],
   "source": [
    "patch_size = 300\n",
    "batch_size = 256"
   ]
  },
  {
   "cell_type": "code",
   "execution_count": null,
   "metadata": {},
   "outputs": [],
   "source": [
    "training_data = generator.generate_patch_data('R_300_patches/train',patch_size,patch_size,batch_size,'grayscale')\n",
    "validation_data = generator.generate_patch_data('R_300_patches/validation',patch_size,patch_size,batch_size,'grayscale')"
   ]
  },
  {
   "cell_type": "code",
   "execution_count": null,
   "metadata": {},
   "outputs": [],
   "source": [
    "model = model_builder.create_patch_model(patch_size,patch_size)\n",
    "model.summary()"
   ]
  },
  {
   "cell_type": "code",
   "execution_count": null,
   "metadata": {},
   "outputs": [],
   "source": [
    "trained_model = model_builder.train_model(model,optimizer,loss_function,metrics,epochs,steps_per_epoch,training_data,validation_data,fit_callbacks)"
   ]
  },
  {
   "source": [
    "## Sistematic 250"
   ],
   "cell_type": "markdown",
   "metadata": {}
  },
  {
   "cell_type": "code",
   "execution_count": null,
   "metadata": {},
   "outputs": [],
   "source": [
    "patch_size = 250\n",
    "batch_size = 256"
   ]
  },
  {
   "cell_type": "code",
   "execution_count": null,
   "metadata": {},
   "outputs": [],
   "source": [
    "training_data = generator.generate_patch_data('S_250_patches/train',patch_size,patch_size,batch_size,'grayscale')\n",
    "validation_data = generator.generate_patch_data('S_250_patches/validation',patch_size,patch_size,batch_size,'grayscale')"
   ]
  },
  {
   "cell_type": "code",
   "execution_count": null,
   "metadata": {},
   "outputs": [],
   "source": [
    "model = model_builder.create_patch_model(patch_size,patch_size)\n",
    "model.summary()"
   ]
  },
  {
   "cell_type": "code",
   "execution_count": null,
   "metadata": {},
   "outputs": [],
   "source": [
    "trained_model = model_builder.train_model(model,optimizer,loss_function,metrics,epochs,steps_per_epoch,training_data,validation_data,fit_callbacks)"
   ]
  },
  {
   "source": [
    "## Random 250"
   ],
   "cell_type": "markdown",
   "metadata": {}
  },
  {
   "cell_type": "code",
   "execution_count": null,
   "metadata": {},
   "outputs": [],
   "source": [
    "patch_size = 250\n",
    "batch_size = 128"
   ]
  },
  {
   "cell_type": "code",
   "execution_count": null,
   "metadata": {},
   "outputs": [],
   "source": [
    "training_data = generator.generate_patch_data('R_250_patches/training_data',patch_size,patch_size,batch_size,'grayscale')\n",
    "validation_data = generator.generate_patch_data('R_250_patches/validation_data',patch_size,patch_size,batch_size,'grayscale')"
   ]
  },
  {
   "cell_type": "code",
   "execution_count": null,
   "metadata": {},
   "outputs": [],
   "source": [
    "model = model_builder.create_patch_model(patch_size,patch_size)\n",
    "model.summary()"
   ]
  },
  {
   "cell_type": "code",
   "execution_count": null,
   "metadata": {},
   "outputs": [],
   "source": [
    "trained_model = model_builder.train_model(model,optimizer,loss_function,metrics,epochs,steps_per_epoch,training_data,validation_data,fit_callbacks)"
   ]
  },
  {
   "source": [
    "## Transfer Learning"
   ],
   "cell_type": "markdown",
   "metadata": {}
  },
  {
   "cell_type": "code",
   "execution_count": null,
   "metadata": {},
   "outputs": [],
   "source": [
    "patch_size = 300\n",
    "batch_size = 128"
   ]
  },
  {
   "cell_type": "code",
   "execution_count": null,
   "metadata": {},
   "outputs": [],
   "source": [
    "training_data = generator.generate_patch_data('D:/Lesion-Based/training_data',patch_size,patch_size,batch_size,'rgb')\n",
    "validation_data = generator.generate_patch_data('D:/Lesion-Based/validation_data',patch_size,patch_size,batch_size,'rgb')"
   ]
  },
  {
   "cell_type": "code",
   "execution_count": null,
   "metadata": {},
   "outputs": [],
   "source": [
    "vgg_model = keras.applications.VGG19(include_top=False,weights='imagenet',input_shape=(patch_size,patch_size,3))\n",
    "vgg_model.trainable=False"
   ]
  },
  {
   "cell_type": "code",
   "execution_count": null,
   "metadata": {},
   "outputs": [],
   "source": [
    "model = keras.models.Sequential()\n",
    "model.add(vgg_model)\n",
    "model.add(keras.layers.Flatten())\n",
    "model.add(keras.layers.Dense(1, activation='sigmoid'))\n",
    "model.summary()"
   ]
  },
  {
   "cell_type": "code",
   "execution_count": null,
   "metadata": {},
   "outputs": [],
   "source": [
    "trained_model = model_builder.train_transferred_model(model,optimizer,loss_function,metrics,epochs,steps_per_epoch,training_data,validation_data,fit_callbacks)"
   ]
  },
  {
   "cell_type": "code",
   "execution_count": null,
   "metadata": {},
   "outputs": [],
   "source": []
  },
  {
   "cell_type": "code",
   "execution_count": null,
   "metadata": {},
   "outputs": [],
   "source": [
    "y_true= []\n",
    "for i in range(len(validation_data)):\n",
    "    for n in range(len(validation_data[i][1])):\n",
    "        y_true.append(validation_data[i][1][n])\n",
    "print(y_true)"
   ]
  },
  {
   "cell_type": "code",
   "execution_count": null,
   "metadata": {},
   "outputs": [],
   "source": [
    "ypred= model.predict(validation_data)"
   ]
  },
  {
   "cell_type": "code",
   "execution_count": null,
   "metadata": {},
   "outputs": [],
   "source": [
    "y_pred=[]\n",
    "for i in range(len(ypred)):\n",
    "    y_pred.append(ypred[i][0])"
   ]
  },
  {
   "cell_type": "code",
   "execution_count": null,
   "metadata": {},
   "outputs": [],
   "source": [
    "predictions = pd.DataFrame({'ground truth':y_true,'predictions':y_pred})"
   ]
  },
  {
   "cell_type": "code",
   "execution_count": null,
   "metadata": {},
   "outputs": [],
   "source": [
    "fpr,tpr,_= roc_curve(y_true,y_pred)"
   ]
  },
  {
   "cell_type": "code",
   "execution_count": null,
   "metadata": {},
   "outputs": [],
   "source": [
    "print('AUC: ',roc_auc_score(y_true,y_pred))"
   ]
  },
  {
   "cell_type": "code",
   "execution_count": null,
   "metadata": {},
   "outputs": [],
   "source": [
    "plt.plot(fpr,tpr)"
   ]
  },
  {
   "cell_type": "code",
   "execution_count": null,
   "metadata": {},
   "outputs": [],
   "source": [
    "print(validation_data[0][1])"
   ]
  },
  {
   "cell_type": "code",
   "execution_count": null,
   "metadata": {},
   "outputs": [],
   "source": []
  }
 ]
}