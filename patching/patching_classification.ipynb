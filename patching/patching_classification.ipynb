{
 "metadata": {
  "language_info": {
   "codemirror_mode": {
    "name": "ipython",
    "version": 3
   },
   "file_extension": ".py",
   "mimetype": "text/x-python",
   "name": "python",
   "nbconvert_exporter": "python",
   "pygments_lexer": "ipython3",
   "version": "3.7.6-final"
  },
  "orig_nbformat": 2,
  "kernelspec": {
   "name": "python3",
   "display_name": "Python 3"
  }
 },
 "nbformat": 4,
 "nbformat_minor": 2,
 "cells": [
  {
   "cell_type": "code",
   "execution_count": 1,
   "metadata": {},
   "outputs": [
    {
     "output_type": "stream",
     "name": "stderr",
     "text": [
      "Using TensorFlow backend.\n"
     ]
    }
   ],
   "source": [
    "from keras import callbacks,optimizers,losses\n",
    "from sklearn.metrics import roc_curve,roc_auc_score\n",
    "import matplotlib.pyplot as plt\n",
    "import pandas as pd\n",
    "\n",
    "#.py files\n",
    "import generate_data as generator\n",
    "import models as model_builder"
   ]
  },
  {
   "source": [
    "# Classification"
   ],
   "cell_type": "markdown",
   "metadata": {}
  },
  {
   "cell_type": "code",
   "execution_count": 2,
   "metadata": {},
   "outputs": [],
   "source": [
    "patch_size = 200\n",
    "batch_size = 256"
   ]
  },
  {
   "cell_type": "code",
   "execution_count": 3,
   "metadata": {},
   "outputs": [
    {
     "output_type": "stream",
     "name": "stdout",
     "text": [
      "Found 33340 images belonging to 2 classes.\n",
      "Found 7957 images belonging to 2 classes.\n"
     ]
    }
   ],
   "source": [
    "training_data = generator.generate_patch_data('patches/train',patch_size,patch_size,batch_size,'grayscale')\n",
    "validation_data = generator.generate_patch_data('patches/validation',patch_size,patch_size,batch_size,'grayscale')"
   ]
  },
  {
   "cell_type": "code",
   "execution_count": 4,
   "metadata": {},
   "outputs": [],
   "source": [
    "optimizer= optimizers.Adam(learning_rate=5e-5)\n",
    "loss_function= losses.BinaryCrossentropy()\n",
    "metrics=['binary_accuracy']\n",
    "epochs= 100\n",
    "steps_per_epoch = 50\n",
    "fit_callbacks = [\n",
    "    callbacks.EarlyStopping(\n",
    "        monitor= 'val_accuracy',\n",
    "        min_delta= 0.01,\n",
    "        patience= 5, \n",
    "        restore_best_weights= True),\n",
    "    callbacks.CSVLogger(\n",
    "        filename= 'BCDR Patching Training Parameters',\n",
    "        separator=\",\", \n",
    "        append=False)\n",
    "]"
   ]
  },
  {
   "cell_type": "code",
   "execution_count": 5,
   "metadata": {},
   "outputs": [
    {
     "output_type": "stream",
     "name": "stdout",
     "text": [
      "Model: \"sequential_1\"\n_________________________________________________________________\nLayer (type)                 Output Shape              Param #   \n=================================================================\nconv2d_1 (Conv2D)            (None, 198, 198, 16)      160       \n_________________________________________________________________\nmax_pooling2d_1 (MaxPooling2 (None, 99, 99, 16)        0         \n_________________________________________________________________\nconv2d_2 (Conv2D)            (None, 97, 97, 32)        4640      \n_________________________________________________________________\nmax_pooling2d_2 (MaxPooling2 (None, 48, 48, 32)        0         \n_________________________________________________________________\nconv2d_3 (Conv2D)            (None, 46, 46, 64)        18496     \n_________________________________________________________________\nmax_pooling2d_3 (MaxPooling2 (None, 23, 23, 64)        0         \n_________________________________________________________________\nconv2d_4 (Conv2D)            (None, 21, 21, 128)       73856     \n_________________________________________________________________\nconv2d_5 (Conv2D)            (None, 19, 19, 128)       147584    \n_________________________________________________________________\nmax_pooling2d_4 (MaxPooling2 (None, 9, 9, 128)         0         \n_________________________________________________________________\nflatten_1 (Flatten)          (None, 10368)             0         \n_________________________________________________________________\ndense_1 (Dense)              (None, 300)               3110700   \n_________________________________________________________________\ndropout_1 (Dropout)          (None, 300)               0         \n_________________________________________________________________\ndense_2 (Dense)              (None, 300)               90300     \n_________________________________________________________________\ndense_3 (Dense)              (None, 1)                 301       \n=================================================================\nTotal params: 3,446,037\nTrainable params: 3,446,037\nNon-trainable params: 0\n_________________________________________________________________\n"
     ]
    }
   ],
   "source": [
    "model = model_builder.create_patch_model(patch_size,patch_size)\n",
    "model.summary()"
   ]
  },
  {
   "cell_type": "code",
   "execution_count": 6,
   "metadata": {},
   "outputs": [
    {
     "output_type": "stream",
     "name": "stdout",
     "text": [
      "Epoch 1/100\n",
      "50/50 [==============================] - 1023s 20s/step - loss: 0.9892 - binary_accuracy: 0.5198 - val_loss: 0.7341 - val_binary_accuracy: 0.4930\n",
      "Epoch 2/100\n",
      "50/50 [==============================] - 496s 10s/step - loss: 0.7025 - binary_accuracy: 0.5480 - val_loss: 0.7199 - val_binary_accuracy: 0.4933\n",
      "Epoch 3/100\n",
      "50/50 [==============================] - 415s 8s/step - loss: 0.6936 - binary_accuracy: 0.5567 - val_loss: 0.7218 - val_binary_accuracy: 0.4929\n",
      "Epoch 4/100\n",
      "50/50 [==============================] - 139s 3s/step - loss: 0.6870 - binary_accuracy: 0.5657 - val_loss: 0.7108 - val_binary_accuracy: 0.4954\n",
      "Epoch 5/100\n",
      "50/50 [==============================] - 141s 3s/step - loss: 0.6844 - binary_accuracy: 0.5706 - val_loss: 0.7212 - val_binary_accuracy: 0.4972\n",
      "Epoch 6/100\n",
      "50/50 [==============================] - 141s 3s/step - loss: 0.6830 - binary_accuracy: 0.5730 - val_loss: 0.7085 - val_binary_accuracy: 0.4997\n",
      "Epoch 7/100\n",
      "50/50 [==============================] - 141s 3s/step - loss: 0.6802 - binary_accuracy: 0.5777 - val_loss: 0.7173 - val_binary_accuracy: 0.4965\n",
      "Epoch 8/100\n",
      "50/50 [==============================] - 137s 3s/step - loss: 0.6784 - binary_accuracy: 0.5770 - val_loss: 0.7780 - val_binary_accuracy: 0.4964\n",
      "Epoch 9/100\n",
      "50/50 [==============================] - 141s 3s/step - loss: 0.6779 - binary_accuracy: 0.5780 - val_loss: 0.6836 - val_binary_accuracy: 0.4963\n",
      "Epoch 10/100\n",
      "50/50 [==============================] - 141s 3s/step - loss: 0.6778 - binary_accuracy: 0.5809 - val_loss: 0.6893 - val_binary_accuracy: 0.5035\n",
      "Epoch 11/100\n",
      "50/50 [==============================] - 140s 3s/step - loss: 0.6738 - binary_accuracy: 0.5849 - val_loss: 0.7312 - val_binary_accuracy: 0.5052\n",
      "Epoch 12/100\n",
      "50/50 [==============================] - 139s 3s/step - loss: 0.6730 - binary_accuracy: 0.5810 - val_loss: 0.7350 - val_binary_accuracy: 0.5080\n",
      "Epoch 13/100\n",
      "50/50 [==============================] - 140s 3s/step - loss: 0.6743 - binary_accuracy: 0.5839 - val_loss: 0.7350 - val_binary_accuracy: 0.5027\n",
      "Epoch 14/100\n",
      "50/50 [==============================] - 139s 3s/step - loss: 0.6729 - binary_accuracy: 0.5811 - val_loss: 0.7362 - val_binary_accuracy: 0.5096\n",
      "Epoch 15/100\n",
      "50/50 [==============================] - 141s 3s/step - loss: 0.6691 - binary_accuracy: 0.5895 - val_loss: 0.6451 - val_binary_accuracy: 0.5062\n",
      "Epoch 16/100\n",
      "50/50 [==============================] - 141s 3s/step - loss: 0.6719 - binary_accuracy: 0.5842 - val_loss: 0.6929 - val_binary_accuracy: 0.5159\n",
      "Epoch 17/100\n",
      "50/50 [==============================] - 141s 3s/step - loss: 0.6633 - binary_accuracy: 0.6021 - val_loss: 0.7705 - val_binary_accuracy: 0.5231\n",
      "Epoch 18/100\n",
      "50/50 [==============================] - 141s 3s/step - loss: 0.6656 - binary_accuracy: 0.5976 - val_loss: 0.7129 - val_binary_accuracy: 0.5281\n",
      "Epoch 19/100\n",
      "50/50 [==============================] - 139s 3s/step - loss: 0.6660 - binary_accuracy: 0.5962 - val_loss: 0.7636 - val_binary_accuracy: 0.5045\n",
      "Epoch 20/100\n",
      "50/50 [==============================] - 149s 3s/step - loss: 0.6601 - binary_accuracy: 0.5977 - val_loss: 0.6959 - val_binary_accuracy: 0.5339\n",
      "Epoch 21/100\n",
      "50/50 [==============================] - 507s 10s/step - loss: 0.6633 - binary_accuracy: 0.5983 - val_loss: 0.6619 - val_binary_accuracy: 0.5252\n",
      "Epoch 22/100\n",
      "50/50 [==============================] - 432s 9s/step - loss: 0.6550 - binary_accuracy: 0.6075 - val_loss: 0.7435 - val_binary_accuracy: 0.5188\n",
      "Epoch 23/100\n",
      "50/50 [==============================] - 375s 8s/step - loss: 0.6576 - binary_accuracy: 0.6048 - val_loss: 0.6529 - val_binary_accuracy: 0.5347\n",
      "Epoch 24/100\n",
      "50/50 [==============================] - 357s 7s/step - loss: 0.6522 - binary_accuracy: 0.6113 - val_loss: 0.7516 - val_binary_accuracy: 0.5266\n",
      "Epoch 25/100\n",
      "50/50 [==============================] - 160s 3s/step - loss: 0.6490 - binary_accuracy: 0.6105 - val_loss: 0.7847 - val_binary_accuracy: 0.5167\n",
      "Epoch 26/100\n",
      "50/50 [==============================] - 165s 3s/step - loss: 0.6494 - binary_accuracy: 0.6143 - val_loss: 0.6926 - val_binary_accuracy: 0.5290\n",
      "Epoch 27/100\n",
      "50/50 [==============================] - 157s 3s/step - loss: 0.6389 - binary_accuracy: 0.6304 - val_loss: 0.6099 - val_binary_accuracy: 0.5555\n",
      "Epoch 28/100\n",
      "50/50 [==============================] - 165s 3s/step - loss: 0.6385 - binary_accuracy: 0.6286 - val_loss: 0.8273 - val_binary_accuracy: 0.5355\n",
      "Epoch 29/100\n",
      "50/50 [==============================] - 157s 3s/step - loss: 0.6384 - binary_accuracy: 0.6315 - val_loss: 0.8162 - val_binary_accuracy: 0.5444\n",
      "Epoch 30/100\n",
      "50/50 [==============================] - 154s 3s/step - loss: 0.6356 - binary_accuracy: 0.6295 - val_loss: 0.6582 - val_binary_accuracy: 0.5389\n",
      "Epoch 31/100\n",
      "50/50 [==============================] - 149s 3s/step - loss: 0.6283 - binary_accuracy: 0.6388 - val_loss: 0.7229 - val_binary_accuracy: 0.5466\n",
      "Epoch 32/100\n",
      "50/50 [==============================] - 149s 3s/step - loss: 0.6257 - binary_accuracy: 0.6401 - val_loss: 0.6869 - val_binary_accuracy: 0.5263\n",
      "Epoch 33/100\n",
      "50/50 [==============================] - 150s 3s/step - loss: 0.6205 - binary_accuracy: 0.6479 - val_loss: 0.7198 - val_binary_accuracy: 0.5213\n",
      "Epoch 34/100\n",
      "50/50 [==============================] - 150s 3s/step - loss: 0.6123 - binary_accuracy: 0.6580 - val_loss: 0.6978 - val_binary_accuracy: 0.5572\n",
      "Epoch 35/100\n",
      "50/50 [==============================] - 148s 3s/step - loss: 0.5998 - binary_accuracy: 0.6679 - val_loss: 0.9264 - val_binary_accuracy: 0.5369\n",
      "Epoch 36/100\n",
      "50/50 [==============================] - 150s 3s/step - loss: 0.6022 - binary_accuracy: 0.6659 - val_loss: 0.7309 - val_binary_accuracy: 0.5483\n",
      "Epoch 37/100\n",
      "50/50 [==============================] - 150s 3s/step - loss: 0.5944 - binary_accuracy: 0.6816 - val_loss: 0.6664 - val_binary_accuracy: 0.5634\n",
      "Epoch 38/100\n",
      "50/50 [==============================] - 148s 3s/step - loss: 0.5778 - binary_accuracy: 0.6914 - val_loss: 0.8932 - val_binary_accuracy: 0.5461\n",
      "Epoch 39/100\n",
      "50/50 [==============================] - 150s 3s/step - loss: 0.5852 - binary_accuracy: 0.6747 - val_loss: 0.8214 - val_binary_accuracy: 0.5626\n",
      "Epoch 40/100\n",
      "50/50 [==============================] - 147s 3s/step - loss: 0.5616 - binary_accuracy: 0.7026 - val_loss: 0.9753 - val_binary_accuracy: 0.5551\n",
      "Epoch 41/100\n",
      "50/50 [==============================] - 144s 3s/step - loss: 0.5636 - binary_accuracy: 0.7049 - val_loss: 0.7078 - val_binary_accuracy: 0.5497\n",
      "Epoch 42/100\n",
      "50/50 [==============================] - 142s 3s/step - loss: 0.5594 - binary_accuracy: 0.7000 - val_loss: 0.7328 - val_binary_accuracy: 0.5595\n",
      "Epoch 43/100\n",
      "50/50 [==============================] - 142s 3s/step - loss: 0.5332 - binary_accuracy: 0.7275 - val_loss: 0.8153 - val_binary_accuracy: 0.5551\n",
      "Epoch 44/100\n",
      "50/50 [==============================] - 144s 3s/step - loss: 0.5409 - binary_accuracy: 0.7201 - val_loss: 0.7651 - val_binary_accuracy: 0.5639\n",
      "Epoch 45/100\n",
      "50/50 [==============================] - 144s 3s/step - loss: 0.5247 - binary_accuracy: 0.7331 - val_loss: 0.7368 - val_binary_accuracy: 0.5513\n",
      "Epoch 46/100\n",
      "50/50 [==============================] - 142s 3s/step - loss: 0.5065 - binary_accuracy: 0.7441 - val_loss: 0.8270 - val_binary_accuracy: 0.5633\n",
      "Epoch 47/100\n",
      "50/50 [==============================] - 144s 3s/step - loss: 0.5053 - binary_accuracy: 0.7441 - val_loss: 0.7899 - val_binary_accuracy: 0.5736\n",
      "Epoch 48/100\n",
      "50/50 [==============================] - 144s 3s/step - loss: 0.4791 - binary_accuracy: 0.7655 - val_loss: 0.8444 - val_binary_accuracy: 0.5581\n",
      "Epoch 49/100\n",
      "50/50 [==============================] - 143s 3s/step - loss: 0.4810 - binary_accuracy: 0.7610 - val_loss: 0.6869 - val_binary_accuracy: 0.5492\n",
      "Epoch 50/100\n",
      "50/50 [==============================] - 144s 3s/step - loss: 0.4818 - binary_accuracy: 0.7576 - val_loss: 0.6341 - val_binary_accuracy: 0.5544\n",
      "Epoch 51/100\n",
      "50/50 [==============================] - 144s 3s/step - loss: 0.4417 - binary_accuracy: 0.7873 - val_loss: 0.8801 - val_binary_accuracy: 0.5608\n",
      "Epoch 52/100\n",
      "50/50 [==============================] - 143s 3s/step - loss: 0.4408 - binary_accuracy: 0.7871 - val_loss: 0.5655 - val_binary_accuracy: 0.5594\n",
      "Epoch 53/100\n",
      "50/50 [==============================] - 144s 3s/step - loss: 0.4224 - binary_accuracy: 0.7973 - val_loss: 0.7727 - val_binary_accuracy: 0.5610\n",
      "Epoch 54/100\n",
      "50/50 [==============================] - 144s 3s/step - loss: 0.4116 - binary_accuracy: 0.8054 - val_loss: 1.1773 - val_binary_accuracy: 0.5497\n",
      "Epoch 55/100\n",
      "50/50 [==============================] - 142s 3s/step - loss: 0.4200 - binary_accuracy: 0.7978 - val_loss: 1.1274 - val_binary_accuracy: 0.5448\n",
      "Epoch 56/100\n",
      "50/50 [==============================] - 143s 3s/step - loss: 0.3766 - binary_accuracy: 0.8278 - val_loss: 1.0640 - val_binary_accuracy: 0.5566\n",
      "Epoch 57/100\n",
      "50/50 [==============================] - 145s 3s/step - loss: 0.3741 - binary_accuracy: 0.8305 - val_loss: 0.5696 - val_binary_accuracy: 0.5615\n",
      "Epoch 58/100\n",
      "50/50 [==============================] - 144s 3s/step - loss: 0.3693 - binary_accuracy: 0.8324 - val_loss: 0.7042 - val_binary_accuracy: 0.5642\n",
      "Epoch 59/100\n",
      "50/50 [==============================] - 143s 3s/step - loss: 0.3509 - binary_accuracy: 0.8446 - val_loss: 0.7706 - val_binary_accuracy: 0.5596\n",
      "Epoch 60/100\n",
      "50/50 [==============================] - 145s 3s/step - loss: 0.3513 - binary_accuracy: 0.8428 - val_loss: 1.1859 - val_binary_accuracy: 0.5537\n",
      "Epoch 61/100\n",
      "50/50 [==============================] - 144s 3s/step - loss: 0.3190 - binary_accuracy: 0.8629 - val_loss: 0.8468 - val_binary_accuracy: 0.5510\n",
      "Epoch 62/100\n",
      "50/50 [==============================] - 143s 3s/step - loss: 0.3182 - binary_accuracy: 0.8590 - val_loss: 0.7859 - val_binary_accuracy: 0.5528\n",
      "Epoch 63/100\n",
      "50/50 [==============================] - 145s 3s/step - loss: 0.3125 - binary_accuracy: 0.8620 - val_loss: 1.2300 - val_binary_accuracy: 0.5423\n",
      "Epoch 64/100\n",
      "50/50 [==============================] - 143s 3s/step - loss: 0.2793 - binary_accuracy: 0.8802 - val_loss: 1.0084 - val_binary_accuracy: 0.5510\n",
      "Epoch 65/100\n",
      "50/50 [==============================] - 145s 3s/step - loss: 0.2894 - binary_accuracy: 0.8747 - val_loss: 0.7757 - val_binary_accuracy: 0.5486\n",
      "Epoch 66/100\n",
      "50/50 [==============================] - 145s 3s/step - loss: 0.2675 - binary_accuracy: 0.8877 - val_loss: 0.6935 - val_binary_accuracy: 0.5559\n",
      "Epoch 67/100\n",
      "50/50 [==============================] - 145s 3s/step - loss: 0.2547 - binary_accuracy: 0.8941 - val_loss: 1.5037 - val_binary_accuracy: 0.5495\n",
      "Epoch 68/100\n",
      "50/50 [==============================] - 143s 3s/step - loss: 0.2586 - binary_accuracy: 0.8927 - val_loss: 0.8849 - val_binary_accuracy: 0.5586\n",
      "Epoch 69/100\n",
      "50/50 [==============================] - 145s 3s/step - loss: 0.2332 - binary_accuracy: 0.9041 - val_loss: 0.9701 - val_binary_accuracy: 0.5535\n",
      "Epoch 70/100\n",
      "50/50 [==============================] - 143s 3s/step - loss: 0.2398 - binary_accuracy: 0.9010 - val_loss: 1.1115 - val_binary_accuracy: 0.5491\n",
      "Epoch 71/100\n",
      "50/50 [==============================] - 145s 3s/step - loss: 0.2281 - binary_accuracy: 0.9090 - val_loss: 1.4389 - val_binary_accuracy: 0.5510\n",
      "Epoch 72/100\n",
      "50/50 [==============================] - 145s 3s/step - loss: 0.2066 - binary_accuracy: 0.9189 - val_loss: 1.1974 - val_binary_accuracy: 0.5488\n",
      "Epoch 73/100\n",
      "50/50 [==============================] - 143s 3s/step - loss: 0.2162 - binary_accuracy: 0.9119 - val_loss: 1.5320 - val_binary_accuracy: 0.5454\n",
      "Epoch 74/100\n",
      "50/50 [==============================] - 143s 3s/step - loss: 0.1856 - binary_accuracy: 0.9269 - val_loss: 1.8390 - val_binary_accuracy: 0.5615\n",
      "Epoch 75/100\n",
      "50/50 [==============================] - 145s 3s/step - loss: 0.1868 - binary_accuracy: 0.9260 - val_loss: 0.9055 - val_binary_accuracy: 0.5555\n",
      "Epoch 76/100\n",
      "50/50 [==============================] - 145s 3s/step - loss: 0.1904 - binary_accuracy: 0.9245 - val_loss: 0.9038 - val_binary_accuracy: 0.5495\n",
      "Epoch 77/100\n",
      "50/50 [==============================] - 145s 3s/step - loss: 0.1672 - binary_accuracy: 0.9360 - val_loss: 1.5488 - val_binary_accuracy: 0.5526\n",
      "Epoch 78/100\n",
      "50/50 [==============================] - 145s 3s/step - loss: 0.1645 - binary_accuracy: 0.9374 - val_loss: 0.9857 - val_binary_accuracy: 0.5505\n",
      "Epoch 79/100\n",
      "50/50 [==============================] - 143s 3s/step - loss: 0.1598 - binary_accuracy: 0.9403 - val_loss: 1.3684 - val_binary_accuracy: 0.5544\n",
      "Epoch 80/100\n",
      "50/50 [==============================] - 145s 3s/step - loss: 0.1497 - binary_accuracy: 0.9448 - val_loss: 1.2719 - val_binary_accuracy: 0.5594\n",
      "Epoch 81/100\n",
      "50/50 [==============================] - 149s 3s/step - loss: 0.1585 - binary_accuracy: 0.9377 - val_loss: 1.3246 - val_binary_accuracy: 0.5446\n",
      "Epoch 82/100\n",
      "50/50 [==============================] - 193s 4s/step - loss: 0.1436 - binary_accuracy: 0.9470 - val_loss: 1.0039 - val_binary_accuracy: 0.5442\n",
      "Epoch 83/100\n",
      "50/50 [==============================] - 190s 4s/step - loss: 0.1421 - binary_accuracy: 0.9463 - val_loss: 1.7142 - val_binary_accuracy: 0.5495\n",
      "Epoch 84/100\n",
      "50/50 [==============================] - 341s 7s/step - loss: 0.1391 - binary_accuracy: 0.9484 - val_loss: 1.0977 - val_binary_accuracy: 0.5423\n",
      "Epoch 85/100\n",
      "50/50 [==============================] - 162s 3s/step - loss: 0.1196 - binary_accuracy: 0.9554 - val_loss: 2.2181 - val_binary_accuracy: 0.5459\n",
      "Epoch 86/100\n",
      "50/50 [==============================] - 189s 4s/step - loss: 0.1302 - binary_accuracy: 0.9512 - val_loss: 1.7933 - val_binary_accuracy: 0.5526\n",
      "Epoch 87/100\n",
      "50/50 [==============================] - 236s 5s/step - loss: 0.1181 - binary_accuracy: 0.9570 - val_loss: 1.3252 - val_binary_accuracy: 0.5536\n",
      "Epoch 88/100\n",
      "50/50 [==============================] - 161s 3s/step - loss: 0.1174 - binary_accuracy: 0.9597 - val_loss: 0.9126 - val_binary_accuracy: 0.5492\n",
      "Epoch 89/100\n",
      "50/50 [==============================] - 269s 5s/step - loss: 0.1142 - binary_accuracy: 0.9582 - val_loss: 2.6819 - val_binary_accuracy: 0.5464\n",
      "Epoch 90/100\n",
      "50/50 [==============================] - 171s 3s/step - loss: 0.1024 - binary_accuracy: 0.9633 - val_loss: 1.4481 - val_binary_accuracy: 0.5496\n",
      "Epoch 91/100\n",
      "50/50 [==============================] - 159s 3s/step - loss: 0.0998 - binary_accuracy: 0.9655 - val_loss: 1.4880 - val_binary_accuracy: 0.5550\n",
      "Epoch 92/100\n",
      "50/50 [==============================] - 194s 4s/step - loss: 0.1021 - binary_accuracy: 0.9648 - val_loss: 1.7619 - val_binary_accuracy: 0.5467\n",
      "Epoch 93/100\n",
      "50/50 [==============================] - 147s 3s/step - loss: 0.0868 - binary_accuracy: 0.9692 - val_loss: 1.1701 - val_binary_accuracy: 0.5531\n",
      "Epoch 94/100\n",
      "50/50 [==============================] - 147s 3s/step - loss: 0.0975 - binary_accuracy: 0.9645 - val_loss: 1.2007 - val_binary_accuracy: 0.5590\n",
      "Epoch 95/100\n",
      "50/50 [==============================] - 153s 3s/step - loss: 0.0928 - binary_accuracy: 0.9661 - val_loss: 2.2705 - val_binary_accuracy: 0.5487\n",
      "Epoch 96/100\n",
      "50/50 [==============================] - 151s 3s/step - loss: 0.0874 - binary_accuracy: 0.9722 - val_loss: 2.0389 - val_binary_accuracy: 0.5461\n",
      "Epoch 97/100\n",
      "50/50 [==============================] - 152s 3s/step - loss: 0.0918 - binary_accuracy: 0.9682 - val_loss: 2.6150 - val_binary_accuracy: 0.5490\n",
      "Epoch 98/100\n",
      "50/50 [==============================] - 149s 3s/step - loss: 0.0745 - binary_accuracy: 0.9754 - val_loss: 1.9085 - val_binary_accuracy: 0.5513\n",
      "Epoch 99/100\n",
      "50/50 [==============================] - 148s 3s/step - loss: 0.0821 - binary_accuracy: 0.9710 - val_loss: 1.9185 - val_binary_accuracy: 0.5498\n",
      "Epoch 100/100\n",
      "50/50 [==============================] - 145s 3s/step - loss: 0.0777 - binary_accuracy: 0.9729 - val_loss: 2.2803 - val_binary_accuracy: 0.5462\n"
     ]
    }
   ],
   "source": [
    "trained_model = model_builder.train_model(model,optimizer,loss_function,metrics,epochs,steps_per_epoch,training_data,validation_data,fit_callbacks)"
   ]
  },
  {
   "cell_type": "code",
   "execution_count": 7,
   "metadata": {},
   "outputs": [
    {
     "output_type": "stream",
     "name": "stdout",
     "text": [
      "Weights saved!\n"
     ]
    }
   ],
   "source": [
    "model.save_weights(\"model_weights.h5\",overwrite=True)\n",
    "print('Weights saved!')"
   ]
  },
  {
   "cell_type": "code",
   "execution_count": 8,
   "metadata": {},
   "outputs": [],
   "source": [
    "t= []\n",
    "for i in range(len(validation_data)):\n",
    "    t.append(validation_data[i][1][0:])\n",
    "g_truth=[]\n",
    "for i in range(len(t)):\n",
    "    for n in range(len(t[i])):\n",
    "        g_truth.append(t[i][n])"
   ]
  },
  {
   "cell_type": "code",
   "execution_count": 9,
   "metadata": {},
   "outputs": [],
   "source": [
    "yscore= model.predict(validation_data)"
   ]
  },
  {
   "cell_type": "code",
   "execution_count": 10,
   "metadata": {},
   "outputs": [],
   "source": [
    "y_score=[]\n",
    "for i in range(len(yscore)):\n",
    "    y_score.append(yscore[i][0])"
   ]
  },
  {
   "cell_type": "code",
   "execution_count": 11,
   "metadata": {},
   "outputs": [],
   "source": [
    "predictions = pd.DataFrame({'ground truth':g_truth,'predictions':yscore})"
   ]
  },
  {
   "cell_type": "code",
   "execution_count": 15,
   "metadata": {},
   "outputs": [],
   "source": [
    "fpr,tpr,_= roc_curve(g_truth,y_score)"
   ]
  },
  {
   "cell_type": "code",
   "execution_count": 13,
   "metadata": {},
   "outputs": [
    {
     "output_type": "stream",
     "name": "stdout",
     "text": [
      "AUC:  0.5646025679596262\n"
     ]
    }
   ],
   "source": [
    "print('AUC: ',roc_auc_score(g_truth,y_score))"
   ]
  },
  {
   "cell_type": "code",
   "execution_count": 16,
   "metadata": {},
   "outputs": [
    {
     "output_type": "execute_result",
     "data": {
      "text/plain": [
       "[<matplotlib.lines.Line2D at 0x26247d47808>]"
      ]
     },
     "metadata": {},
     "execution_count": 16
    },
    {
     "output_type": "display_data",
     "data": {
      "text/plain": "<Figure size 432x288 with 1 Axes>",
      "image/svg+xml": "<?xml version=\"1.0\" encoding=\"utf-8\" standalone=\"no\"?>\r\n<!DOCTYPE svg PUBLIC \"-//W3C//DTD SVG 1.1//EN\"\r\n  \"http://www.w3.org/Graphics/SVG/1.1/DTD/svg11.dtd\">\r\n<!-- Created with matplotlib (https://matplotlib.org/) -->\r\n<svg height=\"248.518125pt\" version=\"1.1\" viewBox=\"0 0 372.103125 248.518125\" width=\"372.103125pt\" xmlns=\"http://www.w3.org/2000/svg\" xmlns:xlink=\"http://www.w3.org/1999/xlink\">\r\n <defs>\r\n  <style type=\"text/css\">\r\n*{stroke-linecap:butt;stroke-linejoin:round;}\r\n  </style>\r\n </defs>\r\n <g id=\"figure_1\">\r\n  <g id=\"patch_1\">\r\n   <path d=\"M 0 248.518125 \r\nL 372.103125 248.518125 \r\nL 372.103125 0 \r\nL 0 0 \r\nz\r\n\" style=\"fill:none;\"/>\r\n  </g>\r\n  <g id=\"axes_1\">\r\n   <g id=\"patch_2\">\r\n    <path d=\"M 30.103125 224.64 \r\nL 364.903125 224.64 \r\nL 364.903125 7.2 \r\nL 30.103125 7.2 \r\nz\r\n\" style=\"fill:#ffffff;\"/>\r\n   </g>\r\n   <g id=\"matplotlib.axis_1\">\r\n    <g id=\"xtick_1\">\r\n     <g id=\"line2d_1\">\r\n      <defs>\r\n       <path d=\"M 0 0 \r\nL 0 3.5 \r\n\" id=\"m4827d76879\" style=\"stroke:#000000;stroke-width:0.8;\"/>\r\n      </defs>\r\n      <g>\r\n       <use style=\"stroke:#000000;stroke-width:0.8;\" x=\"45.321307\" xlink:href=\"#m4827d76879\" y=\"224.64\"/>\r\n      </g>\r\n     </g>\r\n     <g id=\"text_1\">\r\n      <!-- 0.0 -->\r\n      <defs>\r\n       <path d=\"M 31.78125 66.40625 \r\nQ 24.171875 66.40625 20.328125 58.90625 \r\nQ 16.5 51.421875 16.5 36.375 \r\nQ 16.5 21.390625 20.328125 13.890625 \r\nQ 24.171875 6.390625 31.78125 6.390625 \r\nQ 39.453125 6.390625 43.28125 13.890625 \r\nQ 47.125 21.390625 47.125 36.375 \r\nQ 47.125 51.421875 43.28125 58.90625 \r\nQ 39.453125 66.40625 31.78125 66.40625 \r\nz\r\nM 31.78125 74.21875 \r\nQ 44.046875 74.21875 50.515625 64.515625 \r\nQ 56.984375 54.828125 56.984375 36.375 \r\nQ 56.984375 17.96875 50.515625 8.265625 \r\nQ 44.046875 -1.421875 31.78125 -1.421875 \r\nQ 19.53125 -1.421875 13.0625 8.265625 \r\nQ 6.59375 17.96875 6.59375 36.375 \r\nQ 6.59375 54.828125 13.0625 64.515625 \r\nQ 19.53125 74.21875 31.78125 74.21875 \r\nz\r\n\" id=\"DejaVuSans-48\"/>\r\n       <path d=\"M 10.6875 12.40625 \r\nL 21 12.40625 \r\nL 21 0 \r\nL 10.6875 0 \r\nz\r\n\" id=\"DejaVuSans-46\"/>\r\n      </defs>\r\n      <g transform=\"translate(37.369744 239.238437)scale(0.1 -0.1)\">\r\n       <use xlink:href=\"#DejaVuSans-48\"/>\r\n       <use x=\"63.623047\" xlink:href=\"#DejaVuSans-46\"/>\r\n       <use x=\"95.410156\" xlink:href=\"#DejaVuSans-48\"/>\r\n      </g>\r\n     </g>\r\n    </g>\r\n    <g id=\"xtick_2\">\r\n     <g id=\"line2d_2\">\r\n      <g>\r\n       <use style=\"stroke:#000000;stroke-width:0.8;\" x=\"106.194034\" xlink:href=\"#m4827d76879\" y=\"224.64\"/>\r\n      </g>\r\n     </g>\r\n     <g id=\"text_2\">\r\n      <!-- 0.2 -->\r\n      <defs>\r\n       <path d=\"M 19.1875 8.296875 \r\nL 53.609375 8.296875 \r\nL 53.609375 0 \r\nL 7.328125 0 \r\nL 7.328125 8.296875 \r\nQ 12.9375 14.109375 22.625 23.890625 \r\nQ 32.328125 33.6875 34.8125 36.53125 \r\nQ 39.546875 41.84375 41.421875 45.53125 \r\nQ 43.3125 49.21875 43.3125 52.78125 \r\nQ 43.3125 58.59375 39.234375 62.25 \r\nQ 35.15625 65.921875 28.609375 65.921875 \r\nQ 23.96875 65.921875 18.8125 64.3125 \r\nQ 13.671875 62.703125 7.8125 59.421875 \r\nL 7.8125 69.390625 \r\nQ 13.765625 71.78125 18.9375 73 \r\nQ 24.125 74.21875 28.421875 74.21875 \r\nQ 39.75 74.21875 46.484375 68.546875 \r\nQ 53.21875 62.890625 53.21875 53.421875 \r\nQ 53.21875 48.921875 51.53125 44.890625 \r\nQ 49.859375 40.875 45.40625 35.40625 \r\nQ 44.1875 33.984375 37.640625 27.21875 \r\nQ 31.109375 20.453125 19.1875 8.296875 \r\nz\r\n\" id=\"DejaVuSans-50\"/>\r\n      </defs>\r\n      <g transform=\"translate(98.242472 239.238437)scale(0.1 -0.1)\">\r\n       <use xlink:href=\"#DejaVuSans-48\"/>\r\n       <use x=\"63.623047\" xlink:href=\"#DejaVuSans-46\"/>\r\n       <use x=\"95.410156\" xlink:href=\"#DejaVuSans-50\"/>\r\n      </g>\r\n     </g>\r\n    </g>\r\n    <g id=\"xtick_3\">\r\n     <g id=\"line2d_3\">\r\n      <g>\r\n       <use style=\"stroke:#000000;stroke-width:0.8;\" x=\"167.066761\" xlink:href=\"#m4827d76879\" y=\"224.64\"/>\r\n      </g>\r\n     </g>\r\n     <g id=\"text_3\">\r\n      <!-- 0.4 -->\r\n      <defs>\r\n       <path d=\"M 37.796875 64.3125 \r\nL 12.890625 25.390625 \r\nL 37.796875 25.390625 \r\nz\r\nM 35.203125 72.90625 \r\nL 47.609375 72.90625 \r\nL 47.609375 25.390625 \r\nL 58.015625 25.390625 \r\nL 58.015625 17.1875 \r\nL 47.609375 17.1875 \r\nL 47.609375 0 \r\nL 37.796875 0 \r\nL 37.796875 17.1875 \r\nL 4.890625 17.1875 \r\nL 4.890625 26.703125 \r\nz\r\n\" id=\"DejaVuSans-52\"/>\r\n      </defs>\r\n      <g transform=\"translate(159.115199 239.238437)scale(0.1 -0.1)\">\r\n       <use xlink:href=\"#DejaVuSans-48\"/>\r\n       <use x=\"63.623047\" xlink:href=\"#DejaVuSans-46\"/>\r\n       <use x=\"95.410156\" xlink:href=\"#DejaVuSans-52\"/>\r\n      </g>\r\n     </g>\r\n    </g>\r\n    <g id=\"xtick_4\">\r\n     <g id=\"line2d_4\">\r\n      <g>\r\n       <use style=\"stroke:#000000;stroke-width:0.8;\" x=\"227.939489\" xlink:href=\"#m4827d76879\" y=\"224.64\"/>\r\n      </g>\r\n     </g>\r\n     <g id=\"text_4\">\r\n      <!-- 0.6 -->\r\n      <defs>\r\n       <path d=\"M 33.015625 40.375 \r\nQ 26.375 40.375 22.484375 35.828125 \r\nQ 18.609375 31.296875 18.609375 23.390625 \r\nQ 18.609375 15.53125 22.484375 10.953125 \r\nQ 26.375 6.390625 33.015625 6.390625 \r\nQ 39.65625 6.390625 43.53125 10.953125 \r\nQ 47.40625 15.53125 47.40625 23.390625 \r\nQ 47.40625 31.296875 43.53125 35.828125 \r\nQ 39.65625 40.375 33.015625 40.375 \r\nz\r\nM 52.59375 71.296875 \r\nL 52.59375 62.3125 \r\nQ 48.875 64.0625 45.09375 64.984375 \r\nQ 41.3125 65.921875 37.59375 65.921875 \r\nQ 27.828125 65.921875 22.671875 59.328125 \r\nQ 17.53125 52.734375 16.796875 39.40625 \r\nQ 19.671875 43.65625 24.015625 45.921875 \r\nQ 28.375 48.1875 33.59375 48.1875 \r\nQ 44.578125 48.1875 50.953125 41.515625 \r\nQ 57.328125 34.859375 57.328125 23.390625 \r\nQ 57.328125 12.15625 50.6875 5.359375 \r\nQ 44.046875 -1.421875 33.015625 -1.421875 \r\nQ 20.359375 -1.421875 13.671875 8.265625 \r\nQ 6.984375 17.96875 6.984375 36.375 \r\nQ 6.984375 53.65625 15.1875 63.9375 \r\nQ 23.390625 74.21875 37.203125 74.21875 \r\nQ 40.921875 74.21875 44.703125 73.484375 \r\nQ 48.484375 72.75 52.59375 71.296875 \r\nz\r\n\" id=\"DejaVuSans-54\"/>\r\n      </defs>\r\n      <g transform=\"translate(219.987926 239.238437)scale(0.1 -0.1)\">\r\n       <use xlink:href=\"#DejaVuSans-48\"/>\r\n       <use x=\"63.623047\" xlink:href=\"#DejaVuSans-46\"/>\r\n       <use x=\"95.410156\" xlink:href=\"#DejaVuSans-54\"/>\r\n      </g>\r\n     </g>\r\n    </g>\r\n    <g id=\"xtick_5\">\r\n     <g id=\"line2d_5\">\r\n      <g>\r\n       <use style=\"stroke:#000000;stroke-width:0.8;\" x=\"288.812216\" xlink:href=\"#m4827d76879\" y=\"224.64\"/>\r\n      </g>\r\n     </g>\r\n     <g id=\"text_5\">\r\n      <!-- 0.8 -->\r\n      <defs>\r\n       <path d=\"M 31.78125 34.625 \r\nQ 24.75 34.625 20.71875 30.859375 \r\nQ 16.703125 27.09375 16.703125 20.515625 \r\nQ 16.703125 13.921875 20.71875 10.15625 \r\nQ 24.75 6.390625 31.78125 6.390625 \r\nQ 38.8125 6.390625 42.859375 10.171875 \r\nQ 46.921875 13.96875 46.921875 20.515625 \r\nQ 46.921875 27.09375 42.890625 30.859375 \r\nQ 38.875 34.625 31.78125 34.625 \r\nz\r\nM 21.921875 38.8125 \r\nQ 15.578125 40.375 12.03125 44.71875 \r\nQ 8.5 49.078125 8.5 55.328125 \r\nQ 8.5 64.0625 14.71875 69.140625 \r\nQ 20.953125 74.21875 31.78125 74.21875 \r\nQ 42.671875 74.21875 48.875 69.140625 \r\nQ 55.078125 64.0625 55.078125 55.328125 \r\nQ 55.078125 49.078125 51.53125 44.71875 \r\nQ 48 40.375 41.703125 38.8125 \r\nQ 48.828125 37.15625 52.796875 32.3125 \r\nQ 56.78125 27.484375 56.78125 20.515625 \r\nQ 56.78125 9.90625 50.3125 4.234375 \r\nQ 43.84375 -1.421875 31.78125 -1.421875 \r\nQ 19.734375 -1.421875 13.25 4.234375 \r\nQ 6.78125 9.90625 6.78125 20.515625 \r\nQ 6.78125 27.484375 10.78125 32.3125 \r\nQ 14.796875 37.15625 21.921875 38.8125 \r\nz\r\nM 18.3125 54.390625 \r\nQ 18.3125 48.734375 21.84375 45.5625 \r\nQ 25.390625 42.390625 31.78125 42.390625 \r\nQ 38.140625 42.390625 41.71875 45.5625 \r\nQ 45.3125 48.734375 45.3125 54.390625 \r\nQ 45.3125 60.0625 41.71875 63.234375 \r\nQ 38.140625 66.40625 31.78125 66.40625 \r\nQ 25.390625 66.40625 21.84375 63.234375 \r\nQ 18.3125 60.0625 18.3125 54.390625 \r\nz\r\n\" id=\"DejaVuSans-56\"/>\r\n      </defs>\r\n      <g transform=\"translate(280.860653 239.238437)scale(0.1 -0.1)\">\r\n       <use xlink:href=\"#DejaVuSans-48\"/>\r\n       <use x=\"63.623047\" xlink:href=\"#DejaVuSans-46\"/>\r\n       <use x=\"95.410156\" xlink:href=\"#DejaVuSans-56\"/>\r\n      </g>\r\n     </g>\r\n    </g>\r\n    <g id=\"xtick_6\">\r\n     <g id=\"line2d_6\">\r\n      <g>\r\n       <use style=\"stroke:#000000;stroke-width:0.8;\" x=\"349.684943\" xlink:href=\"#m4827d76879\" y=\"224.64\"/>\r\n      </g>\r\n     </g>\r\n     <g id=\"text_6\">\r\n      <!-- 1.0 -->\r\n      <defs>\r\n       <path d=\"M 12.40625 8.296875 \r\nL 28.515625 8.296875 \r\nL 28.515625 63.921875 \r\nL 10.984375 60.40625 \r\nL 10.984375 69.390625 \r\nL 28.421875 72.90625 \r\nL 38.28125 72.90625 \r\nL 38.28125 8.296875 \r\nL 54.390625 8.296875 \r\nL 54.390625 0 \r\nL 12.40625 0 \r\nz\r\n\" id=\"DejaVuSans-49\"/>\r\n      </defs>\r\n      <g transform=\"translate(341.733381 239.238437)scale(0.1 -0.1)\">\r\n       <use xlink:href=\"#DejaVuSans-49\"/>\r\n       <use x=\"63.623047\" xlink:href=\"#DejaVuSans-46\"/>\r\n       <use x=\"95.410156\" xlink:href=\"#DejaVuSans-48\"/>\r\n      </g>\r\n     </g>\r\n    </g>\r\n   </g>\r\n   <g id=\"matplotlib.axis_2\">\r\n    <g id=\"ytick_1\">\r\n     <g id=\"line2d_7\">\r\n      <defs>\r\n       <path d=\"M 0 0 \r\nL -3.5 0 \r\n\" id=\"m0bc59a0e33\" style=\"stroke:#000000;stroke-width:0.8;\"/>\r\n      </defs>\r\n      <g>\r\n       <use style=\"stroke:#000000;stroke-width:0.8;\" x=\"30.103125\" xlink:href=\"#m0bc59a0e33\" y=\"214.756364\"/>\r\n      </g>\r\n     </g>\r\n     <g id=\"text_7\">\r\n      <!-- 0.0 -->\r\n      <g transform=\"translate(7.2 218.555582)scale(0.1 -0.1)\">\r\n       <use xlink:href=\"#DejaVuSans-48\"/>\r\n       <use x=\"63.623047\" xlink:href=\"#DejaVuSans-46\"/>\r\n       <use x=\"95.410156\" xlink:href=\"#DejaVuSans-48\"/>\r\n      </g>\r\n     </g>\r\n    </g>\r\n    <g id=\"ytick_2\">\r\n     <g id=\"line2d_8\">\r\n      <g>\r\n       <use style=\"stroke:#000000;stroke-width:0.8;\" x=\"30.103125\" xlink:href=\"#m0bc59a0e33\" y=\"175.221818\"/>\r\n      </g>\r\n     </g>\r\n     <g id=\"text_8\">\r\n      <!-- 0.2 -->\r\n      <g transform=\"translate(7.2 179.021037)scale(0.1 -0.1)\">\r\n       <use xlink:href=\"#DejaVuSans-48\"/>\r\n       <use x=\"63.623047\" xlink:href=\"#DejaVuSans-46\"/>\r\n       <use x=\"95.410156\" xlink:href=\"#DejaVuSans-50\"/>\r\n      </g>\r\n     </g>\r\n    </g>\r\n    <g id=\"ytick_3\">\r\n     <g id=\"line2d_9\">\r\n      <g>\r\n       <use style=\"stroke:#000000;stroke-width:0.8;\" x=\"30.103125\" xlink:href=\"#m0bc59a0e33\" y=\"135.687273\"/>\r\n      </g>\r\n     </g>\r\n     <g id=\"text_9\">\r\n      <!-- 0.4 -->\r\n      <g transform=\"translate(7.2 139.486491)scale(0.1 -0.1)\">\r\n       <use xlink:href=\"#DejaVuSans-48\"/>\r\n       <use x=\"63.623047\" xlink:href=\"#DejaVuSans-46\"/>\r\n       <use x=\"95.410156\" xlink:href=\"#DejaVuSans-52\"/>\r\n      </g>\r\n     </g>\r\n    </g>\r\n    <g id=\"ytick_4\">\r\n     <g id=\"line2d_10\">\r\n      <g>\r\n       <use style=\"stroke:#000000;stroke-width:0.8;\" x=\"30.103125\" xlink:href=\"#m0bc59a0e33\" y=\"96.152727\"/>\r\n      </g>\r\n     </g>\r\n     <g id=\"text_10\">\r\n      <!-- 0.6 -->\r\n      <g transform=\"translate(7.2 99.951946)scale(0.1 -0.1)\">\r\n       <use xlink:href=\"#DejaVuSans-48\"/>\r\n       <use x=\"63.623047\" xlink:href=\"#DejaVuSans-46\"/>\r\n       <use x=\"95.410156\" xlink:href=\"#DejaVuSans-54\"/>\r\n      </g>\r\n     </g>\r\n    </g>\r\n    <g id=\"ytick_5\">\r\n     <g id=\"line2d_11\">\r\n      <g>\r\n       <use style=\"stroke:#000000;stroke-width:0.8;\" x=\"30.103125\" xlink:href=\"#m0bc59a0e33\" y=\"56.618182\"/>\r\n      </g>\r\n     </g>\r\n     <g id=\"text_11\">\r\n      <!-- 0.8 -->\r\n      <g transform=\"translate(7.2 60.417401)scale(0.1 -0.1)\">\r\n       <use xlink:href=\"#DejaVuSans-48\"/>\r\n       <use x=\"63.623047\" xlink:href=\"#DejaVuSans-46\"/>\r\n       <use x=\"95.410156\" xlink:href=\"#DejaVuSans-56\"/>\r\n      </g>\r\n     </g>\r\n    </g>\r\n    <g id=\"ytick_6\">\r\n     <g id=\"line2d_12\">\r\n      <g>\r\n       <use style=\"stroke:#000000;stroke-width:0.8;\" x=\"30.103125\" xlink:href=\"#m0bc59a0e33\" y=\"17.083636\"/>\r\n      </g>\r\n     </g>\r\n     <g id=\"text_12\">\r\n      <!-- 1.0 -->\r\n      <g transform=\"translate(7.2 20.882855)scale(0.1 -0.1)\">\r\n       <use xlink:href=\"#DejaVuSans-49\"/>\r\n       <use x=\"63.623047\" xlink:href=\"#DejaVuSans-46\"/>\r\n       <use x=\"95.410156\" xlink:href=\"#DejaVuSans-48\"/>\r\n      </g>\r\n     </g>\r\n    </g>\r\n   </g>\r\n   <g id=\"line2d_13\">\r\n    <path clip-path=\"url(#p41f26c325e)\" d=\"M 45.321307 214.756364 \r\nL 45.321307 17.083636 \r\nL 349.684943 17.083636 \r\n\" style=\"fill:none;stroke:#1f77b4;stroke-linecap:square;stroke-width:1.5;\"/>\r\n   </g>\r\n   <g id=\"patch_3\">\r\n    <path d=\"M 30.103125 224.64 \r\nL 30.103125 7.2 \r\n\" style=\"fill:none;stroke:#000000;stroke-linecap:square;stroke-linejoin:miter;stroke-width:0.8;\"/>\r\n   </g>\r\n   <g id=\"patch_4\">\r\n    <path d=\"M 364.903125 224.64 \r\nL 364.903125 7.2 \r\n\" style=\"fill:none;stroke:#000000;stroke-linecap:square;stroke-linejoin:miter;stroke-width:0.8;\"/>\r\n   </g>\r\n   <g id=\"patch_5\">\r\n    <path d=\"M 30.103125 224.64 \r\nL 364.903125 224.64 \r\n\" style=\"fill:none;stroke:#000000;stroke-linecap:square;stroke-linejoin:miter;stroke-width:0.8;\"/>\r\n   </g>\r\n   <g id=\"patch_6\">\r\n    <path d=\"M 30.103125 7.2 \r\nL 364.903125 7.2 \r\n\" style=\"fill:none;stroke:#000000;stroke-linecap:square;stroke-linejoin:miter;stroke-width:0.8;\"/>\r\n   </g>\r\n  </g>\r\n </g>\r\n <defs>\r\n  <clipPath id=\"p41f26c325e\">\r\n   <rect height=\"217.44\" width=\"334.8\" x=\"30.103125\" y=\"7.2\"/>\r\n  </clipPath>\r\n </defs>\r\n</svg>\r\n",
      "image/png": "[encoded data removed]"
     },
     "metadata": {
      "needs_background": "light"
     }
    }
   ],
   "source": [
    "plt.plot(fpr,tpr)"
   ]
  },
  {
   "cell_type": "code",
   "execution_count": null,
   "metadata": {},
   "outputs": [],
   "source": []
  },
  {
   "cell_type": "code",
   "execution_count": null,
   "metadata": {},
   "outputs": [],
   "source": []
  }
 ]
}