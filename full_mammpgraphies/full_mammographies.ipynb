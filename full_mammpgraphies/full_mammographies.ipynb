{
 "cells": [
  {
   "cell_type": "code",
   "execution_count": null,
   "metadata": {},
   "outputs": [],
   "source": [
    "import numpy,os,sklearn\n",
    "from tensorflow import keras\n",
    "import matplotlib.pyplot as plt\n",
    "import pandas as pd\n",
    "import sklearn.model_selection as sms\n",
    "import pydicom as dicom\n",
    "\n",
    "import utils"
   ]
  },
  {
   "cell_type": "markdown",
   "metadata": {},
   "source": [
    "# Image Data"
   ]
  },
  {
   "cell_type": "markdown",
   "metadata": {},
   "source": [
    "## Suspicious Mammographies (BCDR-D01 & BCDR-D02)"
   ]
  },
  {
   "cell_type": "markdown",
   "metadata": {},
   "source": [
    "### CSV Analysis"
   ]
  },
  {
   "cell_type": "code",
   "execution_count": null,
   "metadata": {},
   "outputs": [],
   "source": [
    "bcdr1_raw = pd.read_csv('d:/BCDR/BCDR-D01_dataset/bcdr_d01_img.csv')\n",
    "bcdr1_raw = bcdr1_raw.drop_duplicates(subset=['image_filename'],keep='first',ignore_index=True)\n",
    "bcdr1_raw= utils.fix_view(bcdr1_raw,'image_type_name')\n",
    "bcdr1_features_raw = pd.read_csv('D:\\BCDR\\BCDR-D01_dataset/bcdr_d01_features.csv')\n",
    "bcdr2_raw = pd.read_csv('d:/BCDR/BCDR-D02_dataset/bcdr_d02_img.csv')\n",
    "bcdr2_raw = bcdr2_raw.drop_duplicates(subset=['image_filename'],keep='first',ignore_index=True)\n",
    "bcdr2_raw= utils.fix_view(bcdr2_raw,'image_type_name')\n",
    "bcdr2_features_raw = pd.read_csv('D:\\BCDR\\BCDR-D02_dataset/bcdr_d02_features.csv')\n",
    "l1 = utils.lesion_findings(bcdr1_features_raw)\n",
    "l2 = utils.lesion_findings(bcdr2_features_raw)"
   ]
  },
  {
   "cell_type": "code",
   "execution_count": null,
   "metadata": {},
   "outputs": [],
   "source": [
    "bcdr1 = bcdr1_raw[['patient_id','study_id','image_filename','image_type_name','density','age']]\n",
    "bcdr1_features= bcdr1_features_raw[['patient_id','study_id','image_view','s_x_center_mass','s_y_center_mass','density','age']]\n",
    "\n",
    "bcdr1 = utils.merge_csv(bcdr1_features,bcdr1)\n",
    "bcdr1['lesion_type'] = l1"
   ]
  },
  {
   "cell_type": "code",
   "execution_count": null,
   "metadata": {},
   "outputs": [],
   "source": [
    "bcdr2 = bcdr2_raw[['patient_id','study_id','image_filename','image_type_name','density','age']]\n",
    "bcdr2_features= bcdr2_features_raw[['patient_id','study_id','image_view','s_x_center_mass','s_y_center_mass','density','age']]\n",
    "\n",
    "bcdr2 = utils.merge_csv(bcdr2_features,bcdr2)\n",
    "bcdr2['lesion_type'] = l2"
   ]
  },
  {
   "cell_type": "code",
   "execution_count": null,
   "metadata": {},
   "outputs": [],
   "source": [
    "lesion_mammographies1 = pd.DataFrame({})\n",
    "lesion_mammographies1[['patient_id','image_view','image_path','x_center','y_center','density','age','lesion_type']] = bcdr1[['patient_id','image_view','image_filename','s_x_center_mass','s_y_center_mass','density','age','lesion_type']]\n",
    "new_patients = []\n",
    "for patient in list(lesion_mammographies1['patient_id']):\n",
    "    patient_n= '1d'+str(patient)\n",
    "    new_patients.append(patient_n)\n",
    "lesion_mammographies1['patient_id'] = new_patients\n",
    "lesion_mammographies1 = utils.fix_bcdr1_path(lesion_mammographies1,'image_path')"
   ]
  },
  {
   "cell_type": "code",
   "execution_count": null,
   "metadata": {},
   "outputs": [],
   "source": [
    "lesion_mammographies2 = pd.DataFrame({})\n",
    "lesion_mammographies2[['patient_id','image_view','image_path','x_center','y_center','density','age','lesion_type']] = bcdr2[['patient_id','image_view','image_filename','s_x_center_mass','s_y_center_mass','density','age','lesion_type']]\n",
    "new_patients = []\n",
    "for patient in list(lesion_mammographies2['patient_id']):\n",
    "    patient_n= '2d'+str(patient)\n",
    "    new_patients.append(patient_n)\n",
    "lesion_mammographies2['patient_id'] = new_patients\n",
    "lesion_mammographies2 = utils.fix_bcdr2_path(lesion_mammographies2,'image_path')\n",
    "lesion_mammographies2 = lesion_mammographies2[:100]"
   ]
  },
  {
   "cell_type": "code",
   "execution_count": null,
   "metadata": {},
   "outputs": [],
   "source": [
    "lesion_mammographies = pd.concat([lesion_mammographies1,lesion_mammographies2],ignore_index=True)\n",
    "lesion_mammographies = utils.fix_view_back(lesion_mammographies,'image_view')\n",
    "print('Suspicious Dataset: ',lesion_mammographies.shape)"
   ]
  },
  {
   "cell_type": "markdown",
   "metadata": {},
   "source": [
    "### Split and Copy"
   ]
  },
  {
   "cell_type": "code",
   "execution_count": null,
   "metadata": {},
   "outputs": [],
   "source": [
    "sus_training,sus_validation = sms.train_test_split(lesion_mammographies,test_size=0.35)"
   ]
  },
  {
   "cell_type": "code",
   "execution_count": null,
   "metadata": {},
   "outputs": [],
   "source": [
    "utils.image_mover(sus_training,'image_data/raw/training/suspicious')\n",
    "utils.image_mover(sus_validation,'image_data/raw/validation/suspicious')"
   ]
  },
  {
   "cell_type": "markdown",
   "metadata": {},
   "source": [
    "## Normal Mammographies (BCDR-DN01 & INbreast)"
   ]
  },
  {
   "cell_type": "markdown",
   "metadata": {},
   "source": [
    "### CSV Analysis"
   ]
  },
  {
   "cell_type": "code",
   "execution_count": null,
   "metadata": {},
   "outputs": [],
   "source": [
    "bcdrN = pd.read_csv('d:/BCDR/BCDR-DN01_dataset/bcdr_dn01_img.csv')"
   ]
  },
  {
   "cell_type": "code",
   "execution_count": null,
   "metadata": {},
   "outputs": [],
   "source": [
    "normal_mammographies1 = pd.DataFrame({})\n",
    "normal_mammographies1[['patient_id','image_view','image_path','density','age']] = bcdrN[['patient_id','image_type_name','image_filename','density','age']]\n",
    "normal_mammographies1 = utils.fix_bcdrN_path(normal_mammographies1,'image_path')"
   ]
  },
  {
   "cell_type": "code",
   "execution_count": null,
   "metadata": {},
   "outputs": [],
   "source": [
    "xls_raw = pd.read_excel('D:/INBreast/INbreast.xls')\n",
    "xls = pd.DataFrame()\n",
    "xls['image_view'] = [xls_raw['Laterality'][i] + xls_raw['View'][i] for i in xls_raw.index] \n",
    "xls[['filename','finding notes']] = xls_raw[['File Name','Findings Notes (in Portuguese)']]"
   ]
  },
  {
   "cell_type": "code",
   "execution_count": null,
   "metadata": {},
   "outputs": [],
   "source": [
    "path_list = os.listdir('D:/INBreast/AllDICOMs/')\n",
    "r = []\n",
    "for path in path_list:\n",
    "    if path[-3:] != 'dcm':\n",
    "        r.append(path)\n",
    "for i in r:\n",
    "    path_list.remove(i)"
   ]
  },
  {
   "cell_type": "code",
   "execution_count": null,
   "metadata": {},
   "outputs": [],
   "source": [
    "patients = []\n",
    "file_paths = []\n",
    "image_views = []\n",
    "for path in path_list:\n",
    "    l = path.split('_')\n",
    "    if len(l) > 1:\n",
    "        patients.append(l[1])\n",
    "        file_paths.append(path)\n",
    "        image_views.append(l[3]+l[4])\n",
    "images_df = pd.DataFrame({'patient_id':patients,'image_view':image_views,'image_path':file_paths})\n",
    "images_df = utils.fix_inbreast_path(images_df,'image_path')"
   ]
  },
  {
   "cell_type": "code",
   "execution_count": null,
   "metadata": {},
   "outputs": [],
   "source": [
    "images_df[['finding notes']] = xls[['finding notes']]\n",
    "normal_df = images_df[images_df['finding notes'] == 'normal']\n",
    "normal_mammographies2 = pd.DataFrame()\n",
    "normal_mammographies2[['patient_id','image_view','image_path']] = normal_df[['patient_id','image_view','image_path']]"
   ]
  },
  {
   "cell_type": "code",
   "execution_count": null,
   "metadata": {},
   "outputs": [],
   "source": [
    "normal_mammographies = pd.concat([normal_mammographies1,normal_mammographies2],ignore_index=True)\n",
    "print('Normal Dataset: ',normal_mammographies.shape)"
   ]
  },
  {
   "cell_type": "markdown",
   "metadata": {},
   "source": [
    "### Split and Copy"
   ]
  },
  {
   "cell_type": "code",
   "execution_count": null,
   "metadata": {},
   "outputs": [],
   "source": [
    "normal_training,normal_validation = sms.train_test_split(normal_mammographies,test_size=0.35)"
   ]
  },
  {
   "cell_type": "code",
   "execution_count": null,
   "metadata": {},
   "outputs": [],
   "source": [
    "utils.image_mover(normal_training,'image_data/raw/training/normal')\n",
    "utils.image_mover(normal_validation,'image_data/raw/validation/normal')"
   ]
  },
  {
   "cell_type": "code",
   "execution_count": null,
   "metadata": {},
   "outputs": [],
   "source": []
  },
  {
   "cell_type": "code",
   "execution_count": null,
   "metadata": {},
   "outputs": [],
   "source": [
    "medical_image = dicom.read_file(list(normal_mammographies2['image_path'])[0])"
   ]
  },
  {
   "cell_type": "code",
   "execution_count": null,
   "metadata": {},
   "outputs": [],
   "source": [
    "image = medical_image.pixel_array\n",
    "plt.imshow(image,cmap='gray')"
   ]
  },
  {
   "cell_type": "code",
   "execution_count": null,
   "metadata": {},
   "outputs": [],
   "source": [
    "hu_image = transform_to_hu(medical_image,image)\n",
    "plt.imshow(hu_image)"
   ]
  },
  {
   "cell_type": "code",
   "execution_count": null,
   "metadata": {},
   "outputs": [],
   "source": [
    "brain_image = window_image(hu_image, 60, 100)\n",
    "plt.imshow(brain_image,cmap='gray')"
   ]
  },
  {
   "cell_type": "code",
   "execution_count": null,
   "metadata": {},
   "outputs": [],
   "source": [
    "def window_image(image, window_center, window_width):\n",
    "    img_min = window_center - window_width // 2\n",
    "    img_max = window_center + window_width // 2\n",
    "    window_image = image.copy()\n",
    "    window_image[window_image < img_min] = img_min\n",
    "    window_image[window_image > img_max] = img_max\n",
    "    \n",
    "    return window_image\n",
    "\n",
    "def transform_to_hu(medical_image, image):\n",
    "    intercept = -1024\n",
    "    slope = 1\n",
    "    hu_image = image * slope + intercept\n",
    "\n",
    "    return hu_image"
   ]
  },
  {
   "source": [
    "## Age"
   ],
   "cell_type": "markdown",
   "metadata": {}
  },
  {
   "cell_type": "code",
   "execution_count": null,
   "metadata": {},
   "outputs": [],
   "source": [
    "dfs = pd.concat([normal_mammographies,lesion_mammographies],ignore_index=True)"
   ]
  },
  {
   "cell_type": "code",
   "execution_count": null,
   "metadata": {},
   "outputs": [],
   "source": [
    "a = 'numerical_data/features_training_suspicious.csv'\n",
    "gt = pd.read_csv('image_data/csvs/training_suspicious.csv')\n",
    "features_df = pd.read_csv(a)\n",
    "ages = []\n",
    "for i in gt.index:\n",
    "    p = gt.loc[i,'Original']\n",
    "    age_index = dfs[dfs['image_path'] == p].index\n",
    "    age = dfs.loc[age_index,'age'].to_list()[0]\n",
    "    ages.append(age)"
   ]
  },
  {
   "cell_type": "code",
   "execution_count": null,
   "metadata": {},
   "outputs": [],
   "source": [
    "features_df['Age'] = ages\n",
    "features_df.to_csv(a)"
   ]
  },
  {
   "cell_type": "markdown",
   "metadata": {},
   "source": [
    "# Numerical Data"
   ]
  },
  {
   "cell_type": "markdown",
   "metadata": {},
   "source": [
    "## Create Features Documents"
   ]
  },
  {
   "cell_type": "code",
   "execution_count": null,
   "metadata": {},
   "outputs": [],
   "source": [
    "utils.mammary_features('image_data/raw/training/normal/','features_training_normal.csv')\n",
    "utils.mammary_features('image_data/raw/training/suspicious/','features_training_suspicious.csv')\n",
    "utils.mammary_features('image_data/raw/validation/normal/','features_validation_normal.csv')\n",
    "utils.mammary_features('image_data/raw/validation/suspicious/','features_validation_suspicious.csv')"
   ]
  },
  {
   "cell_type": "markdown",
   "metadata": {},
   "source": [
    "## Load Features Documents"
   ]
  },
  {
   "cell_type": "code",
   "execution_count": null,
   "metadata": {},
   "outputs": [],
   "source": [
    "features_training_normal = pd.read_csv('numerical_data/features_training_normal.csv')\n",
    "features_training_suspicious = pd.read_csv('numerical_data/features_training_suspicious.csv')\n",
    "features_validation_normal = pd.read_csv('numerical_data/features_validation_normal.csv')\n",
    "features_validation_suspicious = pd.read_csv('numerical_data/features_validation_suspicious.csv')"
   ]
  },
  {
   "cell_type": "markdown",
   "metadata": {},
   "source": [
    "# Train Bird's Eye Model"
   ]
  },
  {
   "cell_type": "markdown",
   "metadata": {},
   "source": [
    "## Crop Background and Downsample"
   ]
  },
  {
   "cell_type": "code",
   "execution_count": null,
   "metadata": {},
   "outputs": [],
   "source": [
    "utils.downsample('image_data/raw/training/normal/','image_data/downsampled/training/normal/',1500,1100)\n",
    "utils.downsample('image_data/raw/training/suspicious/','image_data/downsampled/training/suspicious/',1500,1100)\n",
    "utils.downsample('image_data/raw/validation/normal/','image_data/downsampled/validation/normal/',1500,1100)\n",
    "utils.downsample('image_data/raw/validation/suspicious/','image_data/downsampled/validation/suspicious/',1500,1100)"
   ]
  },
  {
   "cell_type": "markdown",
   "metadata": {},
   "source": [
    "## Transfer Learning"
   ]
  },
  {
   "cell_type": "code",
   "execution_count": null,
   "metadata": {},
   "outputs": [],
   "source": [
    "data_augmentation = True\n",
    "shuffle = True\n",
    "\n",
    "training_gen,validation_gen = utils.generator_transfer(1500,1100,data_augmentation,shuffle)"
   ]
  },
  {
   "cell_type": "code",
   "execution_count": null,
   "metadata": {},
   "outputs": [],
   "source": [
    "model = utils.create_trans_model(1500,1100)\n",
    "model.compile(optimizer=\"adam\", loss='binary_crossentropy', metrics=['binary_accuracy','AUC'])"
   ]
  },
  {
   "cell_type": "code",
   "execution_count": null,
   "metadata": {},
   "outputs": [],
   "source": [
    "model.fit(\n",
    "    training_gen,\n",
    "    epochs=25,\n",
    "    validation_data=validation_gen)"
   ]
  },
  {
   "cell_type": "code",
   "execution_count": null,
   "metadata": {},
   "outputs": [],
   "source": [
    "#model = keras.models.load_model('transfer.h5')"
   ]
  },
  {
   "cell_type": "code",
   "execution_count": null,
   "metadata": {},
   "outputs": [],
   "source": [
    "data = utils.generator_transfer(1000,800,True,False)\n",
    "y_true = data[1].classes\n",
    "y_pred = model.predict(data[1],data[1].samples//12+1)\n",
    "predictions_image = []\n",
    "for i in y_pred:\n",
    "    if i[0] > 0.5:\n",
    "        predictions_image.append(1)\n",
    "    else:\n",
    "        predictions_image.append(0)"
   ]
  },
  {
   "cell_type": "code",
   "execution_count": null,
   "metadata": {},
   "outputs": [],
   "source": [
    "c = sklearn.metrics.confusion_matrix(y_true,predictions_image)\n",
    "sens = c[1][1]/(c[1][1]+c[1][0])\n",
    "spec = c[0][0]/(c[0][0]+c[0][1])\n",
    "print(c)\n",
    "print('Sensitivity:',sens)\n",
    "print('Specificity:',spec)"
   ]
  },
  {
   "cell_type": "code",
   "execution_count": null,
   "metadata": {},
   "outputs": [],
   "source": [
    "auc = sklearn.metrics.roc_auc_score(y_true,y_pred)\n",
    "fpr,tpr,_= sklearn.metrics.roc_curve(y_true,y_pred)\n",
    "plt.plot(fpr,tpr)\n",
    "print('AUC:',auc)"
   ]
  },
  {
   "cell_type": "code",
   "execution_count": null,
   "metadata": {},
   "outputs": [],
   "source": [
    "model.save('birds_eye.h5')"
   ]
  },
  {
   "cell_type": "markdown",
   "metadata": {},
   "source": [
    "## From-Scratch"
   ]
  },
  {
   "cell_type": "code",
   "execution_count": null,
   "metadata": {},
   "outputs": [],
   "source": [
    "data_augmentation = True\n",
    "shuffle = True\n",
    "\n",
    "training_gen,validation_gen = utils.generator_transfer(1000,800,data_augmentation,shuffle)"
   ]
  },
  {
   "cell_type": "code",
   "execution_count": null,
   "metadata": {},
   "outputs": [],
   "source": [
    "model = utils.create_fs_model(1000,800)\n",
    "model.compile(optimizer=\"adam\", loss='binary_crossentropy', metrics=['binary_accuracy','AUC'])"
   ]
  },
  {
   "cell_type": "code",
   "execution_count": null,
   "metadata": {},
   "outputs": [],
   "source": [
    "model.fit(\n",
    "    training_gen,\n",
    "    epochs=25,\n",
    "    validation_data=validation_gen)"
   ]
  },
  {
   "cell_type": "code",
   "execution_count": null,
   "metadata": {},
   "outputs": [],
   "source": [
    "model = keras.models.load_model('from_scratch.h5')"
   ]
  },
  {
   "cell_type": "code",
   "execution_count": null,
   "metadata": {},
   "outputs": [],
   "source": [
    "data = utils.generator_scratch(1000,800,True,False)\n",
    "y_true = data[1].classes\n",
    "y_pred = model.predict(data[1],data[1].samples//12+1)\n",
    "predictions_image = []\n",
    "for i in y_pred:\n",
    "    if i[0] > 0.5:\n",
    "        predictions_image.append(1)\n",
    "    else:\n",
    "        predictions_image.append(0)"
   ]
  },
  {
   "cell_type": "code",
   "execution_count": null,
   "metadata": {},
   "outputs": [],
   "source": [
    "c = sklearn.metrics.confusion_matrix(y_true,predictions_image)\n",
    "sens = c[1][1]/(c[1][1]+c[1][0])\n",
    "spec = c[0][0]/(c[0][0]+c[0][1])\n",
    "print(c)\n",
    "print('Sensitivity:',sens)\n",
    "print('Specificity:',spec)"
   ]
  },
  {
   "cell_type": "code",
   "execution_count": null,
   "metadata": {},
   "outputs": [],
   "source": [
    "auc = sklearn.metrics.roc_auc_score(y_true,y_pred)\n",
    "fpr,tpr,_= sklearn.metrics.roc_curve(y_true,y_pred)\n",
    "plt.plot(fpr,tpr)\n",
    "print('AUC:',auc)"
   ]
  },
  {
   "cell_type": "markdown",
   "metadata": {},
   "source": [
    "# Train Negatives Model"
   ]
  },
  {
   "cell_type": "markdown",
   "metadata": {},
   "source": [
    "## Copy Negatives"
   ]
  },
  {
   "cell_type": "code",
   "execution_count": null,
   "metadata": {},
   "outputs": [],
   "source": [
    "downsample = True\n",
    "\n",
    "utils.copy_negatives('image_data/downsampled/training/normal/',downsample)\n",
    "utils.copy_negatives('image_data/downsampled/training/suspicious/',downsample)\n",
    "utils.copy_negatives('image_data/downsampled/validation/normal/',downsample)\n",
    "utils.copy_negatives('image_data/downsampled/validation/suspicious/',downsample)"
   ]
  },
  {
   "cell_type": "markdown",
   "metadata": {},
   "source": [
    "## Transfer Learning"
   ]
  },
  {
   "cell_type": "code",
   "execution_count": null,
   "metadata": {},
   "outputs": [],
   "source": [
    "data_augmentation = True\n",
    "shuffle = True\n",
    "\n",
    "training_gen,validation_gen = utils.generator_negatives(1000,800,data_augmentation,shuffle)"
   ]
  },
  {
   "cell_type": "code",
   "execution_count": null,
   "metadata": {},
   "outputs": [],
   "source": [
    "model = utils.create_trans_model(1000,800)\n",
    "model.compile(optimizer=\"adam\", loss='binary_crossentropy', metrics=['binary_accuracy','AUC'])"
   ]
  },
  {
   "cell_type": "code",
   "execution_count": null,
   "metadata": {},
   "outputs": [],
   "source": [
    "model.fit(\n",
    "    training_gen,\n",
    "    epochs=25,\n",
    "    validation_data=validation_gen)"
   ]
  },
  {
   "cell_type": "code",
   "execution_count": null,
   "metadata": {},
   "outputs": [],
   "source": [
    "data = utils.generator_transfer(1000,800,True,False)\n",
    "y_true = data[1].classes\n",
    "y_pred = model.predict(data[1],data[1].samples//12+1)\n",
    "predictions_image = []\n",
    "for i in y_pred:\n",
    "    if i[0] > 0.5:\n",
    "        predictions_image.append(1)\n",
    "    else:\n",
    "        predictions_image.append(0)"
   ]
  },
  {
   "cell_type": "code",
   "execution_count": null,
   "metadata": {},
   "outputs": [],
   "source": [
    "model.save('negatives_model.h5')"
   ]
  },
  {
   "cell_type": "markdown",
   "metadata": {},
   "source": [
    "# Train Quadrants Model"
   ]
  },
  {
   "cell_type": "markdown",
   "metadata": {},
   "source": [
    "## Quadrants Segmentation"
   ]
  },
  {
   "cell_type": "code",
   "execution_count": null,
   "metadata": {},
   "outputs": [],
   "source": [
    "utils.copy_quadrants('image_data/raw/training/normal/')\n",
    "utils.copy_quadrants('image_data/downsampled/training/suspicious/')\n",
    "utils.copy_quadrants('image_data/downsampled/validation/normal/')\n",
    "utils.copy_quadrants('image_data/downsampled/validation/suspicious/')"
   ]
  },
  {
   "cell_type": "markdown",
   "metadata": {},
   "source": [
    "### Data Augmentation"
   ]
  },
  {
   "cell_type": "code",
   "execution_count": null,
   "metadata": {},
   "outputs": [],
   "source": [
    "a1 = utils.augment(370,550,'image_data/quadrant_1/CC/training/normal/')\n",
    "a2 = utils.augment(500,600,'image_data/quadrant_2/CC/training/normal/')\n",
    "a3 = utils.augment(370,550,'image_data/quadrant_3/CC/training/normal/')\n",
    "a4 = utils.augment(400,450,'image_data/quadrant_1/MLO/training/normal/')\n",
    "a5 = utils.augment(600,500,'image_data/quadrant_2/MLO/training/normal/')\n",
    "a6 = utils.augment(400,500,'image_data/quadrant_3/MLO/training/normal/')\n",
    "a7 = utils.augment(370,550,'image_data/quadrant_1/CC/training/suspicious/')\n",
    "a8 = utils.augment(500,600,'image_data/quadrant_2/CC/training/suspicious/')\n",
    "a9 = utils.augment(370,550,'image_data/quadrant_3/CC/training/suspicious/')\n",
    "a10 = utils.augment(400,450,'image_data/quadrant_1/MLO/training/suspicious/')\n",
    "a11 = utils.augment(600,500,'image_data/quadrant_2/MLO/training/suspicious/')\n",
    "a12 = utils.augment(400,500,'image_data/quadrant_3/MLO/training/suspicious/')\n",
    "a13 = utils.augment(370,550,'image_data/quadrant_1/CC/validation/normal/')\n",
    "a14 = utils.augment(500,600,'image_data/quadrant_2/CC/validation/normal/')\n",
    "a15 = utils.augment(370,550,'image_data/quadrant_3/CC/validation/normal/')\n",
    "a16 = utils.augment(400,450,'image_data/quadrant_1/MLO/validation/normal/')\n",
    "a17 = utils.augment(600,500,'image_data/quadrant_2/MLO/validation/normal/')\n",
    "a18 = utils.augment(400,500,'image_data/quadrant_3/MLO/validation/normal/')\n",
    "a19 = utils.augment(370,550,'image_data/quadrant_1/CC/validation/suspicious/')\n",
    "a20 = utils.augment(500,600,'image_data/quadrant_2/CC/validation/suspicious/')\n",
    "a21 = utils.augment(370,550,'image_data/quadrant_3/CC/validation/suspicious/')\n",
    "a22 = utils.augment(400,450,'image_data/quadrant_1/MLO/validation/suspicious/')\n",
    "a23 = utils.augment(600,500,'image_data/quadrant_2/MLO/validation/suspicious/')\n",
    "a24 = utils.augment(400,500,'image_data/quadrant_3/MLO/validation/suspicious/')\n",
    "\n",
    "for gen in [a1,a2,a3,a4,a5,a6,a7,a8,a9,a10,a11,a12,a13,a14,a15,a16,a17,a18,a19,a20,a21,a22,a23,a24]:\n",
    "    for i in range(len(gen)):\n",
    "        gen[i]"
   ]
  },
  {
   "cell_type": "markdown",
   "metadata": {},
   "source": [
    "## Transfer Learning (Q1)"
   ]
  },
  {
   "cell_type": "markdown",
   "metadata": {},
   "source": [
    "### CC View"
   ]
  },
  {
   "cell_type": "code",
   "execution_count": null,
   "metadata": {},
   "outputs": [],
   "source": [
    "shuffle = True\n",
    "\n",
    "training_gen,validation_gen = utils.generator_q1(370,550,'CC',shuffle)"
   ]
  },
  {
   "cell_type": "code",
   "execution_count": null,
   "metadata": {},
   "outputs": [],
   "source": [
    "model = utils.create_trans_model(370,550)\n",
    "model.compile(optimizer=\"adam\", loss='binary_crossentropy', metrics=['binary_accuracy','AUC'])"
   ]
  },
  {
   "cell_type": "code",
   "execution_count": null,
   "metadata": {},
   "outputs": [],
   "source": [
    "h = model.fit(\n",
    "    training_gen,\n",
    "    epochs=25,\n",
    "    validation_data=validation_gen)"
   ]
  },
  {
   "cell_type": "code",
   "execution_count": null,
   "metadata": {},
   "outputs": [],
   "source": [
    "model = keras.models.load_model('models/quadrants/Q1_CC_model.h5')"
   ]
  },
  {
   "cell_type": "code",
   "execution_count": null,
   "metadata": {},
   "outputs": [],
   "source": [
    "data = utils.generator_q1(370,550,'CC',False)\n",
    "y_true = data[1].classes\n",
    "y_pred = model.predict(data[1],data[1].samples//12+1)\n",
    "predictions_image = []\n",
    "for i in y_pred:\n",
    "    if i[0] > 0.5:\n",
    "        predictions_image.append(1)\n",
    "    else:\n",
    "        predictions_image.append(0)"
   ]
  },
  {
   "cell_type": "code",
   "execution_count": null,
   "metadata": {},
   "outputs": [],
   "source": [
    "c = sklearn.metrics.confusion_matrix(y_true,predictions_image)\n",
    "sens = c[1][1]/(c[1][1]+c[1][0])\n",
    "spec = c[0][0]/(c[0][0]+c[0][1])\n",
    "print(c)\n",
    "print('Sensitivity:',sens)\n",
    "print('Specificity:',spec)"
   ]
  },
  {
   "cell_type": "code",
   "execution_count": null,
   "metadata": {},
   "outputs": [],
   "source": [
    "auc = sklearn.metrics.roc_auc_score(y_true,y_pred)\n",
    "fpr,tpr,_= sklearn.metrics.roc_curve(y_true,y_pred)\n",
    "plt.plot(fpr,tpr)\n",
    "print('AUC:',auc)"
   ]
  },
  {
   "cell_type": "code",
   "execution_count": null,
   "metadata": {},
   "outputs": [],
   "source": [
    "model.save('models/quadrants/Q1_CC_model.h5')"
   ]
  },
  {
   "cell_type": "markdown",
   "metadata": {},
   "source": [
    "### MLO View"
   ]
  },
  {
   "cell_type": "code",
   "execution_count": null,
   "metadata": {},
   "outputs": [],
   "source": [
    "shuffle = True\n",
    "\n",
    "training_gen,validation_gen = utils.generator_q1(400,450,'MLO',shuffle)"
   ]
  },
  {
   "cell_type": "code",
   "execution_count": null,
   "metadata": {},
   "outputs": [],
   "source": [
    "model = utils.create_trans_model(400,450)\n",
    "model.compile(optimizer=\"adam\", loss='binary_crossentropy', metrics=['binary_accuracy','AUC'])"
   ]
  },
  {
   "cell_type": "code",
   "execution_count": null,
   "metadata": {},
   "outputs": [],
   "source": [
    "model.fit(\n",
    "    training_gen,\n",
    "    epochs=15,\n",
    "    validation_data=validation_gen)"
   ]
  },
  {
   "cell_type": "code",
   "execution_count": null,
   "metadata": {},
   "outputs": [],
   "source": [
    "model = keras.models.load_model('models/quadrants/Q1_MLO_model.h5')"
   ]
  },
  {
   "cell_type": "code",
   "execution_count": null,
   "metadata": {},
   "outputs": [],
   "source": [
    "data = utils.generator_q1(400,450,'MLO',False)\n",
    "y_true = data[1].classes\n",
    "y_pred = model.predict(data[1],data[1].samples//12+1)\n",
    "predictions_image = []\n",
    "for i in y_pred:\n",
    "    if i[0] > 0.5:\n",
    "        predictions_image.append(1)\n",
    "    else:\n",
    "        predictions_image.append(0)"
   ]
  },
  {
   "cell_type": "code",
   "execution_count": null,
   "metadata": {},
   "outputs": [],
   "source": [
    "c = sklearn.metrics.confusion_matrix(y_true,predictions_image)\n",
    "sens = c[1][1]/(c[1][1]+c[1][0])\n",
    "spec = c[0][0]/(c[0][0]+c[0][1])\n",
    "print(c)\n",
    "print('Sensitivity:',sens)\n",
    "print('Specificity:',spec)"
   ]
  },
  {
   "cell_type": "code",
   "execution_count": null,
   "metadata": {},
   "outputs": [],
   "source": [
    "auc = sklearn.metrics.roc_auc_score(y_true,y_pred)\n",
    "fpr,tpr,_= sklearn.metrics.roc_curve(y_true,y_pred)\n",
    "plt.plot(fpr,tpr)\n",
    "print('AUC:',auc)"
   ]
  },
  {
   "cell_type": "code",
   "execution_count": null,
   "metadata": {},
   "outputs": [],
   "source": [
    "model.save('models/quadrants/Q1_MLO_model.h5')"
   ]
  },
  {
   "cell_type": "markdown",
   "metadata": {},
   "source": [
    "### Both"
   ]
  },
  {
   "cell_type": "code",
   "execution_count": null,
   "metadata": {},
   "outputs": [],
   "source": [
    "shuffle = True\n",
    "\n",
    "training_gen,validation_gen = utils.generator_q1(400,550,'both',shuffle)"
   ]
  },
  {
   "cell_type": "code",
   "execution_count": null,
   "metadata": {},
   "outputs": [],
   "source": [
    "model = utils.create_trans_model(400,550)\n",
    "model.compile(optimizer=\"adam\", loss='binary_crossentropy', metrics=['binary_accuracy','AUC'])"
   ]
  },
  {
   "cell_type": "code",
   "execution_count": null,
   "metadata": {},
   "outputs": [],
   "source": [
    "model.fit(\n",
    "    training_gen,\n",
    "    epochs=15,\n",
    "    validation_data=validation_gen)"
   ]
  },
  {
   "cell_type": "code",
   "execution_count": null,
   "metadata": {},
   "outputs": [],
   "source": [
    "model.save('models/quadrants/Q1_model.h5')"
   ]
  },
  {
   "cell_type": "code",
   "execution_count": null,
   "metadata": {},
   "outputs": [],
   "source": [
    "model = keras.models.load_model('models/quadrants/Q1_model.h5')"
   ]
  },
  {
   "cell_type": "code",
   "execution_count": null,
   "metadata": {},
   "outputs": [],
   "source": [
    "data = utils.generator_q1(400,550,'both',False)\n",
    "y_true = data[1].classes\n",
    "y_pred = model.predict(data[1],data[1].samples//12+1)\n",
    "predictions_image = []\n",
    "for i in y_pred:\n",
    "    if i[0] > 0.5:\n",
    "        predictions_image.append(1)\n",
    "    else:\n",
    "        predictions_image.append(0)"
   ]
  },
  {
   "cell_type": "code",
   "execution_count": null,
   "metadata": {},
   "outputs": [],
   "source": [
    "c = sklearn.metrics.confusion_matrix(y_true,predictions_image)\n",
    "sens = c[1][1]/(c[1][1]+c[1][0])\n",
    "spec = c[0][0]/(c[0][0]+c[0][1])\n",
    "print(c)\n",
    "print('Sensitivity:',sens)\n",
    "print('Specificity:',spec)"
   ]
  },
  {
   "cell_type": "code",
   "execution_count": null,
   "metadata": {},
   "outputs": [],
   "source": [
    "auc = sklearn.metrics.roc_auc_score(y_true,y_pred)\n",
    "fpr,tpr,_= sklearn.metrics.roc_curve(y_true,y_pred)\n",
    "plt.plot(fpr,tpr)\n",
    "print('AUC:',auc)"
   ]
  },
  {
   "cell_type": "markdown",
   "metadata": {},
   "source": [
    "## Transfer Learning (Q2)"
   ]
  },
  {
   "cell_type": "markdown",
   "metadata": {},
   "source": [
    "### CC View"
   ]
  },
  {
   "cell_type": "code",
   "execution_count": null,
   "metadata": {},
   "outputs": [],
   "source": [
    "shuffle = True\n",
    "\n",
    "training_gen,validation_gen = utils.generator_q2(500,600,'CC',shuffle)"
   ]
  },
  {
   "cell_type": "code",
   "execution_count": null,
   "metadata": {},
   "outputs": [],
   "source": [
    "model = utils.create_trans_model(500,600)\n",
    "model.compile(optimizer=\"adam\", loss='binary_crossentropy', metrics=['binary_accuracy','AUC'])"
   ]
  },
  {
   "cell_type": "code",
   "execution_count": null,
   "metadata": {},
   "outputs": [],
   "source": [
    "model.fit(\n",
    "    training_gen,\n",
    "    epochs=25,\n",
    "    validation_data=validation_gen)"
   ]
  },
  {
   "cell_type": "code",
   "execution_count": null,
   "metadata": {},
   "outputs": [],
   "source": [
    "data = utils.generator_q2(500,600,'CC',shuffle)\n",
    "y_true = data[1].classes\n",
    "y_pred = model.predict(data[1],data[1].samples//12+1)\n",
    "predictions_image = []\n",
    "for i in y_pred:\n",
    "    if i[0] > 0.5:\n",
    "        predictions_image.append(1)\n",
    "    else:\n",
    "        predictions_image.append(0)"
   ]
  },
  {
   "cell_type": "code",
   "execution_count": null,
   "metadata": {},
   "outputs": [],
   "source": [
    "c = sklearn.metrics.confusion_matrix(y_true,predictions_image)\n",
    "sens = c[1][1]/(c[1][1]+c[1][0])\n",
    "spec = c[0][0]/(c[0][0]+c[0][1])\n",
    "print(c)\n",
    "print('Sensitivity:',sens)\n",
    "print('Specificity:',spec)"
   ]
  },
  {
   "cell_type": "code",
   "execution_count": null,
   "metadata": {},
   "outputs": [],
   "source": [
    "auc = sklearn.metrics.roc_auc_score(y_true,y_pred)\n",
    "fpr,tpr,_= sklearn.metrics.roc_curve(y_true,y_pred)\n",
    "plt.plot(fpr,tpr)\n",
    "print('AUC:',auc)"
   ]
  },
  {
   "cell_type": "code",
   "execution_count": null,
   "metadata": {},
   "outputs": [],
   "source": [
    "model.save('models/quadrants/Q2_CC_model.h5')"
   ]
  },
  {
   "cell_type": "markdown",
   "metadata": {},
   "source": [
    "### MLO View"
   ]
  },
  {
   "cell_type": "code",
   "execution_count": null,
   "metadata": {},
   "outputs": [],
   "source": [
    "shuffle = True\n",
    "\n",
    "training_gen,validation_gen = utils.generator_q2(600,500,'MLO',shuffle)"
   ]
  },
  {
   "cell_type": "code",
   "execution_count": null,
   "metadata": {},
   "outputs": [],
   "source": [
    "model = utils.create_trans_model(600,500)\n",
    "model.compile(optimizer=\"adam\", loss='binary_crossentropy', metrics=['binary_accuracy','AUC'])"
   ]
  },
  {
   "cell_type": "code",
   "execution_count": null,
   "metadata": {},
   "outputs": [],
   "source": [
    "model.fit(\n",
    "    training_gen,\n",
    "    epochs=25,\n",
    "    validation_data=validation_gen)"
   ]
  },
  {
   "cell_type": "code",
   "execution_count": null,
   "metadata": {},
   "outputs": [],
   "source": [
    "data = utils.generator_q2(600,500,'MLO',shuffle)\n",
    "y_true = data[1].classes\n",
    "y_pred = model.predict(data[1],data[1].samples//12+1)\n",
    "predictions_image = []\n",
    "for i in y_pred:\n",
    "    if i[0] > 0.5:\n",
    "        predictions_image.append(1)\n",
    "    else:\n",
    "        predictions_image.append(0)"
   ]
  },
  {
   "cell_type": "code",
   "execution_count": null,
   "metadata": {},
   "outputs": [],
   "source": [
    "c = sklearn.metrics.confusion_matrix(y_true,predictions_image)\n",
    "sens = c[1][1]/(c[1][1]+c[1][0])\n",
    "spec = c[0][0]/(c[0][0]+c[0][1])\n",
    "print(c)\n",
    "print('Sensitivity:',sens)\n",
    "print('Specificity:',spec)"
   ]
  },
  {
   "cell_type": "code",
   "execution_count": null,
   "metadata": {},
   "outputs": [],
   "source": [
    "auc = sklearn.metrics.roc_auc_score(y_true,y_pred)\n",
    "fpr,tpr,_= sklearn.metrics.roc_curve(y_true,y_pred)\n",
    "plt.plot(fpr,tpr)\n",
    "print('AUC:',auc)"
   ]
  },
  {
   "cell_type": "code",
   "execution_count": null,
   "metadata": {},
   "outputs": [],
   "source": [
    "model.save('models/quadrants/Q2_MLO_model.h5')"
   ]
  },
  {
   "cell_type": "markdown",
   "metadata": {},
   "source": [
    "## Transfer Learning (Q3)"
   ]
  },
  {
   "cell_type": "markdown",
   "metadata": {},
   "source": [
    "### CC View"
   ]
  },
  {
   "cell_type": "code",
   "execution_count": null,
   "metadata": {},
   "outputs": [],
   "source": [
    "shuffle = True\n",
    "\n",
    "training_gen,validation_gen = utils.generator_q3(370,550,'CC',shuffle)"
   ]
  },
  {
   "cell_type": "code",
   "execution_count": null,
   "metadata": {},
   "outputs": [],
   "source": [
    "model = utils.create_trans_model(370,550)\n",
    "model.compile(optimizer=\"adam\", loss='binary_crossentropy', metrics=['binary_accuracy','AUC'])"
   ]
  },
  {
   "cell_type": "code",
   "execution_count": null,
   "metadata": {},
   "outputs": [],
   "source": [
    "model.fit(\n",
    "    training_gen,\n",
    "    epochs=25,\n",
    "    validation_data=validation_gen)"
   ]
  },
  {
   "cell_type": "code",
   "execution_count": null,
   "metadata": {},
   "outputs": [],
   "source": [
    "data = utils.generator_q3(370,550,'CC',shuffle)\n",
    "y_true = data[1].classes\n",
    "y_pred = model.predict(data[1],data[1].samples//12+1)\n",
    "predictions_image = []\n",
    "for i in y_pred:\n",
    "    if i[0] > 0.5:\n",
    "        predictions_image.append(1)\n",
    "    else:\n",
    "        predictions_image.append(0)"
   ]
  },
  {
   "cell_type": "code",
   "execution_count": null,
   "metadata": {},
   "outputs": [],
   "source": [
    "c = sklearn.metrics.confusion_matrix(y_true,predictions_image)\n",
    "sens = c[1][1]/(c[1][1]+c[1][0])\n",
    "spec = c[0][0]/(c[0][0]+c[0][1])\n",
    "print(c)\n",
    "print('Sensitivity:',sens)\n",
    "print('Specificity:',spec)"
   ]
  },
  {
   "cell_type": "code",
   "execution_count": null,
   "metadata": {},
   "outputs": [],
   "source": [
    "auc = sklearn.metrics.roc_auc_score(y_true,y_pred)\n",
    "fpr,tpr,_= sklearn.metrics.roc_curve(y_true,y_pred)\n",
    "plt.plot(fpr,tpr)\n",
    "print('AUC:',auc)"
   ]
  },
  {
   "cell_type": "code",
   "execution_count": null,
   "metadata": {},
   "outputs": [],
   "source": [
    "model.save('models/quadrants/Q3_CC_model.h5')"
   ]
  },
  {
   "cell_type": "markdown",
   "metadata": {},
   "source": [
    "### MLO View"
   ]
  },
  {
   "cell_type": "code",
   "execution_count": null,
   "metadata": {},
   "outputs": [],
   "source": [
    "shuffle = True\n",
    "\n",
    "training_gen,validation_gen = utils.generator_q3(400,500,'MLO',shuffle)"
   ]
  },
  {
   "cell_type": "code",
   "execution_count": null,
   "metadata": {},
   "outputs": [],
   "source": [
    "model = utils.create_trans_model(400,500)\n",
    "model.compile(optimizer=\"adam\", loss='binary_crossentropy', metrics=['binary_accuracy','AUC'])"
   ]
  },
  {
   "cell_type": "code",
   "execution_count": null,
   "metadata": {},
   "outputs": [],
   "source": [
    "model.fit(\n",
    "    training_gen,\n",
    "    epochs=25,\n",
    "    validation_data=validation_gen)"
   ]
  },
  {
   "cell_type": "code",
   "execution_count": null,
   "metadata": {},
   "outputs": [],
   "source": [
    "data = utils.generator_q3(400,500,'MLO',shuffle)\n",
    "y_true = data[1].classes\n",
    "y_pred = model.predict(data[1],data[1].samples//12+1)\n",
    "predictions_image = []\n",
    "for i in y_pred:\n",
    "    if i[0] > 0.5:\n",
    "        predictions_image.append(1)\n",
    "    else:\n",
    "        predictions_image.append(0)"
   ]
  },
  {
   "cell_type": "code",
   "execution_count": null,
   "metadata": {},
   "outputs": [],
   "source": [
    "c = sklearn.metrics.confusion_matrix(y_true,predictions_image)\n",
    "sens = c[1][1]/(c[1][1]+c[1][0])\n",
    "spec = c[0][0]/(c[0][0]+c[0][1])\n",
    "print(c)\n",
    "print('Sensitivity:',sens)\n",
    "print('Specificity:',spec)"
   ]
  },
  {
   "cell_type": "code",
   "execution_count": null,
   "metadata": {},
   "outputs": [],
   "source": [
    "auc = sklearn.metrics.roc_auc_score(y_true,y_pred)\n",
    "fpr,tpr,_= sklearn.metrics.roc_curve(y_true,y_pred)\n",
    "plt.plot(fpr,tpr)\n",
    "print('AUC:',auc)"
   ]
  },
  {
   "cell_type": "code",
   "execution_count": null,
   "metadata": {},
   "outputs": [],
   "source": [
    "model.save('models/quadrants/Q3_MLO_model.h5')"
   ]
  },
  {
   "source": [
    "# Patching"
   ],
   "cell_type": "markdown",
   "metadata": {}
  },
  {
   "cell_type": "code",
   "execution_count": null,
   "metadata": {
    "tags": []
   },
   "outputs": [],
   "source": [
    "#utils.save_patches_by_image('image_data/raw/training/normal/',300,0.2)\n",
    "utils.save_patches_by_image('image_data/raw/training/suspicious/',300,0.2)\n",
    "#utils.save_patches_by_image('image_data/raw/validation/normal/',300,0.2)\n",
    "#utils.save_patches_by_image('image_data/raw/validation/suspicious/',300,0.2)"
   ]
  },
  {
   "cell_type": "code",
   "execution_count": null,
   "metadata": {
    "tags": []
   },
   "outputs": [],
   "source": [
    "#utils.classify_patches('image_data/raw/training/normal/')\n",
    "utils.classify_patches('image_data/raw/training/suspicious/')\n",
    "#utils.classify_patches('image_data/raw/validation/normal/')\n",
    "#utils.classify_patches('image_data/raw/validation/suspicious/')\n"
   ]
  },
  {
   "cell_type": "code",
   "execution_count": null,
   "metadata": {},
   "outputs": [],
   "source": [
    "#utils.add_to_features_csv('image_data/raw/training/normal/','numerical_data/features_training_normal.csv',0.4)\n",
    "#utils.add_to_features_csv('image_data/raw/training/suspicious/','numerical_data/features_training_suspicious.csv',0.4)\n",
    "#utils.add_to_features_csv('image_data/raw/validation/normal/','numerical_data/features_validation_normal.csv',0.4)\n",
    "utils.add_to_features_csv('image_data/raw/validation/suspicious/','numerical_data/features_validation_suspicious.csv',0.4)"
   ]
  },
  {
   "cell_type": "markdown",
   "metadata": {},
   "source": [
    "# Meta Classification"
   ]
  },
  {
   "cell_type": "markdown",
   "metadata": {},
   "source": [
    "## Evaluate Mammograms"
   ]
  },
  {
   "cell_type": "code",
   "execution_count": null,
   "metadata": {},
   "outputs": [],
   "source": [
    "features_validation_normal['Ground Truth'] = 0\n",
    "features_validation_suspicious['Ground Truth'] = 1"
   ]
  },
  {
   "cell_type": "code",
   "execution_count": null,
   "metadata": {},
   "outputs": [],
   "source": [
    "dataframe = pd.concat([features_validation_normal,features_validation_suspicious],ignore_index=True)"
   ]
  },
  {
   "cell_type": "code",
   "execution_count": null,
   "metadata": {},
   "outputs": [],
   "source": [
    "model = keras.models.load_model('models/mammo_comp.h5')"
   ]
  },
  {
   "cell_type": "code",
   "execution_count": null,
   "metadata": {},
   "outputs": [],
   "source": [
    "utils.classify_mammograms(model,dataframe,True)"
   ]
  },
  {
   "cell_type": "markdown",
   "metadata": {},
   "source": [
    "## CNN Results"
   ]
  },
  {
   "cell_type": "code",
   "execution_count": null,
   "metadata": {},
   "outputs": [],
   "source": [
    "comp = True"
   ]
  },
  {
   "cell_type": "code",
   "execution_count": null,
   "metadata": {},
   "outputs": [],
   "source": [
    "if comp:\n",
    "    dataframe = pd.read_csv('numerical_data/classification_data_comp.csv')\n",
    "else:\n",
    "    dataframe = pd.read_csv('numerical_data/classification_data.csv')"
   ]
  },
  {
   "cell_type": "code",
   "execution_count": null,
   "metadata": {},
   "outputs": [],
   "source": [
    "data= utils.generator_transfer(1500,1100,False,False)\n",
    "y_true = data[1].classes\n",
    "y_pred = dataframe['Classifications']"
   ]
  },
  {
   "cell_type": "code",
   "execution_count": null,
   "metadata": {},
   "outputs": [],
   "source": [
    "c = sklearn.metrics.confusion_matrix(y_true,numpy.round(y_pred))\n",
    "sens = c[1][1]/(c[1][1]+c[1][0])\n",
    "spec = c[0][0]/(c[0][0]+c[0][1])\n",
    "print(c)\n",
    "print('Sensitivity:',sens)\n",
    "print('Specificity:',spec)"
   ]
  },
  {
   "cell_type": "code",
   "execution_count": null,
   "metadata": {},
   "outputs": [],
   "source": [
    "acc = sklearn.metrics.accuracy_score(y_true,numpy.round(y_pred))\n",
    "print('Accuracy:',acc)"
   ]
  },
  {
   "cell_type": "code",
   "execution_count": null,
   "metadata": {},
   "outputs": [],
   "source": [
    "auc = sklearn.metrics.roc_auc_score(y_true,y_pred)\n",
    "fpr,tpr,_= sklearn.metrics.roc_curve(y_true,y_pred)\n",
    "plt.plot(fpr,tpr)\n",
    "print('AUC:',auc)"
   ]
  },
  {
   "cell_type": "markdown",
   "metadata": {},
   "source": [
    "## Metaclassifier"
   ]
  },
  {
   "cell_type": "code",
   "execution_count": 40,
   "metadata": {},
   "outputs": [],
   "source": [
    "from sklearn.pipeline import Pipeline\n",
    "from sklearn.impute import SimpleImputer\n",
    "from sklearn.feature_selection import SelectKBest, f_classif\n",
    "from sklearn.model_selection import cross_val_score,train_test_split,GridSearchCV\n",
    "from sklearn.ensemble import RandomForestClassifier\n",
    "from sklearn import svm\n",
    "from sklearn.metrics import classification_report\n",
    "from sklearn.inspection import permutation_importance"
   ]
  },
  {
   "cell_type": "code",
   "execution_count": 41,
   "metadata": {},
   "outputs": [],
   "source": [
    "comp = True"
   ]
  },
  {
   "cell_type": "code",
   "execution_count": 42,
   "metadata": {},
   "outputs": [],
   "source": [
    "if comp:\n",
    "    dataframe = pd.read_csv('numerical_data/classification_data_comp.csv')\n",
    "else:\n",
    "    dataframe = pd.read_csv('numerical_data/classification_data.csv')\n",
    "dataframe = dataframe.sample(n=len(dataframe.index))"
   ]
  },
  {
   "cell_type": "code",
   "execution_count": 43,
   "metadata": {},
   "outputs": [],
   "source": [
    "X = dataframe.loc[:, dataframe.columns != 'Ground Truth']\n",
    "X = X.loc[:, X.columns != 'Unnamed: 0']\n",
    "X = X.loc[:, X.columns != 'Unnamed: 0.1']\n",
    "X = X.loc[:, X.columns != 'Ratio']\n",
    "#X = X.loc[:, X.columns != 'Ratios']\n",
    "#X = X.loc[:, X.columns != 'I_Kurtosis']\n",
    "#X = X.loc[:, X.columns != 'I_Mode']\n",
    "#X = X.loc[:, X.columns != 'I_Std']\n",
    "#X = X.loc[:, X.columns != 'I_Median']\n",
    "#X = X.loc[:, X.columns != 'T_Entropy']\n",
    "#X = X.loc[:, X.columns != 'I_Skewness']\n",
    "y = dataframe['Ground Truth']"
   ]
  },
  {
   "cell_type": "code",
   "execution_count": 44,
   "metadata": {},
   "outputs": [],
   "source": [
    "my_imputer = SimpleImputer(strategy='constant',fill_value=56)\n",
    "imputed_X_train_age = my_imputer.fit_transform(numpy.array(X['Age']).reshape(-1,1))\n",
    "X['Age'] = imputed_X_train_age\n",
    "X = X.astype({'Age': 'int32'})"
   ]
  },
  {
   "cell_type": "code",
   "execution_count": 45,
   "metadata": {},
   "outputs": [
    {
     "output_type": "execute_result",
     "data": {
      "text/plain": [
       "        I_Mean     I_Std  I_Median  I_Mode  T_Entropy  I_Skewness  I_Kurtosis  \\\n",
       "64   138.79672  45.44520     134.0      97    4.96730     0.00176    -0.88518   \n",
       "16   113.02930  33.82095     116.0     113    4.72211    -0.13892     0.26601   \n",
       "150  129.04316  31.48155     134.0     131    4.67304    -0.42463     0.69313   \n",
       "151   90.26912  40.22491      89.0      89    4.89887     0.39204     0.21098   \n",
       "54   119.88714  44.94759     105.0      97    4.80965     0.85700     0.15188   \n",
       "\n",
       "     Age  Classifications  Ratios  \n",
       "64    41            0.001    0.03  \n",
       "16    41            0.014    0.01  \n",
       "150   58            0.998    0.11  \n",
       "151   60            0.980    0.06  \n",
       "54    41            0.033    0.16  "
      ],
      "text/html": "<div>\n<style scoped>\n    .dataframe tbody tr th:only-of-type {\n        vertical-align: middle;\n    }\n\n    .dataframe tbody tr th {\n        vertical-align: top;\n    }\n\n    .dataframe thead th {\n        text-align: right;\n    }\n</style>\n<table border=\"1\" class=\"dataframe\">\n  <thead>\n    <tr style=\"text-align: right;\">\n      <th></th>\n      <th>I_Mean</th>\n      <th>I_Std</th>\n      <th>I_Median</th>\n      <th>I_Mode</th>\n      <th>T_Entropy</th>\n      <th>I_Skewness</th>\n      <th>I_Kurtosis</th>\n      <th>Age</th>\n      <th>Classifications</th>\n      <th>Ratios</th>\n    </tr>\n  </thead>\n  <tbody>\n    <tr>\n      <th>64</th>\n      <td>138.79672</td>\n      <td>45.44520</td>\n      <td>134.0</td>\n      <td>97</td>\n      <td>4.96730</td>\n      <td>0.00176</td>\n      <td>-0.88518</td>\n      <td>41</td>\n      <td>0.001</td>\n      <td>0.03</td>\n    </tr>\n    <tr>\n      <th>16</th>\n      <td>113.02930</td>\n      <td>33.82095</td>\n      <td>116.0</td>\n      <td>113</td>\n      <td>4.72211</td>\n      <td>-0.13892</td>\n      <td>0.26601</td>\n      <td>41</td>\n      <td>0.014</td>\n      <td>0.01</td>\n    </tr>\n    <tr>\n      <th>150</th>\n      <td>129.04316</td>\n      <td>31.48155</td>\n      <td>134.0</td>\n      <td>131</td>\n      <td>4.67304</td>\n      <td>-0.42463</td>\n      <td>0.69313</td>\n      <td>58</td>\n      <td>0.998</td>\n      <td>0.11</td>\n    </tr>\n    <tr>\n      <th>151</th>\n      <td>90.26912</td>\n      <td>40.22491</td>\n      <td>89.0</td>\n      <td>89</td>\n      <td>4.89887</td>\n      <td>0.39204</td>\n      <td>0.21098</td>\n      <td>60</td>\n      <td>0.980</td>\n      <td>0.06</td>\n    </tr>\n    <tr>\n      <th>54</th>\n      <td>119.88714</td>\n      <td>44.94759</td>\n      <td>105.0</td>\n      <td>97</td>\n      <td>4.80965</td>\n      <td>0.85700</td>\n      <td>0.15188</td>\n      <td>41</td>\n      <td>0.033</td>\n      <td>0.16</td>\n    </tr>\n  </tbody>\n</table>\n</div>"
     },
     "metadata": {},
     "execution_count": 45
    }
   ],
   "source": [
    "X_train, X_valid, y_train, y_valid = train_test_split(X, y,test_size=0.35)\n",
    "X.head(5)"
   ]
  },
  {
   "cell_type": "code",
   "execution_count": 49,
   "metadata": {},
   "outputs": [
    {
     "output_type": "stream",
     "name": "stdout",
     "text": [
      "              precision    recall  f1-score   support\n\n      normal       0.93      0.82      0.87        34\n  suspicious       0.81      0.93      0.87        28\n\n    accuracy                           0.87        62\n   macro avg       0.87      0.88      0.87        62\nweighted avg       0.88      0.87      0.87        62\n\n"
     ]
    }
   ],
   "source": [
    "forest_model = RandomForestClassifier()\n",
    "model = svm.SVC()\n",
    "pipeline = Pipeline(steps=[('model',model)])\n",
    "pipeline = Pipeline(steps=[('model',forest_model)])\n",
    "pipeline.fit(X_train,y_train)\n",
    "preds = pipeline.predict(X_valid)\n",
    "names = ['normal','suspicious']\n",
    "print(classification_report(y_valid, preds,target_names=names))"
   ]
  },
  {
   "source": [
    "### Feature Importance"
   ],
   "cell_type": "markdown",
   "metadata": {}
  },
  {
   "cell_type": "code",
   "execution_count": 50,
   "metadata": {},
   "outputs": [
    {
     "output_type": "execute_result",
     "data": {
      "text/plain": [
       "<BarContainer object of 10 artists>"
      ]
     },
     "metadata": {},
     "execution_count": 50
    },
    {
     "output_type": "display_data",
     "data": {
      "text/plain": "<Figure size 432x288 with 1 Axes>",
      "image/svg+xml": "<?xml version=\"1.0\" encoding=\"utf-8\" standalone=\"no\"?>\r\n<!DOCTYPE svg PUBLIC \"-//W3C//DTD SVG 1.1//EN\"\r\n  \"http://www.w3.org/Graphics/SVG/1.1/DTD/svg11.dtd\">\r\n<!-- Created with matplotlib (https://matplotlib.org/) -->\r\n<svg height=\"248.518125pt\" version=\"1.1\" viewBox=\"0 0 427.575 248.518125\" width=\"427.575pt\" xmlns=\"http://www.w3.org/2000/svg\" xmlns:xlink=\"http://www.w3.org/1999/xlink\">\r\n <metadata>\r\n  <rdf:RDF xmlns:cc=\"http://creativecommons.org/ns#\" xmlns:dc=\"http://purl.org/dc/elements/1.1/\" xmlns:rdf=\"http://www.w3.org/1999/02/22-rdf-syntax-ns#\">\r\n   <cc:Work>\r\n    <dc:type rdf:resource=\"http://purl.org/dc/dcmitype/StillImage\"/>\r\n    <dc:date>2021-04-27T15:17:07.050797</dc:date>\r\n    <dc:format>image/svg+xml</dc:format>\r\n    <dc:creator>\r\n     <cc:Agent>\r\n      <dc:title>Matplotlib v3.3.2, https://matplotlib.org/</dc:title>\r\n     </cc:Agent>\r\n    </dc:creator>\r\n   </cc:Work>\r\n  </rdf:RDF>\r\n </metadata>\r\n <defs>\r\n  <style type=\"text/css\">*{stroke-linecap:butt;stroke-linejoin:round;}</style>\r\n </defs>\r\n <g id=\"figure_1\">\r\n  <g id=\"patch_1\">\r\n   <path d=\"M 0 248.518125 \r\nL 427.575 248.518125 \r\nL 427.575 0 \r\nL 0 0 \r\nz\r\n\" style=\"fill:none;\"/>\r\n  </g>\r\n  <g id=\"axes_1\">\r\n   <g id=\"patch_2\">\r\n    <path d=\"M 85.575 224.64 \r\nL 420.375 224.64 \r\nL 420.375 7.2 \r\nL 85.575 7.2 \r\nz\r\n\" style=\"fill:#ffffff;\"/>\r\n   </g>\r\n   <g id=\"patch_3\">\r\n    <path clip-path=\"url(#p278a20d1e3)\" d=\"M 121.952151 214.756364 \r\nL 100.793182 214.756364 \r\nL 100.793182 198.619814 \r\nL 121.952151 198.619814 \r\nz\r\n\" style=\"fill:#1f77b4;\"/>\r\n   </g>\r\n   <g id=\"patch_4\">\r\n    <path clip-path=\"url(#p278a20d1e3)\" d=\"M 121.952151 194.585677 \r\nL 105.676021 194.585677 \r\nL 105.676021 178.449128 \r\nL 121.952151 178.449128 \r\nz\r\n\" style=\"fill:#1f77b4;\"/>\r\n   </g>\r\n   <g id=\"patch_5\">\r\n    <path clip-path=\"url(#p278a20d1e3)\" d=\"M 121.952151 174.414991 \r\nL 107.303634 174.414991 \r\nL 107.303634 158.278442 \r\nL 121.952151 158.278442 \r\nz\r\n\" style=\"fill:#1f77b4;\"/>\r\n   </g>\r\n   <g id=\"patch_6\">\r\n    <path clip-path=\"url(#p278a20d1e3)\" d=\"M 121.952151 154.244304 \r\nL 108.931247 154.244304 \r\nL 108.931247 138.107755 \r\nL 121.952151 138.107755 \r\nz\r\n\" style=\"fill:#1f77b4;\"/>\r\n   </g>\r\n   <g id=\"patch_7\">\r\n    <path clip-path=\"url(#p278a20d1e3)\" d=\"M 121.952151 134.073618 \r\nL 112.186473 134.073618 \r\nL 112.186473 117.937069 \r\nL 121.952151 117.937069 \r\nz\r\n\" style=\"fill:#1f77b4;\"/>\r\n   </g>\r\n   <g id=\"patch_8\">\r\n    <path clip-path=\"url(#p278a20d1e3)\" d=\"M 121.952151 113.902931 \r\nL 113.814086 113.902931 \r\nL 113.814086 97.766382 \r\nL 121.952151 97.766382 \r\nz\r\n\" style=\"fill:#1f77b4;\"/>\r\n   </g>\r\n   <g id=\"patch_9\">\r\n    <path clip-path=\"url(#p278a20d1e3)\" d=\"M 121.952151 93.732245 \r\nL 121.952151 93.732245 \r\nL 121.952151 77.595696 \r\nL 121.952151 77.595696 \r\nz\r\n\" style=\"fill:#1f77b4;\"/>\r\n   </g>\r\n   <g id=\"patch_10\">\r\n    <path clip-path=\"url(#p278a20d1e3)\" d=\"M 121.952151 73.561558 \r\nL 143.111121 73.561558 \r\nL 143.111121 57.425009 \r\nL 121.952151 57.425009 \r\nz\r\n\" style=\"fill:#1f77b4;\"/>\r\n   </g>\r\n   <g id=\"patch_11\">\r\n    <path clip-path=\"url(#p278a20d1e3)\" d=\"M 121.952151 53.390872 \r\nL 178.918607 53.390872 \r\nL 178.918607 37.254323 \r\nL 121.952151 37.254323 \r\nz\r\n\" style=\"fill:#1f77b4;\"/>\r\n   </g>\r\n   <g id=\"patch_12\">\r\n    <path clip-path=\"url(#p278a20d1e3)\" d=\"M 121.952151 33.220186 \r\nL 405.156818 33.220186 \r\nL 405.156818 17.083636 \r\nL 121.952151 17.083636 \r\nz\r\n\" style=\"fill:#1f77b4;\"/>\r\n   </g>\r\n   <g id=\"matplotlib.axis_1\">\r\n    <g id=\"xtick_1\">\r\n     <g id=\"line2d_1\">\r\n      <defs>\r\n       <path d=\"M 0 0 \r\nL 0 3.5 \r\n\" id=\"m24903af031\" style=\"stroke:#000000;stroke-width:0.8;\"/>\r\n      </defs>\r\n      <g>\r\n       <use style=\"stroke:#000000;stroke-width:0.8;\" x=\"121.952151\" xlink:href=\"#m24903af031\" y=\"224.64\"/>\r\n      </g>\r\n     </g>\r\n     <g id=\"text_1\">\r\n      <!-- 0.00 -->\r\n      <g transform=\"translate(110.819339 239.238437)scale(0.1 -0.1)\">\r\n       <defs>\r\n        <path d=\"M 31.78125 66.40625 \r\nQ 24.171875 66.40625 20.328125 58.90625 \r\nQ 16.5 51.421875 16.5 36.375 \r\nQ 16.5 21.390625 20.328125 13.890625 \r\nQ 24.171875 6.390625 31.78125 6.390625 \r\nQ 39.453125 6.390625 43.28125 13.890625 \r\nQ 47.125 21.390625 47.125 36.375 \r\nQ 47.125 51.421875 43.28125 58.90625 \r\nQ 39.453125 66.40625 31.78125 66.40625 \r\nz\r\nM 31.78125 74.21875 \r\nQ 44.046875 74.21875 50.515625 64.515625 \r\nQ 56.984375 54.828125 56.984375 36.375 \r\nQ 56.984375 17.96875 50.515625 8.265625 \r\nQ 44.046875 -1.421875 31.78125 -1.421875 \r\nQ 19.53125 -1.421875 13.0625 8.265625 \r\nQ 6.59375 17.96875 6.59375 36.375 \r\nQ 6.59375 54.828125 13.0625 64.515625 \r\nQ 19.53125 74.21875 31.78125 74.21875 \r\nz\r\n\" id=\"DejaVuSans-48\"/>\r\n        <path d=\"M 10.6875 12.40625 \r\nL 21 12.40625 \r\nL 21 0 \r\nL 10.6875 0 \r\nz\r\n\" id=\"DejaVuSans-46\"/>\r\n       </defs>\r\n       <use xlink:href=\"#DejaVuSans-48\"/>\r\n       <use x=\"63.623047\" xlink:href=\"#DejaVuSans-46\"/>\r\n       <use x=\"95.410156\" xlink:href=\"#DejaVuSans-48\"/>\r\n       <use x=\"159.033203\" xlink:href=\"#DejaVuSans-48\"/>\r\n      </g>\r\n     </g>\r\n    </g>\r\n    <g id=\"xtick_2\">\r\n     <g id=\"line2d_2\">\r\n      <g>\r\n       <use style=\"stroke:#000000;stroke-width:0.8;\" x=\"172.408155\" xlink:href=\"#m24903af031\" y=\"224.64\"/>\r\n      </g>\r\n     </g>\r\n     <g id=\"text_2\">\r\n      <!-- 0.05 -->\r\n      <g transform=\"translate(161.275343 239.238437)scale(0.1 -0.1)\">\r\n       <defs>\r\n        <path d=\"M 10.796875 72.90625 \r\nL 49.515625 72.90625 \r\nL 49.515625 64.59375 \r\nL 19.828125 64.59375 \r\nL 19.828125 46.734375 \r\nQ 21.96875 47.46875 24.109375 47.828125 \r\nQ 26.265625 48.1875 28.421875 48.1875 \r\nQ 40.625 48.1875 47.75 41.5 \r\nQ 54.890625 34.8125 54.890625 23.390625 \r\nQ 54.890625 11.625 47.5625 5.09375 \r\nQ 40.234375 -1.421875 26.90625 -1.421875 \r\nQ 22.3125 -1.421875 17.546875 -0.640625 \r\nQ 12.796875 0.140625 7.71875 1.703125 \r\nL 7.71875 11.625 \r\nQ 12.109375 9.234375 16.796875 8.0625 \r\nQ 21.484375 6.890625 26.703125 6.890625 \r\nQ 35.15625 6.890625 40.078125 11.328125 \r\nQ 45.015625 15.765625 45.015625 23.390625 \r\nQ 45.015625 31 40.078125 35.4375 \r\nQ 35.15625 39.890625 26.703125 39.890625 \r\nQ 22.75 39.890625 18.8125 39.015625 \r\nQ 14.890625 38.140625 10.796875 36.28125 \r\nz\r\n\" id=\"DejaVuSans-53\"/>\r\n       </defs>\r\n       <use xlink:href=\"#DejaVuSans-48\"/>\r\n       <use x=\"63.623047\" xlink:href=\"#DejaVuSans-46\"/>\r\n       <use x=\"95.410156\" xlink:href=\"#DejaVuSans-48\"/>\r\n       <use x=\"159.033203\" xlink:href=\"#DejaVuSans-53\"/>\r\n      </g>\r\n     </g>\r\n    </g>\r\n    <g id=\"xtick_3\">\r\n     <g id=\"line2d_3\">\r\n      <g>\r\n       <use style=\"stroke:#000000;stroke-width:0.8;\" x=\"222.864159\" xlink:href=\"#m24903af031\" y=\"224.64\"/>\r\n      </g>\r\n     </g>\r\n     <g id=\"text_3\">\r\n      <!-- 0.10 -->\r\n      <g transform=\"translate(211.731346 239.238437)scale(0.1 -0.1)\">\r\n       <defs>\r\n        <path d=\"M 12.40625 8.296875 \r\nL 28.515625 8.296875 \r\nL 28.515625 63.921875 \r\nL 10.984375 60.40625 \r\nL 10.984375 69.390625 \r\nL 28.421875 72.90625 \r\nL 38.28125 72.90625 \r\nL 38.28125 8.296875 \r\nL 54.390625 8.296875 \r\nL 54.390625 0 \r\nL 12.40625 0 \r\nz\r\n\" id=\"DejaVuSans-49\"/>\r\n       </defs>\r\n       <use xlink:href=\"#DejaVuSans-48\"/>\r\n       <use x=\"63.623047\" xlink:href=\"#DejaVuSans-46\"/>\r\n       <use x=\"95.410156\" xlink:href=\"#DejaVuSans-49\"/>\r\n       <use x=\"159.033203\" xlink:href=\"#DejaVuSans-48\"/>\r\n      </g>\r\n     </g>\r\n    </g>\r\n    <g id=\"xtick_4\">\r\n     <g id=\"line2d_4\">\r\n      <g>\r\n       <use style=\"stroke:#000000;stroke-width:0.8;\" x=\"273.320163\" xlink:href=\"#m24903af031\" y=\"224.64\"/>\r\n      </g>\r\n     </g>\r\n     <g id=\"text_4\">\r\n      <!-- 0.15 -->\r\n      <g transform=\"translate(262.18735 239.238437)scale(0.1 -0.1)\">\r\n       <use xlink:href=\"#DejaVuSans-48\"/>\r\n       <use x=\"63.623047\" xlink:href=\"#DejaVuSans-46\"/>\r\n       <use x=\"95.410156\" xlink:href=\"#DejaVuSans-49\"/>\r\n       <use x=\"159.033203\" xlink:href=\"#DejaVuSans-53\"/>\r\n      </g>\r\n     </g>\r\n    </g>\r\n    <g id=\"xtick_5\">\r\n     <g id=\"line2d_5\">\r\n      <g>\r\n       <use style=\"stroke:#000000;stroke-width:0.8;\" x=\"323.776167\" xlink:href=\"#m24903af031\" y=\"224.64\"/>\r\n      </g>\r\n     </g>\r\n     <g id=\"text_5\">\r\n      <!-- 0.20 -->\r\n      <g transform=\"translate(312.643354 239.238437)scale(0.1 -0.1)\">\r\n       <defs>\r\n        <path d=\"M 19.1875 8.296875 \r\nL 53.609375 8.296875 \r\nL 53.609375 0 \r\nL 7.328125 0 \r\nL 7.328125 8.296875 \r\nQ 12.9375 14.109375 22.625 23.890625 \r\nQ 32.328125 33.6875 34.8125 36.53125 \r\nQ 39.546875 41.84375 41.421875 45.53125 \r\nQ 43.3125 49.21875 43.3125 52.78125 \r\nQ 43.3125 58.59375 39.234375 62.25 \r\nQ 35.15625 65.921875 28.609375 65.921875 \r\nQ 23.96875 65.921875 18.8125 64.3125 \r\nQ 13.671875 62.703125 7.8125 59.421875 \r\nL 7.8125 69.390625 \r\nQ 13.765625 71.78125 18.9375 73 \r\nQ 24.125 74.21875 28.421875 74.21875 \r\nQ 39.75 74.21875 46.484375 68.546875 \r\nQ 53.21875 62.890625 53.21875 53.421875 \r\nQ 53.21875 48.921875 51.53125 44.890625 \r\nQ 49.859375 40.875 45.40625 35.40625 \r\nQ 44.1875 33.984375 37.640625 27.21875 \r\nQ 31.109375 20.453125 19.1875 8.296875 \r\nz\r\n\" id=\"DejaVuSans-50\"/>\r\n       </defs>\r\n       <use xlink:href=\"#DejaVuSans-48\"/>\r\n       <use x=\"63.623047\" xlink:href=\"#DejaVuSans-46\"/>\r\n       <use x=\"95.410156\" xlink:href=\"#DejaVuSans-50\"/>\r\n       <use x=\"159.033203\" xlink:href=\"#DejaVuSans-48\"/>\r\n      </g>\r\n     </g>\r\n    </g>\r\n    <g id=\"xtick_6\">\r\n     <g id=\"line2d_6\">\r\n      <g>\r\n       <use style=\"stroke:#000000;stroke-width:0.8;\" x=\"374.232171\" xlink:href=\"#m24903af031\" y=\"224.64\"/>\r\n      </g>\r\n     </g>\r\n     <g id=\"text_6\">\r\n      <!-- 0.25 -->\r\n      <g transform=\"translate(363.099358 239.238437)scale(0.1 -0.1)\">\r\n       <use xlink:href=\"#DejaVuSans-48\"/>\r\n       <use x=\"63.623047\" xlink:href=\"#DejaVuSans-46\"/>\r\n       <use x=\"95.410156\" xlink:href=\"#DejaVuSans-50\"/>\r\n       <use x=\"159.033203\" xlink:href=\"#DejaVuSans-53\"/>\r\n      </g>\r\n     </g>\r\n    </g>\r\n   </g>\r\n   <g id=\"matplotlib.axis_2\">\r\n    <g id=\"ytick_1\">\r\n     <g id=\"line2d_7\">\r\n      <defs>\r\n       <path d=\"M 0 0 \r\nL -3.5 0 \r\n\" id=\"m14222042f4\" style=\"stroke:#000000;stroke-width:0.8;\"/>\r\n      </defs>\r\n      <g>\r\n       <use style=\"stroke:#000000;stroke-width:0.8;\" x=\"85.575\" xlink:href=\"#m14222042f4\" y=\"206.688089\"/>\r\n      </g>\r\n     </g>\r\n     <g id=\"text_7\">\r\n      <!-- I_Skewness -->\r\n      <g transform=\"translate(21.607812 210.487308)scale(0.1 -0.1)\">\r\n       <defs>\r\n        <path d=\"M 9.8125 72.90625 \r\nL 19.671875 72.90625 \r\nL 19.671875 0 \r\nL 9.8125 0 \r\nz\r\n\" id=\"DejaVuSans-73\"/>\r\n        <path d=\"M 50.984375 -16.609375 \r\nL 50.984375 -23.578125 \r\nL -0.984375 -23.578125 \r\nL -0.984375 -16.609375 \r\nz\r\n\" id=\"DejaVuSans-95\"/>\r\n        <path d=\"M 53.515625 70.515625 \r\nL 53.515625 60.890625 \r\nQ 47.90625 63.578125 42.921875 64.890625 \r\nQ 37.9375 66.21875 33.296875 66.21875 \r\nQ 25.25 66.21875 20.875 63.09375 \r\nQ 16.5 59.96875 16.5 54.203125 \r\nQ 16.5 49.359375 19.40625 46.890625 \r\nQ 22.3125 44.4375 30.421875 42.921875 \r\nL 36.375 41.703125 \r\nQ 47.40625 39.59375 52.65625 34.296875 \r\nQ 57.90625 29 57.90625 20.125 \r\nQ 57.90625 9.515625 50.796875 4.046875 \r\nQ 43.703125 -1.421875 29.984375 -1.421875 \r\nQ 24.8125 -1.421875 18.96875 -0.25 \r\nQ 13.140625 0.921875 6.890625 3.21875 \r\nL 6.890625 13.375 \r\nQ 12.890625 10.015625 18.65625 8.296875 \r\nQ 24.421875 6.59375 29.984375 6.59375 \r\nQ 38.421875 6.59375 43.015625 9.90625 \r\nQ 47.609375 13.234375 47.609375 19.390625 \r\nQ 47.609375 24.75 44.3125 27.78125 \r\nQ 41.015625 30.8125 33.5 32.328125 \r\nL 27.484375 33.5 \r\nQ 16.453125 35.6875 11.515625 40.375 \r\nQ 6.59375 45.0625 6.59375 53.421875 \r\nQ 6.59375 63.09375 13.40625 68.65625 \r\nQ 20.21875 74.21875 32.171875 74.21875 \r\nQ 37.3125 74.21875 42.625 73.28125 \r\nQ 47.953125 72.359375 53.515625 70.515625 \r\nz\r\n\" id=\"DejaVuSans-83\"/>\r\n        <path d=\"M 9.078125 75.984375 \r\nL 18.109375 75.984375 \r\nL 18.109375 31.109375 \r\nL 44.921875 54.6875 \r\nL 56.390625 54.6875 \r\nL 27.390625 29.109375 \r\nL 57.625 0 \r\nL 45.90625 0 \r\nL 18.109375 26.703125 \r\nL 18.109375 0 \r\nL 9.078125 0 \r\nz\r\n\" id=\"DejaVuSans-107\"/>\r\n        <path d=\"M 56.203125 29.59375 \r\nL 56.203125 25.203125 \r\nL 14.890625 25.203125 \r\nQ 15.484375 15.921875 20.484375 11.0625 \r\nQ 25.484375 6.203125 34.421875 6.203125 \r\nQ 39.59375 6.203125 44.453125 7.46875 \r\nQ 49.3125 8.734375 54.109375 11.28125 \r\nL 54.109375 2.78125 \r\nQ 49.265625 0.734375 44.1875 -0.34375 \r\nQ 39.109375 -1.421875 33.890625 -1.421875 \r\nQ 20.796875 -1.421875 13.15625 6.1875 \r\nQ 5.515625 13.8125 5.515625 26.8125 \r\nQ 5.515625 40.234375 12.765625 48.109375 \r\nQ 20.015625 56 32.328125 56 \r\nQ 43.359375 56 49.78125 48.890625 \r\nQ 56.203125 41.796875 56.203125 29.59375 \r\nz\r\nM 47.21875 32.234375 \r\nQ 47.125 39.59375 43.09375 43.984375 \r\nQ 39.0625 48.390625 32.421875 48.390625 \r\nQ 24.90625 48.390625 20.390625 44.140625 \r\nQ 15.875 39.890625 15.1875 32.171875 \r\nz\r\n\" id=\"DejaVuSans-101\"/>\r\n        <path d=\"M 4.203125 54.6875 \r\nL 13.1875 54.6875 \r\nL 24.421875 12.015625 \r\nL 35.59375 54.6875 \r\nL 46.1875 54.6875 \r\nL 57.421875 12.015625 \r\nL 68.609375 54.6875 \r\nL 77.59375 54.6875 \r\nL 63.28125 0 \r\nL 52.6875 0 \r\nL 40.921875 44.828125 \r\nL 29.109375 0 \r\nL 18.5 0 \r\nz\r\n\" id=\"DejaVuSans-119\"/>\r\n        <path d=\"M 54.890625 33.015625 \r\nL 54.890625 0 \r\nL 45.90625 0 \r\nL 45.90625 32.71875 \r\nQ 45.90625 40.484375 42.875 44.328125 \r\nQ 39.84375 48.1875 33.796875 48.1875 \r\nQ 26.515625 48.1875 22.3125 43.546875 \r\nQ 18.109375 38.921875 18.109375 30.90625 \r\nL 18.109375 0 \r\nL 9.078125 0 \r\nL 9.078125 54.6875 \r\nL 18.109375 54.6875 \r\nL 18.109375 46.1875 \r\nQ 21.34375 51.125 25.703125 53.5625 \r\nQ 30.078125 56 35.796875 56 \r\nQ 45.21875 56 50.046875 50.171875 \r\nQ 54.890625 44.34375 54.890625 33.015625 \r\nz\r\n\" id=\"DejaVuSans-110\"/>\r\n        <path d=\"M 44.28125 53.078125 \r\nL 44.28125 44.578125 \r\nQ 40.484375 46.53125 36.375 47.5 \r\nQ 32.28125 48.484375 27.875 48.484375 \r\nQ 21.1875 48.484375 17.84375 46.4375 \r\nQ 14.5 44.390625 14.5 40.28125 \r\nQ 14.5 37.15625 16.890625 35.375 \r\nQ 19.28125 33.59375 26.515625 31.984375 \r\nL 29.59375 31.296875 \r\nQ 39.15625 29.25 43.1875 25.515625 \r\nQ 47.21875 21.78125 47.21875 15.09375 \r\nQ 47.21875 7.46875 41.1875 3.015625 \r\nQ 35.15625 -1.421875 24.609375 -1.421875 \r\nQ 20.21875 -1.421875 15.453125 -0.5625 \r\nQ 10.6875 0.296875 5.421875 2 \r\nL 5.421875 11.28125 \r\nQ 10.40625 8.6875 15.234375 7.390625 \r\nQ 20.0625 6.109375 24.8125 6.109375 \r\nQ 31.15625 6.109375 34.5625 8.28125 \r\nQ 37.984375 10.453125 37.984375 14.40625 \r\nQ 37.984375 18.0625 35.515625 20.015625 \r\nQ 33.0625 21.96875 24.703125 23.78125 \r\nL 21.578125 24.515625 \r\nQ 13.234375 26.265625 9.515625 29.90625 \r\nQ 5.8125 33.546875 5.8125 39.890625 \r\nQ 5.8125 47.609375 11.28125 51.796875 \r\nQ 16.75 56 26.8125 56 \r\nQ 31.78125 56 36.171875 55.265625 \r\nQ 40.578125 54.546875 44.28125 53.078125 \r\nz\r\n\" id=\"DejaVuSans-115\"/>\r\n       </defs>\r\n       <use xlink:href=\"#DejaVuSans-73\"/>\r\n       <use x=\"29.492188\" xlink:href=\"#DejaVuSans-95\"/>\r\n       <use x=\"79.492188\" xlink:href=\"#DejaVuSans-83\"/>\r\n       <use x=\"142.96875\" xlink:href=\"#DejaVuSans-107\"/>\r\n       <use x=\"197.253906\" xlink:href=\"#DejaVuSans-101\"/>\r\n       <use x=\"258.777344\" xlink:href=\"#DejaVuSans-119\"/>\r\n       <use x=\"340.564453\" xlink:href=\"#DejaVuSans-110\"/>\r\n       <use x=\"403.943359\" xlink:href=\"#DejaVuSans-101\"/>\r\n       <use x=\"465.466797\" xlink:href=\"#DejaVuSans-115\"/>\r\n       <use x=\"517.566406\" xlink:href=\"#DejaVuSans-115\"/>\r\n      </g>\r\n     </g>\r\n    </g>\r\n    <g id=\"ytick_2\">\r\n     <g id=\"line2d_8\">\r\n      <g>\r\n       <use style=\"stroke:#000000;stroke-width:0.8;\" x=\"85.575\" xlink:href=\"#m14222042f4\" y=\"186.517403\"/>\r\n      </g>\r\n     </g>\r\n     <g id=\"text_8\">\r\n      <!-- I_Kurtosis -->\r\n      <g transform=\"translate(30.882812 190.316621)scale(0.1 -0.1)\">\r\n       <defs>\r\n        <path d=\"M 9.8125 72.90625 \r\nL 19.671875 72.90625 \r\nL 19.671875 42.09375 \r\nL 52.390625 72.90625 \r\nL 65.09375 72.90625 \r\nL 28.90625 38.921875 \r\nL 67.671875 0 \r\nL 54.6875 0 \r\nL 19.671875 35.109375 \r\nL 19.671875 0 \r\nL 9.8125 0 \r\nz\r\n\" id=\"DejaVuSans-75\"/>\r\n        <path d=\"M 8.5 21.578125 \r\nL 8.5 54.6875 \r\nL 17.484375 54.6875 \r\nL 17.484375 21.921875 \r\nQ 17.484375 14.15625 20.5 10.265625 \r\nQ 23.53125 6.390625 29.59375 6.390625 \r\nQ 36.859375 6.390625 41.078125 11.03125 \r\nQ 45.3125 15.671875 45.3125 23.6875 \r\nL 45.3125 54.6875 \r\nL 54.296875 54.6875 \r\nL 54.296875 0 \r\nL 45.3125 0 \r\nL 45.3125 8.40625 \r\nQ 42.046875 3.421875 37.71875 1 \r\nQ 33.40625 -1.421875 27.6875 -1.421875 \r\nQ 18.265625 -1.421875 13.375 4.4375 \r\nQ 8.5 10.296875 8.5 21.578125 \r\nz\r\nM 31.109375 56 \r\nz\r\n\" id=\"DejaVuSans-117\"/>\r\n        <path d=\"M 41.109375 46.296875 \r\nQ 39.59375 47.171875 37.8125 47.578125 \r\nQ 36.03125 48 33.890625 48 \r\nQ 26.265625 48 22.1875 43.046875 \r\nQ 18.109375 38.09375 18.109375 28.8125 \r\nL 18.109375 0 \r\nL 9.078125 0 \r\nL 9.078125 54.6875 \r\nL 18.109375 54.6875 \r\nL 18.109375 46.1875 \r\nQ 20.953125 51.171875 25.484375 53.578125 \r\nQ 30.03125 56 36.53125 56 \r\nQ 37.453125 56 38.578125 55.875 \r\nQ 39.703125 55.765625 41.0625 55.515625 \r\nz\r\n\" id=\"DejaVuSans-114\"/>\r\n        <path d=\"M 18.3125 70.21875 \r\nL 18.3125 54.6875 \r\nL 36.8125 54.6875 \r\nL 36.8125 47.703125 \r\nL 18.3125 47.703125 \r\nL 18.3125 18.015625 \r\nQ 18.3125 11.328125 20.140625 9.421875 \r\nQ 21.96875 7.515625 27.59375 7.515625 \r\nL 36.8125 7.515625 \r\nL 36.8125 0 \r\nL 27.59375 0 \r\nQ 17.1875 0 13.234375 3.875 \r\nQ 9.28125 7.765625 9.28125 18.015625 \r\nL 9.28125 47.703125 \r\nL 2.6875 47.703125 \r\nL 2.6875 54.6875 \r\nL 9.28125 54.6875 \r\nL 9.28125 70.21875 \r\nz\r\n\" id=\"DejaVuSans-116\"/>\r\n        <path d=\"M 30.609375 48.390625 \r\nQ 23.390625 48.390625 19.1875 42.75 \r\nQ 14.984375 37.109375 14.984375 27.296875 \r\nQ 14.984375 17.484375 19.15625 11.84375 \r\nQ 23.34375 6.203125 30.609375 6.203125 \r\nQ 37.796875 6.203125 41.984375 11.859375 \r\nQ 46.1875 17.53125 46.1875 27.296875 \r\nQ 46.1875 37.015625 41.984375 42.703125 \r\nQ 37.796875 48.390625 30.609375 48.390625 \r\nz\r\nM 30.609375 56 \r\nQ 42.328125 56 49.015625 48.375 \r\nQ 55.71875 40.765625 55.71875 27.296875 \r\nQ 55.71875 13.875 49.015625 6.21875 \r\nQ 42.328125 -1.421875 30.609375 -1.421875 \r\nQ 18.84375 -1.421875 12.171875 6.21875 \r\nQ 5.515625 13.875 5.515625 27.296875 \r\nQ 5.515625 40.765625 12.171875 48.375 \r\nQ 18.84375 56 30.609375 56 \r\nz\r\n\" id=\"DejaVuSans-111\"/>\r\n        <path d=\"M 9.421875 54.6875 \r\nL 18.40625 54.6875 \r\nL 18.40625 0 \r\nL 9.421875 0 \r\nz\r\nM 9.421875 75.984375 \r\nL 18.40625 75.984375 \r\nL 18.40625 64.59375 \r\nL 9.421875 64.59375 \r\nz\r\n\" id=\"DejaVuSans-105\"/>\r\n       </defs>\r\n       <use xlink:href=\"#DejaVuSans-73\"/>\r\n       <use x=\"29.492188\" xlink:href=\"#DejaVuSans-95\"/>\r\n       <use x=\"79.492188\" xlink:href=\"#DejaVuSans-75\"/>\r\n       <use x=\"140.068359\" xlink:href=\"#DejaVuSans-117\"/>\r\n       <use x=\"203.447266\" xlink:href=\"#DejaVuSans-114\"/>\r\n       <use x=\"244.560547\" xlink:href=\"#DejaVuSans-116\"/>\r\n       <use x=\"283.769531\" xlink:href=\"#DejaVuSans-111\"/>\r\n       <use x=\"344.951172\" xlink:href=\"#DejaVuSans-115\"/>\r\n       <use x=\"397.050781\" xlink:href=\"#DejaVuSans-105\"/>\r\n       <use x=\"424.833984\" xlink:href=\"#DejaVuSans-115\"/>\r\n      </g>\r\n     </g>\r\n    </g>\r\n    <g id=\"ytick_3\">\r\n     <g id=\"line2d_9\">\r\n      <g>\r\n       <use style=\"stroke:#000000;stroke-width:0.8;\" x=\"85.575\" xlink:href=\"#m14222042f4\" y=\"166.346716\"/>\r\n      </g>\r\n     </g>\r\n     <g id=\"text_9\">\r\n      <!-- T_Entropy -->\r\n      <g transform=\"translate(28.61875 170.006872)scale(0.1 -0.1)\">\r\n       <defs>\r\n        <path d=\"M -0.296875 72.90625 \r\nL 61.375 72.90625 \r\nL 61.375 64.59375 \r\nL 35.5 64.59375 \r\nL 35.5 0 \r\nL 25.59375 0 \r\nL 25.59375 64.59375 \r\nL -0.296875 64.59375 \r\nz\r\n\" id=\"DejaVuSans-84\"/>\r\n        <path d=\"M 9.8125 72.90625 \r\nL 55.90625 72.90625 \r\nL 55.90625 64.59375 \r\nL 19.671875 64.59375 \r\nL 19.671875 43.015625 \r\nL 54.390625 43.015625 \r\nL 54.390625 34.71875 \r\nL 19.671875 34.71875 \r\nL 19.671875 8.296875 \r\nL 56.78125 8.296875 \r\nL 56.78125 0 \r\nL 9.8125 0 \r\nz\r\n\" id=\"DejaVuSans-69\"/>\r\n        <path d=\"M 18.109375 8.203125 \r\nL 18.109375 -20.796875 \r\nL 9.078125 -20.796875 \r\nL 9.078125 54.6875 \r\nL 18.109375 54.6875 \r\nL 18.109375 46.390625 \r\nQ 20.953125 51.265625 25.265625 53.625 \r\nQ 29.59375 56 35.59375 56 \r\nQ 45.5625 56 51.78125 48.09375 \r\nQ 58.015625 40.1875 58.015625 27.296875 \r\nQ 58.015625 14.40625 51.78125 6.484375 \r\nQ 45.5625 -1.421875 35.59375 -1.421875 \r\nQ 29.59375 -1.421875 25.265625 0.953125 \r\nQ 20.953125 3.328125 18.109375 8.203125 \r\nz\r\nM 48.6875 27.296875 \r\nQ 48.6875 37.203125 44.609375 42.84375 \r\nQ 40.53125 48.484375 33.40625 48.484375 \r\nQ 26.265625 48.484375 22.1875 42.84375 \r\nQ 18.109375 37.203125 18.109375 27.296875 \r\nQ 18.109375 17.390625 22.1875 11.75 \r\nQ 26.265625 6.109375 33.40625 6.109375 \r\nQ 40.53125 6.109375 44.609375 11.75 \r\nQ 48.6875 17.390625 48.6875 27.296875 \r\nz\r\n\" id=\"DejaVuSans-112\"/>\r\n        <path d=\"M 32.171875 -5.078125 \r\nQ 28.375 -14.84375 24.75 -17.8125 \r\nQ 21.140625 -20.796875 15.09375 -20.796875 \r\nL 7.90625 -20.796875 \r\nL 7.90625 -13.28125 \r\nL 13.1875 -13.28125 \r\nQ 16.890625 -13.28125 18.9375 -11.515625 \r\nQ 21 -9.765625 23.484375 -3.21875 \r\nL 25.09375 0.875 \r\nL 2.984375 54.6875 \r\nL 12.5 54.6875 \r\nL 29.59375 11.921875 \r\nL 46.6875 54.6875 \r\nL 56.203125 54.6875 \r\nz\r\n\" id=\"DejaVuSans-121\"/>\r\n       </defs>\r\n       <use xlink:href=\"#DejaVuSans-84\"/>\r\n       <use x=\"61.083984\" xlink:href=\"#DejaVuSans-95\"/>\r\n       <use x=\"111.083984\" xlink:href=\"#DejaVuSans-69\"/>\r\n       <use x=\"174.267578\" xlink:href=\"#DejaVuSans-110\"/>\r\n       <use x=\"237.646484\" xlink:href=\"#DejaVuSans-116\"/>\r\n       <use x=\"276.855469\" xlink:href=\"#DejaVuSans-114\"/>\r\n       <use x=\"315.71875\" xlink:href=\"#DejaVuSans-111\"/>\r\n       <use x=\"376.900391\" xlink:href=\"#DejaVuSans-112\"/>\r\n       <use x=\"440.376953\" xlink:href=\"#DejaVuSans-121\"/>\r\n      </g>\r\n     </g>\r\n    </g>\r\n    <g id=\"ytick_4\">\r\n     <g id=\"line2d_10\">\r\n      <g>\r\n       <use style=\"stroke:#000000;stroke-width:0.8;\" x=\"85.575\" xlink:href=\"#m14222042f4\" y=\"146.17603\"/>\r\n      </g>\r\n     </g>\r\n     <g id=\"text_10\">\r\n      <!-- I_Median -->\r\n      <g transform=\"translate(34.251562 149.975248)scale(0.1 -0.1)\">\r\n       <defs>\r\n        <path d=\"M 9.8125 72.90625 \r\nL 24.515625 72.90625 \r\nL 43.109375 23.296875 \r\nL 61.8125 72.90625 \r\nL 76.515625 72.90625 \r\nL 76.515625 0 \r\nL 66.890625 0 \r\nL 66.890625 64.015625 \r\nL 48.09375 14.015625 \r\nL 38.1875 14.015625 \r\nL 19.390625 64.015625 \r\nL 19.390625 0 \r\nL 9.8125 0 \r\nz\r\n\" id=\"DejaVuSans-77\"/>\r\n        <path d=\"M 45.40625 46.390625 \r\nL 45.40625 75.984375 \r\nL 54.390625 75.984375 \r\nL 54.390625 0 \r\nL 45.40625 0 \r\nL 45.40625 8.203125 \r\nQ 42.578125 3.328125 38.25 0.953125 \r\nQ 33.9375 -1.421875 27.875 -1.421875 \r\nQ 17.96875 -1.421875 11.734375 6.484375 \r\nQ 5.515625 14.40625 5.515625 27.296875 \r\nQ 5.515625 40.1875 11.734375 48.09375 \r\nQ 17.96875 56 27.875 56 \r\nQ 33.9375 56 38.25 53.625 \r\nQ 42.578125 51.265625 45.40625 46.390625 \r\nz\r\nM 14.796875 27.296875 \r\nQ 14.796875 17.390625 18.875 11.75 \r\nQ 22.953125 6.109375 30.078125 6.109375 \r\nQ 37.203125 6.109375 41.296875 11.75 \r\nQ 45.40625 17.390625 45.40625 27.296875 \r\nQ 45.40625 37.203125 41.296875 42.84375 \r\nQ 37.203125 48.484375 30.078125 48.484375 \r\nQ 22.953125 48.484375 18.875 42.84375 \r\nQ 14.796875 37.203125 14.796875 27.296875 \r\nz\r\n\" id=\"DejaVuSans-100\"/>\r\n        <path d=\"M 34.28125 27.484375 \r\nQ 23.390625 27.484375 19.1875 25 \r\nQ 14.984375 22.515625 14.984375 16.5 \r\nQ 14.984375 11.71875 18.140625 8.90625 \r\nQ 21.296875 6.109375 26.703125 6.109375 \r\nQ 34.1875 6.109375 38.703125 11.40625 \r\nQ 43.21875 16.703125 43.21875 25.484375 \r\nL 43.21875 27.484375 \r\nz\r\nM 52.203125 31.203125 \r\nL 52.203125 0 \r\nL 43.21875 0 \r\nL 43.21875 8.296875 \r\nQ 40.140625 3.328125 35.546875 0.953125 \r\nQ 30.953125 -1.421875 24.3125 -1.421875 \r\nQ 15.921875 -1.421875 10.953125 3.296875 \r\nQ 6 8.015625 6 15.921875 \r\nQ 6 25.140625 12.171875 29.828125 \r\nQ 18.359375 34.515625 30.609375 34.515625 \r\nL 43.21875 34.515625 \r\nL 43.21875 35.40625 \r\nQ 43.21875 41.609375 39.140625 45 \r\nQ 35.0625 48.390625 27.6875 48.390625 \r\nQ 23 48.390625 18.546875 47.265625 \r\nQ 14.109375 46.140625 10.015625 43.890625 \r\nL 10.015625 52.203125 \r\nQ 14.9375 54.109375 19.578125 55.046875 \r\nQ 24.21875 56 28.609375 56 \r\nQ 40.484375 56 46.34375 49.84375 \r\nQ 52.203125 43.703125 52.203125 31.203125 \r\nz\r\n\" id=\"DejaVuSans-97\"/>\r\n       </defs>\r\n       <use xlink:href=\"#DejaVuSans-73\"/>\r\n       <use x=\"29.492188\" xlink:href=\"#DejaVuSans-95\"/>\r\n       <use x=\"79.492188\" xlink:href=\"#DejaVuSans-77\"/>\r\n       <use x=\"165.771484\" xlink:href=\"#DejaVuSans-101\"/>\r\n       <use x=\"227.294922\" xlink:href=\"#DejaVuSans-100\"/>\r\n       <use x=\"290.771484\" xlink:href=\"#DejaVuSans-105\"/>\r\n       <use x=\"318.554688\" xlink:href=\"#DejaVuSans-97\"/>\r\n       <use x=\"379.833984\" xlink:href=\"#DejaVuSans-110\"/>\r\n      </g>\r\n     </g>\r\n    </g>\r\n    <g id=\"ytick_5\">\r\n     <g id=\"line2d_11\">\r\n      <g>\r\n       <use style=\"stroke:#000000;stroke-width:0.8;\" x=\"85.575\" xlink:href=\"#m14222042f4\" y=\"126.005343\"/>\r\n      </g>\r\n     </g>\r\n     <g id=\"text_11\">\r\n      <!-- I_Std -->\r\n      <g transform=\"translate(54.007812 129.804562)scale(0.1 -0.1)\">\r\n       <use xlink:href=\"#DejaVuSans-73\"/>\r\n       <use x=\"29.492188\" xlink:href=\"#DejaVuSans-95\"/>\r\n       <use x=\"79.492188\" xlink:href=\"#DejaVuSans-83\"/>\r\n       <use x=\"142.96875\" xlink:href=\"#DejaVuSans-116\"/>\r\n       <use x=\"182.177734\" xlink:href=\"#DejaVuSans-100\"/>\r\n      </g>\r\n     </g>\r\n    </g>\r\n    <g id=\"ytick_6\">\r\n     <g id=\"line2d_12\">\r\n      <g>\r\n       <use style=\"stroke:#000000;stroke-width:0.8;\" x=\"85.575\" xlink:href=\"#m14222042f4\" y=\"105.834657\"/>\r\n      </g>\r\n     </g>\r\n     <g id=\"text_12\">\r\n      <!-- I_Mode -->\r\n      <g transform=\"translate(43.376562 109.633876)scale(0.1 -0.1)\">\r\n       <use xlink:href=\"#DejaVuSans-73\"/>\r\n       <use x=\"29.492188\" xlink:href=\"#DejaVuSans-95\"/>\r\n       <use x=\"79.492188\" xlink:href=\"#DejaVuSans-77\"/>\r\n       <use x=\"165.771484\" xlink:href=\"#DejaVuSans-111\"/>\r\n       <use x=\"226.953125\" xlink:href=\"#DejaVuSans-100\"/>\r\n       <use x=\"290.429688\" xlink:href=\"#DejaVuSans-101\"/>\r\n      </g>\r\n     </g>\r\n    </g>\r\n    <g id=\"ytick_7\">\r\n     <g id=\"line2d_13\">\r\n      <g>\r\n       <use style=\"stroke:#000000;stroke-width:0.8;\" x=\"85.575\" xlink:href=\"#m14222042f4\" y=\"85.66397\"/>\r\n      </g>\r\n     </g>\r\n     <g id=\"text_13\">\r\n      <!-- I_Mean -->\r\n      <g transform=\"translate(43.378125 89.324127)scale(0.1 -0.1)\">\r\n       <use xlink:href=\"#DejaVuSans-73\"/>\r\n       <use x=\"29.492188\" xlink:href=\"#DejaVuSans-95\"/>\r\n       <use x=\"79.492188\" xlink:href=\"#DejaVuSans-77\"/>\r\n       <use x=\"165.771484\" xlink:href=\"#DejaVuSans-101\"/>\r\n       <use x=\"227.294922\" xlink:href=\"#DejaVuSans-97\"/>\r\n       <use x=\"288.574219\" xlink:href=\"#DejaVuSans-110\"/>\r\n      </g>\r\n     </g>\r\n    </g>\r\n    <g id=\"ytick_8\">\r\n     <g id=\"line2d_14\">\r\n      <g>\r\n       <use style=\"stroke:#000000;stroke-width:0.8;\" x=\"85.575\" xlink:href=\"#m14222042f4\" y=\"65.493284\"/>\r\n      </g>\r\n     </g>\r\n     <g id=\"text_14\">\r\n      <!-- Age -->\r\n      <g transform=\"translate(59.232812 69.292503)scale(0.1 -0.1)\">\r\n       <defs>\r\n        <path d=\"M 34.1875 63.1875 \r\nL 20.796875 26.90625 \r\nL 47.609375 26.90625 \r\nz\r\nM 28.609375 72.90625 \r\nL 39.796875 72.90625 \r\nL 67.578125 0 \r\nL 57.328125 0 \r\nL 50.6875 18.703125 \r\nL 17.828125 18.703125 \r\nL 11.1875 0 \r\nL 0.78125 0 \r\nz\r\n\" id=\"DejaVuSans-65\"/>\r\n        <path d=\"M 45.40625 27.984375 \r\nQ 45.40625 37.75 41.375 43.109375 \r\nQ 37.359375 48.484375 30.078125 48.484375 \r\nQ 22.859375 48.484375 18.828125 43.109375 \r\nQ 14.796875 37.75 14.796875 27.984375 \r\nQ 14.796875 18.265625 18.828125 12.890625 \r\nQ 22.859375 7.515625 30.078125 7.515625 \r\nQ 37.359375 7.515625 41.375 12.890625 \r\nQ 45.40625 18.265625 45.40625 27.984375 \r\nz\r\nM 54.390625 6.78125 \r\nQ 54.390625 -7.171875 48.1875 -13.984375 \r\nQ 42 -20.796875 29.203125 -20.796875 \r\nQ 24.46875 -20.796875 20.265625 -20.09375 \r\nQ 16.0625 -19.390625 12.109375 -17.921875 \r\nL 12.109375 -9.1875 \r\nQ 16.0625 -11.328125 19.921875 -12.34375 \r\nQ 23.78125 -13.375 27.78125 -13.375 \r\nQ 36.625 -13.375 41.015625 -8.765625 \r\nQ 45.40625 -4.15625 45.40625 5.171875 \r\nL 45.40625 9.625 \r\nQ 42.625 4.78125 38.28125 2.390625 \r\nQ 33.9375 0 27.875 0 \r\nQ 17.828125 0 11.671875 7.65625 \r\nQ 5.515625 15.328125 5.515625 27.984375 \r\nQ 5.515625 40.671875 11.671875 48.328125 \r\nQ 17.828125 56 27.875 56 \r\nQ 33.9375 56 38.28125 53.609375 \r\nQ 42.625 51.21875 45.40625 46.390625 \r\nL 45.40625 54.6875 \r\nL 54.390625 54.6875 \r\nz\r\n\" id=\"DejaVuSans-103\"/>\r\n       </defs>\r\n       <use xlink:href=\"#DejaVuSans-65\"/>\r\n       <use x=\"68.408203\" xlink:href=\"#DejaVuSans-103\"/>\r\n       <use x=\"131.884766\" xlink:href=\"#DejaVuSans-101\"/>\r\n      </g>\r\n     </g>\r\n    </g>\r\n    <g id=\"ytick_9\">\r\n     <g id=\"line2d_15\">\r\n      <g>\r\n       <use style=\"stroke:#000000;stroke-width:0.8;\" x=\"85.575\" xlink:href=\"#m14222042f4\" y=\"45.322597\"/>\r\n      </g>\r\n     </g>\r\n     <g id=\"text_15\">\r\n      <!-- Ratios -->\r\n      <g transform=\"translate(47.696875 49.121816)scale(0.1 -0.1)\">\r\n       <defs>\r\n        <path d=\"M 44.390625 34.1875 \r\nQ 47.5625 33.109375 50.5625 29.59375 \r\nQ 53.5625 26.078125 56.59375 19.921875 \r\nL 66.609375 0 \r\nL 56 0 \r\nL 46.6875 18.703125 \r\nQ 43.0625 26.03125 39.671875 28.421875 \r\nQ 36.28125 30.8125 30.421875 30.8125 \r\nL 19.671875 30.8125 \r\nL 19.671875 0 \r\nL 9.8125 0 \r\nL 9.8125 72.90625 \r\nL 32.078125 72.90625 \r\nQ 44.578125 72.90625 50.734375 67.671875 \r\nQ 56.890625 62.453125 56.890625 51.90625 \r\nQ 56.890625 45.015625 53.6875 40.46875 \r\nQ 50.484375 35.9375 44.390625 34.1875 \r\nz\r\nM 19.671875 64.796875 \r\nL 19.671875 38.921875 \r\nL 32.078125 38.921875 \r\nQ 39.203125 38.921875 42.84375 42.21875 \r\nQ 46.484375 45.515625 46.484375 51.90625 \r\nQ 46.484375 58.296875 42.84375 61.546875 \r\nQ 39.203125 64.796875 32.078125 64.796875 \r\nz\r\n\" id=\"DejaVuSans-82\"/>\r\n       </defs>\r\n       <use xlink:href=\"#DejaVuSans-82\"/>\r\n       <use x=\"67.232422\" xlink:href=\"#DejaVuSans-97\"/>\r\n       <use x=\"128.511719\" xlink:href=\"#DejaVuSans-116\"/>\r\n       <use x=\"167.720703\" xlink:href=\"#DejaVuSans-105\"/>\r\n       <use x=\"195.503906\" xlink:href=\"#DejaVuSans-111\"/>\r\n       <use x=\"256.685547\" xlink:href=\"#DejaVuSans-115\"/>\r\n      </g>\r\n     </g>\r\n    </g>\r\n    <g id=\"ytick_10\">\r\n     <g id=\"line2d_16\">\r\n      <g>\r\n       <use style=\"stroke:#000000;stroke-width:0.8;\" x=\"85.575\" xlink:href=\"#m14222042f4\" y=\"25.151911\"/>\r\n      </g>\r\n     </g>\r\n     <g id=\"text_16\">\r\n      <!-- Classifications -->\r\n      <g transform=\"translate(7.2 28.95113)scale(0.1 -0.1)\">\r\n       <defs>\r\n        <path d=\"M 64.40625 67.28125 \r\nL 64.40625 56.890625 \r\nQ 59.421875 61.53125 53.78125 63.8125 \r\nQ 48.140625 66.109375 41.796875 66.109375 \r\nQ 29.296875 66.109375 22.65625 58.46875 \r\nQ 16.015625 50.828125 16.015625 36.375 \r\nQ 16.015625 21.96875 22.65625 14.328125 \r\nQ 29.296875 6.6875 41.796875 6.6875 \r\nQ 48.140625 6.6875 53.78125 8.984375 \r\nQ 59.421875 11.28125 64.40625 15.921875 \r\nL 64.40625 5.609375 \r\nQ 59.234375 2.09375 53.4375 0.328125 \r\nQ 47.65625 -1.421875 41.21875 -1.421875 \r\nQ 24.65625 -1.421875 15.125 8.703125 \r\nQ 5.609375 18.84375 5.609375 36.375 \r\nQ 5.609375 53.953125 15.125 64.078125 \r\nQ 24.65625 74.21875 41.21875 74.21875 \r\nQ 47.75 74.21875 53.53125 72.484375 \r\nQ 59.328125 70.75 64.40625 67.28125 \r\nz\r\n\" id=\"DejaVuSans-67\"/>\r\n        <path d=\"M 9.421875 75.984375 \r\nL 18.40625 75.984375 \r\nL 18.40625 0 \r\nL 9.421875 0 \r\nz\r\n\" id=\"DejaVuSans-108\"/>\r\n        <path d=\"M 37.109375 75.984375 \r\nL 37.109375 68.5 \r\nL 28.515625 68.5 \r\nQ 23.6875 68.5 21.796875 66.546875 \r\nQ 19.921875 64.59375 19.921875 59.515625 \r\nL 19.921875 54.6875 \r\nL 34.71875 54.6875 \r\nL 34.71875 47.703125 \r\nL 19.921875 47.703125 \r\nL 19.921875 0 \r\nL 10.890625 0 \r\nL 10.890625 47.703125 \r\nL 2.296875 47.703125 \r\nL 2.296875 54.6875 \r\nL 10.890625 54.6875 \r\nL 10.890625 58.5 \r\nQ 10.890625 67.625 15.140625 71.796875 \r\nQ 19.390625 75.984375 28.609375 75.984375 \r\nz\r\n\" id=\"DejaVuSans-102\"/>\r\n        <path d=\"M 48.78125 52.59375 \r\nL 48.78125 44.1875 \r\nQ 44.96875 46.296875 41.140625 47.34375 \r\nQ 37.3125 48.390625 33.40625 48.390625 \r\nQ 24.65625 48.390625 19.8125 42.84375 \r\nQ 14.984375 37.3125 14.984375 27.296875 \r\nQ 14.984375 17.28125 19.8125 11.734375 \r\nQ 24.65625 6.203125 33.40625 6.203125 \r\nQ 37.3125 6.203125 41.140625 7.25 \r\nQ 44.96875 8.296875 48.78125 10.40625 \r\nL 48.78125 2.09375 \r\nQ 45.015625 0.34375 40.984375 -0.53125 \r\nQ 36.96875 -1.421875 32.421875 -1.421875 \r\nQ 20.0625 -1.421875 12.78125 6.34375 \r\nQ 5.515625 14.109375 5.515625 27.296875 \r\nQ 5.515625 40.671875 12.859375 48.328125 \r\nQ 20.21875 56 33.015625 56 \r\nQ 37.15625 56 41.109375 55.140625 \r\nQ 45.0625 54.296875 48.78125 52.59375 \r\nz\r\n\" id=\"DejaVuSans-99\"/>\r\n       </defs>\r\n       <use xlink:href=\"#DejaVuSans-67\"/>\r\n       <use x=\"69.824219\" xlink:href=\"#DejaVuSans-108\"/>\r\n       <use x=\"97.607422\" xlink:href=\"#DejaVuSans-97\"/>\r\n       <use x=\"158.886719\" xlink:href=\"#DejaVuSans-115\"/>\r\n       <use x=\"210.986328\" xlink:href=\"#DejaVuSans-115\"/>\r\n       <use x=\"263.085938\" xlink:href=\"#DejaVuSans-105\"/>\r\n       <use x=\"290.869141\" xlink:href=\"#DejaVuSans-102\"/>\r\n       <use x=\"326.074219\" xlink:href=\"#DejaVuSans-105\"/>\r\n       <use x=\"353.857422\" xlink:href=\"#DejaVuSans-99\"/>\r\n       <use x=\"408.837891\" xlink:href=\"#DejaVuSans-97\"/>\r\n       <use x=\"470.117188\" xlink:href=\"#DejaVuSans-116\"/>\r\n       <use x=\"509.326172\" xlink:href=\"#DejaVuSans-105\"/>\r\n       <use x=\"537.109375\" xlink:href=\"#DejaVuSans-111\"/>\r\n       <use x=\"598.291016\" xlink:href=\"#DejaVuSans-110\"/>\r\n       <use x=\"661.669922\" xlink:href=\"#DejaVuSans-115\"/>\r\n      </g>\r\n     </g>\r\n    </g>\r\n   </g>\r\n   <g id=\"patch_13\">\r\n    <path d=\"M 85.575 224.64 \r\nL 85.575 7.2 \r\n\" style=\"fill:none;stroke:#000000;stroke-linecap:square;stroke-linejoin:miter;stroke-width:0.8;\"/>\r\n   </g>\r\n   <g id=\"patch_14\">\r\n    <path d=\"M 420.375 224.64 \r\nL 420.375 7.2 \r\n\" style=\"fill:none;stroke:#000000;stroke-linecap:square;stroke-linejoin:miter;stroke-width:0.8;\"/>\r\n   </g>\r\n   <g id=\"patch_15\">\r\n    <path d=\"M 85.575 224.64 \r\nL 420.375 224.64 \r\n\" style=\"fill:none;stroke:#000000;stroke-linecap:square;stroke-linejoin:miter;stroke-width:0.8;\"/>\r\n   </g>\r\n   <g id=\"patch_16\">\r\n    <path d=\"M 85.575 7.2 \r\nL 420.375 7.2 \r\n\" style=\"fill:none;stroke:#000000;stroke-linecap:square;stroke-linejoin:miter;stroke-width:0.8;\"/>\r\n   </g>\r\n  </g>\r\n </g>\r\n <defs>\r\n  <clipPath id=\"p278a20d1e3\">\r\n   <rect height=\"217.44\" width=\"334.8\" x=\"85.575\" y=\"7.2\"/>\r\n  </clipPath>\r\n </defs>\r\n</svg>\r\n",
      "image/png": "[encoded data removed]"
     },
     "metadata": {
      "needs_background": "light"
     }
    }
   ],
   "source": [
    "result = permutation_importance(forest_model, X_valid, y_valid, n_repeats=10)\n",
    "sorted_idx = result.importances_mean.argsort()\n",
    "plt.barh(X_train.columns[sorted_idx], result.importances_mean[sorted_idx])"
   ]
  },
  {
   "cell_type": "code",
   "execution_count": 51,
   "metadata": {},
   "outputs": [],
   "source": [
    "X_new = SelectKBest(f_classif, k=5).fit_transform(X, y)"
   ]
  },
  {
   "source": [
    "### Parameter Optimization"
   ],
   "cell_type": "markdown",
   "metadata": {}
  },
  {
   "source": [
    "#### Random Forest"
   ],
   "cell_type": "markdown",
   "metadata": {}
  },
  {
   "cell_type": "code",
   "execution_count": 52,
   "metadata": {},
   "outputs": [
    {
     "output_type": "execute_result",
     "data": {
      "text/plain": [
       "GridSearchCV(estimator=RandomForestClassifier(),\n",
       "             param_grid={'max_depth': [3, 4, 5, 6, 7],\n",
       "                         'n_estimators': [50, 100, 500, 1000, 1500, 2000]},\n",
       "             scoring='roc_auc')"
      ]
     },
     "metadata": {},
     "execution_count": 52
    }
   ],
   "source": [
    "p = {'n_estimators':[50,100,500,1000,1500,2000],'max_depth':[3,4,5,6,7]}\n",
    "c = GridSearchCV(forest_model,p,scoring='roc_auc')\n",
    "c.fit(X,y)"
   ]
  },
  {
   "cell_type": "code",
   "execution_count": 53,
   "metadata": {},
   "outputs": [
    {
     "output_type": "execute_result",
     "data": {
      "text/plain": [
       "RandomForestClassifier(max_depth=7)"
      ]
     },
     "metadata": {},
     "execution_count": 53
    }
   ],
   "source": [
    "c.best_estimator_"
   ]
  },
  {
   "cell_type": "code",
   "execution_count": 54,
   "metadata": {},
   "outputs": [
    {
     "output_type": "execute_result",
     "data": {
      "text/plain": [
       "0.9536310820624546"
      ]
     },
     "metadata": {},
     "execution_count": 54
    }
   ],
   "source": [
    "c.best_score_"
   ]
  },
  {
   "source": [
    "#### SVM"
   ],
   "cell_type": "markdown",
   "metadata": {}
  },
  {
   "cell_type": "code",
   "execution_count": 55,
   "metadata": {},
   "outputs": [
    {
     "output_type": "execute_result",
     "data": {
      "text/plain": [
       "GridSearchCV(estimator=SVC(),\n",
       "             param_grid={'C': [0.5, 0.75, 1, 1.25, 1.5, 1.75, 2],\n",
       "                         'kernel': ['linear', 'poly', 'sigmoid', 'rbf']},\n",
       "             scoring='roc_auc')"
      ]
     },
     "metadata": {},
     "execution_count": 55
    }
   ],
   "source": [
    "p = {'C':[0.5,0.75,1,1.25,1.5,1.75,2],'kernel':['linear','poly','sigmoid','rbf']}\n",
    "c = GridSearchCV(model,p,scoring='roc_auc')\n",
    "c.fit(X,y)"
   ]
  },
  {
   "cell_type": "code",
   "execution_count": 56,
   "metadata": {},
   "outputs": [
    {
     "output_type": "execute_result",
     "data": {
      "text/plain": [
       "SVC(C=0.5, kernel='linear')"
      ]
     },
     "metadata": {},
     "execution_count": 56
    }
   ],
   "source": [
    "c.best_estimator_"
   ]
  },
  {
   "cell_type": "code",
   "execution_count": 57,
   "metadata": {},
   "outputs": [
    {
     "output_type": "execute_result",
     "data": {
      "text/plain": [
       "0.9067901234567902"
      ]
     },
     "metadata": {},
     "execution_count": 57
    }
   ],
   "source": [
    "c.best_score_"
   ]
  },
  {
   "cell_type": "code",
   "execution_count": null,
   "metadata": {},
   "outputs": [],
   "source": [
    "0/0"
   ]
  },
  {
   "cell_type": "markdown",
   "metadata": {},
   "source": [
    "### Cross-validation (RF)"
   ]
  },
  {
   "cell_type": "code",
   "execution_count": 58,
   "metadata": {},
   "outputs": [
    {
     "output_type": "stream",
     "name": "stdout",
     "text": [
      "Accuracies: \n [0.93518519 0.97712418 0.94117647 0.97058824 0.9379085 ]\n"
     ]
    }
   ],
   "source": [
    "forest_model = RandomForestClassifier(max_depth=7)\n",
    "pipeline = Pipeline(steps=[('model',forest_model)])\n",
    "scores = cross_val_score(pipeline, X, y,cv=5,scoring='roc_auc')\n",
    "print('Accuracies: \\n',scores)"
   ]
  },
  {
   "cell_type": "code",
   "execution_count": 59,
   "metadata": {},
   "outputs": [],
   "source": [
    "acc = []\n",
    "for n in range(100):\n",
    "    forest_model = RandomForestClassifier(max_depth=7,random_state=n)\n",
    "    pipeline = Pipeline(steps=[('model',forest_model)])\n",
    "    scores = cross_val_score(pipeline, X, y,cv=5,scoring='roc_auc')\n",
    "    acc.append(scores)"
   ]
  },
  {
   "cell_type": "code",
   "execution_count": 60,
   "metadata": {},
   "outputs": [],
   "source": [
    "accs = []\n",
    "for i in acc:\n",
    "    accs.append(sum(i)/len(i))"
   ]
  },
  {
   "cell_type": "code",
   "execution_count": 61,
   "metadata": {},
   "outputs": [
    {
     "output_type": "execute_result",
     "data": {
      "text/plain": [
       "       With Patches\n",
       "count    100.000000\n",
       "mean       0.947751\n",
       "std        0.003140\n",
       "min        0.939579\n",
       "25%        0.945198\n",
       "50%        0.947876\n",
       "75%        0.949728\n",
       "max        0.954902"
      ],
      "text/html": "<div>\n<style scoped>\n    .dataframe tbody tr th:only-of-type {\n        vertical-align: middle;\n    }\n\n    .dataframe tbody tr th {\n        vertical-align: top;\n    }\n\n    .dataframe thead th {\n        text-align: right;\n    }\n</style>\n<table border=\"1\" class=\"dataframe\">\n  <thead>\n    <tr style=\"text-align: right;\">\n      <th></th>\n      <th>With Patches</th>\n    </tr>\n  </thead>\n  <tbody>\n    <tr>\n      <th>count</th>\n      <td>100.000000</td>\n    </tr>\n    <tr>\n      <th>mean</th>\n      <td>0.947751</td>\n    </tr>\n    <tr>\n      <th>std</th>\n      <td>0.003140</td>\n    </tr>\n    <tr>\n      <th>min</th>\n      <td>0.939579</td>\n    </tr>\n    <tr>\n      <th>25%</th>\n      <td>0.945198</td>\n    </tr>\n    <tr>\n      <th>50%</th>\n      <td>0.947876</td>\n    </tr>\n    <tr>\n      <th>75%</th>\n      <td>0.949728</td>\n    </tr>\n    <tr>\n      <th>max</th>\n      <td>0.954902</td>\n    </tr>\n  </tbody>\n</table>\n</div>"
     },
     "metadata": {},
     "execution_count": 61
    }
   ],
   "source": [
    "a = pd.DataFrame({'With Patches':accs})\n",
    "a.describe()"
   ]
  },
  {
   "source": [
    "### Cross-Validation (SVM)"
   ],
   "cell_type": "markdown",
   "metadata": {}
  },
  {
   "cell_type": "code",
   "execution_count": 62,
   "metadata": {},
   "outputs": [
    {
     "output_type": "stream",
     "name": "stdout",
     "text": [
      "Accuracies: \n [0.86728395 1.         0.8627451  0.95424837 0.8496732 ]\n"
     ]
    }
   ],
   "source": [
    "model = svm.SVC(C=0.5, kernel='linear')\n",
    "pipeline = Pipeline(steps=[('model',model)])\n",
    "scores = cross_val_score(pipeline, X, y,cv=5,scoring='roc_auc')\n",
    "print('Accuracies: \\n',scores)"
   ]
  },
  {
   "cell_type": "code",
   "execution_count": 63,
   "metadata": {},
   "outputs": [],
   "source": [
    "acc = []\n",
    "for n in range(100):\n",
    "    model = svm.SVC(C=0.5, kernel='linear')\n",
    "    pipeline = Pipeline(steps=[('model',model)])\n",
    "    scores = cross_val_score(pipeline, X, y,cv=5,scoring='roc_auc')\n",
    "    acc.append(scores)"
   ]
  },
  {
   "cell_type": "code",
   "execution_count": 64,
   "metadata": {},
   "outputs": [],
   "source": [
    "accs = []\n",
    "for i in acc:\n",
    "    accs.append(sum(i)/len(i))"
   ]
  },
  {
   "cell_type": "code",
   "execution_count": 65,
   "metadata": {},
   "outputs": [
    {
     "output_type": "execute_result",
     "data": {
      "text/plain": [
       "       With Patches\n",
       "count     100.00000\n",
       "mean        0.90679\n",
       "std         0.00000\n",
       "min         0.90679\n",
       "25%         0.90679\n",
       "50%         0.90679\n",
       "75%         0.90679\n",
       "max         0.90679"
      ],
      "text/html": "<div>\n<style scoped>\n    .dataframe tbody tr th:only-of-type {\n        vertical-align: middle;\n    }\n\n    .dataframe tbody tr th {\n        vertical-align: top;\n    }\n\n    .dataframe thead th {\n        text-align: right;\n    }\n</style>\n<table border=\"1\" class=\"dataframe\">\n  <thead>\n    <tr style=\"text-align: right;\">\n      <th></th>\n      <th>With Patches</th>\n    </tr>\n  </thead>\n  <tbody>\n    <tr>\n      <th>count</th>\n      <td>100.00000</td>\n    </tr>\n    <tr>\n      <th>mean</th>\n      <td>0.90679</td>\n    </tr>\n    <tr>\n      <th>std</th>\n      <td>0.00000</td>\n    </tr>\n    <tr>\n      <th>min</th>\n      <td>0.90679</td>\n    </tr>\n    <tr>\n      <th>25%</th>\n      <td>0.90679</td>\n    </tr>\n    <tr>\n      <th>50%</th>\n      <td>0.90679</td>\n    </tr>\n    <tr>\n      <th>75%</th>\n      <td>0.90679</td>\n    </tr>\n    <tr>\n      <th>max</th>\n      <td>0.90679</td>\n    </tr>\n  </tbody>\n</table>\n</div>"
     },
     "metadata": {},
     "execution_count": 65
    }
   ],
   "source": [
    "a = pd.DataFrame({'With Patches':accs})\n",
    "a.describe()"
   ]
  }
 ],
 "metadata": {
  "kernelspec": {
   "name": "python37964bittensorflowconda44bf35c3046e4bc58c11f71047e9bd8d",
   "display_name": "Python 3.7.9 64-bit ('tensorflow': conda)"
  },
  "language_info": {
   "codemirror_mode": {
    "name": "ipython",
    "version": 3
   },
   "file_extension": ".py",
   "mimetype": "text/x-python",
   "name": "python",
   "nbconvert_exporter": "python",
   "pygments_lexer": "ipython3",
   "version": "3.7.9"
  },
  "metadata": {
   "interpreter": {
    "hash": "429db445d30bdc71cb8ecc91188709a24b250e6582e4f5179e4164d5371f1d5c"
   }
  }
 },
 "nbformat": 4,
 "nbformat_minor": 2
}