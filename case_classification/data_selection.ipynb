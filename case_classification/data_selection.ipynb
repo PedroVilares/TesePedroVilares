{
 "metadata": {
  "language_info": {
   "codemirror_mode": {
    "name": "ipython",
    "version": 3
   },
   "file_extension": ".py",
   "mimetype": "text/x-python",
   "name": "python",
   "nbconvert_exporter": "python",
   "pygments_lexer": "ipython3",
   "version": "3.7.6-final"
  },
  "orig_nbformat": 2,
  "kernelspec": {
   "name": "python3",
   "display_name": "Python 3",
   "language": "python"
  }
 },
 "nbformat": 4,
 "nbformat_minor": 2,
 "cells": [
  {
   "source": [
    "# Data Selection"
   ],
   "cell_type": "markdown",
   "metadata": {}
  },
  {
   "cell_type": "code",
   "execution_count": null,
   "metadata": {},
   "outputs": [],
   "source": [
    "import pandas as pd\n",
    "import numpy as np\n",
    "import random\n",
    "import data_selection_utils as utils"
   ]
  },
  {
   "source": [
    "## Normal Mamografies"
   ],
   "cell_type": "markdown",
   "metadata": {}
  },
  {
   "cell_type": "code",
   "execution_count": null,
   "metadata": {},
   "outputs": [],
   "source": [
    "bcdrN = pd.read_csv('d:/BCDR/BCDR-DN01_dataset/bcdr_dn01_img.csv')\n",
    "print('Normal Dataset: ',bcdrN.shape)\n",
    "bcdrN.head(10)"
   ]
  },
  {
   "cell_type": "code",
   "execution_count": null,
   "metadata": {},
   "outputs": [],
   "source": [
    "normal_mammographies = pd.DataFrame({})\n",
    "normal_mammographies[['patient_id','image_view','image_path']] = bcdrN[['patient_id','image_type_name','image_filename']]\n",
    "normal_mammographies = utils.fix_bcdr_path(normal_mammographies,'image_path')"
   ]
  },
  {
   "source": [
    "## Lesion Mamografies"
   ],
   "cell_type": "markdown",
   "metadata": {}
  },
  {
   "cell_type": "code",
   "execution_count": null,
   "metadata": {},
   "outputs": [],
   "source": [
    "masses_training_raw = pd.read_csv('d:/CBIS-DDSM/mass_case_description_train_set.csv')\n",
    "masses_training_raw_1 = masses_training_raw.drop_duplicates(subset=['image file path'],keep='first',ignore_index=True)\n",
    "masses_training = utils.fix_cbis_path(masses_training_raw_1,'image file path')\n",
    "#print('Masses Training Data Size: ',masses_training_raw.shape)\n",
    "masses_training.head(10)"
   ]
  },
  {
   "cell_type": "code",
   "execution_count": null,
   "metadata": {},
   "outputs": [],
   "source": [
    "image_view = [masses_training['left or right breast'][i][0]+masses_training['image view'][i] for i in range(len(masses_training))]\n",
    "masses_training['image_view'] = image_view"
   ]
  },
  {
   "cell_type": "code",
   "execution_count": null,
   "metadata": {},
   "outputs": [],
   "source": [
    "lesion_mammographies = pd.DataFrame({})\n",
    "lesion_mammographies[['patient_id','image_view','image_path']] = masses_training[['patient_id','image_view','image file path']]"
   ]
  },
  {
   "source": [
    "## Patient w/ at least 4 views"
   ],
   "cell_type": "markdown",
   "metadata": {}
  },
  {
   "source": [
    "### Normal Mammografies"
   ],
   "cell_type": "markdown",
   "metadata": {}
  },
  {
   "cell_type": "code",
   "execution_count": null,
   "metadata": {},
   "outputs": [],
   "source": [
    "def all_in(candidates, sequence):\n",
    "    for element in sequence:\n",
    "        if element not in candidates:\n",
    "            return False\n",
    "    return True"
   ]
  },
  {
   "cell_type": "code",
   "execution_count": null,
   "metadata": {},
   "outputs": [],
   "source": [
    "normal_df = pd.DataFrame()\n",
    "groups = [df for _, df in normal_mammographies.groupby('patient_id')]\n",
    "for df in groups:\n",
    "    patient = list(df['patient_id'])[0]\n",
    "    image_views = list(df['image_view'])\n",
    "    if all_in(image_views,[' RO',' RCC',' LO',' LCC']):\n",
    "        normal_df = pd.concat([normal_df,df],ignore_index=True)"
   ]
  },
  {
   "cell_type": "code",
   "execution_count": null,
   "metadata": {},
   "outputs": [],
   "source": [
    "normal_patient_list = list(normal_df['patient_id'])"
   ]
  },
  {
   "cell_type": "code",
   "execution_count": null,
   "metadata": {},
   "outputs": [],
   "source": [
    "normal_dict = {i:normal_patient_list.count(i) for i in normal_patient_list}\n",
    "patients_to_erase = []\n",
    "for patient,images in normal_dict.items():\n",
    "    if images < 4:\n",
    "        patients_to_erase.append(patient)\n",
    "for patient in patients_to_erase:\n",
    "    normal_dict.pop(patient)"
   ]
  },
  {
   "cell_type": "code",
   "execution_count": null,
   "metadata": {},
   "outputs": [],
   "source": [
    "print('Eligible Normal Patients: ',len(normal_dict.keys()))"
   ]
  },
  {
   "cell_type": "code",
   "execution_count": null,
   "metadata": {},
   "outputs": [],
   "source": [
    "normal_dataframe = normal_mammographies[normal_mammographies['patient_id'].isin(normal_dict.keys())]\n",
    "normal_dataframe['label'] = 'Normal'"
   ]
  },
  {
   "source": [
    "### Lesion Mamografies"
   ],
   "cell_type": "markdown",
   "metadata": {}
  },
  {
   "cell_type": "code",
   "execution_count": null,
   "metadata": {},
   "outputs": [],
   "source": [
    "lesion_patient_list = list(lesion_mammographies['patient_id'])"
   ]
  },
  {
   "cell_type": "code",
   "execution_count": null,
   "metadata": {},
   "outputs": [],
   "source": [
    "lesion_dict = {i:lesion_patient_list.count(i) for i in lesion_patient_list}\n",
    "patients_to_erase = []\n",
    "for patient,images in lesion_dict.items():\n",
    "    if images < 4:\n",
    "        patients_to_erase.append(patient)\n",
    "for patient in patients_to_erase:\n",
    "    lesion_dict.pop(patient)\n",
    "print('Eligible Lesion Patients: ',len(lesion_dict.keys()))"
   ]
  },
  {
   "cell_type": "code",
   "execution_count": null,
   "metadata": {},
   "outputs": [],
   "source": [
    "lesion_dataframe = lesion_mammographies[lesion_mammographies['patient_id'].isin(lesion_dict.keys())]\n",
    "lesion_dataframe['label'] = 'Suspicious'"
   ]
  },
  {
   "source": [
    "## Copying Mammographies"
   ],
   "cell_type": "markdown",
   "metadata": {}
  },
  {
   "cell_type": "code",
   "execution_count": null,
   "metadata": {},
   "outputs": [],
   "source": [
    "dfs = [normal_dataframe,lesion_dataframe]\n",
    "f_df = pd.concat(dfs, axis=0)"
   ]
  },
  {
   "cell_type": "code",
   "execution_count": null,
   "metadata": {},
   "outputs": [],
   "source": [
    "fdict = {}\n",
    "fdict.update(normal_dict)\n",
    "fdict.update(lesion_dict)"
   ]
  },
  {
   "cell_type": "code",
   "execution_count": null,
   "metadata": {},
   "outputs": [],
   "source": [
    "keys = list(fdict.keys())\n",
    "random.shuffle(keys)\n",
    "f_dict = dict()\n",
    "for key in keys:\n",
    "    f_dict[key] = fdict[key]"
   ]
  },
  {
   "cell_type": "code",
   "execution_count": null,
   "metadata": {
    "tags": []
   },
   "outputs": [],
   "source": [
    "patient_list = utils.image_mover(f_df,f_dict)"
   ]
  },
  {
   "source": [
    "### Save Ground Truth .csv"
   ],
   "cell_type": "markdown",
   "metadata": {}
  },
  {
   "cell_type": "code",
   "execution_count": null,
   "metadata": {},
   "outputs": [],
   "source": [
    "patient_name_df = pd.DataFrame({'patient':list(patient_list.keys()),'label':list(patient_list.values())})\n",
    "patient_name_df.to_csv('D:/Architecture/patients/patient_gt.csv',index=False)"
   ]
  },
  {
   "cell_type": "code",
   "execution_count": null,
   "metadata": {},
   "outputs": [],
   "source": [
    "pd.read_csv('D:/Architecture/patients/patient_gt.csv')"
   ]
  }
 ]
}