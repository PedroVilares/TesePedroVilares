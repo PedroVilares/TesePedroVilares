{
 "metadata": {
  "language_info": {
   "codemirror_mode": {
    "name": "ipython",
    "version": 3
   },
   "file_extension": ".py",
   "mimetype": "text/x-python",
   "name": "python",
   "nbconvert_exporter": "python",
   "pygments_lexer": "ipython3",
   "version": "3.7.6-final"
  },
  "orig_nbformat": 2,
  "kernelspec": {
   "name": "python3",
   "display_name": "Python 3",
   "language": "python"
  }
 },
 "nbformat": 4,
 "nbformat_minor": 2,
 "cells": [
  {
   "cell_type": "code",
   "execution_count": null,
   "metadata": {},
   "outputs": [],
   "source": [
    "import numpy as np\n",
    "import pandas as pd\n",
    "import keras\n",
    "from sklearn.preprocessing import LabelEncoder\n",
    "import tensorflow as tf\n",
    "import matplotlib.pyplot as plt\n",
    "import imageio\n",
    "import os\n",
    "\n",
    "#ficheiros .py acessórios\n",
    "import automatic_patching as patching_tool\n",
    "import utils\n",
    "import generate_data as generator_tool\n",
    "import models as model_tool\n",
    "import evaluator as evaluator"
   ]
  },
  {
   "source": [
    "# Case-by-case"
   ],
   "cell_type": "markdown",
   "metadata": {}
  },
  {
   "cell_type": "code",
   "execution_count": null,
   "metadata": {},
   "outputs": [],
   "source": [
    "patient_number = 38"
   ]
  },
  {
   "cell_type": "code",
   "execution_count": null,
   "metadata": {},
   "outputs": [],
   "source": [
    "patient_folder_path = \"patients/patient_{}/\".format(patient_number)\n",
    "image_paths = os.listdir(patient_folder_path)\n",
    "not_images = []\n",
    "for image in image_paths:\n",
    "    if 't' in image:\n",
    "        not_images.append(image)\n",
    "for image in not_images:\n",
    "    image_paths.remove(image)"
   ]
  },
  {
   "cell_type": "code",
   "execution_count": null,
   "metadata": {},
   "outputs": [],
   "source": [
    "predictions_d= dict()\n",
    "for image_view in image_paths:\n",
    "    path = patient_folder_path+image_view\n",
    "    saved_patches_paths = patching_tool.only_paths(path)\n",
    "    df = pd.DataFrame({'paths':saved_patches_paths,'labels':'Test'})\n",
    "    generated_data = generator_tool.generate(df)\n",
    "    try:\n",
    "        loaded_model = keras.models.load_model(\"D:/BCDR/vgg19_trained\",compile=True)\n",
    "    except OSError:\n",
    "        print(\"Failed to load DL model!\") \n",
    "    else:\n",
    "        print(\"Successfully loaded DL model!\")\n",
    "        with tf.device('/gpu'):\n",
    "            predictions = loaded_model.predict(generated_data)\n",
    "            print(\"Successfully classified patches!\")\n",
    "            print('\\n')\n",
    "\n",
    "    predictions_image=[]\n",
    "    for i in range(len(predictions)):\n",
    "        predictions_image.append(predictions[i][0])\n",
    "\n",
    "    predictions_d[image_view] = predictions_image"
   ]
  },
  {
   "cell_type": "code",
   "execution_count": null,
   "metadata": {},
   "outputs": [],
   "source": [
    "if ground_truth[patient_number-1] == 0:\n",
    "    gt = 'Normal'\n",
    "else:\n",
    "    gt = 'Suspicious'\n",
    "print('Patient {} | {}'.format(patient_number,gt))\n",
    "for image_view,i_classifications in predictions_d.items():\n",
    "    ratios = []\n",
    "    num_patches = len(i_classifications)\n",
    "    positive_patches = 0\n",
    "    for pred in i_classifications:\n",
    "        if pred > 0.5:\n",
    "            positive_patches += 1\n",
    "    ratio = positive_patches/num_patches\n",
    "    ratios.append(ratio)\n",
    "    print(image_view[1:] +': Patches {} | Positive Patches {} | Ratio {:.2f}'.format(num_patches,positive_patches,ratio))\n",
    "print('Average Ratio: ',round(average_ratio(ratios),2))"
   ]
  },
  {
   "source": [
    "# Patching e Classificação"
   ],
   "cell_type": "markdown",
   "metadata": {}
  },
  {
   "cell_type": "code",
   "execution_count": null,
   "metadata": {},
   "outputs": [],
   "source": [
    "patient_folder_path = \"patients/\"\n",
    "image_paths = utils.sort_paths(os.listdir(patient_folder_path))"
   ]
  },
  {
   "cell_type": "code",
   "execution_count": null,
   "metadata": {},
   "outputs": [],
   "source": [
    "try:\n",
    "    loaded_model = keras.models.load_model(\"D:/BCDR/vgg19_trained\",compile=True)\n",
    "    print(\"Successfully loaded DL model!\")\n",
    "except OSError:\n",
    "    print(\"Failed to load DL model!\") "
   ]
  },
  {
   "cell_type": "code",
   "execution_count": null,
   "metadata": {
    "tags": [
     "outputPrepend"
    ]
   },
   "outputs": [],
   "source": [
    "all_classifications = dict()\n",
    "for patient in image_paths:    \n",
    "    case_classification = dict()\n",
    "    images = os.listdir(patient_folder_path+patient)\n",
    "    for image_view in images:\n",
    "        image_type = image_view.split(\".\")[0]\n",
    "        path = patient_folder_path+patient+\"/\"+image_view\n",
    "        saved_patches_paths = patching_tool.save_patches(path)\n",
    "        df = pd.DataFrame({'paths':saved_patches_paths,'labels':'Test'})\n",
    "        generated_data = generator_tool.generate(df)\n",
    "        #predictions = model_tool.make_predict(generated_data)\n",
    "        with tf.device('/gpu'):\n",
    "            predictions = loaded_model.predict(generated_data)\n",
    "            print('\\n')\n",
    "        predictions_image=[]\n",
    "        for i in range(len(predictions)):\n",
    "            predictions_image.append(predictions[i][0])\n",
    "        case_classification[image_type] = predictions_image\n",
    "    print(\"Successfully classified images from {}!\".format(patient))\n",
    "    print('\\n')\n",
    "    all_classifications[patient] = case_classification"
   ]
  },
  {
   "cell_type": "code",
   "execution_count": null,
   "metadata": {},
   "outputs": [],
   "source": [
    "le = LabelEncoder()\n",
    "ground_truth_csv = pd.read_csv('patients/gt_patients.csv')\n",
    "ground_truth = le.fit_transform(list(ground_truth_csv['label']))"
   ]
  },
  {
   "cell_type": "code",
   "execution_count": null,
   "metadata": {},
   "outputs": [],
   "source": [
    "report(all_classifications)"
   ]
  },
  {
   "source": [
    "# Apenas Classificação"
   ],
   "cell_type": "markdown",
   "metadata": {}
  },
  {
   "cell_type": "code",
   "execution_count": null,
   "metadata": {},
   "outputs": [],
   "source": [
    "patient_folder_path = \"patients/\"\n",
    "image_paths = utils.sort_paths(os.listdir(patient_folder_path))"
   ]
  },
  {
   "cell_type": "code",
   "execution_count": null,
   "metadata": {},
   "outputs": [],
   "source": [
    "try:\n",
    "    loaded_model = keras.models.load_model(\"D:/BCDR/vgg19_trained\",compile=True)\n",
    "    print(\"Successfully loaded DL model!\")\n",
    "except OSError:\n",
    "    print(\"Failed to load DL model!\") "
   ]
  },
  {
   "cell_type": "code",
   "execution_count": null,
   "metadata": {},
   "outputs": [],
   "source": [
    "all_classifications = dict()\n",
    "for patient in image_paths:    \n",
    "    case_classification = dict()\n",
    "    images = os.listdir(patient_folder_path+patient)\n",
    "    not_images = []\n",
    "    for image in images:\n",
    "        if 't' in image:\n",
    "            not_images.append(image)\n",
    "    for image in not_images:\n",
    "        images.remove(image)\n",
    "    for image_view in images:\n",
    "        image_type = image_view.split(\".\")[0]\n",
    "        path = patient_folder_path+patient+\"/\"+image_view\n",
    "        saved_patches_paths = patching_tool.only_paths(path)\n",
    "        df = pd.DataFrame({'paths':saved_patches_paths,'labels':'Test'})\n",
    "        generated_data = generator_tool.generate(df)\n",
    "        with tf.device('/gpu'):\n",
    "            predictions = loaded_model.predict(generated_data)\n",
    "        predictions_image=[]\n",
    "        for i in range(len(predictions)):\n",
    "            predictions_image.append(predictions[i][0])\n",
    "        case_classification[image_type] = predictions_image\n",
    "    print(\"Successfully classified images from {}!\".format(patient))\n",
    "    print('\\n')\n",
    "    all_classifications[patient] = case_classification"
   ]
  },
  {
   "cell_type": "code",
   "execution_count": null,
   "metadata": {},
   "outputs": [],
   "source": [
    "le = LabelEncoder()\n",
    "ground_truth_csv = pd.read_csv('patients/gt_patients.csv')\n",
    "ground_truth = le.fit_transform(list(ground_truth_csv['label']))"
   ]
  },
  {
   "cell_type": "code",
   "execution_count": null,
   "metadata": {},
   "outputs": [],
   "source": [
    "evaluator.report(all_classifications,ground_truth)"
   ]
  },
  {
   "source": [
    "## Single Threshold Classification"
   ],
   "cell_type": "markdown",
   "metadata": {}
  },
  {
   "cell_type": "code",
   "execution_count": null,
   "metadata": {},
   "outputs": [],
   "source": [
    "predictions = evaluator.calculate_threshold_predictions(all_classifications,0.5)"
   ]
  },
  {
   "cell_type": "code",
   "execution_count": null,
   "metadata": {},
   "outputs": [],
   "source": [
    "df,auc = evaluator.evaluate_predictions(image_paths,ground_truth,predictions)\n",
    "print('AUC :',round(auc,4))"
   ]
  },
  {
   "source": [
    "## Double Threshold Classification"
   ],
   "cell_type": "markdown",
   "metadata": {}
  },
  {
   "cell_type": "code",
   "execution_count": null,
   "metadata": {},
   "outputs": [],
   "source": [
    "predictions,g_truth,patient_list = evaluator.calculate_case_predictions(all_classifications,list(ground_truth),image_paths,0.3,0.7)"
   ]
  },
  {
   "cell_type": "code",
   "execution_count": null,
   "metadata": {},
   "outputs": [],
   "source": [
    "df,auc = evaluator.evaluate_predictions(patient_list,g_truth,predictions)\n",
    "print('AUC :',round(auc,4))"
   ]
  },
  {
   "cell_type": "code",
   "execution_count": null,
   "metadata": {},
   "outputs": [],
   "source": []
  }
 ]
}