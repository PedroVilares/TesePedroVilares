{
 "cells": [
  {
   "cell_type": "code",
   "execution_count": 1,
   "metadata": {
    "colab": {
     "base_uri": "https://localhost:8080/",
     "height": 330
    },
    "executionInfo": {
     "elapsed": 4101,
     "status": "error",
     "timestamp": 1620054721212,
     "user": {
      "displayName": "Pedro Vilares",
      "photoUrl": "https://lh3.googleusercontent.com/a-/AOh14GhrlDkUPUJxzOTh8OEBSfVaDtITyZqYU8R2Mek8Kw=s64",
      "userId": "17018715574983662171"
     },
     "user_tz": -60
    },
    "id": "F6Zr4LsvyPFK",
    "outputId": "71054294-490c-4306-c76b-e5756f99f982"
   },
   "outputs": [],
   "source": [
    "import numpy,os,sklearn\n",
    "from tensorflow import keras\n",
    "import matplotlib.pyplot as plt\n",
    "import pandas as pd\n",
    "import sklearn.model_selection as sms\n",
    "\n",
    "import utils"
   ]
  },
  {
   "cell_type": "markdown",
   "metadata": {
    "id": "KfnaQY3uyPFS"
   },
   "source": [
    "# Image Data"
   ]
  },
  {
   "cell_type": "markdown",
   "metadata": {
    "id": "8TEHKzLXyPFT"
   },
   "source": [
    "## Suspicious Mammographies (BCDR-D01 & BCDR-D02)"
   ]
  },
  {
   "cell_type": "code",
   "execution_count": null,
   "metadata": {
    "id": "PZL2v8_GyPFT"
   },
   "outputs": [],
   "source": [
    "bcdr1_raw = pd.read_csv('d:/BCDR/BCDR-D01_dataset/bcdr_d01_img.csv')\n",
    "bcdr1_raw = bcdr1_raw.drop_duplicates(subset=['image_filename'],keep='first',ignore_index=True)\n",
    "bcdr1_raw= utils.fix_view(bcdr1_raw,'image_type_name')\n",
    "bcdr1_features_raw = pd.read_csv('D:\\BCDR\\BCDR-D01_dataset/bcdr_d01_features.csv')\n",
    "bcdr2_raw = pd.read_csv('d:/BCDR/BCDR-D02_dataset/bcdr_d02_img.csv')\n",
    "bcdr2_raw = bcdr2_raw.drop_duplicates(subset=['image_filename'],keep='first',ignore_index=True)\n",
    "bcdr2_raw= utils.fix_view(bcdr2_raw,'image_type_name')\n",
    "bcdr2_features_raw = pd.read_csv('D:\\BCDR\\BCDR-D02_dataset/bcdr_d02_features.csv')\n",
    "l1 = utils.lesion_findings(bcdr1_features_raw)\n",
    "l2 = utils.lesion_findings(bcdr2_features_raw)"
   ]
  },
  {
   "cell_type": "code",
   "execution_count": null,
   "metadata": {
    "id": "qY60jC2AyPFU"
   },
   "outputs": [],
   "source": [
    "bcdr1 = bcdr1_raw[['patient_id','study_id','image_filename','image_type_name','density','age']]\n",
    "bcdr1_features= bcdr1_features_raw[['patient_id','study_id','image_view','s_x_center_mass','s_y_center_mass','density','age']]\n",
    "\n",
    "bcdr1 = utils.merge_csv(bcdr1_features,bcdr1)\n",
    "bcdr1['lesion_type'] = l1"
   ]
  },
  {
   "cell_type": "code",
   "execution_count": null,
   "metadata": {
    "id": "AzMgqNIGyPFU"
   },
   "outputs": [],
   "source": [
    "bcdr2 = bcdr2_raw[['patient_id','study_id','image_filename','image_type_name','density','age']]\n",
    "bcdr2_features= bcdr2_features_raw[['patient_id','study_id','image_view','s_x_center_mass','s_y_center_mass','density','age']]\n",
    "\n",
    "bcdr2 = utils.merge_csv(bcdr2_features,bcdr2)\n",
    "bcdr2['lesion_type'] = l2"
   ]
  },
  {
   "cell_type": "code",
   "execution_count": null,
   "metadata": {
    "id": "1yFUibmDyPFV"
   },
   "outputs": [],
   "source": [
    "lesion_mammographies1 = pd.DataFrame({})\n",
    "lesion_mammographies1[['patient_id','image_view','image_path','x_center','y_center','density','age','lesion_type']] = bcdr1[['patient_id','image_view','image_filename','s_x_center_mass','s_y_center_mass','density','age','lesion_type']]\n",
    "new_patients = []\n",
    "for patient in list(lesion_mammographies1['patient_id']):\n",
    "    patient_n= '1d'+str(patient)\n",
    "    new_patients.append(patient_n)\n",
    "lesion_mammographies1['patient_id'] = new_patients\n",
    "lesion_mammographies1 = utils.fix_bcdr1_path(lesion_mammographies1,'image_path')"
   ]
  },
  {
   "cell_type": "code",
   "execution_count": null,
   "metadata": {
    "id": "Mk1Q0CJjyPFV"
   },
   "outputs": [],
   "source": [
    "lesion_mammographies2 = pd.DataFrame({})\n",
    "lesion_mammographies2[['patient_id','image_view','image_path','x_center','y_center','density','age','lesion_type']] = bcdr2[['patient_id','image_view','image_filename','s_x_center_mass','s_y_center_mass','density','age','lesion_type']]\n",
    "new_patients = []\n",
    "for patient in list(lesion_mammographies2['patient_id']):\n",
    "    patient_n= '2d'+str(patient)\n",
    "    new_patients.append(patient_n)\n",
    "lesion_mammographies2['patient_id'] = new_patients\n",
    "lesion_mammographies2 = utils.fix_bcdr2_path(lesion_mammographies2,'image_path')\n",
    "lesion_mammographies2 = lesion_mammographies2[:100]"
   ]
  },
  {
   "cell_type": "code",
   "execution_count": null,
   "metadata": {
    "id": "f-ZuWlQPyPFV"
   },
   "outputs": [],
   "source": [
    "lesion_mammographies = pd.concat([lesion_mammographies1,lesion_mammographies2],ignore_index=True)\n",
    "lesion_mammographies = utils.fix_view_back(lesion_mammographies,'image_view')\n",
    "print('Suspicious Dataset: ',lesion_mammographies.shape)"
   ]
  },
  {
   "cell_type": "markdown",
   "metadata": {
    "id": "gdT7e9lbyPFW"
   },
   "source": [
    "### Split"
   ]
  },
  {
   "cell_type": "code",
   "execution_count": null,
   "metadata": {
    "id": "QCIklaNeyPFW"
   },
   "outputs": [],
   "source": [
    "list_suspicious_dfs = numpy.array_split(lesion_mammographies,3)"
   ]
  },
  {
   "cell_type": "code",
   "execution_count": null,
   "metadata": {
    "id": "NHnj_SWZyPFW"
   },
   "outputs": [],
   "source": [
    "for df in list_suspicious_dfs:\n",
    "    print(df.shape)"
   ]
  },
  {
   "cell_type": "markdown",
   "metadata": {
    "id": "vhnMy2m9yPFW"
   },
   "source": [
    "## Normal Mammographies (BCDR-DN01 & INbreast)"
   ]
  },
  {
   "cell_type": "code",
   "execution_count": null,
   "metadata": {
    "id": "19CeXm-iyPFX"
   },
   "outputs": [],
   "source": [
    "bcdrN = pd.read_csv('d:/BCDR/BCDR-DN01_dataset/bcdr_dn01_img.csv')\n",
    "\n",
    "normal_mammographies1 = pd.DataFrame({})\n",
    "normal_mammographies1[['patient_id','image_view','image_path','density','age']] = bcdrN[['patient_id','image_type_name','image_filename','density','age']]\n",
    "normal_mammographies1 = utils.fix_bcdrN_path(normal_mammographies1,'image_path')"
   ]
  },
  {
   "cell_type": "code",
   "execution_count": null,
   "metadata": {
    "id": "l8uVkjjlyPFX"
   },
   "outputs": [],
   "source": [
    "xls_raw = pd.read_excel('D:/INBreast/INbreast.xls')\n",
    "xls = pd.DataFrame()\n",
    "xls['image_view'] = [xls_raw['Laterality'][i] + xls_raw['View'][i] for i in xls_raw.index] \n",
    "xls[['filename','finding notes']] = xls_raw[['File Name','Findings Notes (in Portuguese)']]"
   ]
  },
  {
   "cell_type": "code",
   "execution_count": null,
   "metadata": {
    "id": "_EAl2wKGyPFX"
   },
   "outputs": [],
   "source": [
    "path_list = os.listdir('D:/INBreast/AllDICOMs/')\n",
    "r = []\n",
    "for path in path_list:\n",
    "    if path[-3:] != 'dcm':\n",
    "        r.append(path)\n",
    "for i in r:\n",
    "    path_list.remove(i)"
   ]
  },
  {
   "cell_type": "code",
   "execution_count": null,
   "metadata": {
    "id": "CIC2YkN7yPFX"
   },
   "outputs": [],
   "source": [
    "patients = []\n",
    "file_paths = []\n",
    "image_views = []\n",
    "for path in path_list:\n",
    "    l = path.split('_')\n",
    "    if len(l) > 1:\n",
    "        patients.append(l[1])\n",
    "        file_paths.append(path)\n",
    "        image_views.append(l[3]+l[4])\n",
    "images_df = pd.DataFrame({'patient_id':patients,'image_view':image_views,'image_path':file_paths})\n",
    "images_df = utils.fix_inbreast_path(images_df,'image_path')"
   ]
  },
  {
   "cell_type": "code",
   "execution_count": null,
   "metadata": {
    "id": "5IW_EDKRyPFY"
   },
   "outputs": [],
   "source": [
    "images_df[['finding notes']] = xls[['finding notes']]\n",
    "normal_df = images_df[images_df['finding notes'] == 'normal']\n",
    "normal_mammographies2 = pd.DataFrame()\n",
    "normal_mammographies2[['patient_id','image_view','image_path']] = normal_df[['patient_id','image_view','image_path']]"
   ]
  },
  {
   "cell_type": "code",
   "execution_count": null,
   "metadata": {
    "id": "a4WnCcfFyPFY"
   },
   "outputs": [],
   "source": [
    "normal_mammographies = pd.concat([normal_mammographies1,normal_mammographies2],ignore_index=True)\n",
    "print('Normal Dataset: ',normal_mammographies.shape)"
   ]
  },
  {
   "cell_type": "markdown",
   "metadata": {
    "id": "aKFvLGawyPFY"
   },
   "source": [
    "### Split"
   ]
  },
  {
   "cell_type": "code",
   "execution_count": null,
   "metadata": {
    "id": "lYTlb0HmyPFY"
   },
   "outputs": [],
   "source": [
    "list_normal_dfs = numpy.array_split(normal_mammographies,3)"
   ]
  },
  {
   "cell_type": "code",
   "execution_count": null,
   "metadata": {
    "id": "VAkaUt1PyPFY"
   },
   "outputs": [],
   "source": [
    "for df in list_normal_dfs:\n",
    "    print(df.shape)"
   ]
  },
  {
   "cell_type": "markdown",
   "metadata": {
    "id": "rdZvxS-2yPFZ"
   },
   "source": [
    "## Move Image Data"
   ]
  },
  {
   "cell_type": "code",
   "execution_count": null,
   "metadata": {
    "id": "IbPkot8DyPFZ",
    "tags": [
     "outputPrepend"
    ]
   },
   "outputs": [],
   "source": [
    "downsample = True\n",
    "n_folds=3\n",
    "for i in range(n_folds):\n",
    "\n",
    "    validation_normal_df = list_normal_dfs[i]\n",
    "    validation_suspicious_df = list_suspicious_dfs[i]\n",
    "\n",
    "    if i == 0:\n",
    "        training_normal_df = pd.concat([n for n in list_normal_dfs[i+1:]],ignore_index=True)\n",
    "        training_suspicious_df = pd.concat([n for n in list_suspicious_dfs[i+1:]],ignore_index=True)\n",
    "    elif i == 2:\n",
    "        training_normal_df = pd.concat([n for n in list_normal_dfs[:i]],ignore_index=True)\n",
    "        training_suspicious_df = pd.concat([n for n in list_suspicious_dfs[:i]],ignore_index=True)\n",
    "    else:\n",
    "        training_normal_df = pd.concat([n for n in list_normal_dfs[:i] + list_normal_dfs[i+1:]],ignore_index=True)\n",
    "        training_suspicious_df = pd.concat([n for n in list_suspicious_dfs[:i] + list_suspicious_dfs[i+1:]],ignore_index=True)\n",
    "\n",
    "    training_normal_folder = 'cross validation/image_data/split'+str(i+1)+'/downsampled/training_data/normal'\n",
    "    validation_normal_folder = 'cross validation/image_data/split'+str(i+1)+'/downsampled/validation_data/normal'\n",
    "    training_sus_folder = 'cross validation/image_data/split'+str(i+1)+'/downsampled/training_data/suspicious'\n",
    "    validation_sus_folder = 'cross validation/image_data/split'+str(i+1)+'/downsampled/validation_data/suspicious'\n",
    "\n",
    "    utils.image_mover(training_normal_df,training_normal_folder,downsample)\n",
    "    utils.image_mover(training_suspicious_df,training_sus_folder,downsample)\n",
    "    utils.image_mover(validation_normal_df,validation_normal_folder,downsample)\n",
    "    utils.image_mover(validation_suspicious_df,validation_sus_folder,downsample)\n"
   ]
  },
  {
   "cell_type": "code",
   "execution_count": null,
   "metadata": {
    "id": "oXoeKTn-yPFZ"
   },
   "outputs": [],
   "source": [
    "0/0"
   ]
  },
  {
   "cell_type": "markdown",
   "metadata": {
    "id": "y6Lg75jZyPFa"
   },
   "source": [
    "## Negatives"
   ]
  },
  {
   "cell_type": "code",
   "execution_count": null,
   "metadata": {
    "id": "MB6IG77eyPFa"
   },
   "outputs": [],
   "source": [
    "n_folds=2\n",
    "fold = 0\n",
    "for i in range(n_folds):\n",
    "    i=i+1\n",
    "\n",
    "    training_normal_folder = 'cross validation/image_data/split'+str(i+1)+'/training_data/normal/'\n",
    "    validation_normal_folder = 'cross validation/image_data/split'+str(i+1)+'/validation_data/normal/'\n",
    "    training_sus_folder = 'cross validation/image_data/split'+str(i+1)+'/training_data/suspicious/'\n",
    "    validation_sus_folder = 'cross validation/image_data/split'+str(i+1)+'/validation_data/suspicious/'\n",
    "\n",
    "    utils.copy_negatives(training_normal_folder)\n",
    "    #utils.copy_negatives(training_sus_folder)\n",
    "    #utils.copy_negatives(validation_normal_folder)\n",
    "    #utils.copy_negatives(validation_sus_folder)"
   ]
  },
  {
   "cell_type": "markdown",
   "metadata": {
    "id": "u8Zuk5olyPFa"
   },
   "source": [
    "## Patches"
   ]
  },
  {
   "cell_type": "code",
   "execution_count": null,
   "metadata": {
    "id": "59bZYK8FyPFa",
    "tags": [
     "outputPrepend"
    ]
   },
   "outputs": [],
   "source": [
    "n_folds=3\n",
    "for i in range(n_folds):\n",
    "\n",
    "    training_normal_folder = 'cross validation/image_data/split'+str(i+1)+'/raw/training_data/normal/'\n",
    "    validation_normal_folder = 'cross validation/image_data/split'+str(i+1)+'/raw/validation_data/normal/'\n",
    "    training_sus_folder = 'cross validation/image_data/split'+str(i+1)+'/raw/training_data/suspicious/'\n",
    "    validation_sus_folder = 'cross validation/image_data/split'+str(i+1)+'/raw/validation_data/suspicious/'\n",
    "\n",
    "    utils.save_patches_by_image(training_normal_folder,300,0.2)\n",
    "    utils.save_patches_by_image(training_sus_folder,300,0.2)\n",
    "    utils.save_patches_by_image(validation_normal_folder,300,0.2)\n",
    "    utils.save_patches_by_image(validation_sus_folder,300,0.2)"
   ]
  },
  {
   "cell_type": "markdown",
   "metadata": {
    "id": "-T2OKJOHyPFb"
   },
   "source": [
    "# Numerical Data"
   ]
  },
  {
   "cell_type": "code",
   "execution_count": null,
   "metadata": {
    "id": "Fdf3RSKPyPFb"
   },
   "outputs": [],
   "source": [
    "n_folds=3\n",
    "fold = 0\n",
    "for i in range(n_folds):\n",
    "\n",
    "    training_normal_folder = 'cross validation/image_data/split'+str(i+1)+'/raw/training_data/normal/'\n",
    "    validation_normal_folder = 'cross validation/image_data/split'+str(i+1)+'/raw/validation_data/normal/'\n",
    "    training_sus_folder = 'cross validation/image_data/split'+str(i+1)+'/raw/training_data/suspicious/'\n",
    "    validation_sus_folder = 'cross validation/image_data/split'+str(i+1)+'/raw/validation_data/suspicious/'\n",
    "    s = 'cross validation/numerical_data/split'+str(i+1)+'/'\n",
    "\n",
    "    utils.mammary_features(training_normal_folder,s+'features_training_normal.csv')\n",
    "    print(i)\n",
    "    utils.mammary_features(training_sus_folder,s+'features_training_suspicious.csv')\n",
    "    print(i)\n",
    "    utils.mammary_features(validation_normal_folder,s+'features_validation_normal.csv')\n",
    "    print(i)\n",
    "    utils.mammary_features(validation_sus_folder,s+'features_validation_suspicious.csv')\n",
    "\n"
   ]
  },
  {
   "cell_type": "markdown",
   "metadata": {
    "id": "rNTS0HBnyPFb"
   },
   "source": [
    "## Age"
   ]
  },
  {
   "cell_type": "code",
   "execution_count": null,
   "metadata": {
    "id": "sOGILt6uyPFb"
   },
   "outputs": [],
   "source": [
    "dfs = pd.concat([normal_mammographies,lesion_mammographies],ignore_index=True)\n",
    "a = []"
   ]
  },
  {
   "cell_type": "code",
   "execution_count": null,
   "metadata": {
    "id": "i5cTD6-SyPFb"
   },
   "outputs": [],
   "source": [
    "a = 'cross validation/numerical_data/split3/features_validation_suspicious.csv'\n",
    "gt = pd.read_csv('cross validation/image_data/split3/csv/validation_data_suspicious.csv')\n",
    "features_df = pd.read_csv(a)\n",
    "ages = []\n",
    "for i in gt.index:\n",
    "    p = gt.loc[i,'Original']\n",
    "    age_index = dfs[dfs['image_path'] == p].index\n",
    "    age = dfs.loc[age_index,'age'].to_list()[0]\n",
    "    ages.append(age)\n",
    "features_df['Age'] = ages\n",
    "features_df.to_csv(a)"
   ]
  },
  {
   "cell_type": "markdown",
   "metadata": {
    "id": "aL2f208DyPFc"
   },
   "source": [
    "## Area Factor"
   ]
  },
  {
   "cell_type": "code",
   "execution_count": null,
   "metadata": {
    "id": "VkOi7IoHyPFc"
   },
   "outputs": [],
   "source": [
    "s = 'cross validation/image_data/split3/raw/'\n",
    "afs = []"
   ]
  },
  {
   "cell_type": "code",
   "execution_count": null,
   "metadata": {
    "id": "udpStbiNyPFc"
   },
   "outputs": [],
   "source": [
    "for i in ['training_data/normal/','training_data/suspicious/','validation_data/normal/','validation_data/suspicious/']:\n",
    "    image_folder = s + i\n",
    "    l = os.listdir(image_folder)\n",
    "    p = [str(n) for n in range(len(l))]\n",
    "    ps= []\n",
    "    for i in p:\n",
    "        a = image_folder+i+'.bmp'\n",
    "        ps.append(a)\n",
    "\n",
    "    area_factors = []\n",
    "\n",
    "    for image_path in ps:\n",
    "        af = utils.breast_area_factor(image_path)\n",
    "        area_factors.append(af)\n",
    "\n",
    "    afs = afs + area_factors"
   ]
  },
  {
   "cell_type": "code",
   "execution_count": null,
   "metadata": {
    "id": "Lv2WnGuGyPFc"
   },
   "outputs": [],
   "source": [
    "r = pd.read_csv('cross validation/numerical_data/split3/classification_data_comp.csv')\n",
    "r['Area Factor'] = afs\n",
    "r.to_csv('cross validation/numerical_data/split3/classification_data_comp.csv',index=False)"
   ]
  },
  {
   "cell_type": "markdown",
   "metadata": {
    "id": "b71A7h1wyPFc"
   },
   "source": [
    "# Split 1"
   ]
  },
  {
   "cell_type": "markdown",
   "metadata": {
    "id": "LqS0pFuRyPFd"
   },
   "source": [
    "## Load Numerical Data"
   ]
  },
  {
   "cell_type": "code",
   "execution_count": null,
   "metadata": {
    "id": "-qt7tBZuyPFd"
   },
   "outputs": [],
   "source": [
    "features_training_normal = pd.read_csv('cross validation/numerical_data/split1/features_training_normal.csv')\n",
    "features_training_suspicious = pd.read_csv('cross validation/numerical_data/split1/features_training_suspicious.csv')\n",
    "features_validation_normal = pd.read_csv('cross validation/numerical_data/split1/features_validation_normal.csv')\n",
    "features_validation_suspicious = pd.read_csv('cross validation/numerical_data/split1/features_validation_suspicious.csv')"
   ]
  },
  {
   "cell_type": "markdown",
   "metadata": {
    "id": "33mNqOkQyPFd"
   },
   "source": [
    "## Evaluate Mammographies"
   ]
  },
  {
   "cell_type": "code",
   "execution_count": null,
   "metadata": {
    "id": "0KUFPXfJyPFd",
    "outputId": "73ef1cfb-f183-4e9b-8541-562d506e5938"
   },
   "outputs": [],
   "source": [
    "dataframe = pd.concat([features_training_normal,features_training_suspicious,features_validation_normal,features_validation_suspicious],ignore_index=True)\n",
    "model = keras.models.load_model('cross validation/models/split1.h5')\n",
    "a = utils.classify_mammograms(model,dataframe,'cross validation/numerical_data/split1/classification_data_comp.csv')"
   ]
  },
  {
   "cell_type": "code",
   "execution_count": null,
   "metadata": {
    "id": "xjV6dqCOyPFe"
   },
   "outputs": [],
   "source": [
    "dataframe = pd.read_csv('cross validation/numerical_data/split1/classification_data_comp.csv')"
   ]
  },
  {
   "cell_type": "code",
   "execution_count": null,
   "metadata": {
    "id": "tpY3Y_EnyPFe",
    "outputId": "94037a7f-f750-4d80-ee8d-b4c6934aa9aa"
   },
   "outputs": [],
   "source": [
    "data= utils.generator_crossval(1500,1100,'cross validation/image_data/split1/downsampled')\n",
    "y_true = data[1].classes\n",
    "y_pred = list(dataframe['Classifications'])[-166:]"
   ]
  },
  {
   "cell_type": "code",
   "execution_count": null,
   "metadata": {
    "id": "5FaClPNqyPFe",
    "outputId": "eb1fb378-d66f-4351-bde0-132d65a20349"
   },
   "outputs": [],
   "source": [
    "classes = ['Normal','Suspicious']\n",
    "c = sklearn.metrics.confusion_matrix(y_true,numpy.round(y_pred),normalize='true')\n",
    "c = numpy.around(c,decimals =2)\n",
    "\n",
    "plt.figure(figsize=(5, 5))\n",
    "plt.imshow(c)\n",
    "\n",
    "plt.xticks(numpy.arange(len(classes)),classes,rotation=45,rotation_mode=\"anchor\",ha=\"right\")\n",
    "plt.yticks(numpy.arange(len(classes)),classes)\n",
    "plt.xlabel(\"Predicted labels\")\n",
    "plt.ylabel(\"True labels\")\n",
    "for i in range(c.shape[1]):\n",
    "    for j in range(c.shape[1]):\n",
    "        text = plt.text(j, i, c[i, j],\n",
    "                       ha=\"center\", va=\"center\", color=\"w\",fontsize='large')\n",
    "#plt.title(\"Confusion Matrix\")\n",
    "plt.colorbar()\n",
    "sens = c[1][1]/(c[1][1]+c[1][0])\n",
    "spec = c[0][0]/(c[0][0]+c[0][1])\n",
    "print('Sensitivity:',sens)\n",
    "print('Specificity:',spec)\n",
    "plt.show()"
   ]
  },
  {
   "cell_type": "code",
   "execution_count": null,
   "metadata": {
    "id": "eMtSS2npyPFf",
    "outputId": "58a625e5-bc1e-42c7-93e8-1e824e29d075"
   },
   "outputs": [],
   "source": [
    "acc = sklearn.metrics.accuracy_score(y_true,numpy.round(y_pred))\n",
    "print('Accuracy:',acc)"
   ]
  },
  {
   "cell_type": "code",
   "execution_count": null,
   "metadata": {
    "id": "4ng65NnXyPFf",
    "outputId": "9f49517c-a2d6-442a-bc72-1d2d79875790"
   },
   "outputs": [],
   "source": [
    "auc = sklearn.metrics.roc_auc_score(y_true,y_pred)\n",
    "fpr,tpr,_= sklearn.metrics.roc_curve(y_true,y_pred)\n",
    "plt.plot(fpr,tpr)\n",
    "print('AUC:',auc)"
   ]
  },
  {
   "cell_type": "code",
   "execution_count": null,
   "metadata": {
    "id": "WsFJ1Dm6yPFf"
   },
   "outputs": [],
   "source": [
    "0/0"
   ]
  },
  {
   "cell_type": "markdown",
   "metadata": {
    "id": "qvcCB_ePyPFf"
   },
   "source": [
    "## Evaluate Patches"
   ]
  },
  {
   "cell_type": "code",
   "execution_count": null,
   "metadata": {
    "id": "aX61ZfdzyPFg"
   },
   "outputs": [],
   "source": [
    "training_normal_folder = 'cross validation/image_data/split1/raw/training_data/normal/'\n",
    "validation_normal_folder = 'cross validation/image_data/split1/raw/validation_data/normal/'\n",
    "training_sus_folder = 'cross validation/image_data/split1/raw/training_data/suspicious/'\n",
    "validation_sus_folder = 'cross validation/image_data/split1/raw/validation_data/suspicious/'"
   ]
  },
  {
   "cell_type": "code",
   "execution_count": null,
   "metadata": {
    "id": "smTEMS6fyPFg",
    "tags": [
     "outputPrepend"
    ]
   },
   "outputs": [],
   "source": [
    "utils.classify_patches('cross validation/image_data/split1/raw/training_data/normal/')\n",
    "utils.classify_patches('cross validation/image_data/split1/raw/validation_data/normal/')\n",
    "utils.classify_patches('cross validation/image_data/split1/raw/training_data/suspicious/')\n",
    "utils.classify_patches('cross validation/image_data/split1/raw/validation_data/suspicious/')"
   ]
  },
  {
   "cell_type": "code",
   "execution_count": null,
   "metadata": {
    "id": "_nwM2bKwyPFg"
   },
   "outputs": [],
   "source": [
    "utils.add_to_features_csv('cross validation/image_data/split1/raw/training_data/normal/','cross validation/numerical_data/split1/features_training_normal.csv',0.4)\n",
    "utils.add_to_features_csv('cross validation/image_data/split1/raw/training_data/suspicious/','cross validation/numerical_data/split1/features_training_suspicious.csv',0.4)\n",
    "utils.add_to_features_csv('cross validation/image_data/split1/raw/validation_data/normal/','cross validation/numerical_data/split1/features_validation_normal.csv',0.4)\n",
    "utils.add_to_features_csv('cross validation/image_data/split1/raw/validation_data/suspicious/','cross validation/numerical_data/split1/features_validation_suspicious.csv',0.4)"
   ]
  },
  {
   "cell_type": "code",
   "execution_count": null,
   "metadata": {
    "id": "Dkxq5XRDyPFg"
   },
   "outputs": [],
   "source": [
    "utils.add_to_final_csv(1,'cross validation/numerical_data/split1/classification_data_comp.csv')"
   ]
  },
  {
   "cell_type": "markdown",
   "metadata": {
    "id": "MzgduKq3yPFg"
   },
   "source": [
    "## Metaclassification"
   ]
  },
  {
   "cell_type": "code",
   "execution_count": 2,
   "metadata": {
    "id": "YidR3mRRyPFg"
   },
   "outputs": [],
   "source": [
    "from sklearn.pipeline import Pipeline\n",
    "from sklearn.impute import SimpleImputer\n",
    "from sklearn.feature_selection import SelectKBest, f_classif\n",
    "from sklearn.model_selection import cross_val_score,train_test_split,GridSearchCV\n",
    "from sklearn.ensemble import RandomForestClassifier\n",
    "from sklearn import svm\n",
    "from sklearn.metrics import classification_report\n",
    "from sklearn.inspection import permutation_importance"
   ]
  },
  {
   "cell_type": "code",
   "execution_count": 3,
   "metadata": {
    "id": "FGQHlD3MyPFh"
   },
   "outputs": [],
   "source": [
    "dataframe = pd.read_csv('cross validation/numerical_data/split1/classification_data_comp.csv')\n",
    "dataframe = dataframe.sample(n=len(dataframe.index))"
   ]
  },
  {
   "cell_type": "code",
   "execution_count": 6,
   "metadata": {
    "id": "5Plkbr_XyPFh"
   },
   "outputs": [],
   "source": [
    "X = dataframe.loc[:, dataframe.columns != 'Ground Truth']\n",
    "X = X.loc[:, X.columns != 'Unnamed: 0']\n",
    "X = X.loc[:, X.columns != 'Unnamed: 0.1']\n",
    "X = X.loc[:, X.columns != 'Ratio']\n",
    "X = X.loc[:, X.columns != 'Ratios']\n",
    "X = X.loc[:, X.columns != 'Area Factor']\n",
    "#X = X.loc[:, X.columns != 'I_Kurtosis']\n",
    "#X = X.loc[:, X.columns != 'I_Mode']\n",
    "#X = X.loc[:, X.columns != 'I_Std']\n",
    "#X = X.loc[:, X.columns != 'I_Median']\n",
    "#X = X.loc[:, X.columns != 'T_Entropy']\n",
    "#X = X.loc[:, X.columns != 'I_Skewness']\n",
    "y = dataframe['Ground Truth']"
   ]
  },
  {
   "cell_type": "code",
   "execution_count": 7,
   "metadata": {
    "id": "OXdpJckXyPFh"
   },
   "outputs": [],
   "source": [
    "my_imputer = SimpleImputer(strategy='constant',fill_value=56)\n",
    "imputed_X_train_age = my_imputer.fit_transform(numpy.array(X['Age']).reshape(-1,1))\n",
    "X['Age'] = imputed_X_train_age\n",
    "X = X.astype({'Age': 'int32'})"
   ]
  },
  {
   "cell_type": "code",
   "execution_count": 8,
   "metadata": {
    "id": "MkQTbk1kyPFh",
    "outputId": "09aae33f-49f2-48fc-d968-89c48dafc632"
   },
   "outputs": [
    {
     "data": {
      "text/html": [
       "<div>\n",
       "<style scoped>\n",
       "    .dataframe tbody tr th:only-of-type {\n",
       "        vertical-align: middle;\n",
       "    }\n",
       "\n",
       "    .dataframe tbody tr th {\n",
       "        vertical-align: top;\n",
       "    }\n",
       "\n",
       "    .dataframe thead th {\n",
       "        text-align: right;\n",
       "    }\n",
       "</style>\n",
       "<table border=\"1\" class=\"dataframe\">\n",
       "  <thead>\n",
       "    <tr style=\"text-align: right;\">\n",
       "      <th></th>\n",
       "      <th>I_Mean</th>\n",
       "      <th>I_Std</th>\n",
       "      <th>I_Median</th>\n",
       "      <th>I_Mode</th>\n",
       "      <th>T_Entropy</th>\n",
       "      <th>I_Skewness</th>\n",
       "      <th>I_Kurtosis</th>\n",
       "      <th>Age</th>\n",
       "      <th>Classifications</th>\n",
       "    </tr>\n",
       "  </thead>\n",
       "  <tbody>\n",
       "    <tr>\n",
       "      <th>358</th>\n",
       "      <td>130.51237</td>\n",
       "      <td>44.79107</td>\n",
       "      <td>128.0</td>\n",
       "      <td>131</td>\n",
       "      <td>5.03009</td>\n",
       "      <td>0.33240</td>\n",
       "      <td>-0.06570</td>\n",
       "      <td>46</td>\n",
       "      <td>0.203</td>\n",
       "    </tr>\n",
       "    <tr>\n",
       "      <th>153</th>\n",
       "      <td>92.77876</td>\n",
       "      <td>23.49349</td>\n",
       "      <td>89.0</td>\n",
       "      <td>81</td>\n",
       "      <td>4.35004</td>\n",
       "      <td>0.78792</td>\n",
       "      <td>2.08622</td>\n",
       "      <td>56</td>\n",
       "      <td>0.152</td>\n",
       "    </tr>\n",
       "    <tr>\n",
       "      <th>454</th>\n",
       "      <td>125.83947</td>\n",
       "      <td>35.55868</td>\n",
       "      <td>129.0</td>\n",
       "      <td>131</td>\n",
       "      <td>4.83826</td>\n",
       "      <td>-0.24087</td>\n",
       "      <td>0.30544</td>\n",
       "      <td>55</td>\n",
       "      <td>0.999</td>\n",
       "    </tr>\n",
       "    <tr>\n",
       "      <th>451</th>\n",
       "      <td>139.18852</td>\n",
       "      <td>23.07211</td>\n",
       "      <td>144.0</td>\n",
       "      <td>147</td>\n",
       "      <td>4.16906</td>\n",
       "      <td>-1.53822</td>\n",
       "      <td>3.72564</td>\n",
       "      <td>54</td>\n",
       "      <td>0.443</td>\n",
       "    </tr>\n",
       "    <tr>\n",
       "      <th>435</th>\n",
       "      <td>125.80311</td>\n",
       "      <td>79.06698</td>\n",
       "      <td>100.0</td>\n",
       "      <td>255</td>\n",
       "      <td>4.90069</td>\n",
       "      <td>0.55050</td>\n",
       "      <td>-1.20942</td>\n",
       "      <td>54</td>\n",
       "      <td>0.963</td>\n",
       "    </tr>\n",
       "  </tbody>\n",
       "</table>\n",
       "</div>"
      ],
      "text/plain": [
       "        I_Mean     I_Std  I_Median  I_Mode  T_Entropy  I_Skewness  I_Kurtosis  \\\n",
       "358  130.51237  44.79107     128.0     131    5.03009     0.33240    -0.06570   \n",
       "153   92.77876  23.49349      89.0      81    4.35004     0.78792     2.08622   \n",
       "454  125.83947  35.55868     129.0     131    4.83826    -0.24087     0.30544   \n",
       "451  139.18852  23.07211     144.0     147    4.16906    -1.53822     3.72564   \n",
       "435  125.80311  79.06698     100.0     255    4.90069     0.55050    -1.20942   \n",
       "\n",
       "     Age  Classifications  \n",
       "358   46            0.203  \n",
       "153   56            0.152  \n",
       "454   55            0.999  \n",
       "451   54            0.443  \n",
       "435   54            0.963  "
      ]
     },
     "execution_count": 8,
     "metadata": {},
     "output_type": "execute_result"
    }
   ],
   "source": [
    "X_train, X_valid, y_train, y_valid = train_test_split(X, y,test_size=0.35)\n",
    "X.head(5)"
   ]
  },
  {
   "cell_type": "code",
   "execution_count": 9,
   "metadata": {},
   "outputs": [
    {
     "data": {
      "text/plain": [
       "Pipeline(steps=[('model', RandomForestClassifier())])"
      ]
     },
     "execution_count": 9,
     "metadata": {},
     "output_type": "execute_result"
    }
   ],
   "source": [
    "forest_model = RandomForestClassifier()\n",
    "pipeline = Pipeline(steps=[('model',forest_model)])\n",
    "pipeline.fit(X_train,y_train)"
   ]
  },
  {
   "cell_type": "code",
   "execution_count": 10,
   "metadata": {},
   "outputs": [
    {
     "data": {
      "text/plain": [
       "<BarContainer object of 9 artists>"
      ]
     },
     "execution_count": 10,
     "metadata": {},
     "output_type": "execute_result"
    },
    {
     "data": {
      "image/png": "[encoded data removed]",
      "text/plain": [
       "<Figure size 432x288 with 1 Axes>"
      ]
     },
     "metadata": {
      "needs_background": "light"
     },
     "output_type": "display_data"
    }
   ],
   "source": [
    "result = permutation_importance(pipeline, X_valid, y_valid, n_repeats=10)\n",
    "sorted_idx = result.importances_mean.argsort()\n",
    "plt.barh(X_train.columns[sorted_idx], result.importances_mean[sorted_idx])"
   ]
  },
  {
   "cell_type": "code",
   "execution_count": 11,
   "metadata": {
    "id": "T9IMStnzyPFh"
   },
   "outputs": [
    {
     "data": {
      "text/plain": [
       "GridSearchCV(estimator=RandomForestClassifier(),\n",
       "             param_grid={'max_depth': [5, 6, 7, 8, 9],\n",
       "                         'n_estimators': [50, 100, 500, 1000, 1500, 2000]},\n",
       "             scoring='roc_auc')"
      ]
     },
     "execution_count": 11,
     "metadata": {},
     "output_type": "execute_result"
    }
   ],
   "source": [
    "p = {'n_estimators':[50,100,500,1000,1500,2000],'max_depth':[5,6,7,8,9]}\n",
    "c = GridSearchCV(forest_model,p,scoring='roc_auc')\n",
    "c.fit(X,y)"
   ]
  },
  {
   "cell_type": "code",
   "execution_count": 12,
   "metadata": {
    "id": "jv7W92QeyPFi"
   },
   "outputs": [
    {
     "data": {
      "text/plain": [
       "RandomForestClassifier(max_depth=8, n_estimators=2000)"
      ]
     },
     "execution_count": 12,
     "metadata": {},
     "output_type": "execute_result"
    }
   ],
   "source": [
    "c.best_estimator_"
   ]
  },
  {
   "cell_type": "code",
   "execution_count": 13,
   "metadata": {
    "id": "NZtw8NkAyPFi"
   },
   "outputs": [
    {
     "data": {
      "text/plain": [
       "0.953376350540216"
      ]
     },
     "execution_count": 13,
     "metadata": {},
     "output_type": "execute_result"
    }
   ],
   "source": [
    "c.best_score_"
   ]
  },
  {
   "cell_type": "code",
   "execution_count": 19,
   "metadata": {
    "id": "CrR-IVuwyPFi",
    "outputId": "e2368616-e096-4eb6-bbe9-20708750404f"
   },
   "outputs": [
    {
     "name": "stdout",
     "output_type": "stream",
     "text": [
      "AUC: \n",
      " [0.83       0.82       0.9        0.88888889 0.88888889]\n"
     ]
    }
   ],
   "source": [
    "forest_model = RandomForestClassifier(max_depth=8, n_estimators=2000, random_state=99)\n",
    "pipeline = Pipeline(steps=[('model',forest_model)])\n",
    "scores = cross_val_score(pipeline, X, y,cv=5,scoring='accuracy')\n",
    "print('AUC: \\n',scores)"
   ]
  },
  {
   "cell_type": "code",
   "execution_count": 12,
   "metadata": {
    "id": "aD3wtR4syPFi"
   },
   "outputs": [],
   "source": [
    "pipeline.fit(X_train,y_train)\n",
    "y_pred = pipeline.predict_proba(X_valid)"
   ]
  },
  {
   "cell_type": "code",
   "execution_count": 13,
   "metadata": {
    "id": "ejTSRXe4yPFi"
   },
   "outputs": [],
   "source": [
    "ypred = []\n",
    "for i in y_pred:\n",
    "    if i[0] > 0.44:\n",
    "        ypred.append(0)\n",
    "    else:\n",
    "        ypred.append(1)"
   ]
  },
  {
   "cell_type": "code",
   "execution_count": 14,
   "metadata": {
    "id": "h-Lm4QrSyPFj",
    "outputId": "b4aba2b8-1eb5-41a5-90f1-bae65b08ecf0"
   },
   "outputs": [
    {
     "name": "stdout",
     "output_type": "stream",
     "text": [
      "Sensitivity: 0.83\n",
      "Specificity: 0.93\n"
     ]
    },
    {
     "data": {
      "image/png": "[encoded data removed]",
      "text/plain": [
       "<Figure size 360x360 with 2 Axes>"
      ]
     },
     "metadata": {
      "needs_background": "light"
     },
     "output_type": "display_data"
    }
   ],
   "source": [
    "classes = ['Normal','Suspicious']\n",
    "c = sklearn.metrics.confusion_matrix(y_valid,ypred,normalize='true')\n",
    "c = numpy.around(c,decimals =2)\n",
    "\n",
    "plt.figure(figsize=(5, 5))\n",
    "plt.imshow(c,cmap='Blues')\n",
    "\n",
    "plt.xticks(numpy.arange(len(classes)),classes,rotation=45,rotation_mode=\"anchor\",ha=\"right\")\n",
    "plt.yticks(numpy.arange(len(classes)),classes)\n",
    "plt.xlabel(\"Predicted labels\")\n",
    "plt.ylabel(\"True labels\")\n",
    "for i in range(c.shape[1]):\n",
    "    for j in range(c.shape[1]):\n",
    "        if c[i,j]<0.5:\n",
    "            text = plt.text(j, i, c[i, j],\n",
    "                           ha=\"center\", va=\"center\", color=\"black\",fontsize='large')\n",
    "        else:\n",
    "            text = plt.text(j, i, c[i, j],\n",
    "                           ha=\"center\", va=\"center\", color=\"w\",fontsize='large')\n",
    "#plt.title(\"Confusion Matrix\")\n",
    "plt.colorbar()\n",
    "sens = c[1][1]/(c[1][1]+c[1][0])\n",
    "spec = c[0][0]/(c[0][0]+c[0][1])\n",
    "print('Sensitivity:',sens)\n",
    "print('Specificity:',spec)\n",
    "plt.show()"
   ]
  },
  {
   "cell_type": "code",
   "execution_count": 15,
   "metadata": {
    "id": "IpRjd4HayPFj",
    "outputId": "c35e9e62-8627-4552-93c9-eaf085b37563"
   },
   "outputs": [
    {
     "data": {
      "text/plain": [
       "<matplotlib.legend.Legend at 0x28a47cce348>"
      ]
     },
     "execution_count": 15,
     "metadata": {},
     "output_type": "execute_result"
    },
    {
     "data": {
      "image/png": "[encoded data removed]",
      "text/plain": [
       "<Figure size 432x288 with 1 Axes>"
      ]
     },
     "metadata": {
      "needs_background": "light"
     },
     "output_type": "display_data"
    }
   ],
   "source": [
    "ypred=[]\n",
    "for i in y_pred:\n",
    "    ypred.append(i[1])\n",
    "auc = sklearn.metrics.roc_auc_score(y_valid,ypred)\n",
    "fpr,tpr,t= sklearn.metrics.roc_curve(y_valid,ypred)\n",
    "fig, ax = plt.subplots()\n",
    "ax.plot([0, 1], [0, 1], linestyle='--', lw=2, color='r',\n",
    "        label='Chance', alpha=.8)\n",
    "ax.plot(fpr,tpr, color='b',\n",
    "        label=r'ROC (AUC = %0.2f )' % (auc),\n",
    "        lw=2, alpha=.8)\n",
    "plt.xlabel(\"False Positive Rate\")\n",
    "plt.ylabel(\"True Positive Rate\")\n",
    "ax.legend(loc=\"lower right\")\n",
    "#print('AUC:',auc)"
   ]
  },
  {
   "cell_type": "code",
   "execution_count": 19,
   "metadata": {
    "id": "Mb9RuE8kyPFj"
   },
   "outputs": [],
   "source": [
    "acc = []\n",
    "for n in range(100):\n",
    "    forest_model = RandomForestClassifier(max_depth=8,n_estimators=2000,random_state=n)\n",
    "    pipeline = Pipeline(steps=[('model',forest_model)])\n",
    "    scores = cross_val_score(pipeline, X, y,cv=5,scoring='roc_auc')\n",
    "    acc.append(scores)"
   ]
  },
  {
   "cell_type": "code",
   "execution_count": 20,
   "metadata": {
    "id": "HjawdfmByPFj"
   },
   "outputs": [],
   "source": [
    "accs = []\n",
    "for i in acc:\n",
    "    accs.append(sum(i)/len(i))"
   ]
  },
  {
   "cell_type": "code",
   "execution_count": 21,
   "metadata": {
    "id": "PalBy0cByPFk"
   },
   "outputs": [
    {
     "data": {
      "text/html": [
       "<div>\n",
       "<style scoped>\n",
       "    .dataframe tbody tr th:only-of-type {\n",
       "        vertical-align: middle;\n",
       "    }\n",
       "\n",
       "    .dataframe tbody tr th {\n",
       "        vertical-align: top;\n",
       "    }\n",
       "\n",
       "    .dataframe thead th {\n",
       "        text-align: right;\n",
       "    }\n",
       "</style>\n",
       "<table border=\"1\" class=\"dataframe\">\n",
       "  <thead>\n",
       "    <tr style=\"text-align: right;\">\n",
       "      <th></th>\n",
       "      <th>With Patches</th>\n",
       "    </tr>\n",
       "  </thead>\n",
       "  <tbody>\n",
       "    <tr>\n",
       "      <th>count</th>\n",
       "      <td>100.000000</td>\n",
       "    </tr>\n",
       "    <tr>\n",
       "      <th>mean</th>\n",
       "      <td>0.952211</td>\n",
       "    </tr>\n",
       "    <tr>\n",
       "      <th>std</th>\n",
       "      <td>0.000635</td>\n",
       "    </tr>\n",
       "    <tr>\n",
       "      <th>min</th>\n",
       "      <td>0.951035</td>\n",
       "    </tr>\n",
       "    <tr>\n",
       "      <th>25%</th>\n",
       "      <td>0.951759</td>\n",
       "    </tr>\n",
       "    <tr>\n",
       "      <th>50%</th>\n",
       "      <td>0.952162</td>\n",
       "    </tr>\n",
       "    <tr>\n",
       "      <th>75%</th>\n",
       "      <td>0.952647</td>\n",
       "    </tr>\n",
       "    <tr>\n",
       "      <th>max</th>\n",
       "      <td>0.953778</td>\n",
       "    </tr>\n",
       "  </tbody>\n",
       "</table>\n",
       "</div>"
      ],
      "text/plain": [
       "       With Patches\n",
       "count    100.000000\n",
       "mean       0.952211\n",
       "std        0.000635\n",
       "min        0.951035\n",
       "25%        0.951759\n",
       "50%        0.952162\n",
       "75%        0.952647\n",
       "max        0.953778"
      ]
     },
     "execution_count": 21,
     "metadata": {},
     "output_type": "execute_result"
    }
   ],
   "source": [
    "a = pd.DataFrame({'With Patches':accs})\n",
    "a.describe()"
   ]
  },
  {
   "cell_type": "code",
   "execution_count": null,
   "metadata": {
    "id": "6eWjlLoMyPFk"
   },
   "outputs": [],
   "source": []
  },
  {
   "cell_type": "markdown",
   "metadata": {
    "id": "amgRMYPtyjJC"
   },
   "source": [
    "# Split 2"
   ]
  },
  {
   "cell_type": "markdown",
   "metadata": {
    "id": "ShWdISFDyjJC"
   },
   "source": [
    "## Load Numerical Data"
   ]
  },
  {
   "cell_type": "code",
   "execution_count": 8,
   "metadata": {
    "id": "O9yT6Oz4yjJC"
   },
   "outputs": [],
   "source": [
    "features_training_normal = pd.read_csv('cross validation/numerical_data/split2/features_training_normal.csv')\n",
    "features_training_suspicious = pd.read_csv('cross validation/numerical_data/split2/features_training_suspicious.csv')\n",
    "features_validation_normal = pd.read_csv('cross validation/numerical_data/split2/features_validation_normal.csv')\n",
    "features_validation_suspicious = pd.read_csv('cross validation/numerical_data/split2/features_validation_suspicious.csv')"
   ]
  },
  {
   "cell_type": "markdown",
   "metadata": {
    "id": "B9jMpxn8yjJD"
   },
   "source": [
    "## Evaluate Mammographies"
   ]
  },
  {
   "cell_type": "code",
   "execution_count": 7,
   "metadata": {
    "id": "jXkNz_LtyjJD",
    "outputId": "73ef1cfb-f183-4e9b-8541-562d506e5938"
   },
   "outputs": [
    {
     "ename": "NameError",
     "evalue": "name 'features_training_normal' is not defined",
     "output_type": "error",
     "traceback": [
      "\u001b[1;31m---------------------------------------------------------------------------\u001b[0m",
      "\u001b[1;31mNameError\u001b[0m                                 Traceback (most recent call last)",
      "\u001b[1;32m<ipython-input-7-4cf20a9d0f24>\u001b[0m in \u001b[0;36m<module>\u001b[1;34m\u001b[0m\n\u001b[1;32m----> 1\u001b[1;33m \u001b[0mdataframe\u001b[0m \u001b[1;33m=\u001b[0m \u001b[0mpd\u001b[0m\u001b[1;33m.\u001b[0m\u001b[0mconcat\u001b[0m\u001b[1;33m(\u001b[0m\u001b[1;33m[\u001b[0m\u001b[0mfeatures_training_normal\u001b[0m\u001b[1;33m,\u001b[0m\u001b[0mfeatures_training_suspicious\u001b[0m\u001b[1;33m,\u001b[0m\u001b[0mfeatures_validation_normal\u001b[0m\u001b[1;33m,\u001b[0m\u001b[0mfeatures_validation_suspicious\u001b[0m\u001b[1;33m]\u001b[0m\u001b[1;33m,\u001b[0m\u001b[0mignore_index\u001b[0m\u001b[1;33m=\u001b[0m\u001b[1;32mTrue\u001b[0m\u001b[1;33m)\u001b[0m\u001b[1;33m\u001b[0m\u001b[1;33m\u001b[0m\u001b[0m\n\u001b[0m\u001b[0;32m      2\u001b[0m \u001b[0mmodel\u001b[0m \u001b[1;33m=\u001b[0m \u001b[0mkeras\u001b[0m\u001b[1;33m.\u001b[0m\u001b[0mmodels\u001b[0m\u001b[1;33m.\u001b[0m\u001b[0mload_model\u001b[0m\u001b[1;33m(\u001b[0m\u001b[1;34m'cross validation/models/split2.h5'\u001b[0m\u001b[1;33m)\u001b[0m\u001b[1;33m\u001b[0m\u001b[1;33m\u001b[0m\u001b[0m\n\u001b[0;32m      3\u001b[0m \u001b[0ma\u001b[0m \u001b[1;33m=\u001b[0m \u001b[0mutils\u001b[0m\u001b[1;33m.\u001b[0m\u001b[0mclassify_mammograms\u001b[0m\u001b[1;33m(\u001b[0m\u001b[0mmodel\u001b[0m\u001b[1;33m,\u001b[0m\u001b[0mdataframe\u001b[0m\u001b[1;33m,\u001b[0m\u001b[1;34m'cross validation/numerical_data/split2/classification_data_comp.csv'\u001b[0m\u001b[1;33m)\u001b[0m\u001b[1;33m\u001b[0m\u001b[1;33m\u001b[0m\u001b[0m\n",
      "\u001b[1;31mNameError\u001b[0m: name 'features_training_normal' is not defined"
     ]
    }
   ],
   "source": [
    "dataframe = pd.concat([features_training_normal,features_training_suspicious,features_validation_normal,features_validation_suspicious],ignore_index=True)\n",
    "model = keras.models.load_model('cross validation/models/split2.h5')\n",
    "a = utils.classify_mammograms(model,dataframe,'cross validation/numerical_data/split2/classification_data_comp.csv')"
   ]
  },
  {
   "cell_type": "code",
   "execution_count": 9,
   "metadata": {
    "id": "uGV6Tx1NyjJD"
   },
   "outputs": [],
   "source": [
    "dataframe = pd.read_csv('cross validation/numerical_data/split2/classification_data_comp.csv')"
   ]
  },
  {
   "cell_type": "code",
   "execution_count": 10,
   "metadata": {
    "id": "DS-6MnJVyjJD",
    "outputId": "94037a7f-f750-4d80-ee8d-b4c6934aa9aa"
   },
   "outputs": [
    {
     "name": "stdout",
     "output_type": "stream",
     "text": [
      "Found 332 images belonging to 2 classes.\n",
      "Found 166 images belonging to 2 classes.\n"
     ]
    }
   ],
   "source": [
    "data= utils.generator_crossval(1500,1100,'cross validation/image_data/split2/downsampled')\n",
    "y_true = data[1].classes\n",
    "y_pred = list(dataframe['Classifications'])[-166:]"
   ]
  },
  {
   "cell_type": "code",
   "execution_count": 11,
   "metadata": {
    "id": "E53bdt7dyjJD",
    "outputId": "eb1fb378-d66f-4351-bde0-132d65a20349"
   },
   "outputs": [
    {
     "name": "stdout",
     "output_type": "stream",
     "text": [
      "Sensitivity: 0.21\n",
      "Specificity: 0.99\n"
     ]
    },
    {
     "data": {
      "image/png": "[encoded data removed]",
      "text/plain": [
       "<Figure size 360x360 with 2 Axes>"
      ]
     },
     "metadata": {
      "needs_background": "light"
     },
     "output_type": "display_data"
    }
   ],
   "source": [
    "classes = ['Normal','Suspicious']\n",
    "c = sklearn.metrics.confusion_matrix(y_true,numpy.round(y_pred),normalize='true')\n",
    "c = numpy.around(c,decimals =2)\n",
    "\n",
    "plt.figure(figsize=(5, 5))\n",
    "plt.imshow(c)\n",
    "\n",
    "plt.xticks(numpy.arange(len(classes)),classes,rotation=45,rotation_mode=\"anchor\",ha=\"right\")\n",
    "plt.yticks(numpy.arange(len(classes)),classes)\n",
    "plt.xlabel(\"Predicted labels\")\n",
    "plt.ylabel(\"True labels\")\n",
    "for i in range(c.shape[1]):\n",
    "    for j in range(c.shape[1]):\n",
    "        text = plt.text(j, i, c[i, j],\n",
    "                       ha=\"center\", va=\"center\", color=\"w\",fontsize='large')\n",
    "#plt.title(\"Confusion Matrix\")\n",
    "plt.colorbar()\n",
    "sens = c[1][1]/(c[1][1]+c[1][0])\n",
    "spec = c[0][0]/(c[0][0]+c[0][1])\n",
    "print('Sensitivity:',sens)\n",
    "print('Specificity:',spec)\n",
    "plt.show()"
   ]
  },
  {
   "cell_type": "code",
   "execution_count": 12,
   "metadata": {},
   "outputs": [
    {
     "data": {
      "text/plain": [
       "array([[0.99, 0.01],\n",
       "       [0.79, 0.21]])"
      ]
     },
     "execution_count": 12,
     "metadata": {},
     "output_type": "execute_result"
    }
   ],
   "source": [
    "c"
   ]
  },
  {
   "cell_type": "code",
   "execution_count": 26,
   "metadata": {},
   "outputs": [
    {
     "name": "stdout",
     "output_type": "stream",
     "text": [
      "Sensitivity: 0.75\n",
      "Specificity: 0.7435897435897436\n"
     ]
    },
    {
     "data": {
      "image/png": "[encoded data removed]",
      "text/plain": [
       "<Figure size 360x360 with 2 Axes>"
      ]
     },
     "metadata": {
      "needs_background": "light"
     },
     "output_type": "display_data"
    }
   ],
   "source": [
    "classes = ['Normal','Suspicious']\n",
    "c = numpy.array([[0.87,0.30],[0.25,0.75]])\n",
    "\n",
    "plt.figure(figsize=(5, 5))\n",
    "plt.imshow(c,cmap='Blues')\n",
    "\n",
    "plt.xticks(numpy.arange(len(classes)),classes,rotation=45,rotation_mode=\"anchor\",ha=\"right\")\n",
    "plt.yticks(numpy.arange(len(classes)),classes)\n",
    "plt.xlabel(\"Predicted labels\")\n",
    "plt.ylabel(\"True labels\")\n",
    "for i in range(c.shape[1]):\n",
    "    for j in range(c.shape[1]):\n",
    "        if c[i,j] < 0.5:\n",
    "            text = plt.text(j, i, c[i, j],\n",
    "                           ha=\"center\", va=\"center\", color=\"black\",fontsize='large')\n",
    "        else:\n",
    "            text = plt.text(j, i, c[i, j],\n",
    "                           ha=\"center\", va=\"center\", color=\"white\",fontsize='large')\n",
    "#plt.title(\"Confusion Matrix\")\n",
    "plt.colorbar()\n",
    "sens = c[1][1]/(c[1][1]+c[1][0])\n",
    "spec = c[0][0]/(c[0][0]+c[0][1])\n",
    "print('Sensitivity:',sens)\n",
    "print('Specificity:',spec)\n",
    "plt.show()"
   ]
  },
  {
   "cell_type": "code",
   "execution_count": 15,
   "metadata": {},
   "outputs": [
    {
     "data": {
      "text/plain": [
       "array([[870,  30],\n",
       "       [ 25,  75]])"
      ]
     },
     "execution_count": 15,
     "metadata": {},
     "output_type": "execute_result"
    }
   ],
   "source": [
    "c"
   ]
  },
  {
   "cell_type": "code",
   "execution_count": 5,
   "metadata": {
    "id": "czvGjyUeyjJE",
    "outputId": "58a625e5-bc1e-42c7-93e8-1e824e29d075"
   },
   "outputs": [
    {
     "name": "stdout",
     "output_type": "stream",
     "text": [
      "Accuracy: 0.608433734939759\n"
     ]
    }
   ],
   "source": [
    "acc = sklearn.metrics.accuracy_score(y_true,numpy.round(y_pred))\n",
    "print('Accuracy:',acc)"
   ]
  },
  {
   "cell_type": "code",
   "execution_count": 6,
   "metadata": {
    "id": "H2WhutKLyjJE",
    "outputId": "9f49517c-a2d6-442a-bc72-1d2d79875790"
   },
   "outputs": [
    {
     "name": "stdout",
     "output_type": "stream",
     "text": [
      "AUC: 0.64800290486565\n"
     ]
    },
    {
     "data": {
      "image/png": "[encoded data removed]",
      "text/plain": [
       "<Figure size 432x288 with 1 Axes>"
      ]
     },
     "metadata": {
      "needs_background": "light"
     },
     "output_type": "display_data"
    }
   ],
   "source": [
    "auc = sklearn.metrics.roc_auc_score(y_true,y_pred)\n",
    "fpr,tpr,_= sklearn.metrics.roc_curve(y_true,y_pred)\n",
    "plt.plot(fpr,tpr)\n",
    "print('AUC:',auc)"
   ]
  },
  {
   "cell_type": "code",
   "execution_count": null,
   "metadata": {
    "id": "vR16Vd9kyjJE"
   },
   "outputs": [],
   "source": [
    "0/0"
   ]
  },
  {
   "cell_type": "markdown",
   "metadata": {
    "id": "YQaueED3yjJE"
   },
   "source": [
    "## Evaluate Patches"
   ]
  },
  {
   "cell_type": "code",
   "execution_count": null,
   "metadata": {
    "id": "AR2QDHQ6yjJE"
   },
   "outputs": [],
   "source": [
    "training_normal_folder = 'cross validation/image_data/split2/raw/training_data/normal/'\n",
    "validation_normal_folder = 'cross validation/image_data/split2/raw/validation_data/normal/'\n",
    "training_sus_folder = 'cross validation/image_data/split2/raw/training_data/suspicious/'\n",
    "validation_sus_folder = 'cross validation/image_data/split2/raw/validation_data/suspicious/'"
   ]
  },
  {
   "cell_type": "code",
   "execution_count": null,
   "metadata": {
    "id": "BF3vyYalyjJE",
    "tags": []
   },
   "outputs": [],
   "source": [
    "utils.classify_patches('cross validation/image_data/split2/raw/training_data/normal/')\n",
    "utils.classify_patches('cross validation/image_data/split2/raw/validation_data/normal/')\n",
    "utils.classify_patches('cross validation/image_data/split2/raw/training_data/suspicious/')\n",
    "utils.classify_patches('cross validation/image_data/split2/raw/validation_data/suspicious/')"
   ]
  },
  {
   "cell_type": "code",
   "execution_count": null,
   "metadata": {
    "id": "C029HhghyjJE"
   },
   "outputs": [],
   "source": [
    "utils.add_to_features_csv('cross validation/image_data/split2/raw/training_data/normal/','cross validation/numerical_data/split2/features_training_normal.csv',0.4)\n",
    "utils.add_to_features_csv('cross validation/image_data/split2/raw/training_data/suspicious/','cross validation/numerical_data/split2/features_training_suspicious.csv',0.4)\n",
    "utils.add_to_features_csv('cross validation/image_data/split2/raw/validation_data/normal/','cross validation/numerical_data/split2/features_validation_normal.csv',0.4)\n",
    "utils.add_to_features_csv('cross validation/image_data/split2/raw/validation_data/suspicious/','cross validation/numerical_data/split2/features_validation_suspicious.csv',0.4)"
   ]
  },
  {
   "cell_type": "code",
   "execution_count": null,
   "metadata": {
    "id": "KOgs9egDyjJF"
   },
   "outputs": [],
   "source": [
    "utils.add_to_final_csv(2,'cross validation/numerical_data/split2/classification_data_comp.csv')"
   ]
  },
  {
   "cell_type": "markdown",
   "metadata": {
    "id": "6RxmWCGRyjJF"
   },
   "source": [
    "## Metaclassification"
   ]
  },
  {
   "cell_type": "code",
   "execution_count": 20,
   "metadata": {
    "id": "mHW00RS0yjJF"
   },
   "outputs": [],
   "source": [
    "from sklearn.pipeline import Pipeline\n",
    "from sklearn.impute import SimpleImputer\n",
    "from sklearn.feature_selection import SelectKBest, f_classif\n",
    "from sklearn.model_selection import cross_val_score,train_test_split,GridSearchCV\n",
    "from sklearn.ensemble import RandomForestClassifier\n",
    "from sklearn import svm\n",
    "from sklearn.metrics import classification_report\n",
    "from sklearn.inspection import permutation_importance"
   ]
  },
  {
   "cell_type": "code",
   "execution_count": 22,
   "metadata": {
    "id": "seBMfn62yjJF"
   },
   "outputs": [],
   "source": [
    "dataframe = pd.read_csv('cross validation/numerical_data/split2/classification_data_comp.csv')\n",
    "dataframe = dataframe.sample(n=len(dataframe.index))"
   ]
  },
  {
   "cell_type": "code",
   "execution_count": 21,
   "metadata": {
    "id": "1kP55htPyjJF"
   },
   "outputs": [],
   "source": [
    "X = dataframe.loc[:, dataframe.columns != 'Ground Truth']\n",
    "X = X.loc[:, X.columns != 'Unnamed: 0']\n",
    "X = X.loc[:, X.columns != 'Unnamed: 0.1']\n",
    "X = X.loc[:, X.columns != 'Ratio']\n",
    "X = X.loc[:, X.columns != 'Ratios']\n",
    "X = X.loc[:, X.columns != 'Area Factor']\n",
    "#X = X.loc[:, X.columns != 'I_Kurtosis']\n",
    "#X = X.loc[:, X.columns != 'I_Mode']\n",
    "#X = X.loc[:, X.columns != 'I_Std']\n",
    "#X = X.loc[:, X.columns != 'I_Median']\n",
    "#X = X.loc[:, X.columns != 'T_Entropy']\n",
    "#X = X.loc[:, X.columns != 'I_Skewness']\n",
    "y = dataframe['Ground Truth']"
   ]
  },
  {
   "cell_type": "code",
   "execution_count": 22,
   "metadata": {
    "id": "KdU97w7nyjJG"
   },
   "outputs": [],
   "source": [
    "my_imputer = SimpleImputer(strategy='constant',fill_value=56)\n",
    "imputed_X_train_age = my_imputer.fit_transform(numpy.array(X['Age']).reshape(-1,1))\n",
    "X['Age'] = imputed_X_train_age\n",
    "X = X.astype({'Age': 'int32'})"
   ]
  },
  {
   "cell_type": "code",
   "execution_count": 23,
   "metadata": {
    "id": "an85wmKwyjJG",
    "outputId": "09aae33f-49f2-48fc-d968-89c48dafc632"
   },
   "outputs": [
    {
     "data": {
      "text/html": [
       "<div>\n",
       "<style scoped>\n",
       "    .dataframe tbody tr th:only-of-type {\n",
       "        vertical-align: middle;\n",
       "    }\n",
       "\n",
       "    .dataframe tbody tr th {\n",
       "        vertical-align: top;\n",
       "    }\n",
       "\n",
       "    .dataframe thead th {\n",
       "        text-align: right;\n",
       "    }\n",
       "</style>\n",
       "<table border=\"1\" class=\"dataframe\">\n",
       "  <thead>\n",
       "    <tr style=\"text-align: right;\">\n",
       "      <th></th>\n",
       "      <th>I_Mean</th>\n",
       "      <th>I_Std</th>\n",
       "      <th>I_Median</th>\n",
       "      <th>I_Mode</th>\n",
       "      <th>T_Entropy</th>\n",
       "      <th>I_Skewness</th>\n",
       "      <th>I_Kurtosis</th>\n",
       "      <th>Age</th>\n",
       "      <th>Classifications</th>\n",
       "    </tr>\n",
       "  </thead>\n",
       "  <tbody>\n",
       "    <tr>\n",
       "      <th>358</th>\n",
       "      <td>130.51237</td>\n",
       "      <td>44.79107</td>\n",
       "      <td>128.0</td>\n",
       "      <td>131</td>\n",
       "      <td>5.03009</td>\n",
       "      <td>0.33240</td>\n",
       "      <td>-0.06570</td>\n",
       "      <td>46</td>\n",
       "      <td>0.203</td>\n",
       "    </tr>\n",
       "    <tr>\n",
       "      <th>153</th>\n",
       "      <td>92.77876</td>\n",
       "      <td>23.49349</td>\n",
       "      <td>89.0</td>\n",
       "      <td>81</td>\n",
       "      <td>4.35004</td>\n",
       "      <td>0.78792</td>\n",
       "      <td>2.08622</td>\n",
       "      <td>56</td>\n",
       "      <td>0.152</td>\n",
       "    </tr>\n",
       "    <tr>\n",
       "      <th>454</th>\n",
       "      <td>125.83947</td>\n",
       "      <td>35.55868</td>\n",
       "      <td>129.0</td>\n",
       "      <td>131</td>\n",
       "      <td>4.83826</td>\n",
       "      <td>-0.24087</td>\n",
       "      <td>0.30544</td>\n",
       "      <td>55</td>\n",
       "      <td>0.999</td>\n",
       "    </tr>\n",
       "    <tr>\n",
       "      <th>451</th>\n",
       "      <td>139.18852</td>\n",
       "      <td>23.07211</td>\n",
       "      <td>144.0</td>\n",
       "      <td>147</td>\n",
       "      <td>4.16906</td>\n",
       "      <td>-1.53822</td>\n",
       "      <td>3.72564</td>\n",
       "      <td>54</td>\n",
       "      <td>0.443</td>\n",
       "    </tr>\n",
       "    <tr>\n",
       "      <th>435</th>\n",
       "      <td>125.80311</td>\n",
       "      <td>79.06698</td>\n",
       "      <td>100.0</td>\n",
       "      <td>255</td>\n",
       "      <td>4.90069</td>\n",
       "      <td>0.55050</td>\n",
       "      <td>-1.20942</td>\n",
       "      <td>54</td>\n",
       "      <td>0.963</td>\n",
       "    </tr>\n",
       "  </tbody>\n",
       "</table>\n",
       "</div>"
      ],
      "text/plain": [
       "        I_Mean     I_Std  I_Median  I_Mode  T_Entropy  I_Skewness  I_Kurtosis  \\\n",
       "358  130.51237  44.79107     128.0     131    5.03009     0.33240    -0.06570   \n",
       "153   92.77876  23.49349      89.0      81    4.35004     0.78792     2.08622   \n",
       "454  125.83947  35.55868     129.0     131    4.83826    -0.24087     0.30544   \n",
       "451  139.18852  23.07211     144.0     147    4.16906    -1.53822     3.72564   \n",
       "435  125.80311  79.06698     100.0     255    4.90069     0.55050    -1.20942   \n",
       "\n",
       "     Age  Classifications  \n",
       "358   46            0.203  \n",
       "153   56            0.152  \n",
       "454   55            0.999  \n",
       "451   54            0.443  \n",
       "435   54            0.963  "
      ]
     },
     "execution_count": 23,
     "metadata": {},
     "output_type": "execute_result"
    }
   ],
   "source": [
    "X_train, X_valid, y_train, y_valid = train_test_split(X, y,test_size=0.35)\n",
    "X.head(5)"
   ]
  },
  {
   "cell_type": "code",
   "execution_count": 28,
   "metadata": {
    "id": "jy98XFDEyjJG"
   },
   "outputs": [
    {
     "data": {
      "text/plain": [
       "GridSearchCV(estimator=RandomForestClassifier(),\n",
       "             param_grid={'max_depth': [5, 6, 7, 8, 9],\n",
       "                         'n_estimators': [50, 100, 500, 1000, 1500, 2000]},\n",
       "             scoring='roc_auc')"
      ]
     },
     "execution_count": 28,
     "metadata": {},
     "output_type": "execute_result"
    }
   ],
   "source": [
    "forest_model = RandomForestClassifier()\n",
    "p = {'n_estimators':[50,100,500,1000,1500,2000],'max_depth':[5,6,7,8,9]}\n",
    "c = GridSearchCV(forest_model,p,scoring='roc_auc')\n",
    "c.fit(X,y)"
   ]
  },
  {
   "cell_type": "code",
   "execution_count": 29,
   "metadata": {
    "id": "cBvzdTofyjJG"
   },
   "outputs": [
    {
     "data": {
      "text/plain": [
       "RandomForestClassifier(max_depth=9, n_estimators=500)"
      ]
     },
     "execution_count": 29,
     "metadata": {},
     "output_type": "execute_result"
    }
   ],
   "source": [
    "c.best_estimator_"
   ]
  },
  {
   "cell_type": "code",
   "execution_count": 30,
   "metadata": {
    "id": "0Mcx45bqyjJG"
   },
   "outputs": [
    {
     "data": {
      "text/plain": [
       "0.9221788715486194"
      ]
     },
     "execution_count": 30,
     "metadata": {},
     "output_type": "execute_result"
    }
   ],
   "source": [
    "c.best_score_"
   ]
  },
  {
   "cell_type": "code",
   "execution_count": 24,
   "metadata": {
    "id": "-GUnQv3xyjJG",
    "outputId": "e2368616-e096-4eb6-bbe9-20708750404f"
   },
   "outputs": [
    {
     "name": "stdout",
     "output_type": "stream",
     "text": [
      "AUC: \n",
      " [0.84       0.8        0.88       0.88888889 0.88888889]\n"
     ]
    }
   ],
   "source": [
    "forest_model = RandomForestClassifier(max_depth=9, n_estimators=500)\n",
    "pipeline = Pipeline(steps=[('model',forest_model)])\n",
    "scores = cross_val_score(pipeline, X, y,cv=5,scoring='accuracy')\n",
    "print('AUC: \\n',scores)"
   ]
  },
  {
   "cell_type": "code",
   "execution_count": 25,
   "metadata": {
    "id": "6kOYt-rVyjJG"
   },
   "outputs": [],
   "source": [
    "pipeline.fit(X_train,y_train)\n",
    "y_pred = pipeline.predict_proba(X_valid)"
   ]
  },
  {
   "cell_type": "code",
   "execution_count": 26,
   "metadata": {
    "id": "mMX6lsgjyjJH"
   },
   "outputs": [],
   "source": [
    "ypred = []\n",
    "for i in y_pred:\n",
    "    if i[0] > 0.44:\n",
    "        ypred.append(0)\n",
    "    else:\n",
    "        ypred.append(1)"
   ]
  },
  {
   "cell_type": "code",
   "execution_count": 27,
   "metadata": {
    "id": "BuZS936dyjJH",
    "outputId": "b4aba2b8-1eb5-41a5-90f1-bae65b08ecf0"
   },
   "outputs": [
    {
     "name": "stdout",
     "output_type": "stream",
     "text": [
      "Sensitivity: 0.85\n",
      "Specificity: 0.94\n"
     ]
    },
    {
     "data": {
      "image/png": "[encoded data removed]",
      "text/plain": [
       "<Figure size 360x360 with 2 Axes>"
      ]
     },
     "metadata": {
      "needs_background": "light"
     },
     "output_type": "display_data"
    }
   ],
   "source": [
    "classes = ['Normal','Suspicious']\n",
    "c = sklearn.metrics.confusion_matrix(y_valid,ypred,normalize='true')\n",
    "c = numpy.around(c,decimals =2)\n",
    "\n",
    "plt.figure(figsize=(5, 5))\n",
    "plt.imshow(c,cmap='Blues')\n",
    "\n",
    "plt.xticks(numpy.arange(len(classes)),classes,rotation=45,rotation_mode=\"anchor\",ha=\"right\")\n",
    "plt.yticks(numpy.arange(len(classes)),classes)\n",
    "plt.xlabel(\"Predicted labels\")\n",
    "plt.ylabel(\"True labels\")\n",
    "for i in range(c.shape[1]):\n",
    "    for j in range(c.shape[1]):\n",
    "        if c[i,j]<0.5:\n",
    "            text = plt.text(j, i, c[i, j],\n",
    "                           ha=\"center\", va=\"center\", color=\"black\",fontsize='large')\n",
    "        else:\n",
    "            text = plt.text(j, i, c[i, j],\n",
    "                           ha=\"center\", va=\"center\", color=\"w\",fontsize='large')\n",
    "#plt.title(\"Confusion Matrix\")\n",
    "plt.colorbar()\n",
    "sens = c[1][1]/(c[1][1]+c[1][0])\n",
    "spec = c[0][0]/(c[0][0]+c[0][1])\n",
    "print('Sensitivity:',sens)\n",
    "print('Specificity:',spec)\n",
    "plt.show()"
   ]
  },
  {
   "cell_type": "code",
   "execution_count": 28,
   "metadata": {
    "id": "sYBRoVQuyjJH",
    "outputId": "c35e9e62-8627-4552-93c9-eaf085b37563"
   },
   "outputs": [
    {
     "name": "stdout",
     "output_type": "stream",
     "text": [
      "AUC: 0.9563740856844306\n"
     ]
    },
    {
     "data": {
      "image/png": "[encoded data removed]",
      "text/plain": [
       "<Figure size 432x288 with 1 Axes>"
      ]
     },
     "metadata": {
      "needs_background": "light"
     },
     "output_type": "display_data"
    }
   ],
   "source": [
    "ypred=[]\n",
    "for i in y_pred:\n",
    "    ypred.append(i[1])\n",
    "auc = sklearn.metrics.roc_auc_score(y_valid,ypred)\n",
    "fpr,tpr,t= sklearn.metrics.roc_curve(y_valid,ypred)\n",
    "fig, ax = plt.subplots()\n",
    "ax.plot([0, 1], [0, 1], linestyle='--', lw=2, color='r',\n",
    "        label='Chance', alpha=.8)\n",
    "ax.plot(fpr,tpr, color='b',\n",
    "        label=r'ROC (AUC = %0.2f )' % (auc),\n",
    "        lw=2, alpha=.8)\n",
    "plt.xlabel(\"False Positive Rate\")\n",
    "plt.ylabel(\"True Positive Rate\")\n",
    "ax.legend(loc=\"lower right\")\n",
    "print('AUC:',auc)"
   ]
  },
  {
   "cell_type": "code",
   "execution_count": 36,
   "metadata": {
    "id": "3x296Y81yjJH"
   },
   "outputs": [],
   "source": [
    "acc = []\n",
    "for n in range(100):\n",
    "    forest_model = RandomForestClassifier(max_depth=9,n_estimators=500,random_state=n)\n",
    "    pipeline = Pipeline(steps=[('model',forest_model)])\n",
    "    scores = cross_val_score(pipeline, X, y,cv=5,scoring='roc_auc')\n",
    "    acc.append(scores)"
   ]
  },
  {
   "cell_type": "code",
   "execution_count": 37,
   "metadata": {
    "id": "mtB0XWPQyjJH"
   },
   "outputs": [],
   "source": [
    "accs = []\n",
    "for i in acc:\n",
    "    accs.append(sum(i)/len(i))"
   ]
  },
  {
   "cell_type": "code",
   "execution_count": 38,
   "metadata": {
    "id": "29aZfxwEyjJH"
   },
   "outputs": [
    {
     "data": {
      "text/html": [
       "<div>\n",
       "<style scoped>\n",
       "    .dataframe tbody tr th:only-of-type {\n",
       "        vertical-align: middle;\n",
       "    }\n",
       "\n",
       "    .dataframe tbody tr th {\n",
       "        vertical-align: top;\n",
       "    }\n",
       "\n",
       "    .dataframe thead th {\n",
       "        text-align: right;\n",
       "    }\n",
       "</style>\n",
       "<table border=\"1\" class=\"dataframe\">\n",
       "  <thead>\n",
       "    <tr style=\"text-align: right;\">\n",
       "      <th></th>\n",
       "      <th>With Patches</th>\n",
       "    </tr>\n",
       "  </thead>\n",
       "  <tbody>\n",
       "    <tr>\n",
       "      <th>count</th>\n",
       "      <td>100.000000</td>\n",
       "    </tr>\n",
       "    <tr>\n",
       "      <th>mean</th>\n",
       "      <td>0.919181</td>\n",
       "    </tr>\n",
       "    <tr>\n",
       "      <th>std</th>\n",
       "      <td>0.001239</td>\n",
       "    </tr>\n",
       "    <tr>\n",
       "      <th>min</th>\n",
       "      <td>0.916612</td>\n",
       "    </tr>\n",
       "    <tr>\n",
       "      <th>25%</th>\n",
       "      <td>0.918296</td>\n",
       "    </tr>\n",
       "    <tr>\n",
       "      <th>50%</th>\n",
       "      <td>0.919249</td>\n",
       "    </tr>\n",
       "    <tr>\n",
       "      <th>75%</th>\n",
       "      <td>0.919937</td>\n",
       "    </tr>\n",
       "    <tr>\n",
       "      <th>max</th>\n",
       "      <td>0.922667</td>\n",
       "    </tr>\n",
       "  </tbody>\n",
       "</table>\n",
       "</div>"
      ],
      "text/plain": [
       "       With Patches\n",
       "count    100.000000\n",
       "mean       0.919181\n",
       "std        0.001239\n",
       "min        0.916612\n",
       "25%        0.918296\n",
       "50%        0.919249\n",
       "75%        0.919937\n",
       "max        0.922667"
      ]
     },
     "execution_count": 38,
     "metadata": {},
     "output_type": "execute_result"
    }
   ],
   "source": [
    "a = pd.DataFrame({'With Patches':accs})\n",
    "a.describe()"
   ]
  },
  {
   "cell_type": "markdown",
   "metadata": {
    "id": "1q7csg5bysEo"
   },
   "source": [
    "# Split 3"
   ]
  },
  {
   "cell_type": "markdown",
   "metadata": {
    "id": "wTGDhlTHysEw"
   },
   "source": [
    "## Load Numerical Data"
   ]
  },
  {
   "cell_type": "code",
   "execution_count": null,
   "metadata": {
    "id": "Lc4mjw24ysEw"
   },
   "outputs": [],
   "source": [
    "features_training_normal = pd.read_csv('cross validation/numerical_data/split3/features_training_normal.csv')\n",
    "features_training_suspicious = pd.read_csv('cross validation/numerical_data/split3/features_training_suspicious.csv')\n",
    "features_validation_normal = pd.read_csv('cross validation/numerical_data/split3/features_validation_normal.csv')\n",
    "features_validation_suspicious = pd.read_csv('cross validation/numerical_data/split3/features_validation_suspicious.csv')"
   ]
  },
  {
   "cell_type": "markdown",
   "metadata": {
    "id": "b6_t3VpoysEx"
   },
   "source": [
    "## Evaluate Mammographies"
   ]
  },
  {
   "cell_type": "code",
   "execution_count": null,
   "metadata": {
    "id": "roqmOTeZysEx",
    "outputId": "73ef1cfb-f183-4e9b-8541-562d506e5938"
   },
   "outputs": [],
   "source": [
    "dataframe = pd.concat([features_training_normal,features_training_suspicious,features_validation_normal,features_validation_suspicious],ignore_index=True)\n",
    "model = keras.models.load_model('cross validation/models/split3.h5')\n",
    "a = utils.classify_mammograms(model,dataframe,'cross validation/numerical_data/split3/classification_data_comp.csv')"
   ]
  },
  {
   "cell_type": "code",
   "execution_count": 7,
   "metadata": {
    "id": "nnlnQGbfysEy"
   },
   "outputs": [],
   "source": [
    "dataframe = pd.read_csv('cross validation/numerical_data/split3/classification_data_comp.csv')"
   ]
  },
  {
   "cell_type": "code",
   "execution_count": 8,
   "metadata": {
    "id": "fZAu5svDysEy",
    "outputId": "94037a7f-f750-4d80-ee8d-b4c6934aa9aa"
   },
   "outputs": [
    {
     "name": "stdout",
     "output_type": "stream",
     "text": [
      "Found 332 images belonging to 2 classes.\n",
      "Found 166 images belonging to 2 classes.\n"
     ]
    }
   ],
   "source": [
    "data= utils.generator_crossval(1500,1100,'cross validation/image_data/split3/downsampled')\n",
    "y_true = data[1].classes\n",
    "y_pred = list(dataframe['Classifications'])[-166:]"
   ]
  },
  {
   "cell_type": "code",
   "execution_count": 9,
   "metadata": {
    "id": "5eav8EVXysEy",
    "outputId": "eb1fb378-d66f-4351-bde0-132d65a20349"
   },
   "outputs": [
    {
     "name": "stdout",
     "output_type": "stream",
     "text": [
      "Sensitivity: 0.44\n",
      "Specificity: 0.98\n"
     ]
    },
    {
     "data": {
      "image/png": "[encoded data removed]",
      "text/plain": [
       "<Figure size 360x360 with 2 Axes>"
      ]
     },
     "metadata": {
      "needs_background": "light"
     },
     "output_type": "display_data"
    }
   ],
   "source": [
    "classes = ['Normal','Suspicious']\n",
    "c = sklearn.metrics.confusion_matrix(y_true,numpy.round(y_pred),normalize='true')\n",
    "c = numpy.around(c,decimals =2)\n",
    "\n",
    "plt.figure(figsize=(5, 5))\n",
    "plt.imshow(c)\n",
    "\n",
    "plt.xticks(numpy.arange(len(classes)),classes,rotation=45,rotation_mode=\"anchor\",ha=\"right\")\n",
    "plt.yticks(numpy.arange(len(classes)),classes)\n",
    "plt.xlabel(\"Predicted labels\")\n",
    "plt.ylabel(\"True labels\")\n",
    "for i in range(c.shape[1]):\n",
    "    for j in range(c.shape[1]):\n",
    "        text = plt.text(j, i, c[i, j],\n",
    "                       ha=\"center\", va=\"center\", color=\"w\",fontsize='large')\n",
    "#plt.title(\"Confusion Matrix\")\n",
    "plt.colorbar()\n",
    "sens = c[1][1]/(c[1][1]+c[1][0])\n",
    "spec = c[0][0]/(c[0][0]+c[0][1])\n",
    "print('Sensitivity:',sens)\n",
    "print('Specificity:',spec)\n",
    "plt.show()"
   ]
  },
  {
   "cell_type": "code",
   "execution_count": 10,
   "metadata": {
    "id": "Cd5PnjEgysEz",
    "outputId": "58a625e5-bc1e-42c7-93e8-1e824e29d075"
   },
   "outputs": [
    {
     "name": "stdout",
     "output_type": "stream",
     "text": [
      "Accuracy: 0.7168674698795181\n"
     ]
    }
   ],
   "source": [
    "acc = sklearn.metrics.accuracy_score(y_true,numpy.round(y_pred))\n",
    "print('Accuracy:',acc)"
   ]
  },
  {
   "cell_type": "code",
   "execution_count": 11,
   "metadata": {
    "id": "nveHA6FIysEz",
    "outputId": "9f49517c-a2d6-442a-bc72-1d2d79875790"
   },
   "outputs": [
    {
     "name": "stdout",
     "output_type": "stream",
     "text": [
      "AUC: 0.8120551924473492\n"
     ]
    },
    {
     "data": {
      "image/png": "[encoded data removed]",
      "text/plain": [
       "<Figure size 432x288 with 1 Axes>"
      ]
     },
     "metadata": {
      "needs_background": "light"
     },
     "output_type": "display_data"
    }
   ],
   "source": [
    "auc = sklearn.metrics.roc_auc_score(y_true,y_pred)\n",
    "fpr,tpr,_= sklearn.metrics.roc_curve(y_true,y_pred)\n",
    "plt.plot(fpr,tpr)\n",
    "print('AUC:',auc)"
   ]
  },
  {
   "cell_type": "code",
   "execution_count": null,
   "metadata": {
    "id": "I9LoEHPYysEz"
   },
   "outputs": [],
   "source": [
    "0/0"
   ]
  },
  {
   "cell_type": "markdown",
   "metadata": {
    "id": "JAzX9NH7ysE0"
   },
   "source": [
    "## Evaluate Patches"
   ]
  },
  {
   "cell_type": "code",
   "execution_count": null,
   "metadata": {
    "id": "oT7WL0A6ysE0",
    "tags": [
     "outputPrepend"
    ]
   },
   "outputs": [],
   "source": [
    "utils.classify_patches('cross validation/image_data/split3/raw/training_data/normal/')\n",
    "utils.classify_patches('cross validation/image_data/split3/raw/validation_data/normal/')\n",
    "utils.classify_patches('cross validation/image_data/split3/raw/training_data/suspicious/')\n",
    "utils.classify_patches('cross validation/image_data/split3/raw/validation_data/suspicious/')"
   ]
  },
  {
   "cell_type": "code",
   "execution_count": null,
   "metadata": {
    "id": "7YDiXBQmysE0"
   },
   "outputs": [],
   "source": [
    "utils.add_to_features_csv('cross validation/image_data/split3/raw/training_data/normal/','cross validation/numerical_data/split3/features_training_normal.csv',0.4)\n",
    "utils.add_to_features_csv('cross validation/image_data/split3/raw/training_data/suspicious/','cross validation/numerical_data/split3/features_training_suspicious.csv',0.4)\n",
    "utils.add_to_features_csv('cross validation/image_data/split3/raw/validation_data/normal/','cross validation/numerical_data/split3/features_validation_normal.csv',0.4)\n",
    "utils.add_to_features_csv('cross validation/image_data/split3/raw/validation_data/suspicious/','cross validation/numerical_data/split3/features_validation_suspicious.csv',0.4)"
   ]
  },
  {
   "cell_type": "code",
   "execution_count": null,
   "metadata": {
    "id": "a2lF0XBmysE0"
   },
   "outputs": [],
   "source": [
    "utils.add_to_final_csv(3,'cross validation/numerical_data/split3/classification_data_comp.csv')"
   ]
  },
  {
   "cell_type": "markdown",
   "metadata": {
    "id": "nXYsxdklysE0"
   },
   "source": [
    "## Metaclassification"
   ]
  },
  {
   "cell_type": "code",
   "execution_count": 29,
   "metadata": {
    "id": "zc-X29rxysE1"
   },
   "outputs": [],
   "source": [
    "from sklearn.pipeline import Pipeline\n",
    "from sklearn.impute import SimpleImputer\n",
    "from sklearn.feature_selection import SelectKBest, f_classif\n",
    "from sklearn.model_selection import cross_val_score,train_test_split,GridSearchCV\n",
    "from sklearn.ensemble import RandomForestClassifier\n",
    "from sklearn import svm\n",
    "from sklearn.metrics import classification_report\n",
    "from sklearn.inspection import permutation_importance"
   ]
  },
  {
   "cell_type": "code",
   "execution_count": 30,
   "metadata": {
    "id": "k43OViXIysE1"
   },
   "outputs": [],
   "source": [
    "dataframe = pd.read_csv('cross validation/numerical_data/split3/classification_data_comp.csv')\n",
    "dataframe = dataframe.sample(n=len(dataframe.index))"
   ]
  },
  {
   "cell_type": "code",
   "execution_count": 31,
   "metadata": {
    "id": "kMXziLpUysE1"
   },
   "outputs": [],
   "source": [
    "X = dataframe.loc[:, dataframe.columns != 'Ground Truth']\n",
    "X = X.loc[:, X.columns != 'Unnamed: 0']\n",
    "X = X.loc[:, X.columns != 'Unnamed: 0.1']\n",
    "X = X.loc[:, X.columns != 'Ratio']\n",
    "X = X.loc[:, X.columns != 'Ratios']\n",
    "X = X.loc[:, X.columns != 'Area Factor']\n",
    "#X = X.loc[:, X.columns != 'I_Kurtosis']\n",
    "#X = X.loc[:, X.columns != 'I_Mode']\n",
    "#X = X.loc[:, X.columns != 'I_Std']\n",
    "#X = X.loc[:, X.columns != 'I_Median']\n",
    "#X = X.loc[:, X.columns != 'T_Entropy']\n",
    "#X = X.loc[:, X.columns != 'I_Skewness']\n",
    "y = dataframe['Ground Truth']"
   ]
  },
  {
   "cell_type": "code",
   "execution_count": 32,
   "metadata": {
    "id": "8o436YMvysE1"
   },
   "outputs": [],
   "source": [
    "my_imputer = SimpleImputer(strategy='constant',fill_value=56)\n",
    "imputed_X_train_age = my_imputer.fit_transform(numpy.array(X['Age']).reshape(-1,1))\n",
    "X['Age'] = imputed_X_train_age\n",
    "X = X.astype({'Age': 'int32'})"
   ]
  },
  {
   "cell_type": "code",
   "execution_count": 33,
   "metadata": {
    "id": "-eZNsbcnysE1",
    "outputId": "09aae33f-49f2-48fc-d968-89c48dafc632"
   },
   "outputs": [
    {
     "data": {
      "text/html": [
       "<div>\n",
       "<style scoped>\n",
       "    .dataframe tbody tr th:only-of-type {\n",
       "        vertical-align: middle;\n",
       "    }\n",
       "\n",
       "    .dataframe tbody tr th {\n",
       "        vertical-align: top;\n",
       "    }\n",
       "\n",
       "    .dataframe thead th {\n",
       "        text-align: right;\n",
       "    }\n",
       "</style>\n",
       "<table border=\"1\" class=\"dataframe\">\n",
       "  <thead>\n",
       "    <tr style=\"text-align: right;\">\n",
       "      <th></th>\n",
       "      <th>I_Mean</th>\n",
       "      <th>I_Std</th>\n",
       "      <th>I_Median</th>\n",
       "      <th>I_Mode</th>\n",
       "      <th>T_Entropy</th>\n",
       "      <th>I_Skewness</th>\n",
       "      <th>I_Kurtosis</th>\n",
       "      <th>Age</th>\n",
       "      <th>Classifications</th>\n",
       "    </tr>\n",
       "  </thead>\n",
       "  <tbody>\n",
       "    <tr>\n",
       "      <th>257</th>\n",
       "      <td>109.77820</td>\n",
       "      <td>37.61436</td>\n",
       "      <td>109.0</td>\n",
       "      <td>105</td>\n",
       "      <td>4.83214</td>\n",
       "      <td>0.35231</td>\n",
       "      <td>0.44119</td>\n",
       "      <td>48</td>\n",
       "      <td>0.425</td>\n",
       "    </tr>\n",
       "    <tr>\n",
       "      <th>398</th>\n",
       "      <td>115.55641</td>\n",
       "      <td>27.29154</td>\n",
       "      <td>115.0</td>\n",
       "      <td>113</td>\n",
       "      <td>4.56577</td>\n",
       "      <td>0.16247</td>\n",
       "      <td>0.09815</td>\n",
       "      <td>56</td>\n",
       "      <td>0.016</td>\n",
       "    </tr>\n",
       "    <tr>\n",
       "      <th>126</th>\n",
       "      <td>131.80929</td>\n",
       "      <td>42.71654</td>\n",
       "      <td>133.0</td>\n",
       "      <td>131</td>\n",
       "      <td>4.97953</td>\n",
       "      <td>0.01336</td>\n",
       "      <td>0.04663</td>\n",
       "      <td>42</td>\n",
       "      <td>0.144</td>\n",
       "    </tr>\n",
       "    <tr>\n",
       "      <th>420</th>\n",
       "      <td>102.92605</td>\n",
       "      <td>44.92447</td>\n",
       "      <td>97.0</td>\n",
       "      <td>97</td>\n",
       "      <td>4.92456</td>\n",
       "      <td>0.54679</td>\n",
       "      <td>-0.11716</td>\n",
       "      <td>60</td>\n",
       "      <td>0.192</td>\n",
       "    </tr>\n",
       "    <tr>\n",
       "      <th>159</th>\n",
       "      <td>142.54964</td>\n",
       "      <td>43.01560</td>\n",
       "      <td>143.0</td>\n",
       "      <td>131</td>\n",
       "      <td>5.02698</td>\n",
       "      <td>-0.10347</td>\n",
       "      <td>-0.25517</td>\n",
       "      <td>40</td>\n",
       "      <td>0.020</td>\n",
       "    </tr>\n",
       "  </tbody>\n",
       "</table>\n",
       "</div>"
      ],
      "text/plain": [
       "        I_Mean     I_Std  I_Median  I_Mode  T_Entropy  I_Skewness  I_Kurtosis  \\\n",
       "257  109.77820  37.61436     109.0     105    4.83214     0.35231     0.44119   \n",
       "398  115.55641  27.29154     115.0     113    4.56577     0.16247     0.09815   \n",
       "126  131.80929  42.71654     133.0     131    4.97953     0.01336     0.04663   \n",
       "420  102.92605  44.92447      97.0      97    4.92456     0.54679    -0.11716   \n",
       "159  142.54964  43.01560     143.0     131    5.02698    -0.10347    -0.25517   \n",
       "\n",
       "     Age  Classifications  \n",
       "257   48            0.425  \n",
       "398   56            0.016  \n",
       "126   42            0.144  \n",
       "420   60            0.192  \n",
       "159   40            0.020  "
      ]
     },
     "execution_count": 33,
     "metadata": {},
     "output_type": "execute_result"
    }
   ],
   "source": [
    "X_train, X_valid, y_train, y_valid = train_test_split(X, y,test_size=0.35)\n",
    "X.head(5)"
   ]
  },
  {
   "cell_type": "code",
   "execution_count": 34,
   "metadata": {
    "id": "giF2XucGysE1"
   },
   "outputs": [
    {
     "ename": "KeyboardInterrupt",
     "evalue": "",
     "output_type": "error",
     "traceback": [
      "\u001b[1;31m---------------------------------------------------------------------------\u001b[0m",
      "\u001b[1;31mKeyboardInterrupt\u001b[0m                         Traceback (most recent call last)",
      "\u001b[1;32m<ipython-input-34-dd058e67c110>\u001b[0m in \u001b[0;36m<module>\u001b[1;34m\u001b[0m\n\u001b[0;32m      2\u001b[0m \u001b[0mp\u001b[0m \u001b[1;33m=\u001b[0m \u001b[1;33m{\u001b[0m\u001b[1;34m'n_estimators'\u001b[0m\u001b[1;33m:\u001b[0m\u001b[1;33m[\u001b[0m\u001b[1;36m50\u001b[0m\u001b[1;33m,\u001b[0m\u001b[1;36m100\u001b[0m\u001b[1;33m,\u001b[0m\u001b[1;36m500\u001b[0m\u001b[1;33m,\u001b[0m\u001b[1;36m1000\u001b[0m\u001b[1;33m,\u001b[0m\u001b[1;36m1500\u001b[0m\u001b[1;33m,\u001b[0m\u001b[1;36m2000\u001b[0m\u001b[1;33m]\u001b[0m\u001b[1;33m,\u001b[0m\u001b[1;34m'max_depth'\u001b[0m\u001b[1;33m:\u001b[0m\u001b[1;33m[\u001b[0m\u001b[1;36m5\u001b[0m\u001b[1;33m,\u001b[0m\u001b[1;36m6\u001b[0m\u001b[1;33m,\u001b[0m\u001b[1;36m7\u001b[0m\u001b[1;33m,\u001b[0m\u001b[1;36m8\u001b[0m\u001b[1;33m,\u001b[0m\u001b[1;36m9\u001b[0m\u001b[1;33m]\u001b[0m\u001b[1;33m}\u001b[0m\u001b[1;33m\u001b[0m\u001b[1;33m\u001b[0m\u001b[0m\n\u001b[0;32m      3\u001b[0m \u001b[0mc\u001b[0m \u001b[1;33m=\u001b[0m \u001b[0mGridSearchCV\u001b[0m\u001b[1;33m(\u001b[0m\u001b[0mforest_model\u001b[0m\u001b[1;33m,\u001b[0m\u001b[0mp\u001b[0m\u001b[1;33m,\u001b[0m\u001b[0mscoring\u001b[0m\u001b[1;33m=\u001b[0m\u001b[1;34m'roc_auc'\u001b[0m\u001b[1;33m)\u001b[0m\u001b[1;33m\u001b[0m\u001b[1;33m\u001b[0m\u001b[0m\n\u001b[1;32m----> 4\u001b[1;33m \u001b[0mc\u001b[0m\u001b[1;33m.\u001b[0m\u001b[0mfit\u001b[0m\u001b[1;33m(\u001b[0m\u001b[0mX\u001b[0m\u001b[1;33m,\u001b[0m\u001b[0my\u001b[0m\u001b[1;33m)\u001b[0m\u001b[1;33m\u001b[0m\u001b[1;33m\u001b[0m\u001b[0m\n\u001b[0m",
      "\u001b[1;32m~\\.conda\\envs\\tensorflow\\lib\\site-packages\\sklearn\\utils\\validation.py\u001b[0m in \u001b[0;36minner_f\u001b[1;34m(*args, **kwargs)\u001b[0m\n\u001b[0;32m     61\u001b[0m             \u001b[0mextra_args\u001b[0m \u001b[1;33m=\u001b[0m \u001b[0mlen\u001b[0m\u001b[1;33m(\u001b[0m\u001b[0margs\u001b[0m\u001b[1;33m)\u001b[0m \u001b[1;33m-\u001b[0m \u001b[0mlen\u001b[0m\u001b[1;33m(\u001b[0m\u001b[0mall_args\u001b[0m\u001b[1;33m)\u001b[0m\u001b[1;33m\u001b[0m\u001b[1;33m\u001b[0m\u001b[0m\n\u001b[0;32m     62\u001b[0m             \u001b[1;32mif\u001b[0m \u001b[0mextra_args\u001b[0m \u001b[1;33m<=\u001b[0m \u001b[1;36m0\u001b[0m\u001b[1;33m:\u001b[0m\u001b[1;33m\u001b[0m\u001b[1;33m\u001b[0m\u001b[0m\n\u001b[1;32m---> 63\u001b[1;33m                 \u001b[1;32mreturn\u001b[0m \u001b[0mf\u001b[0m\u001b[1;33m(\u001b[0m\u001b[1;33m*\u001b[0m\u001b[0margs\u001b[0m\u001b[1;33m,\u001b[0m \u001b[1;33m**\u001b[0m\u001b[0mkwargs\u001b[0m\u001b[1;33m)\u001b[0m\u001b[1;33m\u001b[0m\u001b[1;33m\u001b[0m\u001b[0m\n\u001b[0m\u001b[0;32m     64\u001b[0m \u001b[1;33m\u001b[0m\u001b[0m\n\u001b[0;32m     65\u001b[0m             \u001b[1;31m# extra_args > 0\u001b[0m\u001b[1;33m\u001b[0m\u001b[1;33m\u001b[0m\u001b[1;33m\u001b[0m\u001b[0m\n",
      "\u001b[1;32m~\\.conda\\envs\\tensorflow\\lib\\site-packages\\sklearn\\model_selection\\_search.py\u001b[0m in \u001b[0;36mfit\u001b[1;34m(self, X, y, groups, **fit_params)\u001b[0m\n\u001b[0;32m    839\u001b[0m                 \u001b[1;32mreturn\u001b[0m \u001b[0mresults\u001b[0m\u001b[1;33m\u001b[0m\u001b[1;33m\u001b[0m\u001b[0m\n\u001b[0;32m    840\u001b[0m \u001b[1;33m\u001b[0m\u001b[0m\n\u001b[1;32m--> 841\u001b[1;33m             \u001b[0mself\u001b[0m\u001b[1;33m.\u001b[0m\u001b[0m_run_search\u001b[0m\u001b[1;33m(\u001b[0m\u001b[0mevaluate_candidates\u001b[0m\u001b[1;33m)\u001b[0m\u001b[1;33m\u001b[0m\u001b[1;33m\u001b[0m\u001b[0m\n\u001b[0m\u001b[0;32m    842\u001b[0m \u001b[1;33m\u001b[0m\u001b[0m\n\u001b[0;32m    843\u001b[0m             \u001b[1;31m# multimetric is determined here because in the case of a callable\u001b[0m\u001b[1;33m\u001b[0m\u001b[1;33m\u001b[0m\u001b[1;33m\u001b[0m\u001b[0m\n",
      "\u001b[1;32m~\\.conda\\envs\\tensorflow\\lib\\site-packages\\sklearn\\model_selection\\_search.py\u001b[0m in \u001b[0;36m_run_search\u001b[1;34m(self, evaluate_candidates)\u001b[0m\n\u001b[0;32m   1286\u001b[0m     \u001b[1;32mdef\u001b[0m \u001b[0m_run_search\u001b[0m\u001b[1;33m(\u001b[0m\u001b[0mself\u001b[0m\u001b[1;33m,\u001b[0m \u001b[0mevaluate_candidates\u001b[0m\u001b[1;33m)\u001b[0m\u001b[1;33m:\u001b[0m\u001b[1;33m\u001b[0m\u001b[1;33m\u001b[0m\u001b[0m\n\u001b[0;32m   1287\u001b[0m         \u001b[1;34m\"\"\"Search all candidates in param_grid\"\"\"\u001b[0m\u001b[1;33m\u001b[0m\u001b[1;33m\u001b[0m\u001b[0m\n\u001b[1;32m-> 1288\u001b[1;33m         \u001b[0mevaluate_candidates\u001b[0m\u001b[1;33m(\u001b[0m\u001b[0mParameterGrid\u001b[0m\u001b[1;33m(\u001b[0m\u001b[0mself\u001b[0m\u001b[1;33m.\u001b[0m\u001b[0mparam_grid\u001b[0m\u001b[1;33m)\u001b[0m\u001b[1;33m)\u001b[0m\u001b[1;33m\u001b[0m\u001b[1;33m\u001b[0m\u001b[0m\n\u001b[0m\u001b[0;32m   1289\u001b[0m \u001b[1;33m\u001b[0m\u001b[0m\n\u001b[0;32m   1290\u001b[0m \u001b[1;33m\u001b[0m\u001b[0m\n",
      "\u001b[1;32m~\\.conda\\envs\\tensorflow\\lib\\site-packages\\sklearn\\model_selection\\_search.py\u001b[0m in \u001b[0;36mevaluate_candidates\u001b[1;34m(candidate_params, cv, more_results)\u001b[0m\n\u001b[0;32m    807\u001b[0m                                    (split_idx, (train, test)) in product(\n\u001b[0;32m    808\u001b[0m                                    \u001b[0menumerate\u001b[0m\u001b[1;33m(\u001b[0m\u001b[0mcandidate_params\u001b[0m\u001b[1;33m)\u001b[0m\u001b[1;33m,\u001b[0m\u001b[1;33m\u001b[0m\u001b[1;33m\u001b[0m\u001b[0m\n\u001b[1;32m--> 809\u001b[1;33m                                    enumerate(cv.split(X, y, groups))))\n\u001b[0m\u001b[0;32m    810\u001b[0m \u001b[1;33m\u001b[0m\u001b[0m\n\u001b[0;32m    811\u001b[0m                 \u001b[1;32mif\u001b[0m \u001b[0mlen\u001b[0m\u001b[1;33m(\u001b[0m\u001b[0mout\u001b[0m\u001b[1;33m)\u001b[0m \u001b[1;33m<\u001b[0m \u001b[1;36m1\u001b[0m\u001b[1;33m:\u001b[0m\u001b[1;33m\u001b[0m\u001b[1;33m\u001b[0m\u001b[0m\n",
      "\u001b[1;32m~\\.conda\\envs\\tensorflow\\lib\\site-packages\\joblib\\parallel.py\u001b[0m in \u001b[0;36m__call__\u001b[1;34m(self, iterable)\u001b[0m\n\u001b[0;32m   1042\u001b[0m                 \u001b[0mself\u001b[0m\u001b[1;33m.\u001b[0m\u001b[0m_iterating\u001b[0m \u001b[1;33m=\u001b[0m \u001b[0mself\u001b[0m\u001b[1;33m.\u001b[0m\u001b[0m_original_iterator\u001b[0m \u001b[1;32mis\u001b[0m \u001b[1;32mnot\u001b[0m \u001b[1;32mNone\u001b[0m\u001b[1;33m\u001b[0m\u001b[1;33m\u001b[0m\u001b[0m\n\u001b[0;32m   1043\u001b[0m \u001b[1;33m\u001b[0m\u001b[0m\n\u001b[1;32m-> 1044\u001b[1;33m             \u001b[1;32mwhile\u001b[0m \u001b[0mself\u001b[0m\u001b[1;33m.\u001b[0m\u001b[0mdispatch_one_batch\u001b[0m\u001b[1;33m(\u001b[0m\u001b[0miterator\u001b[0m\u001b[1;33m)\u001b[0m\u001b[1;33m:\u001b[0m\u001b[1;33m\u001b[0m\u001b[1;33m\u001b[0m\u001b[0m\n\u001b[0m\u001b[0;32m   1045\u001b[0m                 \u001b[1;32mpass\u001b[0m\u001b[1;33m\u001b[0m\u001b[1;33m\u001b[0m\u001b[0m\n\u001b[0;32m   1046\u001b[0m \u001b[1;33m\u001b[0m\u001b[0m\n",
      "\u001b[1;32m~\\.conda\\envs\\tensorflow\\lib\\site-packages\\joblib\\parallel.py\u001b[0m in \u001b[0;36mdispatch_one_batch\u001b[1;34m(self, iterator)\u001b[0m\n\u001b[0;32m    857\u001b[0m                 \u001b[1;32mreturn\u001b[0m \u001b[1;32mFalse\u001b[0m\u001b[1;33m\u001b[0m\u001b[1;33m\u001b[0m\u001b[0m\n\u001b[0;32m    858\u001b[0m             \u001b[1;32melse\u001b[0m\u001b[1;33m:\u001b[0m\u001b[1;33m\u001b[0m\u001b[1;33m\u001b[0m\u001b[0m\n\u001b[1;32m--> 859\u001b[1;33m                 \u001b[0mself\u001b[0m\u001b[1;33m.\u001b[0m\u001b[0m_dispatch\u001b[0m\u001b[1;33m(\u001b[0m\u001b[0mtasks\u001b[0m\u001b[1;33m)\u001b[0m\u001b[1;33m\u001b[0m\u001b[1;33m\u001b[0m\u001b[0m\n\u001b[0m\u001b[0;32m    860\u001b[0m                 \u001b[1;32mreturn\u001b[0m \u001b[1;32mTrue\u001b[0m\u001b[1;33m\u001b[0m\u001b[1;33m\u001b[0m\u001b[0m\n\u001b[0;32m    861\u001b[0m \u001b[1;33m\u001b[0m\u001b[0m\n",
      "\u001b[1;32m~\\.conda\\envs\\tensorflow\\lib\\site-packages\\joblib\\parallel.py\u001b[0m in \u001b[0;36m_dispatch\u001b[1;34m(self, batch)\u001b[0m\n\u001b[0;32m    775\u001b[0m         \u001b[1;32mwith\u001b[0m \u001b[0mself\u001b[0m\u001b[1;33m.\u001b[0m\u001b[0m_lock\u001b[0m\u001b[1;33m:\u001b[0m\u001b[1;33m\u001b[0m\u001b[1;33m\u001b[0m\u001b[0m\n\u001b[0;32m    776\u001b[0m             \u001b[0mjob_idx\u001b[0m \u001b[1;33m=\u001b[0m \u001b[0mlen\u001b[0m\u001b[1;33m(\u001b[0m\u001b[0mself\u001b[0m\u001b[1;33m.\u001b[0m\u001b[0m_jobs\u001b[0m\u001b[1;33m)\u001b[0m\u001b[1;33m\u001b[0m\u001b[1;33m\u001b[0m\u001b[0m\n\u001b[1;32m--> 777\u001b[1;33m             \u001b[0mjob\u001b[0m \u001b[1;33m=\u001b[0m \u001b[0mself\u001b[0m\u001b[1;33m.\u001b[0m\u001b[0m_backend\u001b[0m\u001b[1;33m.\u001b[0m\u001b[0mapply_async\u001b[0m\u001b[1;33m(\u001b[0m\u001b[0mbatch\u001b[0m\u001b[1;33m,\u001b[0m \u001b[0mcallback\u001b[0m\u001b[1;33m=\u001b[0m\u001b[0mcb\u001b[0m\u001b[1;33m)\u001b[0m\u001b[1;33m\u001b[0m\u001b[1;33m\u001b[0m\u001b[0m\n\u001b[0m\u001b[0;32m    778\u001b[0m             \u001b[1;31m# A job can complete so quickly than its callback is\u001b[0m\u001b[1;33m\u001b[0m\u001b[1;33m\u001b[0m\u001b[1;33m\u001b[0m\u001b[0m\n\u001b[0;32m    779\u001b[0m             \u001b[1;31m# called before we get here, causing self._jobs to\u001b[0m\u001b[1;33m\u001b[0m\u001b[1;33m\u001b[0m\u001b[1;33m\u001b[0m\u001b[0m\n",
      "\u001b[1;32m~\\.conda\\envs\\tensorflow\\lib\\site-packages\\joblib\\_parallel_backends.py\u001b[0m in \u001b[0;36mapply_async\u001b[1;34m(self, func, callback)\u001b[0m\n\u001b[0;32m    206\u001b[0m     \u001b[1;32mdef\u001b[0m \u001b[0mapply_async\u001b[0m\u001b[1;33m(\u001b[0m\u001b[0mself\u001b[0m\u001b[1;33m,\u001b[0m \u001b[0mfunc\u001b[0m\u001b[1;33m,\u001b[0m \u001b[0mcallback\u001b[0m\u001b[1;33m=\u001b[0m\u001b[1;32mNone\u001b[0m\u001b[1;33m)\u001b[0m\u001b[1;33m:\u001b[0m\u001b[1;33m\u001b[0m\u001b[1;33m\u001b[0m\u001b[0m\n\u001b[0;32m    207\u001b[0m         \u001b[1;34m\"\"\"Schedule a func to be run\"\"\"\u001b[0m\u001b[1;33m\u001b[0m\u001b[1;33m\u001b[0m\u001b[0m\n\u001b[1;32m--> 208\u001b[1;33m         \u001b[0mresult\u001b[0m \u001b[1;33m=\u001b[0m \u001b[0mImmediateResult\u001b[0m\u001b[1;33m(\u001b[0m\u001b[0mfunc\u001b[0m\u001b[1;33m)\u001b[0m\u001b[1;33m\u001b[0m\u001b[1;33m\u001b[0m\u001b[0m\n\u001b[0m\u001b[0;32m    209\u001b[0m         \u001b[1;32mif\u001b[0m \u001b[0mcallback\u001b[0m\u001b[1;33m:\u001b[0m\u001b[1;33m\u001b[0m\u001b[1;33m\u001b[0m\u001b[0m\n\u001b[0;32m    210\u001b[0m             \u001b[0mcallback\u001b[0m\u001b[1;33m(\u001b[0m\u001b[0mresult\u001b[0m\u001b[1;33m)\u001b[0m\u001b[1;33m\u001b[0m\u001b[1;33m\u001b[0m\u001b[0m\n",
      "\u001b[1;32m~\\.conda\\envs\\tensorflow\\lib\\site-packages\\joblib\\_parallel_backends.py\u001b[0m in \u001b[0;36m__init__\u001b[1;34m(self, batch)\u001b[0m\n\u001b[0;32m    570\u001b[0m         \u001b[1;31m# Don't delay the application, to avoid keeping the input\u001b[0m\u001b[1;33m\u001b[0m\u001b[1;33m\u001b[0m\u001b[1;33m\u001b[0m\u001b[0m\n\u001b[0;32m    571\u001b[0m         \u001b[1;31m# arguments in memory\u001b[0m\u001b[1;33m\u001b[0m\u001b[1;33m\u001b[0m\u001b[1;33m\u001b[0m\u001b[0m\n\u001b[1;32m--> 572\u001b[1;33m         \u001b[0mself\u001b[0m\u001b[1;33m.\u001b[0m\u001b[0mresults\u001b[0m \u001b[1;33m=\u001b[0m \u001b[0mbatch\u001b[0m\u001b[1;33m(\u001b[0m\u001b[1;33m)\u001b[0m\u001b[1;33m\u001b[0m\u001b[1;33m\u001b[0m\u001b[0m\n\u001b[0m\u001b[0;32m    573\u001b[0m \u001b[1;33m\u001b[0m\u001b[0m\n\u001b[0;32m    574\u001b[0m     \u001b[1;32mdef\u001b[0m \u001b[0mget\u001b[0m\u001b[1;33m(\u001b[0m\u001b[0mself\u001b[0m\u001b[1;33m)\u001b[0m\u001b[1;33m:\u001b[0m\u001b[1;33m\u001b[0m\u001b[1;33m\u001b[0m\u001b[0m\n",
      "\u001b[1;32m~\\.conda\\envs\\tensorflow\\lib\\site-packages\\joblib\\parallel.py\u001b[0m in \u001b[0;36m__call__\u001b[1;34m(self)\u001b[0m\n\u001b[0;32m    261\u001b[0m         \u001b[1;32mwith\u001b[0m \u001b[0mparallel_backend\u001b[0m\u001b[1;33m(\u001b[0m\u001b[0mself\u001b[0m\u001b[1;33m.\u001b[0m\u001b[0m_backend\u001b[0m\u001b[1;33m,\u001b[0m \u001b[0mn_jobs\u001b[0m\u001b[1;33m=\u001b[0m\u001b[0mself\u001b[0m\u001b[1;33m.\u001b[0m\u001b[0m_n_jobs\u001b[0m\u001b[1;33m)\u001b[0m\u001b[1;33m:\u001b[0m\u001b[1;33m\u001b[0m\u001b[1;33m\u001b[0m\u001b[0m\n\u001b[0;32m    262\u001b[0m             return [func(*args, **kwargs)\n\u001b[1;32m--> 263\u001b[1;33m                     for func, args, kwargs in self.items]\n\u001b[0m\u001b[0;32m    264\u001b[0m \u001b[1;33m\u001b[0m\u001b[0m\n\u001b[0;32m    265\u001b[0m     \u001b[1;32mdef\u001b[0m \u001b[0m__reduce__\u001b[0m\u001b[1;33m(\u001b[0m\u001b[0mself\u001b[0m\u001b[1;33m)\u001b[0m\u001b[1;33m:\u001b[0m\u001b[1;33m\u001b[0m\u001b[1;33m\u001b[0m\u001b[0m\n",
      "\u001b[1;32m~\\.conda\\envs\\tensorflow\\lib\\site-packages\\joblib\\parallel.py\u001b[0m in \u001b[0;36m<listcomp>\u001b[1;34m(.0)\u001b[0m\n\u001b[0;32m    261\u001b[0m         \u001b[1;32mwith\u001b[0m \u001b[0mparallel_backend\u001b[0m\u001b[1;33m(\u001b[0m\u001b[0mself\u001b[0m\u001b[1;33m.\u001b[0m\u001b[0m_backend\u001b[0m\u001b[1;33m,\u001b[0m \u001b[0mn_jobs\u001b[0m\u001b[1;33m=\u001b[0m\u001b[0mself\u001b[0m\u001b[1;33m.\u001b[0m\u001b[0m_n_jobs\u001b[0m\u001b[1;33m)\u001b[0m\u001b[1;33m:\u001b[0m\u001b[1;33m\u001b[0m\u001b[1;33m\u001b[0m\u001b[0m\n\u001b[0;32m    262\u001b[0m             return [func(*args, **kwargs)\n\u001b[1;32m--> 263\u001b[1;33m                     for func, args, kwargs in self.items]\n\u001b[0m\u001b[0;32m    264\u001b[0m \u001b[1;33m\u001b[0m\u001b[0m\n\u001b[0;32m    265\u001b[0m     \u001b[1;32mdef\u001b[0m \u001b[0m__reduce__\u001b[0m\u001b[1;33m(\u001b[0m\u001b[0mself\u001b[0m\u001b[1;33m)\u001b[0m\u001b[1;33m:\u001b[0m\u001b[1;33m\u001b[0m\u001b[1;33m\u001b[0m\u001b[0m\n",
      "\u001b[1;32m~\\.conda\\envs\\tensorflow\\lib\\site-packages\\sklearn\\utils\\fixes.py\u001b[0m in \u001b[0;36m__call__\u001b[1;34m(self, *args, **kwargs)\u001b[0m\n\u001b[0;32m    220\u001b[0m     \u001b[1;32mdef\u001b[0m \u001b[0m__call__\u001b[0m\u001b[1;33m(\u001b[0m\u001b[0mself\u001b[0m\u001b[1;33m,\u001b[0m \u001b[1;33m*\u001b[0m\u001b[0margs\u001b[0m\u001b[1;33m,\u001b[0m \u001b[1;33m**\u001b[0m\u001b[0mkwargs\u001b[0m\u001b[1;33m)\u001b[0m\u001b[1;33m:\u001b[0m\u001b[1;33m\u001b[0m\u001b[1;33m\u001b[0m\u001b[0m\n\u001b[0;32m    221\u001b[0m         \u001b[1;32mwith\u001b[0m \u001b[0mconfig_context\u001b[0m\u001b[1;33m(\u001b[0m\u001b[1;33m**\u001b[0m\u001b[0mself\u001b[0m\u001b[1;33m.\u001b[0m\u001b[0mconfig\u001b[0m\u001b[1;33m)\u001b[0m\u001b[1;33m:\u001b[0m\u001b[1;33m\u001b[0m\u001b[1;33m\u001b[0m\u001b[0m\n\u001b[1;32m--> 222\u001b[1;33m             \u001b[1;32mreturn\u001b[0m \u001b[0mself\u001b[0m\u001b[1;33m.\u001b[0m\u001b[0mfunction\u001b[0m\u001b[1;33m(\u001b[0m\u001b[1;33m*\u001b[0m\u001b[0margs\u001b[0m\u001b[1;33m,\u001b[0m \u001b[1;33m**\u001b[0m\u001b[0mkwargs\u001b[0m\u001b[1;33m)\u001b[0m\u001b[1;33m\u001b[0m\u001b[1;33m\u001b[0m\u001b[0m\n\u001b[0m",
      "\u001b[1;32m~\\.conda\\envs\\tensorflow\\lib\\site-packages\\sklearn\\model_selection\\_validation.py\u001b[0m in \u001b[0;36m_fit_and_score\u001b[1;34m(estimator, X, y, scorer, train, test, verbose, parameters, fit_params, return_train_score, return_parameters, return_n_test_samples, return_times, return_estimator, split_progress, candidate_progress, error_score)\u001b[0m\n\u001b[0;32m    591\u001b[0m             \u001b[0mestimator\u001b[0m\u001b[1;33m.\u001b[0m\u001b[0mfit\u001b[0m\u001b[1;33m(\u001b[0m\u001b[0mX_train\u001b[0m\u001b[1;33m,\u001b[0m \u001b[1;33m**\u001b[0m\u001b[0mfit_params\u001b[0m\u001b[1;33m)\u001b[0m\u001b[1;33m\u001b[0m\u001b[1;33m\u001b[0m\u001b[0m\n\u001b[0;32m    592\u001b[0m         \u001b[1;32melse\u001b[0m\u001b[1;33m:\u001b[0m\u001b[1;33m\u001b[0m\u001b[1;33m\u001b[0m\u001b[0m\n\u001b[1;32m--> 593\u001b[1;33m             \u001b[0mestimator\u001b[0m\u001b[1;33m.\u001b[0m\u001b[0mfit\u001b[0m\u001b[1;33m(\u001b[0m\u001b[0mX_train\u001b[0m\u001b[1;33m,\u001b[0m \u001b[0my_train\u001b[0m\u001b[1;33m,\u001b[0m \u001b[1;33m**\u001b[0m\u001b[0mfit_params\u001b[0m\u001b[1;33m)\u001b[0m\u001b[1;33m\u001b[0m\u001b[1;33m\u001b[0m\u001b[0m\n\u001b[0m\u001b[0;32m    594\u001b[0m \u001b[1;33m\u001b[0m\u001b[0m\n\u001b[0;32m    595\u001b[0m     \u001b[1;32mexcept\u001b[0m \u001b[0mException\u001b[0m \u001b[1;32mas\u001b[0m \u001b[0me\u001b[0m\u001b[1;33m:\u001b[0m\u001b[1;33m\u001b[0m\u001b[1;33m\u001b[0m\u001b[0m\n",
      "\u001b[1;32m~\\.conda\\envs\\tensorflow\\lib\\site-packages\\sklearn\\ensemble\\_forest.py\u001b[0m in \u001b[0;36mfit\u001b[1;34m(self, X, y, sample_weight)\u001b[0m\n\u001b[0;32m    391\u001b[0m                     \u001b[0mverbose\u001b[0m\u001b[1;33m=\u001b[0m\u001b[0mself\u001b[0m\u001b[1;33m.\u001b[0m\u001b[0mverbose\u001b[0m\u001b[1;33m,\u001b[0m \u001b[0mclass_weight\u001b[0m\u001b[1;33m=\u001b[0m\u001b[0mself\u001b[0m\u001b[1;33m.\u001b[0m\u001b[0mclass_weight\u001b[0m\u001b[1;33m,\u001b[0m\u001b[1;33m\u001b[0m\u001b[1;33m\u001b[0m\u001b[0m\n\u001b[0;32m    392\u001b[0m                     n_samples_bootstrap=n_samples_bootstrap)\n\u001b[1;32m--> 393\u001b[1;33m                 for i, t in enumerate(trees))\n\u001b[0m\u001b[0;32m    394\u001b[0m \u001b[1;33m\u001b[0m\u001b[0m\n\u001b[0;32m    395\u001b[0m             \u001b[1;31m# Collect newly grown trees\u001b[0m\u001b[1;33m\u001b[0m\u001b[1;33m\u001b[0m\u001b[1;33m\u001b[0m\u001b[0m\n",
      "\u001b[1;32m~\\.conda\\envs\\tensorflow\\lib\\site-packages\\joblib\\parallel.py\u001b[0m in \u001b[0;36m__call__\u001b[1;34m(self, iterable)\u001b[0m\n\u001b[0;32m   1042\u001b[0m                 \u001b[0mself\u001b[0m\u001b[1;33m.\u001b[0m\u001b[0m_iterating\u001b[0m \u001b[1;33m=\u001b[0m \u001b[0mself\u001b[0m\u001b[1;33m.\u001b[0m\u001b[0m_original_iterator\u001b[0m \u001b[1;32mis\u001b[0m \u001b[1;32mnot\u001b[0m \u001b[1;32mNone\u001b[0m\u001b[1;33m\u001b[0m\u001b[1;33m\u001b[0m\u001b[0m\n\u001b[0;32m   1043\u001b[0m \u001b[1;33m\u001b[0m\u001b[0m\n\u001b[1;32m-> 1044\u001b[1;33m             \u001b[1;32mwhile\u001b[0m \u001b[0mself\u001b[0m\u001b[1;33m.\u001b[0m\u001b[0mdispatch_one_batch\u001b[0m\u001b[1;33m(\u001b[0m\u001b[0miterator\u001b[0m\u001b[1;33m)\u001b[0m\u001b[1;33m:\u001b[0m\u001b[1;33m\u001b[0m\u001b[1;33m\u001b[0m\u001b[0m\n\u001b[0m\u001b[0;32m   1045\u001b[0m                 \u001b[1;32mpass\u001b[0m\u001b[1;33m\u001b[0m\u001b[1;33m\u001b[0m\u001b[0m\n\u001b[0;32m   1046\u001b[0m \u001b[1;33m\u001b[0m\u001b[0m\n",
      "\u001b[1;32m~\\.conda\\envs\\tensorflow\\lib\\site-packages\\joblib\\parallel.py\u001b[0m in \u001b[0;36mdispatch_one_batch\u001b[1;34m(self, iterator)\u001b[0m\n\u001b[0;32m    857\u001b[0m                 \u001b[1;32mreturn\u001b[0m \u001b[1;32mFalse\u001b[0m\u001b[1;33m\u001b[0m\u001b[1;33m\u001b[0m\u001b[0m\n\u001b[0;32m    858\u001b[0m             \u001b[1;32melse\u001b[0m\u001b[1;33m:\u001b[0m\u001b[1;33m\u001b[0m\u001b[1;33m\u001b[0m\u001b[0m\n\u001b[1;32m--> 859\u001b[1;33m                 \u001b[0mself\u001b[0m\u001b[1;33m.\u001b[0m\u001b[0m_dispatch\u001b[0m\u001b[1;33m(\u001b[0m\u001b[0mtasks\u001b[0m\u001b[1;33m)\u001b[0m\u001b[1;33m\u001b[0m\u001b[1;33m\u001b[0m\u001b[0m\n\u001b[0m\u001b[0;32m    860\u001b[0m                 \u001b[1;32mreturn\u001b[0m \u001b[1;32mTrue\u001b[0m\u001b[1;33m\u001b[0m\u001b[1;33m\u001b[0m\u001b[0m\n\u001b[0;32m    861\u001b[0m \u001b[1;33m\u001b[0m\u001b[0m\n",
      "\u001b[1;32m~\\.conda\\envs\\tensorflow\\lib\\site-packages\\joblib\\parallel.py\u001b[0m in \u001b[0;36m_dispatch\u001b[1;34m(self, batch)\u001b[0m\n\u001b[0;32m    775\u001b[0m         \u001b[1;32mwith\u001b[0m \u001b[0mself\u001b[0m\u001b[1;33m.\u001b[0m\u001b[0m_lock\u001b[0m\u001b[1;33m:\u001b[0m\u001b[1;33m\u001b[0m\u001b[1;33m\u001b[0m\u001b[0m\n\u001b[0;32m    776\u001b[0m             \u001b[0mjob_idx\u001b[0m \u001b[1;33m=\u001b[0m \u001b[0mlen\u001b[0m\u001b[1;33m(\u001b[0m\u001b[0mself\u001b[0m\u001b[1;33m.\u001b[0m\u001b[0m_jobs\u001b[0m\u001b[1;33m)\u001b[0m\u001b[1;33m\u001b[0m\u001b[1;33m\u001b[0m\u001b[0m\n\u001b[1;32m--> 777\u001b[1;33m             \u001b[0mjob\u001b[0m \u001b[1;33m=\u001b[0m \u001b[0mself\u001b[0m\u001b[1;33m.\u001b[0m\u001b[0m_backend\u001b[0m\u001b[1;33m.\u001b[0m\u001b[0mapply_async\u001b[0m\u001b[1;33m(\u001b[0m\u001b[0mbatch\u001b[0m\u001b[1;33m,\u001b[0m \u001b[0mcallback\u001b[0m\u001b[1;33m=\u001b[0m\u001b[0mcb\u001b[0m\u001b[1;33m)\u001b[0m\u001b[1;33m\u001b[0m\u001b[1;33m\u001b[0m\u001b[0m\n\u001b[0m\u001b[0;32m    778\u001b[0m             \u001b[1;31m# A job can complete so quickly than its callback is\u001b[0m\u001b[1;33m\u001b[0m\u001b[1;33m\u001b[0m\u001b[1;33m\u001b[0m\u001b[0m\n\u001b[0;32m    779\u001b[0m             \u001b[1;31m# called before we get here, causing self._jobs to\u001b[0m\u001b[1;33m\u001b[0m\u001b[1;33m\u001b[0m\u001b[1;33m\u001b[0m\u001b[0m\n",
      "\u001b[1;32m~\\.conda\\envs\\tensorflow\\lib\\site-packages\\joblib\\_parallel_backends.py\u001b[0m in \u001b[0;36mapply_async\u001b[1;34m(self, func, callback)\u001b[0m\n\u001b[0;32m    206\u001b[0m     \u001b[1;32mdef\u001b[0m \u001b[0mapply_async\u001b[0m\u001b[1;33m(\u001b[0m\u001b[0mself\u001b[0m\u001b[1;33m,\u001b[0m \u001b[0mfunc\u001b[0m\u001b[1;33m,\u001b[0m \u001b[0mcallback\u001b[0m\u001b[1;33m=\u001b[0m\u001b[1;32mNone\u001b[0m\u001b[1;33m)\u001b[0m\u001b[1;33m:\u001b[0m\u001b[1;33m\u001b[0m\u001b[1;33m\u001b[0m\u001b[0m\n\u001b[0;32m    207\u001b[0m         \u001b[1;34m\"\"\"Schedule a func to be run\"\"\"\u001b[0m\u001b[1;33m\u001b[0m\u001b[1;33m\u001b[0m\u001b[0m\n\u001b[1;32m--> 208\u001b[1;33m         \u001b[0mresult\u001b[0m \u001b[1;33m=\u001b[0m \u001b[0mImmediateResult\u001b[0m\u001b[1;33m(\u001b[0m\u001b[0mfunc\u001b[0m\u001b[1;33m)\u001b[0m\u001b[1;33m\u001b[0m\u001b[1;33m\u001b[0m\u001b[0m\n\u001b[0m\u001b[0;32m    209\u001b[0m         \u001b[1;32mif\u001b[0m \u001b[0mcallback\u001b[0m\u001b[1;33m:\u001b[0m\u001b[1;33m\u001b[0m\u001b[1;33m\u001b[0m\u001b[0m\n\u001b[0;32m    210\u001b[0m             \u001b[0mcallback\u001b[0m\u001b[1;33m(\u001b[0m\u001b[0mresult\u001b[0m\u001b[1;33m)\u001b[0m\u001b[1;33m\u001b[0m\u001b[1;33m\u001b[0m\u001b[0m\n",
      "\u001b[1;32m~\\.conda\\envs\\tensorflow\\lib\\site-packages\\joblib\\_parallel_backends.py\u001b[0m in \u001b[0;36m__init__\u001b[1;34m(self, batch)\u001b[0m\n\u001b[0;32m    570\u001b[0m         \u001b[1;31m# Don't delay the application, to avoid keeping the input\u001b[0m\u001b[1;33m\u001b[0m\u001b[1;33m\u001b[0m\u001b[1;33m\u001b[0m\u001b[0m\n\u001b[0;32m    571\u001b[0m         \u001b[1;31m# arguments in memory\u001b[0m\u001b[1;33m\u001b[0m\u001b[1;33m\u001b[0m\u001b[1;33m\u001b[0m\u001b[0m\n\u001b[1;32m--> 572\u001b[1;33m         \u001b[0mself\u001b[0m\u001b[1;33m.\u001b[0m\u001b[0mresults\u001b[0m \u001b[1;33m=\u001b[0m \u001b[0mbatch\u001b[0m\u001b[1;33m(\u001b[0m\u001b[1;33m)\u001b[0m\u001b[1;33m\u001b[0m\u001b[1;33m\u001b[0m\u001b[0m\n\u001b[0m\u001b[0;32m    573\u001b[0m \u001b[1;33m\u001b[0m\u001b[0m\n\u001b[0;32m    574\u001b[0m     \u001b[1;32mdef\u001b[0m \u001b[0mget\u001b[0m\u001b[1;33m(\u001b[0m\u001b[0mself\u001b[0m\u001b[1;33m)\u001b[0m\u001b[1;33m:\u001b[0m\u001b[1;33m\u001b[0m\u001b[1;33m\u001b[0m\u001b[0m\n",
      "\u001b[1;32m~\\.conda\\envs\\tensorflow\\lib\\site-packages\\joblib\\parallel.py\u001b[0m in \u001b[0;36m__call__\u001b[1;34m(self)\u001b[0m\n\u001b[0;32m    261\u001b[0m         \u001b[1;32mwith\u001b[0m \u001b[0mparallel_backend\u001b[0m\u001b[1;33m(\u001b[0m\u001b[0mself\u001b[0m\u001b[1;33m.\u001b[0m\u001b[0m_backend\u001b[0m\u001b[1;33m,\u001b[0m \u001b[0mn_jobs\u001b[0m\u001b[1;33m=\u001b[0m\u001b[0mself\u001b[0m\u001b[1;33m.\u001b[0m\u001b[0m_n_jobs\u001b[0m\u001b[1;33m)\u001b[0m\u001b[1;33m:\u001b[0m\u001b[1;33m\u001b[0m\u001b[1;33m\u001b[0m\u001b[0m\n\u001b[0;32m    262\u001b[0m             return [func(*args, **kwargs)\n\u001b[1;32m--> 263\u001b[1;33m                     for func, args, kwargs in self.items]\n\u001b[0m\u001b[0;32m    264\u001b[0m \u001b[1;33m\u001b[0m\u001b[0m\n\u001b[0;32m    265\u001b[0m     \u001b[1;32mdef\u001b[0m \u001b[0m__reduce__\u001b[0m\u001b[1;33m(\u001b[0m\u001b[0mself\u001b[0m\u001b[1;33m)\u001b[0m\u001b[1;33m:\u001b[0m\u001b[1;33m\u001b[0m\u001b[1;33m\u001b[0m\u001b[0m\n",
      "\u001b[1;32m~\\.conda\\envs\\tensorflow\\lib\\site-packages\\joblib\\parallel.py\u001b[0m in \u001b[0;36m<listcomp>\u001b[1;34m(.0)\u001b[0m\n\u001b[0;32m    261\u001b[0m         \u001b[1;32mwith\u001b[0m \u001b[0mparallel_backend\u001b[0m\u001b[1;33m(\u001b[0m\u001b[0mself\u001b[0m\u001b[1;33m.\u001b[0m\u001b[0m_backend\u001b[0m\u001b[1;33m,\u001b[0m \u001b[0mn_jobs\u001b[0m\u001b[1;33m=\u001b[0m\u001b[0mself\u001b[0m\u001b[1;33m.\u001b[0m\u001b[0m_n_jobs\u001b[0m\u001b[1;33m)\u001b[0m\u001b[1;33m:\u001b[0m\u001b[1;33m\u001b[0m\u001b[1;33m\u001b[0m\u001b[0m\n\u001b[0;32m    262\u001b[0m             return [func(*args, **kwargs)\n\u001b[1;32m--> 263\u001b[1;33m                     for func, args, kwargs in self.items]\n\u001b[0m\u001b[0;32m    264\u001b[0m \u001b[1;33m\u001b[0m\u001b[0m\n\u001b[0;32m    265\u001b[0m     \u001b[1;32mdef\u001b[0m \u001b[0m__reduce__\u001b[0m\u001b[1;33m(\u001b[0m\u001b[0mself\u001b[0m\u001b[1;33m)\u001b[0m\u001b[1;33m:\u001b[0m\u001b[1;33m\u001b[0m\u001b[1;33m\u001b[0m\u001b[0m\n",
      "\u001b[1;32m~\\.conda\\envs\\tensorflow\\lib\\site-packages\\sklearn\\utils\\fixes.py\u001b[0m in \u001b[0;36m__call__\u001b[1;34m(self, *args, **kwargs)\u001b[0m\n\u001b[0;32m    220\u001b[0m     \u001b[1;32mdef\u001b[0m \u001b[0m__call__\u001b[0m\u001b[1;33m(\u001b[0m\u001b[0mself\u001b[0m\u001b[1;33m,\u001b[0m \u001b[1;33m*\u001b[0m\u001b[0margs\u001b[0m\u001b[1;33m,\u001b[0m \u001b[1;33m**\u001b[0m\u001b[0mkwargs\u001b[0m\u001b[1;33m)\u001b[0m\u001b[1;33m:\u001b[0m\u001b[1;33m\u001b[0m\u001b[1;33m\u001b[0m\u001b[0m\n\u001b[0;32m    221\u001b[0m         \u001b[1;32mwith\u001b[0m \u001b[0mconfig_context\u001b[0m\u001b[1;33m(\u001b[0m\u001b[1;33m**\u001b[0m\u001b[0mself\u001b[0m\u001b[1;33m.\u001b[0m\u001b[0mconfig\u001b[0m\u001b[1;33m)\u001b[0m\u001b[1;33m:\u001b[0m\u001b[1;33m\u001b[0m\u001b[1;33m\u001b[0m\u001b[0m\n\u001b[1;32m--> 222\u001b[1;33m             \u001b[1;32mreturn\u001b[0m \u001b[0mself\u001b[0m\u001b[1;33m.\u001b[0m\u001b[0mfunction\u001b[0m\u001b[1;33m(\u001b[0m\u001b[1;33m*\u001b[0m\u001b[0margs\u001b[0m\u001b[1;33m,\u001b[0m \u001b[1;33m**\u001b[0m\u001b[0mkwargs\u001b[0m\u001b[1;33m)\u001b[0m\u001b[1;33m\u001b[0m\u001b[1;33m\u001b[0m\u001b[0m\n\u001b[0m",
      "\u001b[1;32m~\\.conda\\envs\\tensorflow\\lib\\site-packages\\sklearn\\ensemble\\_forest.py\u001b[0m in \u001b[0;36m_parallel_build_trees\u001b[1;34m(tree, forest, X, y, sample_weight, tree_idx, n_trees, verbose, class_weight, n_samples_bootstrap)\u001b[0m\n\u001b[0;32m    154\u001b[0m \u001b[1;33m\u001b[0m\u001b[0m\n\u001b[0;32m    155\u001b[0m         indices = _generate_sample_indices(tree.random_state, n_samples,\n\u001b[1;32m--> 156\u001b[1;33m                                            n_samples_bootstrap)\n\u001b[0m\u001b[0;32m    157\u001b[0m         \u001b[0msample_counts\u001b[0m \u001b[1;33m=\u001b[0m \u001b[0mnp\u001b[0m\u001b[1;33m.\u001b[0m\u001b[0mbincount\u001b[0m\u001b[1;33m(\u001b[0m\u001b[0mindices\u001b[0m\u001b[1;33m,\u001b[0m \u001b[0mminlength\u001b[0m\u001b[1;33m=\u001b[0m\u001b[0mn_samples\u001b[0m\u001b[1;33m)\u001b[0m\u001b[1;33m\u001b[0m\u001b[1;33m\u001b[0m\u001b[0m\n\u001b[0;32m    158\u001b[0m         \u001b[0mcurr_sample_weight\u001b[0m \u001b[1;33m*=\u001b[0m \u001b[0msample_counts\u001b[0m\u001b[1;33m\u001b[0m\u001b[1;33m\u001b[0m\u001b[0m\n",
      "\u001b[1;32m~\\.conda\\envs\\tensorflow\\lib\\site-packages\\sklearn\\ensemble\\_forest.py\u001b[0m in \u001b[0;36m_generate_sample_indices\u001b[1;34m(random_state, n_samples, n_samples_bootstrap)\u001b[0m\n\u001b[0;32m    120\u001b[0m \u001b[1;33m\u001b[0m\u001b[0m\n\u001b[0;32m    121\u001b[0m     \u001b[0mrandom_instance\u001b[0m \u001b[1;33m=\u001b[0m \u001b[0mcheck_random_state\u001b[0m\u001b[1;33m(\u001b[0m\u001b[0mrandom_state\u001b[0m\u001b[1;33m)\u001b[0m\u001b[1;33m\u001b[0m\u001b[1;33m\u001b[0m\u001b[0m\n\u001b[1;32m--> 122\u001b[1;33m     \u001b[0msample_indices\u001b[0m \u001b[1;33m=\u001b[0m \u001b[0mrandom_instance\u001b[0m\u001b[1;33m.\u001b[0m\u001b[0mrandint\u001b[0m\u001b[1;33m(\u001b[0m\u001b[1;36m0\u001b[0m\u001b[1;33m,\u001b[0m \u001b[0mn_samples\u001b[0m\u001b[1;33m,\u001b[0m \u001b[0mn_samples_bootstrap\u001b[0m\u001b[1;33m)\u001b[0m\u001b[1;33m\u001b[0m\u001b[1;33m\u001b[0m\u001b[0m\n\u001b[0m\u001b[0;32m    123\u001b[0m \u001b[1;33m\u001b[0m\u001b[0m\n\u001b[0;32m    124\u001b[0m     \u001b[1;32mreturn\u001b[0m \u001b[0msample_indices\u001b[0m\u001b[1;33m\u001b[0m\u001b[1;33m\u001b[0m\u001b[0m\n",
      "\u001b[1;31mKeyboardInterrupt\u001b[0m: "
     ]
    }
   ],
   "source": [
    "forest_model = RandomForestClassifier()\n",
    "p = {'n_estimators':[50,100,500,1000,1500,2000],'max_depth':[5,6,7,8,9]}\n",
    "c = GridSearchCV(forest_model,p,scoring='roc_auc')\n",
    "c.fit(X,y)"
   ]
  },
  {
   "cell_type": "code",
   "execution_count": 44,
   "metadata": {
    "id": "X5HRQIYXysE2"
   },
   "outputs": [
    {
     "data": {
      "text/plain": [
       "RandomForestClassifier(max_depth=9, n_estimators=500)"
      ]
     },
     "execution_count": 44,
     "metadata": {},
     "output_type": "execute_result"
    }
   ],
   "source": [
    "c.best_estimator_"
   ]
  },
  {
   "cell_type": "code",
   "execution_count": 45,
   "metadata": {
    "id": "PA4h6RGoysE2"
   },
   "outputs": [
    {
     "data": {
      "text/plain": [
       "0.9158663465386153"
      ]
     },
     "execution_count": 45,
     "metadata": {},
     "output_type": "execute_result"
    }
   ],
   "source": [
    "c.best_score_"
   ]
  },
  {
   "cell_type": "code",
   "execution_count": 35,
   "metadata": {
    "id": "lV15TN8hysE2",
    "outputId": "e2368616-e096-4eb6-bbe9-20708750404f"
   },
   "outputs": [
    {
     "name": "stdout",
     "output_type": "stream",
     "text": [
      "AUC: \n",
      " [0.7        0.81       0.76       0.82828283 0.76767677]\n"
     ]
    }
   ],
   "source": [
    "forest_model = RandomForestClassifier(max_depth=9, n_estimators=500, random_state=99)\n",
    "pipeline = Pipeline(steps=[('model',forest_model)])\n",
    "scores = cross_val_score(pipeline, X, y,cv=5,scoring='accuracy')\n",
    "print('AUC: \\n',scores)"
   ]
  },
  {
   "cell_type": "code",
   "execution_count": 36,
   "metadata": {},
   "outputs": [
    {
     "ename": "NotFittedError",
     "evalue": "This RandomForestClassifier instance is not fitted yet. Call 'fit' with appropriate arguments before using this estimator.",
     "output_type": "error",
     "traceback": [
      "\u001b[1;31m---------------------------------------------------------------------------\u001b[0m",
      "\u001b[1;31mNotFittedError\u001b[0m                            Traceback (most recent call last)",
      "\u001b[1;32m<ipython-input-36-b7f6ecb39924>\u001b[0m in \u001b[0;36m<module>\u001b[1;34m\u001b[0m\n\u001b[1;32m----> 1\u001b[1;33m \u001b[0mresult\u001b[0m \u001b[1;33m=\u001b[0m \u001b[0mpermutation_importance\u001b[0m\u001b[1;33m(\u001b[0m\u001b[0mforest_model\u001b[0m\u001b[1;33m,\u001b[0m \u001b[0mX_valid\u001b[0m\u001b[1;33m,\u001b[0m \u001b[0my_valid\u001b[0m\u001b[1;33m,\u001b[0m \u001b[0mn_repeats\u001b[0m\u001b[1;33m=\u001b[0m\u001b[1;36m10\u001b[0m\u001b[1;33m)\u001b[0m\u001b[1;33m\u001b[0m\u001b[1;33m\u001b[0m\u001b[0m\n\u001b[0m\u001b[0;32m      2\u001b[0m \u001b[0msorted_idx\u001b[0m \u001b[1;33m=\u001b[0m \u001b[0mresult\u001b[0m\u001b[1;33m.\u001b[0m\u001b[0mimportances_mean\u001b[0m\u001b[1;33m.\u001b[0m\u001b[0margsort\u001b[0m\u001b[1;33m(\u001b[0m\u001b[1;33m)\u001b[0m\u001b[1;33m\u001b[0m\u001b[1;33m\u001b[0m\u001b[0m\n\u001b[0;32m      3\u001b[0m \u001b[0mplt\u001b[0m\u001b[1;33m.\u001b[0m\u001b[0mbarh\u001b[0m\u001b[1;33m(\u001b[0m\u001b[0mX_train\u001b[0m\u001b[1;33m.\u001b[0m\u001b[0mcolumns\u001b[0m\u001b[1;33m[\u001b[0m\u001b[0msorted_idx\u001b[0m\u001b[1;33m]\u001b[0m\u001b[1;33m,\u001b[0m \u001b[0mresult\u001b[0m\u001b[1;33m.\u001b[0m\u001b[0mimportances_mean\u001b[0m\u001b[1;33m[\u001b[0m\u001b[0msorted_idx\u001b[0m\u001b[1;33m]\u001b[0m\u001b[1;33m)\u001b[0m\u001b[1;33m\u001b[0m\u001b[1;33m\u001b[0m\u001b[0m\n",
      "\u001b[1;32m~\\.conda\\envs\\tensorflow\\lib\\site-packages\\sklearn\\utils\\validation.py\u001b[0m in \u001b[0;36minner_f\u001b[1;34m(*args, **kwargs)\u001b[0m\n\u001b[0;32m     61\u001b[0m             \u001b[0mextra_args\u001b[0m \u001b[1;33m=\u001b[0m \u001b[0mlen\u001b[0m\u001b[1;33m(\u001b[0m\u001b[0margs\u001b[0m\u001b[1;33m)\u001b[0m \u001b[1;33m-\u001b[0m \u001b[0mlen\u001b[0m\u001b[1;33m(\u001b[0m\u001b[0mall_args\u001b[0m\u001b[1;33m)\u001b[0m\u001b[1;33m\u001b[0m\u001b[1;33m\u001b[0m\u001b[0m\n\u001b[0;32m     62\u001b[0m             \u001b[1;32mif\u001b[0m \u001b[0mextra_args\u001b[0m \u001b[1;33m<=\u001b[0m \u001b[1;36m0\u001b[0m\u001b[1;33m:\u001b[0m\u001b[1;33m\u001b[0m\u001b[1;33m\u001b[0m\u001b[0m\n\u001b[1;32m---> 63\u001b[1;33m                 \u001b[1;32mreturn\u001b[0m \u001b[0mf\u001b[0m\u001b[1;33m(\u001b[0m\u001b[1;33m*\u001b[0m\u001b[0margs\u001b[0m\u001b[1;33m,\u001b[0m \u001b[1;33m**\u001b[0m\u001b[0mkwargs\u001b[0m\u001b[1;33m)\u001b[0m\u001b[1;33m\u001b[0m\u001b[1;33m\u001b[0m\u001b[0m\n\u001b[0m\u001b[0;32m     64\u001b[0m \u001b[1;33m\u001b[0m\u001b[0m\n\u001b[0;32m     65\u001b[0m             \u001b[1;31m# extra_args > 0\u001b[0m\u001b[1;33m\u001b[0m\u001b[1;33m\u001b[0m\u001b[1;33m\u001b[0m\u001b[0m\n",
      "\u001b[1;32m~\\.conda\\envs\\tensorflow\\lib\\site-packages\\sklearn\\inspection\\_permutation_importance.py\u001b[0m in \u001b[0;36mpermutation_importance\u001b[1;34m(estimator, X, y, scoring, n_repeats, n_jobs, random_state, sample_weight)\u001b[0m\n\u001b[0;32m    145\u001b[0m \u001b[1;33m\u001b[0m\u001b[0m\n\u001b[0;32m    146\u001b[0m     \u001b[0mscorer\u001b[0m \u001b[1;33m=\u001b[0m \u001b[0mcheck_scoring\u001b[0m\u001b[1;33m(\u001b[0m\u001b[0mestimator\u001b[0m\u001b[1;33m,\u001b[0m \u001b[0mscoring\u001b[0m\u001b[1;33m=\u001b[0m\u001b[0mscoring\u001b[0m\u001b[1;33m)\u001b[0m\u001b[1;33m\u001b[0m\u001b[1;33m\u001b[0m\u001b[0m\n\u001b[1;32m--> 147\u001b[1;33m     \u001b[0mbaseline_score\u001b[0m \u001b[1;33m=\u001b[0m \u001b[0m_weights_scorer\u001b[0m\u001b[1;33m(\u001b[0m\u001b[0mscorer\u001b[0m\u001b[1;33m,\u001b[0m \u001b[0mestimator\u001b[0m\u001b[1;33m,\u001b[0m \u001b[0mX\u001b[0m\u001b[1;33m,\u001b[0m \u001b[0my\u001b[0m\u001b[1;33m,\u001b[0m \u001b[0msample_weight\u001b[0m\u001b[1;33m)\u001b[0m\u001b[1;33m\u001b[0m\u001b[1;33m\u001b[0m\u001b[0m\n\u001b[0m\u001b[0;32m    148\u001b[0m \u001b[1;33m\u001b[0m\u001b[0m\n\u001b[0;32m    149\u001b[0m     scores = Parallel(n_jobs=n_jobs)(delayed(_calculate_permutation_scores)(\n",
      "\u001b[1;32m~\\.conda\\envs\\tensorflow\\lib\\site-packages\\sklearn\\inspection\\_permutation_importance.py\u001b[0m in \u001b[0;36m_weights_scorer\u001b[1;34m(scorer, estimator, X, y, sample_weight)\u001b[0m\n\u001b[0;32m     14\u001b[0m     \u001b[1;32mif\u001b[0m \u001b[0msample_weight\u001b[0m \u001b[1;32mis\u001b[0m \u001b[1;32mnot\u001b[0m \u001b[1;32mNone\u001b[0m\u001b[1;33m:\u001b[0m\u001b[1;33m\u001b[0m\u001b[1;33m\u001b[0m\u001b[0m\n\u001b[0;32m     15\u001b[0m         \u001b[1;32mreturn\u001b[0m \u001b[0mscorer\u001b[0m\u001b[1;33m(\u001b[0m\u001b[0mestimator\u001b[0m\u001b[1;33m,\u001b[0m \u001b[0mX\u001b[0m\u001b[1;33m,\u001b[0m \u001b[0my\u001b[0m\u001b[1;33m,\u001b[0m \u001b[0msample_weight\u001b[0m\u001b[1;33m)\u001b[0m\u001b[1;33m\u001b[0m\u001b[1;33m\u001b[0m\u001b[0m\n\u001b[1;32m---> 16\u001b[1;33m     \u001b[1;32mreturn\u001b[0m \u001b[0mscorer\u001b[0m\u001b[1;33m(\u001b[0m\u001b[0mestimator\u001b[0m\u001b[1;33m,\u001b[0m \u001b[0mX\u001b[0m\u001b[1;33m,\u001b[0m \u001b[0my\u001b[0m\u001b[1;33m)\u001b[0m\u001b[1;33m\u001b[0m\u001b[1;33m\u001b[0m\u001b[0m\n\u001b[0m\u001b[0;32m     17\u001b[0m \u001b[1;33m\u001b[0m\u001b[0m\n\u001b[0;32m     18\u001b[0m \u001b[1;33m\u001b[0m\u001b[0m\n",
      "\u001b[1;32m~\\.conda\\envs\\tensorflow\\lib\\site-packages\\sklearn\\metrics\\_scorer.py\u001b[0m in \u001b[0;36m_passthrough_scorer\u001b[1;34m(estimator, *args, **kwargs)\u001b[0m\n\u001b[0;32m    395\u001b[0m \u001b[1;32mdef\u001b[0m \u001b[0m_passthrough_scorer\u001b[0m\u001b[1;33m(\u001b[0m\u001b[0mestimator\u001b[0m\u001b[1;33m,\u001b[0m \u001b[1;33m*\u001b[0m\u001b[0margs\u001b[0m\u001b[1;33m,\u001b[0m \u001b[1;33m**\u001b[0m\u001b[0mkwargs\u001b[0m\u001b[1;33m)\u001b[0m\u001b[1;33m:\u001b[0m\u001b[1;33m\u001b[0m\u001b[1;33m\u001b[0m\u001b[0m\n\u001b[0;32m    396\u001b[0m     \u001b[1;34m\"\"\"Function that wraps estimator.score\"\"\"\u001b[0m\u001b[1;33m\u001b[0m\u001b[1;33m\u001b[0m\u001b[0m\n\u001b[1;32m--> 397\u001b[1;33m     \u001b[1;32mreturn\u001b[0m \u001b[0mestimator\u001b[0m\u001b[1;33m.\u001b[0m\u001b[0mscore\u001b[0m\u001b[1;33m(\u001b[0m\u001b[1;33m*\u001b[0m\u001b[0margs\u001b[0m\u001b[1;33m,\u001b[0m \u001b[1;33m**\u001b[0m\u001b[0mkwargs\u001b[0m\u001b[1;33m)\u001b[0m\u001b[1;33m\u001b[0m\u001b[1;33m\u001b[0m\u001b[0m\n\u001b[0m\u001b[0;32m    398\u001b[0m \u001b[1;33m\u001b[0m\u001b[0m\n\u001b[0;32m    399\u001b[0m \u001b[1;33m\u001b[0m\u001b[0m\n",
      "\u001b[1;32m~\\.conda\\envs\\tensorflow\\lib\\site-packages\\sklearn\\base.py\u001b[0m in \u001b[0;36mscore\u001b[1;34m(self, X, y, sample_weight)\u001b[0m\n\u001b[0;32m    498\u001b[0m         \"\"\"\n\u001b[0;32m    499\u001b[0m         \u001b[1;32mfrom\u001b[0m \u001b[1;33m.\u001b[0m\u001b[0mmetrics\u001b[0m \u001b[1;32mimport\u001b[0m \u001b[0maccuracy_score\u001b[0m\u001b[1;33m\u001b[0m\u001b[1;33m\u001b[0m\u001b[0m\n\u001b[1;32m--> 500\u001b[1;33m         \u001b[1;32mreturn\u001b[0m \u001b[0maccuracy_score\u001b[0m\u001b[1;33m(\u001b[0m\u001b[0my\u001b[0m\u001b[1;33m,\u001b[0m \u001b[0mself\u001b[0m\u001b[1;33m.\u001b[0m\u001b[0mpredict\u001b[0m\u001b[1;33m(\u001b[0m\u001b[0mX\u001b[0m\u001b[1;33m)\u001b[0m\u001b[1;33m,\u001b[0m \u001b[0msample_weight\u001b[0m\u001b[1;33m=\u001b[0m\u001b[0msample_weight\u001b[0m\u001b[1;33m)\u001b[0m\u001b[1;33m\u001b[0m\u001b[1;33m\u001b[0m\u001b[0m\n\u001b[0m\u001b[0;32m    501\u001b[0m \u001b[1;33m\u001b[0m\u001b[0m\n\u001b[0;32m    502\u001b[0m     \u001b[1;32mdef\u001b[0m \u001b[0m_more_tags\u001b[0m\u001b[1;33m(\u001b[0m\u001b[0mself\u001b[0m\u001b[1;33m)\u001b[0m\u001b[1;33m:\u001b[0m\u001b[1;33m\u001b[0m\u001b[1;33m\u001b[0m\u001b[0m\n",
      "\u001b[1;32m~\\.conda\\envs\\tensorflow\\lib\\site-packages\\sklearn\\ensemble\\_forest.py\u001b[0m in \u001b[0;36mpredict\u001b[1;34m(self, X)\u001b[0m\n\u001b[0;32m    628\u001b[0m             \u001b[0mThe\u001b[0m \u001b[0mpredicted\u001b[0m \u001b[0mclasses\u001b[0m\u001b[1;33m.\u001b[0m\u001b[1;33m\u001b[0m\u001b[1;33m\u001b[0m\u001b[0m\n\u001b[0;32m    629\u001b[0m         \"\"\"\n\u001b[1;32m--> 630\u001b[1;33m         \u001b[0mproba\u001b[0m \u001b[1;33m=\u001b[0m \u001b[0mself\u001b[0m\u001b[1;33m.\u001b[0m\u001b[0mpredict_proba\u001b[0m\u001b[1;33m(\u001b[0m\u001b[0mX\u001b[0m\u001b[1;33m)\u001b[0m\u001b[1;33m\u001b[0m\u001b[1;33m\u001b[0m\u001b[0m\n\u001b[0m\u001b[0;32m    631\u001b[0m \u001b[1;33m\u001b[0m\u001b[0m\n\u001b[0;32m    632\u001b[0m         \u001b[1;32mif\u001b[0m \u001b[0mself\u001b[0m\u001b[1;33m.\u001b[0m\u001b[0mn_outputs_\u001b[0m \u001b[1;33m==\u001b[0m \u001b[1;36m1\u001b[0m\u001b[1;33m:\u001b[0m\u001b[1;33m\u001b[0m\u001b[1;33m\u001b[0m\u001b[0m\n",
      "\u001b[1;32m~\\.conda\\envs\\tensorflow\\lib\\site-packages\\sklearn\\ensemble\\_forest.py\u001b[0m in \u001b[0;36mpredict_proba\u001b[1;34m(self, X)\u001b[0m\n\u001b[0;32m    670\u001b[0m             \u001b[0mclasses\u001b[0m \u001b[0mcorresponds\u001b[0m \u001b[0mto\u001b[0m \u001b[0mthat\u001b[0m \u001b[1;32min\u001b[0m \u001b[0mthe\u001b[0m \u001b[0mattribute\u001b[0m \u001b[1;33m:\u001b[0m\u001b[0mterm\u001b[0m\u001b[1;33m:\u001b[0m\u001b[0;31m`\u001b[0m\u001b[0mclasses_\u001b[0m\u001b[0;31m`\u001b[0m\u001b[1;33m.\u001b[0m\u001b[1;33m\u001b[0m\u001b[1;33m\u001b[0m\u001b[0m\n\u001b[0;32m    671\u001b[0m         \"\"\"\n\u001b[1;32m--> 672\u001b[1;33m         \u001b[0mcheck_is_fitted\u001b[0m\u001b[1;33m(\u001b[0m\u001b[0mself\u001b[0m\u001b[1;33m)\u001b[0m\u001b[1;33m\u001b[0m\u001b[1;33m\u001b[0m\u001b[0m\n\u001b[0m\u001b[0;32m    673\u001b[0m         \u001b[1;31m# Check data\u001b[0m\u001b[1;33m\u001b[0m\u001b[1;33m\u001b[0m\u001b[1;33m\u001b[0m\u001b[0m\n\u001b[0;32m    674\u001b[0m         \u001b[0mX\u001b[0m \u001b[1;33m=\u001b[0m \u001b[0mself\u001b[0m\u001b[1;33m.\u001b[0m\u001b[0m_validate_X_predict\u001b[0m\u001b[1;33m(\u001b[0m\u001b[0mX\u001b[0m\u001b[1;33m)\u001b[0m\u001b[1;33m\u001b[0m\u001b[1;33m\u001b[0m\u001b[0m\n",
      "\u001b[1;32m~\\.conda\\envs\\tensorflow\\lib\\site-packages\\sklearn\\utils\\validation.py\u001b[0m in \u001b[0;36minner_f\u001b[1;34m(*args, **kwargs)\u001b[0m\n\u001b[0;32m     61\u001b[0m             \u001b[0mextra_args\u001b[0m \u001b[1;33m=\u001b[0m \u001b[0mlen\u001b[0m\u001b[1;33m(\u001b[0m\u001b[0margs\u001b[0m\u001b[1;33m)\u001b[0m \u001b[1;33m-\u001b[0m \u001b[0mlen\u001b[0m\u001b[1;33m(\u001b[0m\u001b[0mall_args\u001b[0m\u001b[1;33m)\u001b[0m\u001b[1;33m\u001b[0m\u001b[1;33m\u001b[0m\u001b[0m\n\u001b[0;32m     62\u001b[0m             \u001b[1;32mif\u001b[0m \u001b[0mextra_args\u001b[0m \u001b[1;33m<=\u001b[0m \u001b[1;36m0\u001b[0m\u001b[1;33m:\u001b[0m\u001b[1;33m\u001b[0m\u001b[1;33m\u001b[0m\u001b[0m\n\u001b[1;32m---> 63\u001b[1;33m                 \u001b[1;32mreturn\u001b[0m \u001b[0mf\u001b[0m\u001b[1;33m(\u001b[0m\u001b[1;33m*\u001b[0m\u001b[0margs\u001b[0m\u001b[1;33m,\u001b[0m \u001b[1;33m**\u001b[0m\u001b[0mkwargs\u001b[0m\u001b[1;33m)\u001b[0m\u001b[1;33m\u001b[0m\u001b[1;33m\u001b[0m\u001b[0m\n\u001b[0m\u001b[0;32m     64\u001b[0m \u001b[1;33m\u001b[0m\u001b[0m\n\u001b[0;32m     65\u001b[0m             \u001b[1;31m# extra_args > 0\u001b[0m\u001b[1;33m\u001b[0m\u001b[1;33m\u001b[0m\u001b[1;33m\u001b[0m\u001b[0m\n",
      "\u001b[1;32m~\\.conda\\envs\\tensorflow\\lib\\site-packages\\sklearn\\utils\\validation.py\u001b[0m in \u001b[0;36mcheck_is_fitted\u001b[1;34m(estimator, attributes, msg, all_or_any)\u001b[0m\n\u001b[0;32m   1039\u001b[0m \u001b[1;33m\u001b[0m\u001b[0m\n\u001b[0;32m   1040\u001b[0m     \u001b[1;32mif\u001b[0m \u001b[1;32mnot\u001b[0m \u001b[0mattrs\u001b[0m\u001b[1;33m:\u001b[0m\u001b[1;33m\u001b[0m\u001b[1;33m\u001b[0m\u001b[0m\n\u001b[1;32m-> 1041\u001b[1;33m         \u001b[1;32mraise\u001b[0m \u001b[0mNotFittedError\u001b[0m\u001b[1;33m(\u001b[0m\u001b[0mmsg\u001b[0m \u001b[1;33m%\u001b[0m \u001b[1;33m{\u001b[0m\u001b[1;34m'name'\u001b[0m\u001b[1;33m:\u001b[0m \u001b[0mtype\u001b[0m\u001b[1;33m(\u001b[0m\u001b[0mestimator\u001b[0m\u001b[1;33m)\u001b[0m\u001b[1;33m.\u001b[0m\u001b[0m__name__\u001b[0m\u001b[1;33m}\u001b[0m\u001b[1;33m)\u001b[0m\u001b[1;33m\u001b[0m\u001b[1;33m\u001b[0m\u001b[0m\n\u001b[0m\u001b[0;32m   1042\u001b[0m \u001b[1;33m\u001b[0m\u001b[0m\n\u001b[0;32m   1043\u001b[0m \u001b[1;33m\u001b[0m\u001b[0m\n",
      "\u001b[1;31mNotFittedError\u001b[0m: This RandomForestClassifier instance is not fitted yet. Call 'fit' with appropriate arguments before using this estimator."
     ]
    }
   ],
   "source": [
    "result = permutation_importance(forest_model, X_valid, y_valid, n_repeats=10)\n",
    "sorted_idx = result.importances_mean.argsort()\n",
    "plt.barh(X_train.columns[sorted_idx], result.importances_mean[sorted_idx])"
   ]
  },
  {
   "cell_type": "code",
   "execution_count": 37,
   "metadata": {
    "id": "DSXW_m0_ysE2"
   },
   "outputs": [],
   "source": [
    "pipeline.fit(X_train,y_train)\n",
    "y_pred = pipeline.predict_proba(X_valid)"
   ]
  },
  {
   "cell_type": "code",
   "execution_count": 38,
   "metadata": {
    "id": "HCylH1lXysE2"
   },
   "outputs": [],
   "source": [
    "ypred = []\n",
    "for i in y_pred:\n",
    "    if i[0] > 0.44:\n",
    "        ypred.append(0)\n",
    "    else:\n",
    "        ypred.append(1)"
   ]
  },
  {
   "cell_type": "code",
   "execution_count": 39,
   "metadata": {
    "id": "fcrE4sOZysE2",
    "outputId": "b4aba2b8-1eb5-41a5-90f1-bae65b08ecf0"
   },
   "outputs": [
    {
     "name": "stdout",
     "output_type": "stream",
     "text": [
      "Sensitivity: 0.69\n",
      "Specificity: 0.91\n"
     ]
    },
    {
     "data": {
      "image/png": "[encoded data removed]",
      "text/plain": [
       "<Figure size 360x360 with 2 Axes>"
      ]
     },
     "metadata": {
      "needs_background": "light"
     },
     "output_type": "display_data"
    }
   ],
   "source": [
    "classes = ['Normal','Suspicious']\n",
    "c = sklearn.metrics.confusion_matrix(y_valid,ypred,normalize='true')\n",
    "c = numpy.around(c,decimals =2)\n",
    "\n",
    "plt.figure(figsize=(5, 5))\n",
    "plt.imshow(c,cmap='Blues')\n",
    "\n",
    "plt.xticks(numpy.arange(len(classes)),classes,rotation=45,rotation_mode=\"anchor\",ha=\"right\")\n",
    "plt.yticks(numpy.arange(len(classes)),classes)\n",
    "plt.xlabel(\"Predicted labels\")\n",
    "plt.ylabel(\"True labels\")\n",
    "for i in range(c.shape[1]):\n",
    "    for j in range(c.shape[1]):\n",
    "        if c[i,j]<0.5:\n",
    "            text = plt.text(j, i, c[i, j],\n",
    "                           ha=\"center\", va=\"center\", color=\"black\",fontsize='large')\n",
    "        else:\n",
    "            text = plt.text(j, i, c[i, j],\n",
    "                           ha=\"center\", va=\"center\", color=\"w\",fontsize='large')\n",
    "#plt.title(\"Confusion Matrix\")\n",
    "plt.colorbar()\n",
    "sens = c[1][1]/(c[1][1]+c[1][0])\n",
    "spec = c[0][0]/(c[0][0]+c[0][1])\n",
    "print('Sensitivity:',sens)\n",
    "print('Specificity:',spec)\n",
    "plt.show()"
   ]
  },
  {
   "cell_type": "code",
   "execution_count": 40,
   "metadata": {
    "id": "EwsdGUDMysE3",
    "outputId": "c35e9e62-8627-4552-93c9-eaf085b37563"
   },
   "outputs": [
    {
     "name": "stdout",
     "output_type": "stream",
     "text": [
      "AUC: 0.9151633986928105\n"
     ]
    },
    {
     "data": {
      "image/png": "[encoded data removed]",
      "text/plain": [
       "<Figure size 432x288 with 1 Axes>"
      ]
     },
     "metadata": {
      "needs_background": "light"
     },
     "output_type": "display_data"
    }
   ],
   "source": [
    "ypred=[]\n",
    "for i in y_pred:\n",
    "    ypred.append(i[1])\n",
    "auc = sklearn.metrics.roc_auc_score(y_valid,ypred)\n",
    "fpr,tpr,t= sklearn.metrics.roc_curve(y_valid,ypred)\n",
    "fig, ax = plt.subplots()\n",
    "ax.plot([0, 1], [0, 1], linestyle='--', lw=2, color='r',\n",
    "        label='Chance', alpha=.8)\n",
    "ax.plot(fpr,tpr, color='b',\n",
    "        label=r'ROC (AUC = %0.2f )' % (auc),\n",
    "        lw=2, alpha=.8)\n",
    "plt.xlabel(\"False Positive Rate\")\n",
    "plt.ylabel(\"True Positive Rate\")\n",
    "ax.legend(loc=\"lower right\")\n",
    "print('AUC:',auc)"
   ]
  },
  {
   "cell_type": "code",
   "execution_count": 54,
   "metadata": {
    "id": "fOXRA9yxysE3"
   },
   "outputs": [],
   "source": [
    "acc = []\n",
    "for n in range(100):\n",
    "    forest_model = RandomForestClassifier(max_depth=9,n_estimators=500,random_state=n)\n",
    "    pipeline = Pipeline(steps=[('model',forest_model)])\n",
    "    scores = cross_val_score(pipeline, X, y,cv=5,scoring='roc_auc')\n",
    "    acc.append(scores)"
   ]
  },
  {
   "cell_type": "code",
   "execution_count": 55,
   "metadata": {
    "id": "LZsslWRIysE3"
   },
   "outputs": [],
   "source": [
    "accs = []\n",
    "for i in acc:\n",
    "    accs.append(sum(i)/len(i))"
   ]
  },
  {
   "cell_type": "code",
   "execution_count": 56,
   "metadata": {
    "id": "YuSRoS4fysE3"
   },
   "outputs": [
    {
     "data": {
      "text/html": [
       "<div>\n",
       "<style scoped>\n",
       "    .dataframe tbody tr th:only-of-type {\n",
       "        vertical-align: middle;\n",
       "    }\n",
       "\n",
       "    .dataframe tbody tr th {\n",
       "        vertical-align: top;\n",
       "    }\n",
       "\n",
       "    .dataframe thead th {\n",
       "        text-align: right;\n",
       "    }\n",
       "</style>\n",
       "<table border=\"1\" class=\"dataframe\">\n",
       "  <thead>\n",
       "    <tr style=\"text-align: right;\">\n",
       "      <th></th>\n",
       "      <th>With Patches</th>\n",
       "    </tr>\n",
       "  </thead>\n",
       "  <tbody>\n",
       "    <tr>\n",
       "      <th>count</th>\n",
       "      <td>100.000000</td>\n",
       "    </tr>\n",
       "    <tr>\n",
       "      <th>mean</th>\n",
       "      <td>0.914719</td>\n",
       "    </tr>\n",
       "    <tr>\n",
       "      <th>std</th>\n",
       "      <td>0.001403</td>\n",
       "    </tr>\n",
       "    <tr>\n",
       "      <th>min</th>\n",
       "      <td>0.910051</td>\n",
       "    </tr>\n",
       "    <tr>\n",
       "      <th>25%</th>\n",
       "      <td>0.914139</td>\n",
       "    </tr>\n",
       "    <tr>\n",
       "      <th>50%</th>\n",
       "      <td>0.914823</td>\n",
       "    </tr>\n",
       "    <tr>\n",
       "      <th>75%</th>\n",
       "      <td>0.915602</td>\n",
       "    </tr>\n",
       "    <tr>\n",
       "      <th>max</th>\n",
       "      <td>0.917957</td>\n",
       "    </tr>\n",
       "  </tbody>\n",
       "</table>\n",
       "</div>"
      ],
      "text/plain": [
       "       With Patches\n",
       "count    100.000000\n",
       "mean       0.914719\n",
       "std        0.001403\n",
       "min        0.910051\n",
       "25%        0.914139\n",
       "50%        0.914823\n",
       "75%        0.915602\n",
       "max        0.917957"
      ]
     },
     "execution_count": 56,
     "metadata": {},
     "output_type": "execute_result"
    }
   ],
   "source": [
    "a = pd.DataFrame({'With Patches':accs})\n",
    "a.describe()"
   ]
  },
  {
   "cell_type": "markdown",
   "metadata": {
    "id": "lIx9B2yvyhFq"
   },
   "source": [
    "# Cross Validation Results"
   ]
  },
  {
   "cell_type": "code",
   "execution_count": 8,
   "metadata": {},
   "outputs": [
    {
     "name": "stdout",
     "output_type": "stream",
     "text": [
      "AUC: 0.93\n"
     ]
    }
   ],
   "source": [
    "auc = format((0.951+0.919+0.915)/3,'.3f')\n",
    "print('AUC:',auc)"
   ]
  },
  {
   "cell_type": "code",
   "execution_count": 13,
   "metadata": {},
   "outputs": [
    {
     "name": "stdout",
     "output_type": "stream",
     "text": [
      "Specificity: 0.903\n"
     ]
    }
   ],
   "source": [
    "spec = format((0.86+0.91+0.94)/3,'.3f')\n",
    "print('Specificity:',spec)"
   ]
  },
  {
   "cell_type": "code",
   "execution_count": 14,
   "metadata": {},
   "outputs": [
    {
     "name": "stdout",
     "output_type": "stream",
     "text": [
      "Sensitivity: 0.800\n"
     ]
    }
   ],
   "source": [
    "sens = format((0.85+0.8+0.75)/3,'.3f')\n",
    "print('Sensitivity:',sens)"
   ]
  }
 ],
 "metadata": {
  "colab": {
   "collapsed_sections": [
    "aKFvLGawyPFY",
    "rdZvxS-2yPFZ",
    "y6Lg75jZyPFa",
    "u8Zuk5olyPFa",
    "rNTS0HBnyPFb",
    "aL2f208DyPFc",
    "b71A7h1wyPFc",
    "LqS0pFuRyPFd",
    "33mNqOkQyPFd",
    "qvcCB_ePyPFf"
   ],
   "name": "cross_validation.ipynb",
   "provenance": []
  },
  "kernelspec": {
   "display_name": "Python 3.7.9 64-bit ('tensorflow': conda)",
   "language": "python",
   "name": "python37964bittensorflowconda44bf35c3046e4bc58c11f71047e9bd8d"
  },
  "language_info": {
   "codemirror_mode": {
    "name": "ipython",
    "version": 3
   },
   "file_extension": ".py",
   "mimetype": "text/x-python",
   "name": "python",
   "nbconvert_exporter": "python",
   "pygments_lexer": "ipython3",
   "version": "3.7.9"
  },
  "metadata": {
   "interpreter": {
    "hash": "429db445d30bdc71cb8ecc91188709a24b250e6582e4f5179e4164d5371f1d5c"
   }
  }
 },
 "nbformat": 4,
 "nbformat_minor": 1
}
