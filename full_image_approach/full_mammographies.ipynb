{
 "cells": [
  {
   "cell_type": "code",
   "execution_count": 1,
   "metadata": {},
   "outputs": [],
   "source": [
    "import numpy,os,sklearn\n",
    "from tensorflow import keras\n",
    "import matplotlib.pyplot as plt\n",
    "import pandas as pd\n",
    "import sklearn.model_selection as sms\n",
    "import pydicom as dicom\n",
    "\n",
    "import utils"
   ]
  },
  {
   "cell_type": "markdown",
   "metadata": {},
   "source": [
    "# Image Data"
   ]
  },
  {
   "cell_type": "markdown",
   "metadata": {},
   "source": [
    "## Suspicious Mammographies (BCDR-D01 & BCDR-D02)"
   ]
  },
  {
   "cell_type": "markdown",
   "metadata": {},
   "source": [
    "### CSV Analysis"
   ]
  },
  {
   "cell_type": "code",
   "execution_count": 2,
   "metadata": {},
   "outputs": [],
   "source": [
    "bcdr1_raw = pd.read_csv('d:/BCDR/BCDR-D01_dataset/bcdr_d01_img.csv')\n",
    "bcdr1_raw = bcdr1_raw.drop_duplicates(subset=['image_filename'],keep='first',ignore_index=True)\n",
    "bcdr1_raw= utils.fix_view(bcdr1_raw,'image_type_name')\n",
    "bcdr1_features_raw = pd.read_csv('D:\\BCDR\\BCDR-D01_dataset/bcdr_d01_features.csv')\n",
    "bcdr2_raw = pd.read_csv('d:/BCDR/BCDR-D02_dataset/bcdr_d02_img.csv')\n",
    "bcdr2_raw = bcdr2_raw.drop_duplicates(subset=['image_filename'],keep='first',ignore_index=True)\n",
    "bcdr2_raw= utils.fix_view(bcdr2_raw,'image_type_name')\n",
    "bcdr2_features_raw = pd.read_csv('D:\\BCDR\\BCDR-D02_dataset/bcdr_d02_features.csv')\n",
    "l1 = utils.lesion_findings(bcdr1_features_raw)\n",
    "l2 = utils.lesion_findings(bcdr2_features_raw)"
   ]
  },
  {
   "cell_type": "code",
   "execution_count": 3,
   "metadata": {},
   "outputs": [
    {
     "name": "stderr",
     "output_type": "stream",
     "text": [
      "C:\\Users\\pvila\\.conda\\envs\\tensorflow\\lib\\site-packages\\pandas\\core\\indexing.py:1599: SettingWithCopyWarning: \n",
      "A value is trying to be set on a copy of a slice from a DataFrame.\n",
      "Try using .loc[row_indexer,col_indexer] = value instead\n",
      "\n",
      "See the caveats in the documentation: https://pandas.pydata.org/pandas-docs/stable/user_guide/indexing.html#returning-a-view-versus-a-copy\n",
      "  self.obj[key] = infer_fill_value(value)\n",
      "C:\\Users\\pvila\\.conda\\envs\\tensorflow\\lib\\site-packages\\pandas\\core\\indexing.py:1720: SettingWithCopyWarning: \n",
      "A value is trying to be set on a copy of a slice from a DataFrame.\n",
      "Try using .loc[row_indexer,col_indexer] = value instead\n",
      "\n",
      "See the caveats in the documentation: https://pandas.pydata.org/pandas-docs/stable/user_guide/indexing.html#returning-a-view-versus-a-copy\n",
      "  self._setitem_single_column(loc, value, pi)\n",
      "C:\\Users\\pvila\\AppData\\Roaming\\Python\\Python37\\site-packages\\ipykernel_launcher.py:5: SettingWithCopyWarning: \n",
      "A value is trying to be set on a copy of a slice from a DataFrame.\n",
      "Try using .loc[row_indexer,col_indexer] = value instead\n",
      "\n",
      "See the caveats in the documentation: https://pandas.pydata.org/pandas-docs/stable/user_guide/indexing.html#returning-a-view-versus-a-copy\n",
      "  \"\"\"\n"
     ]
    }
   ],
   "source": [
    "bcdr1 = bcdr1_raw[['patient_id','study_id','image_filename','image_type_name','density','age']]\n",
    "bcdr1_features= bcdr1_features_raw[['patient_id','study_id','image_view','s_x_center_mass','s_y_center_mass','density','age']]\n",
    "\n",
    "bcdr1 = utils.merge_csv(bcdr1_features,bcdr1)\n",
    "bcdr1['lesion_type'] = l1"
   ]
  },
  {
   "cell_type": "code",
   "execution_count": 4,
   "metadata": {},
   "outputs": [
    {
     "name": "stderr",
     "output_type": "stream",
     "text": [
      "C:\\Users\\pvila\\AppData\\Roaming\\Python\\Python37\\site-packages\\ipykernel_launcher.py:5: SettingWithCopyWarning: \n",
      "A value is trying to be set on a copy of a slice from a DataFrame.\n",
      "Try using .loc[row_indexer,col_indexer] = value instead\n",
      "\n",
      "See the caveats in the documentation: https://pandas.pydata.org/pandas-docs/stable/user_guide/indexing.html#returning-a-view-versus-a-copy\n",
      "  \"\"\"\n"
     ]
    }
   ],
   "source": [
    "bcdr2 = bcdr2_raw[['patient_id','study_id','image_filename','image_type_name','density','age']]\n",
    "bcdr2_features= bcdr2_features_raw[['patient_id','study_id','image_view','s_x_center_mass','s_y_center_mass','density','age']]\n",
    "\n",
    "bcdr2 = utils.merge_csv(bcdr2_features,bcdr2)\n",
    "bcdr2['lesion_type'] = l2"
   ]
  },
  {
   "cell_type": "code",
   "execution_count": 5,
   "metadata": {},
   "outputs": [],
   "source": [
    "lesion_mammographies1 = pd.DataFrame({})\n",
    "lesion_mammographies1[['patient_id','image_view','image_path','x_center','y_center','density','age','lesion_type']] = bcdr1[['patient_id','image_view','image_filename','s_x_center_mass','s_y_center_mass','density','age','lesion_type']]\n",
    "new_patients = []\n",
    "for patient in list(lesion_mammographies1['patient_id']):\n",
    "    patient_n= '1d'+str(patient)\n",
    "    new_patients.append(patient_n)\n",
    "lesion_mammographies1['patient_id'] = new_patients\n",
    "lesion_mammographies1 = utils.fix_bcdr1_path(lesion_mammographies1,'image_path')"
   ]
  },
  {
   "cell_type": "code",
   "execution_count": 6,
   "metadata": {},
   "outputs": [],
   "source": [
    "lesion_mammographies2 = pd.DataFrame({})\n",
    "lesion_mammographies2[['patient_id','image_view','image_path','x_center','y_center','density','age','lesion_type']] = bcdr2[['patient_id','image_view','image_filename','s_x_center_mass','s_y_center_mass','density','age','lesion_type']]\n",
    "new_patients = []\n",
    "for patient in list(lesion_mammographies2['patient_id']):\n",
    "    patient_n= '2d'+str(patient)\n",
    "    new_patients.append(patient_n)\n",
    "lesion_mammographies2['patient_id'] = new_patients\n",
    "lesion_mammographies2 = utils.fix_bcdr2_path(lesion_mammographies2,'image_path')\n",
    "lesion_mammographies2 = lesion_mammographies2[:100]"
   ]
  },
  {
   "cell_type": "code",
   "execution_count": 7,
   "metadata": {},
   "outputs": [
    {
     "name": "stdout",
     "output_type": "stream",
     "text": [
      "Suspicious Dataset:  (243, 8)\n"
     ]
    }
   ],
   "source": [
    "lesion_mammographies = pd.concat([lesion_mammographies1,lesion_mammographies2],ignore_index=True)\n",
    "lesion_mammographies = utils.fix_view_back(lesion_mammographies,'image_view')\n",
    "print('Suspicious Dataset: ',lesion_mammographies.shape)"
   ]
  },
  {
   "cell_type": "markdown",
   "metadata": {},
   "source": [
    "### Split and Copy"
   ]
  },
  {
   "cell_type": "code",
   "execution_count": 8,
   "metadata": {},
   "outputs": [],
   "source": [
    "sus_training,sus_validation = sms.train_test_split(lesion_mammographies,test_size=0.35)"
   ]
  },
  {
   "cell_type": "code",
   "execution_count": null,
   "metadata": {},
   "outputs": [],
   "source": [
    "utils.image_mover(sus_training,'image_data/raw/training/suspicious')\n",
    "utils.image_mover(sus_validation,'image_data/raw/validation/suspicious')"
   ]
  },
  {
   "cell_type": "markdown",
   "metadata": {},
   "source": [
    "## Normal Mammographies (BCDR-DN01 & INbreast)"
   ]
  },
  {
   "cell_type": "markdown",
   "metadata": {},
   "source": [
    "### CSV Analysis"
   ]
  },
  {
   "cell_type": "code",
   "execution_count": 11,
   "metadata": {},
   "outputs": [],
   "source": [
    "bcdrN = pd.read_csv('d:/BCDR/BCDR-DN01_dataset/bcdr_dn01_img.csv')"
   ]
  },
  {
   "cell_type": "code",
   "execution_count": 12,
   "metadata": {},
   "outputs": [],
   "source": [
    "normal_mammographies1 = pd.DataFrame({})\n",
    "normal_mammographies1[['patient_id','image_view','image_path','density','age']] = bcdrN[['patient_id','image_type_name','image_filename','density','age']]\n",
    "normal_mammographies1 = utils.fix_bcdrN_path(normal_mammographies1,'image_path')"
   ]
  },
  {
   "cell_type": "code",
   "execution_count": 13,
   "metadata": {},
   "outputs": [],
   "source": [
    "xls_raw = pd.read_excel('D:/INBreast/INbreast.xls')\n",
    "xls = pd.DataFrame()\n",
    "xls['image_view'] = [xls_raw['Laterality'][i] + xls_raw['View'][i] for i in xls_raw.index] \n",
    "xls[['filename','finding notes']] = xls_raw[['File Name','Findings Notes (in Portuguese)']]"
   ]
  },
  {
   "cell_type": "code",
   "execution_count": 14,
   "metadata": {},
   "outputs": [],
   "source": [
    "path_list = os.listdir('D:/INBreast/AllDICOMs/')\n",
    "r = []\n",
    "for path in path_list:\n",
    "    if path[-3:] != 'dcm':\n",
    "        r.append(path)\n",
    "for i in r:\n",
    "    path_list.remove(i)"
   ]
  },
  {
   "cell_type": "code",
   "execution_count": 15,
   "metadata": {},
   "outputs": [],
   "source": [
    "patients = []\n",
    "file_paths = []\n",
    "image_views = []\n",
    "for path in path_list:\n",
    "    l = path.split('_')\n",
    "    if len(l) > 1:\n",
    "        patients.append(l[1])\n",
    "        file_paths.append(path)\n",
    "        image_views.append(l[3]+l[4])\n",
    "images_df = pd.DataFrame({'patient_id':patients,'image_view':image_views,'image_path':file_paths})\n",
    "images_df = utils.fix_inbreast_path(images_df,'image_path')"
   ]
  },
  {
   "cell_type": "code",
   "execution_count": 16,
   "metadata": {},
   "outputs": [],
   "source": [
    "images_df[['finding notes']] = xls[['finding notes']]\n",
    "normal_df = images_df[images_df['finding notes'] == 'normal']\n",
    "normal_mammographies2 = pd.DataFrame()\n",
    "normal_mammographies2[['patient_id','image_view','image_path']] = normal_df[['patient_id','image_view','image_path']]"
   ]
  },
  {
   "cell_type": "code",
   "execution_count": 17,
   "metadata": {},
   "outputs": [
    {
     "name": "stdout",
     "output_type": "stream",
     "text": [
      "Normal Dataset:  (255, 5)\n"
     ]
    }
   ],
   "source": [
    "normal_mammographies = pd.concat([normal_mammographies1,normal_mammographies2],ignore_index=True)\n",
    "print('Normal Dataset: ',normal_mammographies.shape)"
   ]
  },
  {
   "cell_type": "markdown",
   "metadata": {},
   "source": [
    "### Split and Copy"
   ]
  },
  {
   "cell_type": "code",
   "execution_count": 18,
   "metadata": {},
   "outputs": [],
   "source": [
    "normal_training,normal_validation = sms.train_test_split(normal_mammographies,test_size=0.35)"
   ]
  },
  {
   "cell_type": "code",
   "execution_count": 21,
   "metadata": {},
   "outputs": [
    {
     "data": {
      "text/html": [
       "<div>\n",
       "<style scoped>\n",
       "    .dataframe tbody tr th:only-of-type {\n",
       "        vertical-align: middle;\n",
       "    }\n",
       "\n",
       "    .dataframe tbody tr th {\n",
       "        vertical-align: top;\n",
       "    }\n",
       "\n",
       "    .dataframe thead th {\n",
       "        text-align: right;\n",
       "    }\n",
       "</style>\n",
       "<table border=\"1\" class=\"dataframe\">\n",
       "  <thead>\n",
       "    <tr style=\"text-align: right;\">\n",
       "      <th></th>\n",
       "      <th>patient_id</th>\n",
       "      <th>image_view</th>\n",
       "      <th>image_path</th>\n",
       "      <th>density</th>\n",
       "      <th>age</th>\n",
       "    </tr>\n",
       "  </thead>\n",
       "  <tbody>\n",
       "    <tr>\n",
       "      <th>49</th>\n",
       "      <td>41</td>\n",
       "      <td>LCC</td>\n",
       "      <td>d:/BCDR/BCDR-DN01_dataset/patient_41/study_57/...</td>\n",
       "      <td>3.0</td>\n",
       "      <td>53.0</td>\n",
       "    </tr>\n",
       "    <tr>\n",
       "      <th>86</th>\n",
       "      <td>71</td>\n",
       "      <td>RCC</td>\n",
       "      <td>d:/BCDR/BCDR-DN01_dataset/patient_71/study_793...</td>\n",
       "      <td>3.0</td>\n",
       "      <td>73.0</td>\n",
       "    </tr>\n",
       "    <tr>\n",
       "      <th>118</th>\n",
       "      <td>87</td>\n",
       "      <td>RO</td>\n",
       "      <td>d:/BCDR/BCDR-DN01_dataset/patient_87/study_119...</td>\n",
       "      <td>1.0</td>\n",
       "      <td>68.0</td>\n",
       "    </tr>\n",
       "    <tr>\n",
       "      <th>146</th>\n",
       "      <td>101</td>\n",
       "      <td>RO</td>\n",
       "      <td>d:/BCDR/BCDR-DN01_dataset/patient_101/study_13...</td>\n",
       "      <td>3.0</td>\n",
       "      <td>56.0</td>\n",
       "    </tr>\n",
       "    <tr>\n",
       "      <th>59</th>\n",
       "      <td>52</td>\n",
       "      <td>LO</td>\n",
       "      <td>d:/BCDR/BCDR-DN01_dataset/patient_52/study_74/...</td>\n",
       "      <td>2.0</td>\n",
       "      <td>34.0</td>\n",
       "    </tr>\n",
       "    <tr>\n",
       "      <th>...</th>\n",
       "      <td>...</td>\n",
       "      <td>...</td>\n",
       "      <td>...</td>\n",
       "      <td>...</td>\n",
       "      <td>...</td>\n",
       "    </tr>\n",
       "    <tr>\n",
       "      <th>97</th>\n",
       "      <td>75</td>\n",
       "      <td>RO</td>\n",
       "      <td>d:/BCDR/BCDR-DN01_dataset/patient_75/study_103...</td>\n",
       "      <td>2.0</td>\n",
       "      <td>54.0</td>\n",
       "    </tr>\n",
       "    <tr>\n",
       "      <th>112</th>\n",
       "      <td>87</td>\n",
       "      <td>RCC</td>\n",
       "      <td>d:/BCDR/BCDR-DN01_dataset/patient_87/study_118...</td>\n",
       "      <td>1.0</td>\n",
       "      <td>66.0</td>\n",
       "    </tr>\n",
       "    <tr>\n",
       "      <th>35</th>\n",
       "      <td>28</td>\n",
       "      <td>LO</td>\n",
       "      <td>d:/BCDR/BCDR-DN01_dataset/patient_28/study_39/...</td>\n",
       "      <td>3.0</td>\n",
       "      <td>50.0</td>\n",
       "    </tr>\n",
       "    <tr>\n",
       "      <th>219</th>\n",
       "      <td>069212ec65a94339</td>\n",
       "      <td>LML</td>\n",
       "      <td>d:/INBreast/AllDICOMs/50994733_069212ec65a9433...</td>\n",
       "      <td>NaN</td>\n",
       "      <td>NaN</td>\n",
       "    </tr>\n",
       "    <tr>\n",
       "      <th>225</th>\n",
       "      <td>6aba0b402889a16f</td>\n",
       "      <td>LML</td>\n",
       "      <td>d:/INBreast/AllDICOMs/50996325_6aba0b402889a16...</td>\n",
       "      <td>NaN</td>\n",
       "      <td>NaN</td>\n",
       "    </tr>\n",
       "  </tbody>\n",
       "</table>\n",
       "<p>165 rows × 5 columns</p>\n",
       "</div>"
      ],
      "text/plain": [
       "           patient_id image_view  \\\n",
       "49                 41        LCC   \n",
       "86                 71        RCC   \n",
       "118                87         RO   \n",
       "146               101         RO   \n",
       "59                 52         LO   \n",
       "..                ...        ...   \n",
       "97                 75         RO   \n",
       "112                87        RCC   \n",
       "35                 28         LO   \n",
       "219  069212ec65a94339        LML   \n",
       "225  6aba0b402889a16f        LML   \n",
       "\n",
       "                                            image_path  density   age  \n",
       "49   d:/BCDR/BCDR-DN01_dataset/patient_41/study_57/...      3.0  53.0  \n",
       "86   d:/BCDR/BCDR-DN01_dataset/patient_71/study_793...      3.0  73.0  \n",
       "118  d:/BCDR/BCDR-DN01_dataset/patient_87/study_119...      1.0  68.0  \n",
       "146  d:/BCDR/BCDR-DN01_dataset/patient_101/study_13...      3.0  56.0  \n",
       "59   d:/BCDR/BCDR-DN01_dataset/patient_52/study_74/...      2.0  34.0  \n",
       "..                                                 ...      ...   ...  \n",
       "97   d:/BCDR/BCDR-DN01_dataset/patient_75/study_103...      2.0  54.0  \n",
       "112  d:/BCDR/BCDR-DN01_dataset/patient_87/study_118...      1.0  66.0  \n",
       "35   d:/BCDR/BCDR-DN01_dataset/patient_28/study_39/...      3.0  50.0  \n",
       "219  d:/INBreast/AllDICOMs/50994733_069212ec65a9433...      NaN   NaN  \n",
       "225  d:/INBreast/AllDICOMs/50996325_6aba0b402889a16...      NaN   NaN  \n",
       "\n",
       "[165 rows x 5 columns]"
      ]
     },
     "execution_count": 21,
     "metadata": {},
     "output_type": "execute_result"
    }
   ],
   "source": [
    "normal_training"
   ]
  },
  {
   "cell_type": "code",
   "execution_count": 30,
   "metadata": {},
   "outputs": [
    {
     "data": {
      "text/plain": [
       "94"
      ]
     },
     "execution_count": 30,
     "metadata": {},
     "output_type": "execute_result"
    }
   ],
   "source": [
    "ids = sus_training['patient_id']\n",
    "a = 0\n",
    "for i in ids:\n",
    "    if str(i)[:2] == '1d':\n",
    "        a += 1\n",
    "a"
   ]
  },
  {
   "cell_type": "code",
   "execution_count": null,
   "metadata": {},
   "outputs": [],
   "source": [
    "utils.image_mover(normal_training,'image_data/raw/training/normal')\n",
    "utils.image_mover(normal_validation,'image_data/raw/validation/normal')"
   ]
  },
  {
   "cell_type": "markdown",
   "metadata": {},
   "source": [
    "## Windowing"
   ]
  },
  {
   "cell_type": "code",
   "execution_count": null,
   "metadata": {},
   "outputs": [],
   "source": [
    "medical_image = dicom.read_file(list(normal_mammographies2['image_path'])[0])"
   ]
  },
  {
   "cell_type": "code",
   "execution_count": null,
   "metadata": {},
   "outputs": [],
   "source": [
    "image = medical_image.pixel_array\n",
    "plt.imshow(image,cmap='gray')"
   ]
  },
  {
   "cell_type": "code",
   "execution_count": null,
   "metadata": {},
   "outputs": [],
   "source": [
    "hu_image = transform_to_hu(medical_image,image)\n",
    "plt.imshow(hu_image)"
   ]
  },
  {
   "cell_type": "code",
   "execution_count": null,
   "metadata": {},
   "outputs": [],
   "source": [
    "brain_image = window_image(hu_image, 60, 100)\n",
    "plt.imshow(brain_image,cmap='gray')"
   ]
  },
  {
   "cell_type": "code",
   "execution_count": null,
   "metadata": {},
   "outputs": [],
   "source": [
    "def window_image(image, window_center, window_width):\n",
    "    img_min = window_center - window_width // 2\n",
    "    img_max = window_center + window_width // 2\n",
    "    window_image = image.copy()\n",
    "    window_image[window_image < img_min] = img_min\n",
    "    window_image[window_image > img_max] = img_max\n",
    "    \n",
    "    return window_image\n",
    "\n",
    "def transform_to_hu(medical_image, image):\n",
    "    intercept = -1024\n",
    "    slope = 1\n",
    "    hu_image = image * slope + intercept\n",
    "\n",
    "    return hu_image"
   ]
  },
  {
   "cell_type": "markdown",
   "metadata": {},
   "source": [
    "## Age"
   ]
  },
  {
   "cell_type": "code",
   "execution_count": null,
   "metadata": {},
   "outputs": [],
   "source": [
    "dfs = pd.concat([normal_mammographies,lesion_mammographies],ignore_index=True)"
   ]
  },
  {
   "cell_type": "code",
   "execution_count": null,
   "metadata": {},
   "outputs": [],
   "source": [
    "a = 'numerical_data/features_training_suspicious.csv'\n",
    "gt = pd.read_csv('image_data/csvs/training_suspicious.csv')\n",
    "features_df = pd.read_csv(a)\n",
    "ages = []\n",
    "for i in gt.index:\n",
    "    p = gt.loc[i,'Original']\n",
    "    age_index = dfs[dfs['image_path'] == p].index\n",
    "    age = dfs.loc[age_index,'age'].to_list()[0]\n",
    "    ages.append(age)"
   ]
  },
  {
   "cell_type": "code",
   "execution_count": null,
   "metadata": {},
   "outputs": [],
   "source": [
    "features_df['Age'] = ages\n",
    "features_df.to_csv(a)"
   ]
  },
  {
   "cell_type": "markdown",
   "metadata": {},
   "source": [
    "# Numerical Data"
   ]
  },
  {
   "cell_type": "markdown",
   "metadata": {},
   "source": [
    "## Create Features Documents"
   ]
  },
  {
   "cell_type": "code",
   "execution_count": null,
   "metadata": {},
   "outputs": [],
   "source": [
    "utils.mammary_features('image_data/raw/training/normal/','features_training_normal.csv')\n",
    "utils.mammary_features('image_data/raw/training/suspicious/','features_training_suspicious.csv')\n",
    "utils.mammary_features('image_data/raw/validation/normal/','features_validation_normal.csv')\n",
    "utils.mammary_features('image_data/raw/validation/suspicious/','features_validation_suspicious.csv')"
   ]
  },
  {
   "cell_type": "markdown",
   "metadata": {},
   "source": [
    "## Load Features Documents"
   ]
  },
  {
   "cell_type": "code",
   "execution_count": null,
   "metadata": {},
   "outputs": [],
   "source": [
    "features_training_normal = pd.read_csv('numerical_data/features_training_normal.csv')\n",
    "features_training_suspicious = pd.read_csv('numerical_data/features_training_suspicious.csv')\n",
    "features_validation_normal = pd.read_csv('numerical_data/features_validation_normal.csv')\n",
    "features_validation_suspicious = pd.read_csv('numerical_data/features_validation_suspicious.csv')"
   ]
  },
  {
   "cell_type": "markdown",
   "metadata": {},
   "source": [
    "# Train Bird's Eye Model"
   ]
  },
  {
   "cell_type": "markdown",
   "metadata": {},
   "source": [
    "## Crop Background and Downsample"
   ]
  },
  {
   "cell_type": "code",
   "execution_count": null,
   "metadata": {},
   "outputs": [],
   "source": [
    "utils.downsample('image_data/raw/training/normal/','image_data/downsampled/training/normal/',1500,1100)\n",
    "utils.downsample('image_data/raw/training/suspicious/','image_data/downsampled/training/suspicious/',1500,1100)\n",
    "utils.downsample('image_data/raw/validation/normal/','image_data/downsampled/validation/normal/',1500,1100)\n",
    "utils.downsample('image_data/raw/validation/suspicious/','image_data/downsampled/validation/suspicious/',1500,1100)"
   ]
  },
  {
   "cell_type": "markdown",
   "metadata": {},
   "source": [
    "# Train Negatives Model"
   ]
  },
  {
   "cell_type": "markdown",
   "metadata": {},
   "source": [
    "## Copy Negatives"
   ]
  },
  {
   "cell_type": "code",
   "execution_count": null,
   "metadata": {},
   "outputs": [],
   "source": [
    "downsample = True\n",
    "\n",
    "utils.copy_negatives('image_data/downsampled/training/normal/',downsample)\n",
    "utils.copy_negatives('image_data/downsampled/training/suspicious/',downsample)\n",
    "utils.copy_negatives('image_data/downsampled/validation/normal/',downsample)\n",
    "utils.copy_negatives('image_data/downsampled/validation/suspicious/',downsample)"
   ]
  },
  {
   "cell_type": "markdown",
   "metadata": {},
   "source": [
    "# Feature Extraction"
   ]
  },
  {
   "cell_type": "code",
   "execution_count": null,
   "metadata": {},
   "outputs": [],
   "source": [
    "from_scratch_fe,transfer_fe = utils.create_feature_extraction(2000,1600)"
   ]
  },
  {
   "cell_type": "code",
   "execution_count": null,
   "metadata": {},
   "outputs": [],
   "source": [
    "g1 = utils.generator_fe1(2000,1600)\n",
    "g2 = utils.generator_fe2(2000,1600)"
   ]
  },
  {
   "cell_type": "markdown",
   "metadata": {},
   "source": [
    "## From-Scratch"
   ]
  },
  {
   "cell_type": "code",
   "execution_count": null,
   "metadata": {},
   "outputs": [],
   "source": [
    "X1 = from_scratch_fe.predict(g1,verbose=1)\n",
    "y = g1.classes"
   ]
  },
  {
   "cell_type": "code",
   "execution_count": null,
   "metadata": {},
   "outputs": [],
   "source": [
    "X1_train, X1_test,y_train, y_test = sms.train_test_split(X1,y,test_size=0.35,random_state=5)"
   ]
  },
  {
   "cell_type": "code",
   "execution_count": null,
   "metadata": {},
   "outputs": [],
   "source": [
    "forest_model = RandomForestClassifier()\n",
    "a = forest_model.fit(X1_train,y_train)"
   ]
  },
  {
   "cell_type": "code",
   "execution_count": null,
   "metadata": {},
   "outputs": [],
   "source": [
    "y_pred = forest_model.predict_proba(X1_test)"
   ]
  },
  {
   "cell_type": "code",
   "execution_count": null,
   "metadata": {},
   "outputs": [],
   "source": [
    "classes = ['Normal','Suspicious']\n",
    "c = sklearn.metrics.confusion_matrix(y_test,numpy.argmax(y_pred,axis=1))\n",
    "\n",
    "plt.figure(figsize=(5, 5))\n",
    "plt.imshow(c)\n",
    "\n",
    "plt.xticks(numpy.arange(len(classes)),classes,rotation=45,rotation_mode=\"anchor\",ha=\"right\")\n",
    "plt.yticks(numpy.arange(len(classes)),classes)\n",
    "plt.xlabel(\"Predicted labels\")\n",
    "plt.ylabel(\"True labels\")\n",
    "for i in range(c.shape[1]):\n",
    "    for j in range(c.shape[1]):\n",
    "        text = plt.text(j, i, c[i, j],\n",
    "                       ha=\"center\", va=\"center\", color=\"w\",fontsize='large')\n",
    "#plt.title(\"Confusion Matrix\")\n",
    "plt.colorbar()\n",
    "sens = c[1][1]/(c[1][1]+c[1][0])\n",
    "spec = c[0][0]/(c[0][0]+c[0][1])\n",
    "print('Sensitivity:',sens)\n",
    "print('Specificity:',spec)\n",
    "plt.show()\n"
   ]
  },
  {
   "cell_type": "code",
   "execution_count": null,
   "metadata": {},
   "outputs": [],
   "source": [
    "ypred=[]\n",
    "for i in y_pred:\n",
    "    ypred.append(i[1])\n",
    "auc = sklearn.metrics.roc_auc_score(y_test,ypred)\n",
    "fpr,tpr,_= sklearn.metrics.roc_curve(y_test,ypred)\n",
    "plt.plot(fpr,tpr)\n",
    "print('AUC:',auc)"
   ]
  },
  {
   "cell_type": "code",
   "execution_count": null,
   "metadata": {},
   "outputs": [],
   "source": [
    "0/0"
   ]
  },
  {
   "cell_type": "markdown",
   "metadata": {},
   "source": [
    "## Transfer Learning"
   ]
  },
  {
   "cell_type": "code",
   "execution_count": null,
   "metadata": {},
   "outputs": [],
   "source": [
    "X2 = transfer_fe.predict(g2,verbose=1)\n",
    "y = g2.classes"
   ]
  },
  {
   "cell_type": "code",
   "execution_count": null,
   "metadata": {},
   "outputs": [],
   "source": [
    "X2_train, X2_test,y_train, y_test = sms.train_test_split(X2,y,test_size=0.35,random_state=5)"
   ]
  },
  {
   "cell_type": "code",
   "execution_count": null,
   "metadata": {},
   "outputs": [],
   "source": [
    "forest_model = RandomForestClassifier()\n",
    "a = forest_model.fit(X2_train,y_train)"
   ]
  },
  {
   "cell_type": "code",
   "execution_count": null,
   "metadata": {},
   "outputs": [],
   "source": [
    "y_pred = forest_model.predict_proba(X2_test)"
   ]
  },
  {
   "cell_type": "code",
   "execution_count": null,
   "metadata": {},
   "outputs": [],
   "source": [
    "classes = ['Normal','Suspicious']\n",
    "c = sklearn.metrics.confusion_matrix(y_test,numpy.argmax(y_pred,axis=1))\n",
    "\n",
    "plt.figure(figsize=(5, 5))\n",
    "plt.imshow(c)\n",
    "\n",
    "plt.xticks(numpy.arange(len(classes)),classes,rotation=45,rotation_mode=\"anchor\",ha=\"right\")\n",
    "plt.yticks(numpy.arange(len(classes)),classes)\n",
    "plt.xlabel(\"Predicted labels\")\n",
    "plt.ylabel(\"True labels\")\n",
    "for i in range(c.shape[1]):\n",
    "    for j in range(c.shape[1]):\n",
    "        text = plt.text(j, i, c[i, j],\n",
    "                       ha=\"center\", va=\"center\", color=\"w\",fontsize='large')\n",
    "#plt.title(\"Confusion Matrix\")\n",
    "plt.colorbar()\n",
    "sens = c[1][1]/(c[1][1]+c[1][0])\n",
    "spec = c[0][0]/(c[0][0]+c[0][1])\n",
    "print('Sensitivity:',sens)\n",
    "print('Specificity:',spec)\n",
    "plt.show()"
   ]
  },
  {
   "cell_type": "code",
   "execution_count": null,
   "metadata": {},
   "outputs": [],
   "source": [
    "ypred=[]\n",
    "for i in y_pred:\n",
    "    ypred.append(i[1])\n",
    "auc = sklearn.metrics.roc_auc_score(y_test,ypred)\n",
    "fpr,tpr,_= sklearn.metrics.roc_curve(y_test,ypred)\n",
    "plt.plot(fpr,tpr)\n",
    "print('AUC:',auc)"
   ]
  },
  {
   "cell_type": "markdown",
   "metadata": {},
   "source": [
    "# Patching"
   ]
  },
  {
   "cell_type": "code",
   "execution_count": null,
   "metadata": {
    "tags": []
   },
   "outputs": [],
   "source": [
    "utils.save_patches_by_image('image_data/raw/training/normal/',300,0.2)\n",
    "utils.save_patches_by_image('image_data/raw/training/suspicious/',300,0.2)\n",
    "utils.save_patches_by_image('image_data/raw/validation/normal/',300,0.2)\n",
    "utils.save_patches_by_image('image_data/raw/validation/suspicious/',300,0.2)"
   ]
  },
  {
   "cell_type": "code",
   "execution_count": null,
   "metadata": {
    "tags": []
   },
   "outputs": [],
   "source": [
    "utils.classify_patches('image_data/raw/training/normal/')\n",
    "utils.classify_patches('image_data/raw/training/suspicious/')\n",
    "utils.classify_patches('image_data/raw/validation/normal/')\n",
    "utils.classify_patches('image_data/raw/validation/suspicious/')\n"
   ]
  },
  {
   "cell_type": "code",
   "execution_count": null,
   "metadata": {},
   "outputs": [],
   "source": [
    "utils.add_to_features_csv('image_data/raw/training/normal/','numerical_data/features_training_normal.csv',0.4)\n",
    "utils.add_to_features_csv('image_data/raw/training/suspicious/','numerical_data/features_training_suspicious.csv',0.4)\n",
    "utils.add_to_features_csv('image_data/raw/validation/normal/','numerical_data/features_validation_normal.csv',0.4)\n",
    "utils.add_to_features_csv('image_data/raw/validation/suspicious/','numerical_data/features_validation_suspicious.csv',0.4)"
   ]
  },
  {
   "cell_type": "code",
   "execution_count": null,
   "metadata": {},
   "outputs": [],
   "source": [
    "utils.add_to_final_csv()"
   ]
  },
  {
   "cell_type": "markdown",
   "metadata": {},
   "source": [
    "## Area Factor"
   ]
  },
  {
   "cell_type": "code",
   "execution_count": null,
   "metadata": {},
   "outputs": [],
   "source": [
    "afs = []"
   ]
  },
  {
   "cell_type": "code",
   "execution_count": null,
   "metadata": {},
   "outputs": [],
   "source": [
    "image_folder = 'image_data/raw/validation/suspicious/'\n",
    "l = os.listdir(image_folder)\n",
    "p = [str(n) for n in range(len(l))]\n",
    "ps= []\n",
    "for i in p:\n",
    "    a = image_folder+i+'.bmp'\n",
    "    ps.append(a)\n",
    "\n",
    "area_factors = []\n",
    "\n",
    "for image_path in ps:\n",
    "    af = utils.breast_area_factor(image_path)\n",
    "    area_factors.append(af)\n",
    "\n",
    "afs = afs + area_factors\n"
   ]
  },
  {
   "cell_type": "code",
   "execution_count": null,
   "metadata": {},
   "outputs": [],
   "source": [
    "r = pd.read_csv('numerical_data/classification_data_comp.csv')\n",
    "r['Area Factor'] = afs\n",
    "r.to_csv('numerical_data/classification_data_comp.csv',index=False)"
   ]
  },
  {
   "cell_type": "markdown",
   "metadata": {},
   "source": [
    "# Meta Classification"
   ]
  },
  {
   "cell_type": "markdown",
   "metadata": {},
   "source": [
    "## Evaluate Mammograms"
   ]
  },
  {
   "cell_type": "code",
   "execution_count": null,
   "metadata": {},
   "outputs": [],
   "source": [
    "features_validation_normal['Ground Truth'] = 0\n",
    "features_training_normal['Ground Truth'] = 0\n",
    "features_training_suspicious['Ground Truth'] = 1\n",
    "features_validation_suspicious['Ground Truth'] = 1"
   ]
  },
  {
   "cell_type": "code",
   "execution_count": null,
   "metadata": {},
   "outputs": [],
   "source": [
    "dataframe = pd.concat([features_training_normal,features_training_suspicious,features_validation_normal,features_validation_suspicious],ignore_index=True)"
   ]
  },
  {
   "cell_type": "code",
   "execution_count": null,
   "metadata": {},
   "outputs": [],
   "source": [
    "model = keras.models.load_model('models/mammo_comp.h5')"
   ]
  },
  {
   "cell_type": "code",
   "execution_count": null,
   "metadata": {},
   "outputs": [],
   "source": [
    "utils.classify_mammograms(model,dataframe,True)"
   ]
  },
  {
   "cell_type": "markdown",
   "metadata": {},
   "source": [
    "## CNN Results"
   ]
  },
  {
   "cell_type": "code",
   "execution_count": 2,
   "metadata": {},
   "outputs": [],
   "source": [
    "comp = True"
   ]
  },
  {
   "cell_type": "code",
   "execution_count": 3,
   "metadata": {},
   "outputs": [],
   "source": [
    "if comp:\n",
    "    dataframe = pd.read_csv('numerical_data/classification_data_comp.csv')\n",
    "else:\n",
    "    dataframe = pd.read_csv('numerical_data/classification_data.csv')"
   ]
  },
  {
   "cell_type": "code",
   "execution_count": 4,
   "metadata": {},
   "outputs": [
    {
     "name": "stdout",
     "output_type": "stream",
     "text": [
      "Found 322 images belonging to 2 classes.\n",
      "Found 176 images belonging to 2 classes.\n"
     ]
    }
   ],
   "source": [
    "data= utils.generator_transfer(1500,1100,False,False)\n",
    "y_true = data[1].classes\n",
    "y_pred = dataframe['Classifications'][-176:]"
   ]
  },
  {
   "cell_type": "code",
   "execution_count": 5,
   "metadata": {},
   "outputs": [
    {
     "name": "stdout",
     "output_type": "stream",
     "text": [
      "Sensitivity: 0.83\n",
      "Specificity: 0.87\n"
     ]
    },
    {
     "data": {
      "image/png": "[encoded data removed]",
      "text/plain": [
       "<Figure size 432x432 with 2 Axes>"
      ]
     },
     "metadata": {
      "needs_background": "light"
     },
     "output_type": "display_data"
    }
   ],
   "source": [
    "classes = ['Normal','Suspicious']\n",
    "c = sklearn.metrics.confusion_matrix(y_true,numpy.round(y_pred),normalize='true')\n",
    "c = numpy.around(c,decimals =2)\n",
    "\n",
    "plt.figure(figsize=(6, 6))\n",
    "plt.imshow(c,cmap='Blues')\n",
    "\n",
    "plt.xticks(numpy.arange(len(classes)),classes,rotation=45,rotation_mode=\"anchor\",ha=\"right\")\n",
    "plt.yticks(numpy.arange(len(classes)),classes)\n",
    "plt.xlabel(\"Predicted labels\")\n",
    "plt.ylabel(\"True labels\")\n",
    "for i in range(c.shape[1]):\n",
    "    for j in range(c.shape[1]):\n",
    "        if c[i,j]<0.5:\n",
    "            text = plt.text(j, i, c[i, j],\n",
    "                           ha=\"center\", va=\"center\", color=\"black\",fontsize='large')\n",
    "        else:\n",
    "            text = plt.text(j, i, c[i, j],\n",
    "                           ha=\"center\", va=\"center\", color=\"w\",fontsize='large')\n",
    "#plt.title(\"Confusion Matrix\")\n",
    "plt.colorbar()\n",
    "sens = c[1][1]/(c[1][1]+c[1][0])\n",
    "spec = c[0][0]/(c[0][0]+c[0][1])\n",
    "print('Sensitivity:',sens)\n",
    "print('Specificity:',spec)\n",
    "plt.savefig('full_img_cm.pdf')\n",
    "plt.show()"
   ]
  },
  {
   "cell_type": "code",
   "execution_count": 6,
   "metadata": {},
   "outputs": [
    {
     "name": "stdout",
     "output_type": "stream",
     "text": [
      "Accuracy: 0.8465909090909091\n"
     ]
    }
   ],
   "source": [
    "acc = sklearn.metrics.accuracy_score(y_true,numpy.round(y_pred))\n",
    "print('Accuracy:',acc)"
   ]
  },
  {
   "cell_type": "code",
   "execution_count": 11,
   "metadata": {},
   "outputs": [
    {
     "data": {
      "image/png": "[encoded data removed]",
      "text/plain": [
       "<Figure size 432x288 with 1 Axes>"
      ]
     },
     "metadata": {
      "needs_background": "light"
     },
     "output_type": "display_data"
    }
   ],
   "source": [
    "auc = sklearn.metrics.roc_auc_score(y_true,y_pred)\n",
    "fpr,tpr,_= sklearn.metrics.roc_curve(y_true,y_pred)\n",
    "fig, ax = plt.subplots()\n",
    "ax.plot([0, 1], [0, 1], linestyle='--', lw=2, color='r',\n",
    "        label='Chance', alpha=.8)\n",
    "ax.plot(fpr,tpr, color='b',\n",
    "        label=r'ROC (AUC = %0.2f )' % (auc),\n",
    "        lw=2, alpha=.8)\n",
    "plt.xlabel(\"False Positive Rate\")\n",
    "plt.ylabel(\"True Positive Rate\")\n",
    "ax.legend(loc=\"lower right\")\n",
    "plt.savefig('full_img_ROC.pdf')\n",
    "#print('AUC:',auc)"
   ]
  },
  {
   "cell_type": "markdown",
   "metadata": {},
   "source": [
    "## Metaclassifier"
   ]
  },
  {
   "cell_type": "code",
   "execution_count": 2,
   "metadata": {},
   "outputs": [],
   "source": [
    "from sklearn.pipeline import Pipeline\n",
    "from sklearn.impute import SimpleImputer\n",
    "from sklearn.feature_selection import SelectKBest, f_classif\n",
    "from sklearn.model_selection import cross_val_score,train_test_split,GridSearchCV\n",
    "from sklearn.ensemble import RandomForestClassifier\n",
    "from sklearn import svm\n",
    "from sklearn.metrics import classification_report\n",
    "from sklearn.inspection import permutation_importance"
   ]
  },
  {
   "cell_type": "code",
   "execution_count": 3,
   "metadata": {},
   "outputs": [],
   "source": [
    "comp = True"
   ]
  },
  {
   "cell_type": "code",
   "execution_count": 4,
   "metadata": {},
   "outputs": [],
   "source": [
    "if comp:\n",
    "    dataframe = pd.read_csv('numerical_data/classification_data_comp.csv')\n",
    "else:\n",
    "    dataframe = pd.read_csv('numerical_data/classification_data.csv')\n",
    "dataframe = dataframe.sample(n=len(dataframe.index))"
   ]
  },
  {
   "cell_type": "code",
   "execution_count": 9,
   "metadata": {},
   "outputs": [],
   "source": [
    "X = dataframe.loc[:, dataframe.columns != 'Ground Truth']\n",
    "X = X.loc[:, X.columns != 'Unnamed: 0']\n",
    "X = X.loc[:, X.columns != 'Unnamed: 0.1']\n",
    "X = X.loc[:, X.columns != 'Ratio']\n",
    "X = X.loc[:, X.columns != 'Ratios']\n",
    "X = X.loc[:, X.columns != 'Area Factor']\n",
    "#X = X.loc[:, X.columns != 'I_Kurtosis']\n",
    "#X = X.loc[:, X.columns != 'I_Mode']\n",
    "#X = X.loc[:, X.columns != 'I_Std']\n",
    "#X = X.loc[:, X.columns != 'I_Median']\n",
    "#X = X.loc[:, X.columns != 'T_Entropy']\n",
    "#X = X.loc[:, X.columns != 'I_Skewness']\n",
    "y = dataframe['Ground Truth']"
   ]
  },
  {
   "cell_type": "code",
   "execution_count": 10,
   "metadata": {},
   "outputs": [],
   "source": [
    "my_imputer = SimpleImputer(strategy='constant',fill_value=56)\n",
    "imputed_X_train_age = my_imputer.fit_transform(numpy.array(X['Age']).reshape(-1,1))\n",
    "X['Age'] = imputed_X_train_age\n",
    "X = X.astype({'Age': 'int32'})"
   ]
  },
  {
   "cell_type": "code",
   "execution_count": 11,
   "metadata": {},
   "outputs": [],
   "source": [
    "X1 = X.rename(columns={'Ratios':'Patches_Norm'},inplace=False)"
   ]
  },
  {
   "cell_type": "code",
   "execution_count": 13,
   "metadata": {},
   "outputs": [
    {
     "data": {
      "text/html": [
       "<div>\n",
       "<style scoped>\n",
       "    .dataframe tbody tr th:only-of-type {\n",
       "        vertical-align: middle;\n",
       "    }\n",
       "\n",
       "    .dataframe tbody tr th {\n",
       "        vertical-align: top;\n",
       "    }\n",
       "\n",
       "    .dataframe thead th {\n",
       "        text-align: right;\n",
       "    }\n",
       "</style>\n",
       "<table border=\"1\" class=\"dataframe\">\n",
       "  <thead>\n",
       "    <tr style=\"text-align: right;\">\n",
       "      <th></th>\n",
       "      <th>I_Mean</th>\n",
       "      <th>I_Std</th>\n",
       "      <th>I_Median</th>\n",
       "      <th>I_Mode</th>\n",
       "      <th>T_Entropy</th>\n",
       "      <th>I_Skewness</th>\n",
       "      <th>I_Kurtosis</th>\n",
       "      <th>Age</th>\n",
       "      <th>Classifications</th>\n",
       "    </tr>\n",
       "  </thead>\n",
       "  <tbody>\n",
       "    <tr>\n",
       "      <th>33</th>\n",
       "      <td>109.85482</td>\n",
       "      <td>46.27217</td>\n",
       "      <td>109.0</td>\n",
       "      <td>60</td>\n",
       "      <td>4.93134</td>\n",
       "      <td>0.13372</td>\n",
       "      <td>-1.16854</td>\n",
       "      <td>41</td>\n",
       "      <td>0.128</td>\n",
       "    </tr>\n",
       "    <tr>\n",
       "      <th>214</th>\n",
       "      <td>73.29609</td>\n",
       "      <td>33.68115</td>\n",
       "      <td>70.0</td>\n",
       "      <td>65</td>\n",
       "      <td>4.66742</td>\n",
       "      <td>0.35501</td>\n",
       "      <td>-0.03795</td>\n",
       "      <td>73</td>\n",
       "      <td>0.406</td>\n",
       "    </tr>\n",
       "    <tr>\n",
       "      <th>244</th>\n",
       "      <td>120.20673</td>\n",
       "      <td>37.16652</td>\n",
       "      <td>120.0</td>\n",
       "      <td>121</td>\n",
       "      <td>4.84269</td>\n",
       "      <td>0.19252</td>\n",
       "      <td>0.68514</td>\n",
       "      <td>59</td>\n",
       "      <td>0.892</td>\n",
       "    </tr>\n",
       "    <tr>\n",
       "      <th>266</th>\n",
       "      <td>117.74970</td>\n",
       "      <td>25.89137</td>\n",
       "      <td>121.0</td>\n",
       "      <td>121</td>\n",
       "      <td>4.42432</td>\n",
       "      <td>-0.39522</td>\n",
       "      <td>1.93249</td>\n",
       "      <td>64</td>\n",
       "      <td>1.000</td>\n",
       "    </tr>\n",
       "    <tr>\n",
       "      <th>305</th>\n",
       "      <td>143.70078</td>\n",
       "      <td>44.13737</td>\n",
       "      <td>153.0</td>\n",
       "      <td>179</td>\n",
       "      <td>4.94432</td>\n",
       "      <td>-0.37776</td>\n",
       "      <td>-0.73817</td>\n",
       "      <td>50</td>\n",
       "      <td>1.000</td>\n",
       "    </tr>\n",
       "  </tbody>\n",
       "</table>\n",
       "</div>"
      ],
      "text/plain": [
       "        I_Mean     I_Std  I_Median  I_Mode  T_Entropy  I_Skewness  I_Kurtosis  \\\n",
       "33   109.85482  46.27217     109.0      60    4.93134     0.13372    -1.16854   \n",
       "214   73.29609  33.68115      70.0      65    4.66742     0.35501    -0.03795   \n",
       "244  120.20673  37.16652     120.0     121    4.84269     0.19252     0.68514   \n",
       "266  117.74970  25.89137     121.0     121    4.42432    -0.39522     1.93249   \n",
       "305  143.70078  44.13737     153.0     179    4.94432    -0.37776    -0.73817   \n",
       "\n",
       "     Age  Classifications  \n",
       "33    41            0.128  \n",
       "214   73            0.406  \n",
       "244   59            0.892  \n",
       "266   64            1.000  \n",
       "305   50            1.000  "
      ]
     },
     "execution_count": 13,
     "metadata": {},
     "output_type": "execute_result"
    }
   ],
   "source": [
    "X_train, X_valid, y_train, y_valid = train_test_split(X1, y,test_size=0.35)\n",
    "X1.head(5)"
   ]
  },
  {
   "cell_type": "code",
   "execution_count": 13,
   "metadata": {},
   "outputs": [],
   "source": [
    "forest_model = RandomForestClassifier()\n",
    "model = svm.SVC()\n",
    "pipeline = Pipeline(steps=[('model',model)])\n",
    "pipeline = Pipeline(steps=[('model',forest_model)])\n",
    "pipeline.fit(X_train,y_train)\n",
    "preds = pipeline.predict(X_valid)\n",
    "names = ['normal','suspicious']\n",
    "#print(classification_report(y_valid, preds,target_names=names))"
   ]
  },
  {
   "cell_type": "markdown",
   "metadata": {},
   "source": [
    "### Feature Importance"
   ]
  },
  {
   "cell_type": "code",
   "execution_count": 23,
   "metadata": {},
   "outputs": [
    {
     "data": {
      "image/png": "[encoded data removed]",
      "text/plain": [
       "<Figure size 648x648 with 1 Axes>"
      ]
     },
     "metadata": {
      "needs_background": "light"
     },
     "output_type": "display_data"
    }
   ],
   "source": [
    "result = permutation_importance(forest_model, X_valid, y_valid, n_repeats=10)\n",
    "sorted_idx = result.importances_mean.argsort()\n",
    "plt.figure(figsize=(9,9))\n",
    "plt.barh(X_train.columns[sorted_idx], result.importances_mean[sorted_idx])\n",
    "plt.xlabel('Percent Increase')\n",
    "plt.ylabel('Feature')\n",
    "plt.savefig('both_RF_fi.pdf')"
   ]
  },
  {
   "cell_type": "code",
   "execution_count": 16,
   "metadata": {},
   "outputs": [],
   "source": [
    "X_new = SelectKBest(f_classif, k=5).fit_transform(X, y)"
   ]
  },
  {
   "cell_type": "markdown",
   "metadata": {},
   "source": [
    "### Parameter Optimization"
   ]
  },
  {
   "cell_type": "markdown",
   "metadata": {},
   "source": [
    "#### Random Forest"
   ]
  },
  {
   "cell_type": "code",
   "execution_count": null,
   "metadata": {},
   "outputs": [],
   "source": [
    "p = {'n_estimators':[50,100,500,1000,1500,2000],'max_depth':[3,4,5,6,7]}\n",
    "c = GridSearchCV(forest_model,p,scoring='roc_auc')\n",
    "c.fit(X,y)"
   ]
  },
  {
   "cell_type": "code",
   "execution_count": null,
   "metadata": {},
   "outputs": [],
   "source": [
    "c.best_estimator_"
   ]
  },
  {
   "cell_type": "code",
   "execution_count": null,
   "metadata": {},
   "outputs": [],
   "source": [
    "c.best_score_"
   ]
  },
  {
   "cell_type": "markdown",
   "metadata": {},
   "source": [
    "#### SVM"
   ]
  },
  {
   "cell_type": "code",
   "execution_count": null,
   "metadata": {},
   "outputs": [],
   "source": [
    "p = {'C':[0.5,0.75,1,1.25,1.5,1.75,2],'kernel':['linear','poly','sigmoid','rbf']}\n",
    "c = GridSearchCV(model,p,scoring='roc_auc')\n",
    "c.fit(X,y)"
   ]
  },
  {
   "cell_type": "code",
   "execution_count": null,
   "metadata": {},
   "outputs": [],
   "source": [
    "c.best_estimator_"
   ]
  },
  {
   "cell_type": "code",
   "execution_count": null,
   "metadata": {},
   "outputs": [],
   "source": [
    "c.best_score_"
   ]
  },
  {
   "cell_type": "markdown",
   "metadata": {},
   "source": [
    "### Cross-Validation (RF)"
   ]
  },
  {
   "cell_type": "code",
   "execution_count": 10,
   "metadata": {},
   "outputs": [
    {
     "name": "stdout",
     "output_type": "stream",
     "text": [
      "AUC: \n",
      " [0.95118047 0.98879552 0.97679072 0.95261438 0.9746732 ]\n"
     ]
    }
   ],
   "source": [
    "forest_model = RandomForestClassifier(max_depth=7, n_estimators=1500)\n",
    "pipeline = Pipeline(steps=[('model',forest_model)])\n",
    "scores = cross_val_score(pipeline, X, y,cv=5,scoring='roc_auc')\n",
    "print('AUC: \\n',scores)"
   ]
  },
  {
   "cell_type": "code",
   "execution_count": 11,
   "metadata": {},
   "outputs": [
    {
     "data": {
      "text/plain": [
       "Pipeline(steps=[('model',\n",
       "                 RandomForestClassifier(max_depth=7, n_estimators=1500))])"
      ]
     },
     "execution_count": 11,
     "metadata": {},
     "output_type": "execute_result"
    }
   ],
   "source": [
    "pipeline.fit(X_train,y_train)"
   ]
  },
  {
   "cell_type": "code",
   "execution_count": 12,
   "metadata": {},
   "outputs": [],
   "source": [
    "y_pred = pipeline.predict_proba(X_valid)"
   ]
  },
  {
   "cell_type": "code",
   "execution_count": 13,
   "metadata": {},
   "outputs": [],
   "source": [
    "ypred = []\n",
    "for i in y_pred:\n",
    "    if i[0] > 0.44:\n",
    "        ypred.append(0)\n",
    "    else:\n",
    "        ypred.append(1)"
   ]
  },
  {
   "cell_type": "code",
   "execution_count": 15,
   "metadata": {},
   "outputs": [
    {
     "name": "stdout",
     "output_type": "stream",
     "text": [
      "Sensitivity: 0.88\n",
      "Specificity: 0.96\n"
     ]
    },
    {
     "data": {
      "image/png": "[encoded data removed]",
      "text/plain": [
       "<Figure size 432x432 with 2 Axes>"
      ]
     },
     "metadata": {
      "needs_background": "light"
     },
     "output_type": "display_data"
    }
   ],
   "source": [
    "classes = ['Normal','Suspicious']\n",
    "c = sklearn.metrics.confusion_matrix(y_valid,ypred,normalize='true')\n",
    "c = numpy.around(c,decimals =2)\n",
    "\n",
    "plt.figure(figsize=(6,6))\n",
    "plt.imshow(c,cmap='Blues')\n",
    "\n",
    "plt.xticks(numpy.arange(len(classes)),classes,rotation=45,rotation_mode=\"anchor\",ha=\"right\")\n",
    "plt.yticks(numpy.arange(len(classes)),classes)\n",
    "plt.xlabel(\"Predicted labels\")\n",
    "plt.ylabel(\"True labels\")\n",
    "for i in range(c.shape[1]):\n",
    "    for j in range(c.shape[1]):\n",
    "        if c[i,j]<0.5:\n",
    "            text = plt.text(j, i, c[i, j],\n",
    "                           ha=\"center\", va=\"center\", color=\"black\",fontsize='large')\n",
    "        else:\n",
    "            text = plt.text(j, i, c[i, j],\n",
    "                           ha=\"center\", va=\"center\", color=\"w\",fontsize='large')\n",
    "#plt.title(\"Confusion Matrix\")\n",
    "plt.colorbar()\n",
    "sens = c[1][1]/(c[1][1]+c[1][0])\n",
    "spec = c[0][0]/(c[0][0]+c[0][1])\n",
    "print('Sensitivity:',sens)\n",
    "print('Specificity:',spec)\n",
    "plt.savefig('both_RF_cm.pdf')\n",
    "plt.show()"
   ]
  },
  {
   "cell_type": "code",
   "execution_count": 16,
   "metadata": {},
   "outputs": [
    {
     "data": {
      "image/png": "[encoded data removed]",
      "text/plain": [
       "<Figure size 432x288 with 1 Axes>"
      ]
     },
     "metadata": {
      "needs_background": "light"
     },
     "output_type": "display_data"
    }
   ],
   "source": [
    "ypred=[]\n",
    "for i in y_pred:\n",
    "    ypred.append(i[1])\n",
    "auc = sklearn.metrics.roc_auc_score(y_valid,ypred)\n",
    "fpr,tpr,t= sklearn.metrics.roc_curve(y_valid,ypred)\n",
    "fig, ax = plt.subplots()\n",
    "ax.plot([0, 1], [0, 1], linestyle='--', lw=2, color='r',\n",
    "        label='Chance', alpha=.8)\n",
    "ax.plot(fpr,tpr, color='b',\n",
    "        label=r'ROC (AUC = %0.2f )' % (auc),\n",
    "        lw=2, alpha=.8)\n",
    "plt.xlabel(\"False Positive Rate\")\n",
    "plt.ylabel(\"True Positive Rate\")\n",
    "ax.legend(loc=\"lower right\")\n",
    "plt.savefig('both_RF_ROC.pdf')\n",
    "#print('AUC:',auc)"
   ]
  },
  {
   "cell_type": "code",
   "execution_count": null,
   "metadata": {},
   "outputs": [],
   "source": [
    "acc = []\n",
    "for n in range(100):\n",
    "    forest_model = RandomForestClassifier(max_depth=7,n_estimators=1500,random_state=n)\n",
    "    pipeline = Pipeline(steps=[('model',forest_model)])\n",
    "    scores = cross_val_score(pipeline, X, y,cv=5,scoring='roc_auc')\n",
    "    acc.append(scores)"
   ]
  },
  {
   "cell_type": "code",
   "execution_count": null,
   "metadata": {},
   "outputs": [],
   "source": [
    "accs = []\n",
    "for i in acc:\n",
    "    accs.append(sum(i)/len(i))"
   ]
  },
  {
   "cell_type": "code",
   "execution_count": null,
   "metadata": {},
   "outputs": [],
   "source": [
    "a = pd.DataFrame({'With Patches':accs})\n",
    "a.describe()"
   ]
  },
  {
   "cell_type": "markdown",
   "metadata": {},
   "source": [
    "### Cross-Validation (SVM)"
   ]
  },
  {
   "cell_type": "code",
   "execution_count": 64,
   "metadata": {},
   "outputs": [],
   "source": [
    "from sklearn.preprocessing import StandardScaler\n",
    "scaler = StandardScaler()"
   ]
  },
  {
   "cell_type": "code",
   "execution_count": 24,
   "metadata": {},
   "outputs": [],
   "source": [
    "X1 = X.loc[:, X.columns != 'Classifications']\n",
    "X1 = X1.loc[:, X1.columns != 'Ratios']"
   ]
  },
  {
   "cell_type": "code",
   "execution_count": 42,
   "metadata": {},
   "outputs": [],
   "source": [
    "a = scaler.fit_transform(X)\n",
    "names = X.columns"
   ]
  },
  {
   "cell_type": "code",
   "execution_count": 43,
   "metadata": {},
   "outputs": [
    {
     "data": {
      "text/html": [
       "<div>\n",
       "<style scoped>\n",
       "    .dataframe tbody tr th:only-of-type {\n",
       "        vertical-align: middle;\n",
       "    }\n",
       "\n",
       "    .dataframe tbody tr th {\n",
       "        vertical-align: top;\n",
       "    }\n",
       "\n",
       "    .dataframe thead th {\n",
       "        text-align: right;\n",
       "    }\n",
       "</style>\n",
       "<table border=\"1\" class=\"dataframe\">\n",
       "  <thead>\n",
       "    <tr style=\"text-align: right;\">\n",
       "      <th></th>\n",
       "      <th>I_Mean</th>\n",
       "      <th>I_Std</th>\n",
       "      <th>I_Median</th>\n",
       "      <th>I_Mode</th>\n",
       "      <th>T_Entropy</th>\n",
       "      <th>I_Skewness</th>\n",
       "      <th>I_Kurtosis</th>\n",
       "      <th>Age</th>\n",
       "      <th>Classifications</th>\n",
       "      <th>Ratios</th>\n",
       "      <th>Area Factor</th>\n",
       "    </tr>\n",
       "  </thead>\n",
       "  <tbody>\n",
       "    <tr>\n",
       "      <th>0</th>\n",
       "      <td>0.623361</td>\n",
       "      <td>-0.755419</td>\n",
       "      <td>0.509484</td>\n",
       "      <td>0.442045</td>\n",
       "      <td>-0.462210</td>\n",
       "      <td>0.256746</td>\n",
       "      <td>0.838282</td>\n",
       "      <td>2.685138</td>\n",
       "      <td>1.358844</td>\n",
       "      <td>1.092113</td>\n",
       "      <td>-0.189995</td>\n",
       "    </tr>\n",
       "    <tr>\n",
       "      <th>1</th>\n",
       "      <td>-1.088475</td>\n",
       "      <td>-0.584519</td>\n",
       "      <td>-1.150595</td>\n",
       "      <td>-0.822600</td>\n",
       "      <td>-0.587174</td>\n",
       "      <td>1.173937</td>\n",
       "      <td>0.214811</td>\n",
       "      <td>-0.669811</td>\n",
       "      <td>1.200597</td>\n",
       "      <td>1.456639</td>\n",
       "      <td>0.671500</td>\n",
       "    </tr>\n",
       "    <tr>\n",
       "      <th>2</th>\n",
       "      <td>0.413297</td>\n",
       "      <td>-0.898902</td>\n",
       "      <td>0.554351</td>\n",
       "      <td>0.442045</td>\n",
       "      <td>-0.679018</td>\n",
       "      <td>-1.090208</td>\n",
       "      <td>0.048425</td>\n",
       "      <td>0.336674</td>\n",
       "      <td>1.358844</td>\n",
       "      <td>0.241553</td>\n",
       "      <td>0.811580</td>\n",
       "    </tr>\n",
       "    <tr>\n",
       "      <th>3</th>\n",
       "      <td>-0.494543</td>\n",
       "      <td>0.467000</td>\n",
       "      <td>-0.746792</td>\n",
       "      <td>-0.822600</td>\n",
       "      <td>0.630855</td>\n",
       "      <td>0.584662</td>\n",
       "      <td>-0.783651</td>\n",
       "      <td>-0.585937</td>\n",
       "      <td>1.337265</td>\n",
       "      <td>1.213622</td>\n",
       "      <td>-0.049914</td>\n",
       "    </tr>\n",
       "    <tr>\n",
       "      <th>4</th>\n",
       "      <td>0.181193</td>\n",
       "      <td>1.185461</td>\n",
       "      <td>0.240282</td>\n",
       "      <td>0.442045</td>\n",
       "      <td>1.300996</td>\n",
       "      <td>-0.037961</td>\n",
       "      <td>-1.055194</td>\n",
       "      <td>-0.502063</td>\n",
       "      <td>-1.000481</td>\n",
       "      <td>-0.001464</td>\n",
       "      <td>-0.834365</td>\n",
       "    </tr>\n",
       "  </tbody>\n",
       "</table>\n",
       "</div>"
      ],
      "text/plain": [
       "     I_Mean     I_Std  I_Median    I_Mode  T_Entropy  I_Skewness  I_Kurtosis  \\\n",
       "0  0.623361 -0.755419  0.509484  0.442045  -0.462210    0.256746    0.838282   \n",
       "1 -1.088475 -0.584519 -1.150595 -0.822600  -0.587174    1.173937    0.214811   \n",
       "2  0.413297 -0.898902  0.554351  0.442045  -0.679018   -1.090208    0.048425   \n",
       "3 -0.494543  0.467000 -0.746792 -0.822600   0.630855    0.584662   -0.783651   \n",
       "4  0.181193  1.185461  0.240282  0.442045   1.300996   -0.037961   -1.055194   \n",
       "\n",
       "        Age  Classifications    Ratios  Area Factor  \n",
       "0  2.685138         1.358844  1.092113    -0.189995  \n",
       "1 -0.669811         1.200597  1.456639     0.671500  \n",
       "2  0.336674         1.358844  0.241553     0.811580  \n",
       "3 -0.585937         1.337265  1.213622    -0.049914  \n",
       "4 -0.502063        -1.000481 -0.001464    -0.834365  "
      ]
     },
     "execution_count": 43,
     "metadata": {},
     "output_type": "execute_result"
    }
   ],
   "source": [
    "b = pd.DataFrame(a,columns=names)\n",
    "b.head()"
   ]
  },
  {
   "cell_type": "code",
   "execution_count": 69,
   "metadata": {},
   "outputs": [
    {
     "name": "stdout",
     "output_type": "stream",
     "text": [
      "Accuracies: \n",
      " [0.92837135 0.91956783 0.95558223 0.93995098 0.97344771]\n"
     ]
    }
   ],
   "source": [
    "model = svm.SVC(C=2, kernel='linear',probability=True)\n",
    "pipeline = Pipeline(steps=[('model',model)])\n",
    "scores = cross_val_score(pipeline, X, y,cv=5,scoring='roc_auc')\n",
    "print('Accuracies: \\n',scores)"
   ]
  },
  {
   "cell_type": "code",
   "execution_count": 70,
   "metadata": {},
   "outputs": [
    {
     "data": {
      "text/plain": [
       "Pipeline(steps=[('model', SVC(C=2, kernel='linear', probability=True))])"
      ]
     },
     "execution_count": 70,
     "metadata": {},
     "output_type": "execute_result"
    }
   ],
   "source": [
    "pipeline.fit(X_train,y_train)"
   ]
  },
  {
   "cell_type": "code",
   "execution_count": 71,
   "metadata": {},
   "outputs": [],
   "source": [
    "y_pred = pipeline.predict_proba(X_valid)"
   ]
  },
  {
   "cell_type": "code",
   "execution_count": 72,
   "metadata": {},
   "outputs": [],
   "source": [
    "ypred = []\n",
    "for i in y_pred:\n",
    "    if i[0] > 0.44:\n",
    "        ypred.append(0)\n",
    "    else:\n",
    "        ypred.append(1)"
   ]
  },
  {
   "cell_type": "code",
   "execution_count": 73,
   "metadata": {},
   "outputs": [
    {
     "name": "stdout",
     "output_type": "stream",
     "text": [
      "Sensitivity: 0.78\n",
      "Specificity: 0.88\n"
     ]
    },
    {
     "data": {
      "image/png": "[encoded data removed]",
      "text/plain": [
       "<Figure size 648x648 with 2 Axes>"
      ]
     },
     "metadata": {
      "needs_background": "light"
     },
     "output_type": "display_data"
    }
   ],
   "source": [
    "classes = ['Normal','Suspicious']\n",
    "c = sklearn.metrics.confusion_matrix(y_valid,ypred,normalize='true')\n",
    "c = numpy.around(c,decimals =2)\n",
    "\n",
    "plt.figure(figsize=(9,9))\n",
    "plt.imshow(c,cmap='Blues')\n",
    "\n",
    "plt.xticks(numpy.arange(len(classes)),classes,rotation=45,rotation_mode=\"anchor\",ha=\"right\")\n",
    "plt.yticks(numpy.arange(len(classes)),classes)\n",
    "plt.xlabel(\"Predicted labels\")\n",
    "plt.ylabel(\"True labels\")\n",
    "for i in range(c.shape[1]):\n",
    "    for j in range(c.shape[1]):\n",
    "        if c[i,j]<0.5:\n",
    "            text = plt.text(j, i, c[i, j],\n",
    "                           ha=\"center\", va=\"center\", color=\"black\",fontsize='large')\n",
    "        else:\n",
    "            text = plt.text(j, i, c[i, j],\n",
    "                           ha=\"center\", va=\"center\", color=\"w\",fontsize='large')\n",
    "#plt.title(\"Confusion Matrix\")\n",
    "plt.colorbar()\n",
    "sens = c[1][1]/(c[1][1]+c[1][0])\n",
    "spec = c[0][0]/(c[0][0]+c[0][1])\n",
    "print('Sensitivity:',sens)\n",
    "print('Specificity:',spec)\n",
    "plt.savefig('full_image_svm_cm.pdf')\n",
    "plt.show()"
   ]
  },
  {
   "cell_type": "code",
   "execution_count": 74,
   "metadata": {},
   "outputs": [
    {
     "data": {
      "image/png": "[encoded data removed]",
      "text/plain": [
       "<Figure size 432x288 with 1 Axes>"
      ]
     },
     "metadata": {
      "needs_background": "light"
     },
     "output_type": "display_data"
    }
   ],
   "source": [
    "ypred=[]\n",
    "for i in y_pred:\n",
    "    ypred.append(i[1])\n",
    "auc = sklearn.metrics.roc_auc_score(y_valid,ypred)\n",
    "fpr,tpr,t= sklearn.metrics.roc_curve(y_valid,ypred)\n",
    "fig, ax = plt.subplots()\n",
    "ax.plot([0, 1], [0, 1], linestyle='--', lw=2, color='r',\n",
    "        label='Chance', alpha=.8)\n",
    "ax.plot(fpr,tpr, color='b',\n",
    "        label=r'ROC (AUC = %0.2f )' % (auc),\n",
    "        lw=2, alpha=.8)\n",
    "plt.xlabel(\"False Positive Rate\")\n",
    "plt.ylabel(\"True Positive Rate\")\n",
    "ax.legend(loc=\"lower right\")\n",
    "plt.savefig('full_image_svm_ROC.pdf')"
   ]
  },
  {
   "cell_type": "code",
   "execution_count": null,
   "metadata": {},
   "outputs": [],
   "source": []
  },
  {
   "cell_type": "code",
   "execution_count": null,
   "metadata": {},
   "outputs": [],
   "source": []
  },
  {
   "cell_type": "code",
   "execution_count": 14,
   "metadata": {},
   "outputs": [],
   "source": [
    "forest_model = RandomForestClassifier(max_depth=7, n_estimators=500)\n",
    "pipeline = Pipeline(steps=[('model',forest_model)])\n",
    "pipeline.fit(X_train,y_train)\n",
    "y_pred = pipeline.predict_proba(X_valid)\n",
    "ypred1=[]\n",
    "for i in y_pred:\n",
    "    ypred1.append(i[1])"
   ]
  },
  {
   "cell_type": "code",
   "execution_count": 15,
   "metadata": {},
   "outputs": [],
   "source": [
    "model = svm.SVC(C=1.75, kernel='linear',probability=True)\n",
    "pipeline = Pipeline(steps=[('model',model)])\n",
    "pipeline.fit(X_train,y_train)\n",
    "y_pred = pipeline.predict_proba(X_valid)\n",
    "ypred2=[]\n",
    "for i in y_pred:\n",
    "    ypred2.append(i[1])"
   ]
  },
  {
   "cell_type": "code",
   "execution_count": 18,
   "metadata": {},
   "outputs": [
    {
     "data": {
      "image/png": "[encoded data removed]",
      "text/plain": [
       "<Figure size 432x288 with 1 Axes>"
      ]
     },
     "metadata": {
      "needs_background": "light"
     },
     "output_type": "display_data"
    }
   ],
   "source": [
    "auc1 = sklearn.metrics.roc_auc_score(y_valid,ypred1)\n",
    "auc2 = sklearn.metrics.roc_auc_score(y_valid,ypred2)\n",
    "fpr1,tpr1,t= sklearn.metrics.roc_curve(y_valid,ypred1)\n",
    "fpr2,tpr2,t= sklearn.metrics.roc_curve(y_valid,ypred2)\n",
    "fig, ax = plt.subplots()\n",
    "ax.plot([0, 1], [0, 1], linestyle='--', lw=2, color='k',\n",
    "        label='Chance', alpha=.8)\n",
    "ax.plot(fpr1,tpr1, color='r',\n",
    "        label=r'RF (AUC = %0.2f )' % (auc1),\n",
    "        lw=2, alpha=.8)\n",
    "ax.plot(fpr2,tpr2, color='b',\n",
    "        label=r'SVM (AUC = %0.2f )' % (auc2),\n",
    "        lw=2, alpha=.8)\n",
    "plt.xlabel(\"False Positive Rate\")\n",
    "plt.ylabel(\"True Positive Rate\")\n",
    "ax.legend(loc=\"lower right\")\n",
    "#plt.show()\n",
    "plt.savefig('full_image_ROC.pdf')\n",
    "#print('AUC:',auc)"
   ]
  },
  {
   "cell_type": "code",
   "execution_count": null,
   "metadata": {},
   "outputs": [],
   "source": []
  },
  {
   "cell_type": "code",
   "execution_count": null,
   "metadata": {},
   "outputs": [],
   "source": []
  }
 ],
 "metadata": {
  "kernelspec": {
   "display_name": "Python 3.7.9 64-bit ('tensorflow': conda)",
   "language": "python",
   "name": "python37964bittensorflowconda44bf35c3046e4bc58c11f71047e9bd8d"
  },
  "language_info": {
   "codemirror_mode": {
    "name": "ipython",
    "version": 3
   },
   "file_extension": ".py",
   "mimetype": "text/x-python",
   "name": "python",
   "nbconvert_exporter": "python",
   "pygments_lexer": "ipython3",
   "version": "3.7.9"
  },
  "metadata": {
   "interpreter": {
    "hash": "429db445d30bdc71cb8ecc91188709a24b250e6582e4f5179e4164d5371f1d5c"
   }
  }
 },
 "nbformat": 4,
 "nbformat_minor": 2
}
