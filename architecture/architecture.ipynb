{
 "cells": [
  {
   "cell_type": "code",
   "execution_count": null,
   "metadata": {},
   "outputs": [],
   "source": [
    "import numpy as np\n",
    "import pandas as pd\n",
    "import keras\n",
    "import tensorflow as tf\n",
    "from sklearn.preprocessing import LabelEncoder\n",
    "import matplotlib.pyplot as plt\n",
    "import imageio as io\n",
    "import os\n",
    "\n",
    "#ficheiros .py acessórios\n",
    "import automatic_patching as patcher\n",
    "import utils\n",
    "import generate_data as generator\n",
    "import evaluator as evaluator\n",
    "import models as modeling_tool"
   ]
  },
  {
   "cell_type": "markdown",
   "execution_count": null,
   "metadata": {},
   "outputs": [],
   "source": [
    "# Step-by-step"
   ]
  },
  {
   "cell_type": "code",
   "execution_count": null,
   "metadata": {},
   "outputs": [],
   "source": [
    "patient_number = 15"
   ]
  },
  {
   "cell_type": "code",
   "execution_count": null,
   "metadata": {},
   "outputs": [],
   "source": [
    "patient_folder = \"patients/patient_{}/\".format(patient_number)"
   ]
  },
  {
   "cell_type": "code",
   "execution_count": null,
   "metadata": {},
   "outputs": [],
   "source": [
    "le = LabelEncoder()\n",
    "ground_truth_csv = pd.read_csv('patients/patient_gt.csv')\n",
    "df_list = [df for df in ground_truth_csv.groupby('patient')]\n",
    "for df in df_list:\n",
    "    if 'patient_{}'.format(patient_number) == df[0]:\n",
    "        gt = list(df[1]['label'])[0]\n",
    "        patient_df = df[1]\n",
    "        patient_df = patient_df.reset_index()\n",
    "        density = list(df[1]['density'])[0]"
   ]
  },
  {
   "cell_type": "code",
   "execution_count": null,
   "metadata": {},
   "outputs": [],
   "source": [
    "patient = 'patient_1'"
   ]
  },
  {
   "cell_type": "code",
   "execution_count": null,
   "metadata": {},
   "outputs": [],
   "source": [
    "patient_df = ground_truth_csv[ground_truth_csv['patient'] == patient]"
   ]
  },
  {
   "cell_type": "code",
   "execution_count": null,
   "metadata": {},
   "outputs": [],
   "source": [
    "ground_truth = patient_df['label'][0]\n",
    "density = patient_df['density'][0]"
   ]
  },
  {
   "cell_type": "markdown",
   "execution_count": null,
   "metadata": {},
   "outputs": [],
   "source": [
    "### Show mammograms"
   ]
  },
  {
   "cell_type": "code",
   "execution_count": null,
   "metadata": {},
   "outputs": [],
   "source": [
    "print('Patient {} | {} | Density: {}'.format(patient_number,gt,density))\n",
    "patcher.show_mammograms(patient_folder)"
   ]
  },
  {
   "cell_type": "markdown",
   "execution_count": null,
   "metadata": {},
   "outputs": [],
   "source": [
    "### Show binary mammogram"
   ]
  },
  {
   "cell_type": "code",
   "execution_count": null,
   "metadata": {},
   "outputs": [],
   "source": [
    "patcher.show_binarized(patient_folder)"
   ]
  },
  {
   "cell_type": "code",
   "execution_count": null,
   "metadata": {},
   "outputs": [],
   "source": [
    "    threshold = threshold_otsu(raw_mammogram_array)\n",
    "    #threshold = threshold_yen(raw_mammogram_array)\n",
    "    binarized_array = (raw_mammogram_array > threshold).astype(np.int_)\n",
    "    binarized_filled= scipy.ndimage.binary_fill_holes(binarized_array).astype(int)"
   ]
  },
  {
   "cell_type": "markdown",
   "execution_count": null,
   "metadata": {},
   "outputs": [],
   "source": [
    "### Show number of patches"
   ]
  },
  {
   "cell_type": "code",
   "execution_count": null,
   "metadata": {},
   "outputs": [],
   "source": [
    "patch_size = 300\n",
    "overlap = 0.2"
   ]
  },
  {
   "cell_type": "code",
   "execution_count": null,
   "metadata": {},
   "outputs": [],
   "source": [
    "patcher.patches_number(patient_folder,patch_size,overlap)"
   ]
  },
  {
   "cell_type": "markdown",
   "execution_count": null,
   "metadata": {},
   "outputs": [],
   "source": [
    "### Show patch sides and centers"
   ]
  },
  {
   "cell_type": "code",
   "execution_count": null,
   "metadata": {},
   "outputs": [],
   "source": [
    "patcher.show_sides(patient_folder,patch_size,overlap)"
   ]
  },
  {
   "cell_type": "code",
   "execution_count": null,
   "metadata": {},
   "outputs": [],
   "source": [
    "patcher.show_centers(patient_folder,patch_size,overlap)"
   ]
  },
  {
   "cell_type": "markdown",
   "execution_count": null,
   "metadata": {},
   "outputs": [],
   "source": [
    "## Classification"
   ]
  },
  {
   "cell_type": "markdown",
   "execution_count": null,
   "metadata": {},
   "outputs": [],
   "source": [
    "### without Data Augmentation"
   ]
  },
  {
   "cell_type": "code",
   "execution_count": null,
   "metadata": {},
   "outputs": [],
   "source": [
    "try:\n",
    "    loaded_model = keras.models.load_model(\"D:/Lesion-Based Patches/vgg19_trained\",compile=True)\n",
    "except OSError:\n",
    "    print(\"Failed to load DL model!\") \n",
    "else:\n",
    "    print(\"Successfully loaded DL model!\")"
   ]
  },
  {
   "cell_type": "markdown",
   "execution_count": null,
   "metadata": {},
   "outputs": [],
   "source": [
    "### Classify patches by image"
   ]
  },
  {
   "cell_type": "code",
   "execution_count": null,
   "metadata": {},
   "outputs": [],
   "source": [
    "predictions_d = dict()\n",
    "image_paths = os.listdir(patient_folder)\n",
    "not_images = []\n",
    "for image in image_paths:\n",
    "    if 't' in image:\n",
    "        not_images.append(image)\n",
    "for image in not_images:\n",
    "    image_paths.remove(image)\n",
    "for image in image_paths:\n",
    "    path = patient_folder+image\n",
    "    patches_paths = patcher.save_patches_by_image(path,patch_size,overlap)\n",
    "    df = pd.DataFrame({'paths':patches_paths,'labels':'Test'})\n",
    "    generated_data = generator.generate(df,patch_size)\n",
    "    predictions = loaded_model.predict(generated_data,verbose=1)\n",
    "    print(\"Successfully classified patches!\")\n",
    "    print('\\n')\n",
    "    predictions_image=[]\n",
    "    for i in range(len(predictions)):\n",
    "        predictions_image.append(predictions[i][0])\n",
    "    predictions_d[image] = predictions_image"
   ]
  },
  {
   "cell_type": "code",
   "execution_count": null,
   "metadata": {},
   "outputs": [],
   "source": [
    "print('Patient {} | {} | Density: {}'.format(patient_number,gt,density))\n",
    "for image_view,i_classifications in predictions_d.items():\n",
    "    image_view = image_view.split('.')[0]\n",
    "    ratios = []\n",
    "    num_patches = len(i_classifications)\n",
    "    positive_patches = 0\n",
    "    for pred in i_classifications:\n",
    "        if pred > 0.95:\n",
    "            positive_patches += 1\n",
    "    ratio = positive_patches/num_patches\n",
    "    ratios.append(ratio)\n",
    "    print(image_view +': Patches {} | Positive Patches {} | Ratio {:.2f}'.format(num_patches,positive_patches,ratio))\n",
    "#print('Average Ratio: ',round(average_ratio(ratios),2))"
   ]
  },
  {
   "cell_type": "markdown",
   "execution_count": null,
   "metadata": {},
   "outputs": [],
   "source": [
    "### Clasify patches by case"
   ]
  },
  {
   "cell_type": "code",
   "execution_count": null,
   "metadata": {},
   "outputs": [],
   "source": [
    "patches_paths = patcher.save_patches_by_case(patient_folder,patch_size,overlap)"
   ]
  },
  {
   "cell_type": "code",
   "execution_count": null,
   "metadata": {},
   "outputs": [],
   "source": [
    "df = pd.DataFrame({'paths':patches_paths,'labels':'Test'})\n",
    "generated_data = generator.generate(df,patch_size)"
   ]
  },
  {
   "cell_type": "code",
   "execution_count": null,
   "metadata": {},
   "outputs": [],
   "source": [
    "predictions = loaded_model.predict(generated_data,verbose=1)\n",
    "print(\"Successfully classified patches!\")\n",
    "predictions_case=[]\n",
    "for i in range(len(predictions)):\n",
    "    predictions_case.append(predictions[i][0])"
   ]
  },
  {
   "cell_type": "code",
   "execution_count": null,
   "metadata": {},
   "outputs": [],
   "source": [
    "print('Patient {} | {} | Density: {}'.format(patient_number,gt,density))\n",
    "num_patches = len(predictions_case)\n",
    "positive_patches = 0\n",
    "for pred in predictions_case:\n",
    "    if pred > 0.95:\n",
    "        positive_patches += 1\n",
    "ratio = positive_patches/num_patches\n",
    "print('Patches {} | Positive Patches {} | Ratio {:.3f}'.format(num_patches,positive_patches,ratio))"
   ]
  },
  {
   "cell_type": "code",
   "execution_count": null,
   "metadata": {},
   "outputs": [],
   "source": [
    "evaluator.make_hist(predictions_case,patient_number,gt)"
   ]
  },
  {
   "cell_type": "code",
   "execution_count": null,
   "metadata": {},
   "outputs": [],
   "source": [
    "patcher.show_positive_patches_on_mammography(patient_folder,patch_size,overlap,predictions_case,patient_df)"
   ]
  },
  {
   "cell_type": "code",
   "execution_count": null,
   "metadata": {},
   "outputs": [],
   "source": [
    "0/0"
   ]
  },
  {
   "cell_type": "markdown",
   "execution_count": null,
   "metadata": {},
   "outputs": [],
   "source": [
    "# 1º - Verification Step"
   ]
  },
  {
   "cell_type": "code",
   "execution_count": null,
   "metadata": {},
   "outputs": [],
   "source": [
    "utils.integrity_check()"
   ]
  },
  {
   "cell_type": "markdown",
   "execution_count": null,
   "metadata": {},
   "outputs": [],
   "source": [
    "# 2º - Patching"
   ]
  },
  {
   "cell_type": "code",
   "execution_count": null,
   "metadata": {},
   "outputs": [],
   "source": [
    "patch_size = 300\n",
    "overlap = 0.2"
   ]
  },
  {
   "cell_type": "code",
   "execution_count": null,
   "metadata": {},
   "outputs": [],
   "source": [
    "patcher.save_patches_by_image(patch_size,overlap)"
   ]
  },
  {
   "cell_type": "markdown",
   "execution_count": null,
   "metadata": {},
   "outputs": [],
   "source": [
    "# 3º - Classification"
   ]
  },
  {
   "cell_type": "markdown",
   "execution_count": null,
   "metadata": {},
   "outputs": [],
   "source": [
    "### VGG Model"
   ]
  },
  {
   "cell_type": "code",
   "execution_count": null,
   "metadata": {},
   "outputs": [],
   "source": [
    "try:\n",
    "    loaded_model = keras.models.load_model(\"D:/Lesion-Based Patches/vgg19_trained\",compile=True)\n",
    "except OSError:\n",
    "    print(\"Failed to load DL model!\") \n",
    "else:\n",
    "    print(\"Successfully loaded DL model!\")"
   ]
  },
  {
   "cell_type": "code",
   "execution_count": null,
   "metadata": {},
   "outputs": [],
   "source": [
    "modeling_tool.classify_cases(loaded_model)"
   ]
  },
  {
   "cell_type": "code",
   "execution_count": null,
   "metadata": {},
   "outputs": [],
   "source": [
    "threshold = 0.95"
   ]
  },
  {
   "cell_type": "code",
   "execution_count": null,
   "metadata": {},
   "outputs": [],
   "source": [
    "evaluator.report_by_image(threshold)\n",
    "evaluator.report_by_case(threshold)"
   ]
  },
  {
   "cell_type": "markdown",
   "execution_count": null,
   "metadata": {},
   "outputs": [],
   "source": [
    "# 4º - Result Analysis"
   ]
  },
  {
   "cell_type": "code",
   "execution_count": null,
   "metadata": {},
   "outputs": [],
   "source": [
    "patient_number = 2"
   ]
  },
  {
   "cell_type": "markdown",
   "execution_count": null,
   "metadata": {},
   "outputs": [],
   "source": [
    "## Report"
   ]
  },
  {
   "cell_type": "code",
   "execution_count": null,
   "metadata": {},
   "outputs": [],
   "source": [
    "report = evaluator.patient_report(patient_number)\n",
    "report.head(20)"
   ]
  },
  {
   "cell_type": "markdown",
   "execution_count": null,
   "metadata": {},
   "outputs": [],
   "source": [
    "## Histogram"
   ]
  },
  {
   "cell_type": "code",
   "execution_count": null,
   "metadata": {},
   "outputs": [],
   "source": [
    "evaluator.make_hist(patient_number)"
   ]
  },
  {
   "cell_type": "markdown",
   "execution_count": null,
   "metadata": {},
   "outputs": [],
   "source": [
    "## Suspicious Patches"
   ]
  },
  {
   "cell_type": "code",
   "execution_count": null,
   "metadata": {},
   "outputs": [],
   "source": [
    "patcher.show_positive_patches_on_mammography(patient_number,patch_size,overlap,threshold)"
   ]
  },
  {
   "cell_type": "code",
   "execution_count": null,
   "metadata": {},
   "outputs": [],
   "source": [
    "0/0"
   ]
  },
  {
   "cell_type": "markdown",
   "execution_count": null,
   "metadata": {},
   "outputs": [],
   "source": [
    "# Patching e Classificação"
   ]
  },
  {
   "cell_type": "code",
   "execution_count": null,
   "metadata": {},
   "outputs": [],
   "source": [
    "patient_folder = \"patients/\"\n",
    "patient_paths = os.listdir(patient_folder)\n",
    "not_images = []\n",
    "for image in patient_paths:\n",
    "    if 'g' in image:\n",
    "        not_images.append(image)\n",
    "for image in not_images:\n",
    "    patient_paths.remove(image)\n",
    "patient_paths = utils.sort_paths(patient_paths)"
   ]
  },
  {
   "cell_type": "code",
   "execution_count": null,
   "metadata": {},
   "outputs": [],
   "source": [
    "try:\n",
    "    loaded_model = keras.models.load_model(\"D:/Lesion-Based Patches/vgg19_trained\",compile=True)\n",
    "    print(\"Successfully loaded DL model!\")\n",
    "except ValueError:\n",
    "    print(\"Failed to load DL model!\") "
   ]
  },
  {
   "cell_type": "code",
   "execution_count": null,
   "metadata": {},
   "outputs": [],
   "source": [
    "patch_size = 300\n",
    "overlap = 0.2"
   ]
  },
  {
   "cell_type": "markdown",
   "execution_count": null,
   "metadata": {},
   "outputs": [],
   "source": [
    "## Por imagem"
   ]
  },
  {
   "cell_type": "code",
   "execution_count": null,
   "metadata": {},
   "outputs": [],
   "source": [
    "all_classifications = dict()\n",
    "for patient in patient_paths:    \n",
    "    case_classification = dict()\n",
    "    images = os.listdir(patient_folder+patient)\n",
    "    not_images = []\n",
    "    for image in images:\n",
    "        if 't' in image:\n",
    "            not_images.append(image)\n",
    "    for image in not_images:\n",
    "        images.remove(image)    \n",
    "    for image_view in images:\n",
    "        image_type = image_view.split(\".\")[0]\n",
    "        path = patient_folder+patient+\"/\"+image_view\n",
    "        saved_patches_paths = patcher.save_patches_by_image(path,patch_size,overlap)\n",
    "        df = pd.DataFrame({'paths':saved_patches_paths,'labels':'Test'})\n",
    "        generated_data = generator.generate(df,input_size=300)\n",
    "        predictions = loaded_model.predict(generated_data)\n",
    "        predictions_image=[]\n",
    "        for i in range(len(predictions)):\n",
    "            predictions_image.append(predictions[i][0])\n",
    "        case_classification[image_type] = predictions_image\n",
    "    print(\"Successfully classified images from {}!\".format(patient))\n",
    "    print('\\n')\n",
    "    all_classifications[patient] = case_classification\n",
    "le = LabelEncoder()\n",
    "ground_truth_csv = pd.read_csv('patients/patient_gt.csv')\n",
    "evaluator.report_by_image(all_classifications,ground_truth_csv)"
   ]
  },
  {
   "cell_type": "markdown",
   "execution_count": null,
   "metadata": {},
   "outputs": [],
   "source": [
    "## Por caso"
   ]
  },
  {
   "cell_type": "code",
   "execution_count": null,
   "metadata": {},
   "outputs": [],
   "source": [
    "all_classifications = dict()\n",
    "for patient in patient_paths:\n",
    "    path = \n",
    "    saved_patches_paths = patcher.save_patches_by_case(,patch_size,overlap)\n",
    "    df = pd.DataFrame({'paths':saved_patches_paths,'labels':'Test'})\n",
    "    generated_data = generator.generate(df,input_size=300)\n",
    "    predictions = loaded_model.predict(generated_data)\n",
    "    predictions_case=[]\n",
    "    for i in range(len(predictions)):\n",
    "        predictions_case.append(predictions[i][0])\n",
    "    all_classification[patient] = predictions_case\n",
    "    print(\"Successfully classified patches from {}!\".format(patient))\n",
    "    print('\\n')\n",
    "le = LabelEncoder()\n",
    "ground_truth_csv = pd.read_csv('patients/patient_gt.csv')\n",
    "ground_truth = le.fit_transform(list(ground_truth_csv['label']))\n",
    "evaluator.report_by_case(all_classifications,ground_truth_csv)"
   ]
  },
  {
   "cell_type": "code",
   "execution_count": null,
   "metadata": {},
   "outputs": [],
   "source": [
    "df_list = [df for df in ground_truth_csv.groupby('patient')]\n",
    "for df in df_list:\n",
    "    print(df[0])"
   ]
  },
  {
   "cell_type": "code",
   "execution_count": null,
   "metadata": {},
   "outputs": [],
   "source": [
    "pd.read_csv('D:/Architecture/classification_report_by_case.csv')"
   ]
  },
  {
   "cell_type": "code",
   "execution_count": null,
   "metadata": {},
   "outputs": [],
   "source": [
    "a = pd.read_csv('D:/Architecture/classification_report_by_image.csv')\n",
    "a.head(30)"
   ]
  },
  {
   "cell_type": "markdown",
   "execution_count": null,
   "metadata": {},
   "outputs": [],
   "source": [
    "# Apenas Classificação"
   ]
  },
  {
   "cell_type": "code",
   "execution_count": null,
   "metadata": {},
   "outputs": [],
   "source": [
    "patient_folder_path = \"patients/\"\n",
    "image_paths = utils.sort_paths(os.listdir(patient_folder_path))"
   ]
  },
  {
   "cell_type": "code",
   "execution_count": null,
   "metadata": {},
   "outputs": [],
   "source": [
    "try:\n",
    "    loaded_model = keras.models.load_model(\"D:/BCDR/vgg19_trained\",compile=True)\n",
    "    print(\"Successfully loaded DL model!\")\n",
    "except OSError:\n",
    "    print(\"Failed to load DL model!\") "
   ]
  },
  {
   "cell_type": "code",
   "execution_count": null,
   "metadata": {},
   "outputs": [],
   "source": [
    "all_classifications = dict()\n",
    "for patient in image_paths:    \n",
    "    case_classification = dict()\n",
    "    images = os.listdir(patient_folder_path+patient)\n",
    "    not_images = []\n",
    "    for image in images:\n",
    "        if 't' in image:\n",
    "            not_images.append(image)\n",
    "    for image in not_images:\n",
    "        images.remove(image)\n",
    "    for image_view in images:\n",
    "        image_type = image_view.split(\".\")[0]\n",
    "        path = patient_folder_path+patient+\"/\"+image_view\n",
    "        saved_patches_paths = patching_tool.only_paths(path)\n",
    "        df = pd.DataFrame({'paths':saved_patches_paths,'labels':'Test'})\n",
    "        generated_data = generator_tool.generate(df)\n",
    "        with tf.device('/gpu'):\n",
    "            predictions = loaded_model.predict(generated_data)\n",
    "        predictions_image=[]\n",
    "        for i in range(len(predictions)):\n",
    "            predictions_image.append(predictions[i][0])\n",
    "        case_classification[image_type] = predictions_image\n",
    "    print(\"Successfully classified images from {}!\".format(patient))\n",
    "    print('\\n')\n",
    "    all_classifications[patient] = case_classification"
   ]
  },
  {
   "cell_type": "code",
   "execution_count": null,
   "metadata": {},
   "outputs": [],
   "source": [
    "le = LabelEncoder()\n",
    "ground_truth_csv = pd.read_csv('patients/patient_gt.csv')\n",
    "ground_truth = le.fit_transform(list(ground_truth_csv['label']))\n",
    "densities = list(ground_truth_csv['density'])"
   ]
  },
  {
   "cell_type": "code",
   "execution_count": null,
   "metadata": {},
   "outputs": [],
   "source": [
    "evaluator.report(all_classifications,ground_truth,densities)"
   ]
  },
  {
   "cell_type": "markdown",
   "execution_count": null,
   "metadata": {},
   "outputs": [],
   "source": [
    "## Single Threshold Classification"
   ]
  },
  {
   "cell_type": "code",
   "execution_count": null,
   "metadata": {},
   "outputs": [],
   "source": [
    "predictions_single = evaluator.calculate_threshold_predictions(all_classifications,0.5)"
   ]
  },
  {
   "cell_type": "code",
   "execution_count": null,
   "metadata": {},
   "outputs": [],
   "source": [
    "df_single,auc = evaluator.evaluate_predictions(image_paths,ground_truth,predictions_single)\n",
    "print('AUC :',round(auc,4))"
   ]
  },
  {
   "cell_type": "markdown",
   "execution_count": null,
   "metadata": {},
   "outputs": [],
   "source": [
    "## Double Threshold Classification"
   ]
  },
  {
   "cell_type": "code",
   "execution_count": null,
   "metadata": {},
   "outputs": [],
   "source": [
    "predictions_double,g_truth,patient_list = evaluator.calculate_case_predictions(all_classifications,list(ground_truth),image_paths,0.3,0.7)"
   ]
  },
  {
   "cell_type": "code",
   "execution_count": null,
   "metadata": {},
   "outputs": [],
   "source": [
    "df_double,auc = evaluator.evaluate_predictions(patient_list,g_truth,predictions_double)\n",
    "print('AUC :',round(auc,4))"
   ]
  },
  {
   "cell_type": "code",
   "execution_count": null,
   "metadata": {},
   "outputs": [],
   "source": []
  }
 ],
 "metadata": {
  "kernelspec": {
   "display_name": "Python 3",
   "language": "python",
   "name": "python3"
  },
  "language_info": {
   "codemirror_mode": {
    "name": "ipython",
    "version": 3
   },
   "file_extension": ".py",
   "mimetype": "text/x-python",
   "name": "python",
   "nbconvert_exporter": "python",
   "pygments_lexer": "ipython3",
   "version": "3.7.9-final"
  }
 },
 "nbformat": 4,
 "nbformat_minor": 2
}