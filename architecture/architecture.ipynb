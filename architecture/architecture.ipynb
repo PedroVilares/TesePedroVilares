{
 "cells": [
  {
   "cell_type": "code",
   "execution_count": 1,
   "metadata": {},
   "outputs": [],
   "source": [
    "import numpy as np\n",
    "import pandas as pd\n",
    "import keras\n",
    "import tensorflow as tf\n",
    "from sklearn.preprocessing import LabelEncoder\n",
    "import matplotlib.pyplot as plt\n",
    "import imageio as io\n",
    "import os\n",
    "\n",
    "#ficheiros .py acessórios\n",
    "import automatic_patching as patcher\n",
    "import utils\n",
    "import generate_data as generator\n",
    "import evaluator as evaluator\n",
    "import models as modeling_tool"
   ]
  },
  {
   "cell_type": "markdown",
   "metadata": {},
   "source": [
    "# Step-by-step"
   ]
  },
  {
   "cell_type": "code",
   "execution_count": null,
   "metadata": {},
   "outputs": [],
   "source": [
    "patient_number = 60"
   ]
  },
  {
   "cell_type": "code",
   "execution_count": null,
   "metadata": {},
   "outputs": [],
   "source": [
    "patient_folder = \"patients/patient_{}/\".format(patient_number)"
   ]
  },
  {
   "cell_type": "code",
   "execution_count": null,
   "metadata": {},
   "outputs": [],
   "source": [
    "le = LabelEncoder()\n",
    "ground_truth_csv = pd.read_csv('patients/patient_gt.csv')\n",
    "df_list = [df for df in ground_truth_csv.groupby('patient')]\n",
    "for df in df_list:\n",
    "    if 'patient_{}'.format(patient_number) == df[0]:\n",
    "        gt = list(df[1]['label'])[0]\n",
    "        patient_df = df[1]\n",
    "        patient_df = patient_df.reset_index()\n",
    "        density = list(df[1]['density'])[0]"
   ]
  },
  {
   "cell_type": "markdown",
   "metadata": {},
   "source": [
    "### Show mammograms"
   ]
  },
  {
   "cell_type": "code",
   "execution_count": null,
   "metadata": {},
   "outputs": [],
   "source": [
    "print('Patient {} | {} | Density: {}'.format(patient_number,gt,density))\n",
    "patcher.show_mammograms(patient_folder)"
   ]
  },
  {
   "cell_type": "markdown",
   "metadata": {},
   "source": [
    "### Show binary mammogram"
   ]
  },
  {
   "cell_type": "code",
   "execution_count": null,
   "metadata": {},
   "outputs": [],
   "source": [
    "patcher.show_binarized(patient_folder)"
   ]
  },
  {
   "cell_type": "markdown",
   "metadata": {},
   "source": [
    "### Show number of patches"
   ]
  },
  {
   "cell_type": "code",
   "execution_count": null,
   "metadata": {},
   "outputs": [],
   "source": [
    "patch_size = 300\n",
    "overlap = 0.2"
   ]
  },
  {
   "cell_type": "code",
   "execution_count": null,
   "metadata": {},
   "outputs": [],
   "source": [
    "patcher.patches_number(patient_folder,patch_size,overlap)"
   ]
  },
  {
   "cell_type": "markdown",
   "metadata": {},
   "source": [
    "### Show patch sides and centers"
   ]
  },
  {
   "cell_type": "code",
   "execution_count": null,
   "metadata": {},
   "outputs": [],
   "source": [
    "patcher.show_sides(patient_folder)"
   ]
  },
  {
   "cell_type": "code",
   "execution_count": null,
   "metadata": {},
   "outputs": [],
   "source": [
    "patcher.show_centers(patient_folder,patch_size)"
   ]
  },
  {
   "cell_type": "markdown",
   "metadata": {},
   "source": [
    "## Classification"
   ]
  },
  {
   "cell_type": "markdown",
   "metadata": {},
   "source": [
    "### without Data Augmentation"
   ]
  },
  {
   "cell_type": "code",
   "execution_count": null,
   "metadata": {},
   "outputs": [],
   "source": [
    "try:\n",
    "    loaded_model = keras.models.load_model(\"D:/Lesion-Based Patches/vgg19_trained\",compile=True)\n",
    "except OSError:\n",
    "    print(\"Failed to load DL model!\") \n",
    "else:\n",
    "    print(\"Successfully loaded DL model!\")"
   ]
  },
  {
   "cell_type": "markdown",
   "metadata": {},
   "source": [
    "### Classify patches by image"
   ]
  },
  {
   "cell_type": "code",
   "execution_count": null,
   "metadata": {},
   "outputs": [],
   "source": [
    "predictions_d = dict()\n",
    "image_paths = os.listdir(patient_folder)\n",
    "not_images = []\n",
    "for image in image_paths:\n",
    "    if 't' in image:\n",
    "        not_images.append(image)\n",
    "for image in not_images:\n",
    "    image_paths.remove(image)\n",
    "for image in image_paths:\n",
    "    path = patient_folder+image\n",
    "    patches_paths = patcher.save_patches_by_image(path,patch_size,overlap)\n",
    "    df = pd.DataFrame({'paths':patches_paths,'labels':'Test'})\n",
    "    generated_data = generator.generate(df,patch_size)\n",
    "    predictions = loaded_model.predict(generated_data,verbose=1)\n",
    "    print(\"Successfully classified patches!\")\n",
    "    print('\\n')\n",
    "    predictions_image=[]\n",
    "    for i in range(len(predictions)):\n",
    "        predictions_image.append(predictions[i][0])\n",
    "    predictions_d[image] = predictions_image"
   ]
  },
  {
   "cell_type": "code",
   "execution_count": null,
   "metadata": {},
   "outputs": [],
   "source": [
    "print('Patient {} | {} | Density: {}'.format(patient_number,gt,density))\n",
    "for image_view,i_classifications in predictions_d.items():\n",
    "    image_view = image_view.split('.')[0]\n",
    "    ratios = []\n",
    "    num_patches = len(i_classifications)\n",
    "    positive_patches = 0\n",
    "    for pred in i_classifications:\n",
    "        if pred > 0.95:\n",
    "            positive_patches += 1\n",
    "    ratio = positive_patches/num_patches\n",
    "    ratios.append(ratio)\n",
    "    print(image_view +': Patches {} | Positive Patches {} | Ratio {:.2f}'.format(num_patches,positive_patches,ratio))\n",
    "#print('Average Ratio: ',round(average_ratio(ratios),2))"
   ]
  },
  {
   "cell_type": "markdown",
   "metadata": {},
   "source": [
    "### Clasify patches by case"
   ]
  },
  {
   "cell_type": "code",
   "execution_count": null,
   "metadata": {},
   "outputs": [],
   "source": [
    "patches_paths = patcher.save_patches_by_case(patient_folder,patch_size,overlap)"
   ]
  },
  {
   "cell_type": "code",
   "execution_count": null,
   "metadata": {},
   "outputs": [],
   "source": [
    "df = pd.DataFrame({'paths':patches_paths,'labels':'Test'})\n",
    "generated_data = generator.generate(df,patch_size)"
   ]
  },
  {
   "cell_type": "code",
   "execution_count": null,
   "metadata": {},
   "outputs": [],
   "source": [
    "predictions = loaded_model.predict(generated_data,verbose=1)\n",
    "print(\"Successfully classified patches!\")\n",
    "predictions_case=[]\n",
    "for i in range(len(predictions)):\n",
    "    predictions_case.append(predictions[i][0])"
   ]
  },
  {
   "cell_type": "code",
   "execution_count": null,
   "metadata": {},
   "outputs": [],
   "source": [
    "print('Patient {} | {} | Density: {}'.format(patient_number,gt,density))\n",
    "num_patches = len(predictions_case)\n",
    "positive_patches = 0\n",
    "for pred in predictions_case:\n",
    "    if pred > 0.95:\n",
    "        positive_patches += 1\n",
    "ratio = positive_patches/num_patches\n",
    "print('Patches {} | Positive Patches {} | Ratio {:.3f}'.format(num_patches,positive_patches,ratio))"
   ]
  },
  {
   "cell_type": "code",
   "execution_count": null,
   "metadata": {},
   "outputs": [],
   "source": [
    "evaluator.make_hist(predictions_case,patient_number,gt)"
   ]
  },
  {
   "cell_type": "code",
   "execution_count": null,
   "metadata": {},
   "outputs": [],
   "source": [
    "patcher.show_positive_patches_on_mammography(patient_folder,patch_size,overlap,predictions_case,patient_df)"
   ]
  },
  {
   "cell_type": "code",
   "execution_count": null,
   "metadata": {},
   "outputs": [],
   "source": [
    "0/0"
   ]
  },
  {
   "cell_type": "markdown",
   "metadata": {},
   "source": [
    "# 1º - Verification Step"
   ]
  },
  {
   "cell_type": "code",
   "execution_count": null,
   "metadata": {},
   "outputs": [],
   "source": [
    "utils.integrity_check()"
   ]
  },
  {
   "cell_type": "markdown",
   "metadata": {},
   "source": [
    "# 2º - Patching"
   ]
  },
  {
   "cell_type": "code",
   "execution_count": null,
   "metadata": {},
   "outputs": [],
   "source": [
    "patch_size = 300\n",
    "overlap = 0.2"
   ]
  },
  {
   "cell_type": "code",
   "execution_count": null,
   "metadata": {},
   "outputs": [],
   "source": [
    "patcher.save_patches_by_image(patch_size,overlap)"
   ]
  },
  {
   "cell_type": "markdown",
   "metadata": {},
   "source": [
    "# 3º - Classification"
   ]
  },
  {
   "cell_type": "markdown",
   "metadata": {},
   "source": [
    "## Patch Classification"
   ]
  },
  {
   "cell_type": "markdown",
   "metadata": {},
   "source": [
    "### VGG Model"
   ]
  },
  {
   "cell_type": "code",
   "execution_count": null,
   "metadata": {},
   "outputs": [],
   "source": [
    "try:\r\n",
    "    loaded_model = keras.models.load_model(\"D:/Lesion-Based Patches/vgg19_trained\",compile=True)\r\n",
    "except OSError:\r\n",
    "    print(\"Failed to load DL model!\") \r\n",
    "else:\r\n",
    "    print(\"Successfully loaded DL model!\")"
   ]
  },
  {
   "cell_type": "code",
   "execution_count": null,
   "metadata": {},
   "outputs": [],
   "source": [
    "modeling_tool.classify_cases(loaded_model)"
   ]
  },
  {
   "cell_type": "code",
   "execution_count": 11,
   "metadata": {},
   "outputs": [],
   "source": [
    "threshold = 0.15\r\n",
    "transfer = True"
   ]
  },
  {
   "cell_type": "code",
   "execution_count": 12,
   "metadata": {},
   "outputs": [],
   "source": [
    "evaluator.report_by_image(threshold,transfer)\r\n",
    "evaluator.report_by_case(threshold,transfer)"
   ]
  },
  {
   "cell_type": "markdown",
   "metadata": {},
   "source": [
    "## Image Classification"
   ]
  },
  {
   "cell_type": "code",
   "execution_count": 13,
   "metadata": {},
   "outputs": [],
   "source": [
    "auc = 0.90\r\n",
    "evaluator.classify_images(auc,transfer)"
   ]
  },
  {
   "cell_type": "code",
   "execution_count": null,
   "metadata": {},
   "outputs": [],
   "source": [
    "evaluator.overlay_percentage(patch_size,transfer,threshold)"
   ]
  },
  {
   "cell_type": "markdown",
   "metadata": {},
   "source": [
    "## Case Classification"
   ]
  },
  {
   "cell_type": "code",
   "execution_count": 14,
   "metadata": {},
   "outputs": [],
   "source": [
    "evaluator.classify_cases(transfer)"
   ]
  },
  {
   "cell_type": "markdown",
   "metadata": {},
   "source": [
    "# 4º - Result Analysis"
   ]
  },
  {
   "cell_type": "markdown",
   "metadata": {},
   "source": [
    "## Overall"
   ]
  },
  {
   "cell_type": "markdown",
   "metadata": {},
   "source": [
    "### Image Report"
   ]
  },
  {
   "cell_type": "code",
   "execution_count": null,
   "metadata": {},
   "outputs": [],
   "source": [
    "a = pd.read_csv('results tf/classification_report_by_image.csv')\r\n",
    "a.head(40)"
   ]
  },
  {
   "cell_type": "markdown",
   "metadata": {},
   "source": [
    "### Case Report"
   ]
  },
  {
   "cell_type": "code",
   "execution_count": null,
   "metadata": {},
   "outputs": [],
   "source": [
    "a = pd.read_csv('results tf/classification_report_by_case.csv')\r\n",
    "a.head(30)"
   ]
  },
  {
   "cell_type": "markdown",
   "metadata": {},
   "source": [
    "### AUC"
   ]
  },
  {
   "cell_type": "code",
   "execution_count": 15,
   "metadata": {},
   "outputs": [
    {
     "name": "stdout",
     "output_type": "stream",
     "text": [
      "AUC: 0.625\n",
      "True Positives: 46\n",
      "False Positives: 26\n",
      "True Negatives: 44\n",
      "False Negatives: 28\n"
     ]
    },
    {
     "data": {
      "image/png": "[encoded data removed]",
      "text/plain": "<Figure size 432x288 with 1 Axes>"
     },
     "metadata": {
      "needs_background": "light"
     },
     "output_type": "display_data"
    }
   ],
   "source": [
    "auc,df,c = evaluator.evaluate_predictions(transfer)\r\n",
    "print('AUC: {:.3f}'.format(auc))\r\n",
    "print('True Positives:',c[0][0])\r\n",
    "print('False Positives:',c[0][1])\r\n",
    "print('True Negatives:',c[1][1])\r\n",
    "print('False Negatives:',c[1][0])"
   ]
  },
  {
   "cell_type": "code",
   "execution_count": null,
   "metadata": {},
   "outputs": [],
   "source": []
  },
  {
   "cell_type": "markdown",
   "metadata": {},
   "source": [
    "## By patient"
   ]
  },
  {
   "cell_type": "code",
   "execution_count": null,
   "metadata": {},
   "outputs": [],
   "source": [
    "patient_number = 18"
   ]
  },
  {
   "cell_type": "markdown",
   "metadata": {},
   "source": [
    "### Report"
   ]
  },
  {
   "cell_type": "code",
   "execution_count": null,
   "metadata": {},
   "outputs": [],
   "source": [
    "report = evaluator.patient_report(patient_number,transfer)\r\n",
    "report.head(20)"
   ]
  },
  {
   "cell_type": "markdown",
   "metadata": {},
   "source": [
    "## Histogram"
   ]
  },
  {
   "cell_type": "code",
   "execution_count": null,
   "metadata": {},
   "outputs": [],
   "source": [
    "evaluator.make_hist(patient_number)"
   ]
  },
  {
   "cell_type": "markdown",
   "metadata": {},
   "source": [
    "## Suspicious Patches"
   ]
  },
  {
   "cell_type": "code",
   "execution_count": null,
   "metadata": {},
   "outputs": [],
   "source": [
    "patch_size = 300\r\n",
    "overlap = 0.2"
   ]
  },
  {
   "cell_type": "code",
   "execution_count": null,
   "metadata": {},
   "outputs": [],
   "source": [
    "patcher.show_positive_patches_on_mammography(patient_number,patch_size,overlap,threshold)"
   ]
  }
 ],
 "metadata": {
  "kernelspec": {
   "display_name": "Python 3",
   "language": "python",
   "name": "python3"
  },
  "language_info": {
   "codemirror_mode": {
    "name": "ipython",
    "version": 3
   },
   "file_extension": ".py",
   "mimetype": "text/x-python",
   "name": "python",
   "nbconvert_exporter": "python",
   "pygments_lexer": "ipython3",
   "version": "3.7.9"
  }
 },
 "nbformat": 4,
 "nbformat_minor": 2
}